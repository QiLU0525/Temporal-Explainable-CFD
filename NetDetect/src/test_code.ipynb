{
 "cells": [
  {
   "cell_type": "code",
   "execution_count": 21,
   "metadata": {},
   "outputs": [
    {
     "name": "stderr",
     "output_type": "stream",
     "text": [
      "/Applications/anaconda3/lib/python3.7/site-packages/pandas/compat/_optional.py:138: UserWarning: Pandas requires version '2.7.0' or newer of 'numexpr' (version '2.6.9' currently installed).\n",
      "  warnings.warn(msg, UserWarning)\n"
     ]
    }
   ],
   "source": [
    "import torch\n",
    "import numpy as np\n",
    "import torch.nn as nn\n",
    "from sklearn.metrics import f1_score, recall_score, precision_score\n",
    "from torch.utils.data import DataLoader, TensorDataset\n",
    "import pandas as pd\n",
    "import sklearn\n",
    "import json\n",
    "from scipy.io import mmread, mmwrite, mminfo\n",
    "import os\n",
    "import dgl\n",
    "from dgl.nn import GATConv\n"
   ]
  },
  {
   "cell_type": "code",
   "execution_count": 132,
   "metadata": {},
   "outputs": [
    {
     "data": {
      "text/plain": [
       "dict_keys(['Stkcd_year', 'label', 'split_idx', 'fin_ratio', 'nonfin_ratio', 'mda', 'fin_seq', 'nonfin_seq', 'mda_seq', 'node_seq', 'seq_len', 'graphs'])"
      ]
     },
     "execution_count": 132,
     "metadata": {},
     "output_type": "execute_result"
    }
   ],
   "source": [
    "corp_data = torch.load('ChinaCorp_1x_2023-06-07.pt')\n",
    "corp_data.keys()\n"
   ]
  },
  {
   "cell_type": "code",
   "execution_count": 137,
   "metadata": {},
   "outputs": [
    {
     "data": {
      "text/plain": [
       "torch.Size([4111, 25])"
      ]
     },
     "execution_count": 137,
     "metadata": {},
     "output_type": "execute_result"
    }
   ],
   "source": [
    "corp_data['graphs'][2003]['path_mask'].shape"
   ]
  },
  {
   "cell_type": "code",
   "execution_count": 97,
   "metadata": {},
   "outputs": [],
   "source": [
    "mask = []\n",
    "for graph in corp_data['graphs'][2003]['adj']:\n",
    "    out_degrees = graph.out_degrees().int()\n",
    "    in_degrees = graph.in_degrees().int()\n",
    "    is_isolated = ((out_degrees + in_degrees) != 0).int().unsqueeze(1)\n",
    "    mask.append(is_isolated)\n",
    "mask = torch.cat(mask, dim=1)"
   ]
  },
  {
   "cell_type": "code",
   "execution_count": 143,
   "metadata": {},
   "outputs": [
    {
     "name": "stdout",
     "output_type": "stream",
     "text": [
      "tensor([[[0.0000],\n",
      "         [0.0000],\n",
      "         [0.0000],\n",
      "         ...,\n",
      "         [0.0000],\n",
      "         [0.0000],\n",
      "         [0.0000]],\n",
      "\n",
      "        [[0.0000],\n",
      "         [0.1736],\n",
      "         [0.0898],\n",
      "         ...,\n",
      "         [0.0000],\n",
      "         [0.1045],\n",
      "         [0.3473]],\n",
      "\n",
      "        [[0.0000],\n",
      "         [0.0805],\n",
      "         [0.0450],\n",
      "         ...,\n",
      "         [0.0000],\n",
      "         [0.0344],\n",
      "         [0.0466]],\n",
      "\n",
      "        ...,\n",
      "\n",
      "        [[0.0000],\n",
      "         [0.0000],\n",
      "         [0.1373],\n",
      "         ...,\n",
      "         [0.0281],\n",
      "         [0.0588],\n",
      "         [0.2952]],\n",
      "\n",
      "        [[0.7258],\n",
      "         [0.0000],\n",
      "         [0.0000],\n",
      "         ...,\n",
      "         [0.2742],\n",
      "         [0.0000],\n",
      "         [0.0000]],\n",
      "\n",
      "        [[0.0000],\n",
      "         [0.0000],\n",
      "         [0.2126],\n",
      "         ...,\n",
      "         [0.0000],\n",
      "         [0.0000],\n",
      "         [0.7375]]])\n"
     ]
    }
   ],
   "source": [
    "import torch.nn.functional as F\n",
    "# mask = torch.cat([is_isolated for _ in range(25)], dim=1)\n",
    "input = torch.rand((4111, 25, 64))\n",
    "weights = torch.matmul(input, input.transpose(-2, -1)).mean(2, keepdim=True)\n",
    "# 将 mask 中为1的部分替换为 -inf\n",
    "weights = weights.masked_fill((1-mask.unsqueeze(-1)).bool(), float('-inf'))\n",
    "weights = F.softmax(weights, dim=1)\n",
    "weights = weights.masked_fill((1-mask.unsqueeze(-1)).bool(), 0.0)\n",
    "print(weights)\n",
    "input = torch.matmul(weights.permute(0, 2, 1), input)"
   ]
  },
  {
   "cell_type": "code",
   "execution_count": 79,
   "metadata": {},
   "outputs": [],
   "source": [
    "attn_weights = torch.bmm(input, input.permute(0, 2, 1)).mean(2, keepdim=True)\n",
    "norm_attn_weights = torch.softmax(attn_weights, dim=1)"
   ]
  },
  {
   "cell_type": "code",
   "execution_count": 6,
   "metadata": {},
   "outputs": [],
   "source": [
    "with open('../meta-path/listed_firm.json', 'r') as f:\n",
    "    listed_corp = json.load(f)\n",
    "    "
   ]
  },
  {
   "attachments": {},
   "cell_type": "markdown",
   "metadata": {},
   "source": [
    "Prediction in advance?\\\n",
    "T0- T0+1- T0+2- T0+3- T0+4- T0+5"
   ]
  },
  {
   "cell_type": "code",
   "execution_count": 206,
   "metadata": {},
   "outputs": [
    {
     "data": {
      "text/plain": [
       "tensor([22503, 22504, 22505])"
      ]
     },
     "execution_count": 206,
     "metadata": {},
     "output_type": "execute_result"
    }
   ],
   "source": [
    "new_indices = np.array([-5, -4, -3]) - 1 \n",
    "corp_data['fin_seq'][-1][new_indices]"
   ]
  },
  {
   "attachments": {},
   "cell_type": "markdown",
   "metadata": {},
   "source": [
    "T0-0-0-0-0-? T-4 2016-2020"
   ]
  },
  {
   "cell_type": "code",
   "execution_count": 309,
   "metadata": {},
   "outputs": [
    {
     "data": {
      "text/plain": [
       "(tensor([40540, 40541, 40542, 42861]), 3)"
      ]
     },
     "execution_count": 309,
     "metadata": {},
     "output_type": "execute_result"
    }
   ],
   "source": [
    "seq_len = 3\n",
    "total_len = 6\n",
    "base_point = total_len\n",
    "SUB_SEQ = np.array([-3, -2, -1, 0]) - 1 \n",
    "if seq_len >= SUB_SEQ.shape[0]:\n",
    "    SUB_SEQ = SUB_SEQ - (total_len - seq_len)\n",
    "    fin_seq = corp_data['fin_seq'][-9][SUB_SEQ]\n",
    "    \n",
    "else: # seq_len < SUB_SEQ.shape[0]\n",
    "    # 先往前回退 total_len - seq_len 个长度，再往前挪 SUB_SEQ.shape[0] - seq_len 个长度\n",
    "    SUB_SEQ = SUB_SEQ - (total_len - seq_len) + (SUB_SEQ.shape[0] - seq_len)\n",
    "    fin_seq = corp_data['fin_seq'][-10][SUB_SEQ]\n",
    "\n",
    "new_seq_len = min(seq_len, SUB_SEQ.shape[0])\n",
    "fin_seq, new_seq_len"
   ]
  },
  {
   "cell_type": "code",
   "execution_count": 310,
   "metadata": {},
   "outputs": [
    {
     "data": {
      "text/plain": [
       "[-6, -5, -4, -3]"
      ]
     },
     "execution_count": 310,
     "metadata": {},
     "output_type": "execute_result"
    }
   ],
   "source": [
    "SUB_SEQ.tolist()"
   ]
  },
  {
   "cell_type": "code",
   "execution_count": 326,
   "metadata": {},
   "outputs": [],
   "source": [
    "def time_span_seq_align(corp_data):\n",
    "    # 对应文章中6.2的需求，将时间窗口做多种切分，如只保留t期，只保留 t-5期，只保留 t-5，t-4期\n",
    "    fin_seq, nfin_seq, mda_seq, node_seq, seq_lens = corp_data['fin_seq'], corp_data['nonfin_seq'], corp_data['mda_seq'], corp_data['node_seq'], corp_data['seq_len']\n",
    "\n",
    "    # [-5, -4, ..., -1, 0] -> [-6, -5, ..., -2, -1]\n",
    "    SUB_SEQ = torch.tensor(json.loads('[-5,-4,-3,-2]')) - 1\n",
    "    new_fin, new_nfin, new_mda, new_node, new_lens = [], [], [], [], []\n",
    "    if SUB_SEQ.tolist()==[1]:\n",
    "        # [1] 表示满长度\n",
    "        new_fin, new_nfin, new_mda, new_node, new_lens = fin_seq, nfin_seq, mda_seq, node_seq, seq_lens\n",
    "    elif -6 in SUB_SEQ:\n",
    "        # 子序列从-5开始，early warning\n",
    "        # SUB_SEQ: [-6, -5, -4, ...]\n",
    "        for i in range(0, len(seq_lens)):\n",
    "            new_fin.append(fin_seq[i][SUB_SEQ])\n",
    "            new_nfin.append(nfin_seq[i][SUB_SEQ])\n",
    "            new_mda.append(mda_seq[i][SUB_SEQ])\n",
    "            new_node.append(node_seq[i][SUB_SEQ])\n",
    "            new_lens.append(min(seq_lens[i], torch.tensor(SUB_SEQ.shape[0])))\n",
    "        new_fin, new_nfin, new_mda, new_node, new_lens = torch.stack(new_fin), torch.stack(new_nfin), torch.stack(new_mda), torch.stack(new_node), torch.stack(new_lens)\n",
    "    \n",
    "    elif -1 in SUB_SEQ:\n",
    "        # 子序列从0倒着回去，就近原则\n",
    "        # SUB_SEQ: [..., -3, -2, -1]\n",
    "        # SUB_SEQ = np.array([-3, -2, -1, 0]) - 1\n",
    "        for i in range(0, len(seq_lens)):\n",
    "            if seq_lens[i] >= SUB_SEQ.shape[0]:\n",
    "                subseq = SUB_SEQ - (6 - seq_lens[i])\n",
    "            else:  # seq_len < SUB_SEQ.shape[0]\n",
    "                # 先往前回退 total_len - seq_len 个长度，再往前挪 SUB_SEQ.shape[0] - seq_len 个长度\n",
    "                subseq = SUB_SEQ - (6 - seq_lens[i]) + (SUB_SEQ.shape[0] - seq_lens[i])\n",
    "            new_fin.append(fin_seq[i][subseq])\n",
    "            new_nfin.append(nfin_seq[i][subseq])\n",
    "            new_mda.append(mda_seq[i][subseq])\n",
    "            new_node.append(node_seq[i][subseq])\n",
    "            new_lens.append(min(seq_lens[i], torch.tensor(SUB_SEQ.shape[0])))\n",
    "        new_fin, new_nfin, new_mda, new_node, new_lens = torch.stack(new_fin), torch.stack(new_nfin), torch.stack(new_mda), torch.stack(new_node), torch.stack(new_lens)\n",
    "    \n",
    "    return new_fin, new_nfin, new_mda, new_node, new_lens\n"
   ]
  },
  {
   "cell_type": "code",
   "execution_count": 327,
   "metadata": {},
   "outputs": [],
   "source": [
    "new_fin, new_nfin, new_mda, new_node, new_lens = time_span_seq_align(corp_data)\n"
   ]
  },
  {
   "cell_type": "code",
   "execution_count": 328,
   "metadata": {},
   "outputs": [
    {
     "data": {
      "text/plain": [
       "(tensor([[   24,    25,    26,    27],\n",
       "         [ 3699,  3700,  3701,  3702],\n",
       "         [   23,    24,    25,    26],\n",
       "         ...,\n",
       "         [38948, 38949, 38950, 38951],\n",
       "         [42047, 42048, 42861, 42861],\n",
       "         [22503, 22504, 22505, 22506]]),\n",
       " tensor([[   24,    25,    26,    27,    28,    29],\n",
       "         [ 3699,  3700,  3701,  3702,  3703,  3704],\n",
       "         [   23,    24,    25,    26,    27,    28],\n",
       "         ...,\n",
       "         [38948, 38949, 38950, 38951, 38952, 38953],\n",
       "         [42047, 42048, 42861, 42861, 42861, 42861],\n",
       "         [22503, 22504, 22505, 22506, 22507, 42861]]))"
      ]
     },
     "execution_count": 328,
     "metadata": {},
     "output_type": "execute_result"
    }
   ],
   "source": [
    "new_fin, corp_data['fin_seq']"
   ]
  },
  {
   "cell_type": "code",
   "execution_count": 161,
   "metadata": {},
   "outputs": [
    {
     "data": {
      "text/plain": [
       "array([5, 6])"
      ]
     },
     "execution_count": 161,
     "metadata": {},
     "output_type": "execute_result"
    }
   ],
   "source": [
    "new_indices = np.array([-2, -1, 0]) + 5\n",
    "new_fin = []\n",
    "for i in range(0, len(corp_data['seq_len'])):\n",
    "    new_fin.append([corp_data['fin_seq']])\n",
    "\n"
   ]
  },
  {
   "cell_type": "code",
   "execution_count": 137,
   "metadata": {},
   "outputs": [
    {
     "data": {
      "text/plain": [
       "Graph(num_nodes=4111, num_edges=23884,\n",
       "      ndata_schemes={}\n",
       "      edata_schemes={})"
      ]
     },
     "execution_count": 137,
     "metadata": {},
     "output_type": "execute_result"
    }
   ],
   "source": [
    "import scipy.sparse as sp\n",
    "adj = np.array([g.adjacency_matrix(scipy_fmt=\"csr\").toarray() for g in corp_data['graphs'][2005]['adj']]).sum(0)\n",
    "g = dgl.from_scipy(sp_mat=sp.csr_matrix(adj))\n",
    "g"
   ]
  },
  {
   "cell_type": "code",
   "execution_count": 86,
   "metadata": {},
   "outputs": [
    {
     "data": {
      "text/plain": [
       "torch.Size([19, 4111, 64])"
      ]
     },
     "execution_count": 86,
     "metadata": {},
     "output_type": "execute_result"
    }
   ],
   "source": [
    "gs = corp_data['graphs']\n",
    "# [19, 3124, 64] -> [19, 4111, 64]\n",
    "kg_embs = torch.stack([gs[y]['kg_embs'] for y in gs])\n",
    "kg_embs.shape"
   ]
  },
  {
   "cell_type": "code",
   "execution_count": 20,
   "metadata": {},
   "outputs": [],
   "source": [
    "KGE_path = '../KGE_pytorch/source/embed/'\n",
    "metapath_dir = '../meta-path/mat_by_year'\n",
    "metapath_list = ['gu_qin_gu', 'gud_gud', 'gud_trans',\n",
    "                 'mana_gud', 'mana_mana', 'mana_qin_gud',\n",
    "                 'mana_qin_mana', 'sub_trans', 'trans_trans',\n",
    "                 'trans_trans_trans']\n",
    "stacked_embs = torch.stack([torch.from_numpy(mmread(os.path.join(metapath_dir, str(2003), 'metapath/{}.mtx'.format(p))).todense()) for p in metapath_list], dim = 0)\n",
    "concated_embs = torch.concat([torch.from_numpy(mmread(os.path.join(metapath_dir, str(2003), 'metapath/{}.mtx'.format(p))).todense()) for p in metapath_list],dim=-1)"
   ]
  },
  {
   "cell_type": "code",
   "execution_count": 24,
   "metadata": {},
   "outputs": [
    {
     "data": {
      "text/plain": [
       "(torch.Size([10, 4111, 4111]), torch.Size([4111, 41110]))"
      ]
     },
     "execution_count": 24,
     "metadata": {},
     "output_type": "execute_result"
    }
   ],
   "source": [
    "stacked_embs.shape, concated_embs.shape"
   ]
  },
  {
   "cell_type": "code",
   "execution_count": 13,
   "metadata": {},
   "outputs": [
    {
     "data": {
      "text/plain": [
       "torch.Size([4111, 4111])"
      ]
     },
     "execution_count": 13,
     "metadata": {},
     "output_type": "execute_result"
    }
   ],
   "source": [
    "corp_data['graphs'][2003]['one_hot_features'][0].shape"
   ]
  },
  {
   "cell_type": "code",
   "execution_count": 130,
   "metadata": {},
   "outputs": [
    {
     "data": {
      "text/plain": [
       "tensor([[ 14.0000,   3.0000,  13.0000,  ...,   7.0838,  18.9276,  59.9443],\n",
       "        [ 13.0000,   5.0000,  15.0000,  ...,  17.8898,   8.8375,  59.9443],\n",
       "        [ 14.0000,   4.0000,  10.0000,  ...,  17.8898,   9.3922,  59.9443],\n",
       "        ...,\n",
       "        [  9.0000,   3.0000,   4.0000,  ...,  29.6189,  18.5604, 728.6425],\n",
       "        [ 11.0000,   5.0000,   5.0000,  ...,  29.6189,  18.6904, 728.6425],\n",
       "        [  6.0000,   2.0000,   4.0000,  ...,  29.6189,  18.7469, 728.6425]],\n",
       "       dtype=torch.float64)"
      ]
     },
     "execution_count": 130,
     "metadata": {},
     "output_type": "execute_result"
    }
   ],
   "source": [
    "corp_data['nonfin_ratio']"
   ]
  },
  {
   "cell_type": "code",
   "execution_count": 128,
   "metadata": {},
   "outputs": [
    {
     "data": {
      "text/plain": [
       "torch.Size([5798])"
      ]
     },
     "execution_count": 128,
     "metadata": {},
     "output_type": "execute_result"
    }
   ],
   "source": [
    "fin_seq = corp_data['fin_seq']\n",
    "nonfin_seq = corp_data['nonfin_seq']\n",
    "mda_seq = corp_data['mda_seq']\n",
    "node_seq = corp_data['node_seq']\n",
    "seq_lens = corp_data['seq_len']\n",
    "\n",
    "fin_seq = torch.Tensor([[fin_seq[i][seq_lens[i] - 1]] for i in range(0, len(seq_lens))])\n",
    "nfin_seq = torch.Tensor([[nonfin_seq[i][seq_lens[i] - 1]] for i in range(0, len(seq_lens))])\n",
    "mda_seq = torch.Tensor([[mda_seq[i][seq_lens[i] - 1]] for i in range(0, len(seq_lens))])\n",
    "\n",
    "fin_seq.squeeze(1).shape"
   ]
  },
  {
   "cell_type": "code",
   "execution_count": 50,
   "metadata": {},
   "outputs": [],
   "source": [
    "def score(logits, labels):\n",
    "        # train 阶段\n",
    "        # logits本来shape是[-1, 2]，2为类别数，现在取最大那一类的概率作为最后的预测值，转换为 [-1]\n",
    "        '''_, indices = torch.max(logits, dim=1)\n",
    "        prediction = indices.long().cpu().numpy()'''\n",
    "        SM = nn.Sigmoid()\n",
    "\n",
    "        prediction = SM(logits).int().cpu().numpy()\n",
    "        print(prediction)\n",
    "        # print(prediction)\n",
    "        labels = labels.cpu().numpy()\n",
    "\n",
    "        accuracy = (prediction == labels).sum() / len(prediction)\n",
    "        prec = precision_score(labels, prediction)\n",
    "        recall = recall_score(labels, prediction)\n",
    "        f1 = f1_score(labels, prediction, average=\"binary\")\n",
    "\n",
    "        return accuracy, prec, recall, f1\n"
   ]
  },
  {
   "cell_type": "code",
   "execution_count": 51,
   "metadata": {},
   "outputs": [
    {
     "name": "stdout",
     "output_type": "stream",
     "text": [
      "tensor([-3.3392e-01, -8.7453e-01,  1.0357e-01, -6.6221e-01, -2.3187e+00,\n",
      "         2.8819e-01,  7.0682e-01, -1.2064e-01,  4.7715e-01, -5.1966e-01,\n",
      "         2.7027e-02,  9.2289e-01, -1.7867e+00, -9.9185e-01,  1.0907e+00,\n",
      "        -7.7620e-02, -5.3571e-01, -1.4831e+00,  1.4843e+00, -5.2957e-04,\n",
      "         1.0678e+00,  2.0823e+00, -6.1205e-01,  4.5127e-01,  1.0590e+00,\n",
      "        -7.4710e-01, -1.0177e+00, -1.3883e+00,  1.8640e+00,  2.7630e-01,\n",
      "         7.7048e-01, -2.0646e+00, -9.4343e-01,  3.4823e-01,  8.6935e-01,\n",
      "         7.6448e-01,  1.0663e+00, -1.1896e+00, -9.5708e-02, -2.2207e+00,\n",
      "        -2.7400e-01, -8.3569e-01,  4.0242e-01,  2.9373e-01, -5.8267e-01,\n",
      "        -1.8983e-01,  7.2284e-01, -9.6019e-01,  9.5251e-01, -1.1184e+00,\n",
      "        -5.8114e-01, -1.5759e+00,  7.8176e-01, -2.0891e+00,  4.6565e-01,\n",
      "        -1.2269e+00,  7.1056e-01,  6.6596e-01, -2.9449e+00, -2.1816e+00,\n",
      "         9.7163e-01, -1.0568e+00,  8.4136e-01, -1.2142e+00,  1.4066e-01,\n",
      "        -3.6049e-01, -1.7927e+00,  4.6245e-02,  1.4722e+00,  8.4842e-01,\n",
      "        -8.2303e-02,  1.8586e-01, -1.3325e+00,  1.5178e+00,  2.5480e-01,\n",
      "        -4.7635e-01,  4.7137e-01,  1.0524e-01,  5.3004e-01, -8.1970e-01,\n",
      "        -8.4796e-01, -7.1504e-01, -6.2930e-01, -8.5050e-01,  1.5338e+00,\n",
      "        -2.8423e-01,  5.5985e-01,  1.1396e-01,  1.0134e+00, -1.3948e+00,\n",
      "         4.3551e-01, -4.5388e-01, -3.6919e-01, -2.8639e-01, -8.9267e-01,\n",
      "         2.8518e-01,  7.8018e-01, -1.4514e+00,  6.5835e-01, -1.2783e-01],\n",
      "       grad_fn=<SqueezeBackward0>)\n",
      "tensor(0.7539, grad_fn=<BinaryCrossEntropyBackward0>)\n",
      "[0 0 0 0 0 0 0 0 0 0 0 0 0 0 0 0 0 0 0 0 0 0 0 0 0 0 0 0 0 0 0 0 0 0 0 0 0\n",
      " 0 0 0 0 0 0 0 0 0 0 0 0 0 0 0 0 0 0 0 0 0 0 0 0 0 0 0 0 0 0 0 0 0 0 0 0 0\n",
      " 0 0 0 0 0 0 0 0 0 0 0 0 0 0 0 0 0 0 0 0 0 0 0 0 0 0]\n",
      "(0.41, 0.0, 0.0, 0.0)\n"
     ]
    },
    {
     "name": "stderr",
     "output_type": "stream",
     "text": [
      "/Applications/anaconda3/lib/python3.7/site-packages/sklearn/metrics/classification.py:1437: UndefinedMetricWarning: Precision is ill-defined and being set to 0.0 due to no predicted samples.\n",
      "  'precision', 'predicted', average, warn_for)\n",
      "/Applications/anaconda3/lib/python3.7/site-packages/sklearn/metrics/classification.py:1437: UndefinedMetricWarning: F-score is ill-defined and being set to 0.0 due to no predicted samples.\n",
      "  'precision', 'predicted', average, warn_for)\n"
     ]
    }
   ],
   "source": [
    "# loss = nn.CrossEntropyLoss()\n",
    "loss = nn.BCELoss()\n",
    "SM = nn.Sigmoid()\n",
    "input = torch.randn(100, 1, requires_grad=True)\n",
    "\n",
    "input = torch.squeeze(input)\n",
    "print(input)\n",
    "target = torch.empty(100, dtype=torch.float).random_(2)\n",
    "\n",
    "loss = loss(SM(input).float(), target)\n",
    "loss.backward()\n",
    "print(loss)\n",
    "# input, target\n",
    "print(score(input, target))\n"
   ]
  },
  {
   "cell_type": "code",
   "execution_count": 10,
   "metadata": {},
   "outputs": [],
   "source": [
    "def score(logits, labels):\n",
    "        # train 阶段\n",
    "        # logits本来shape是[-1, 2]，2为类别数，现在取最大那一类的概率作为最后的预测值，转换为 [-1]\n",
    "        _, indices = torch.max(logits, dim=1)\n",
    "        print(indices)\n",
    "        prediction = indices.long().cpu().numpy()\n",
    "        labels = labels.cpu().numpy()\n",
    "\n",
    "        accuracy = (prediction == labels).sum() / len(prediction)\n",
    "        # micro f1 和 macro f1 是多分类任务里的指标\n",
    "        # micro f1 是计算出所有类别总的Precision和Recall，然后计算F1，Micro-F1则更容易受到常见类别的影响。\n",
    "        # macro f1 计算出每一个类的Precison和Recall后计算F1，最后将F1平均，Macro-F1平等地看待各个类别，它的值会受到稀有类别的影响\n",
    "        micro_f1 = f1_score(labels, prediction, average=\"micro\")\n",
    "        macro_f1 = f1_score(labels, prediction, average=\"macro\")\n",
    "        f1 = f1_score(labels, prediction)\n",
    "        prec = precision_score(labels, prediction)\n",
    "        recall = recall_score(labels, prediction)\n",
    "        return accuracy, prec, recall, f1"
   ]
  },
  {
   "cell_type": "code",
   "execution_count": 12,
   "metadata": {},
   "outputs": [
    {
     "name": "stdout",
     "output_type": "stream",
     "text": [
      "tensor([1, 0, 0, 0, 0, 0])\n"
     ]
    },
    {
     "data": {
      "text/plain": [
       "(0.6666666666666666, 1.0, 0.3333333333333333, 0.5)"
      ]
     },
     "execution_count": 12,
     "metadata": {},
     "output_type": "execute_result"
    }
   ],
   "source": [
    "input = torch.tensor([[ 0.0916, 0.2009],\n",
    "        [ 0.0909, -0.2012],\n",
    "        [ 0.0917, -0.2019],\n",
    "        [ 0.0921, -0.2025],\n",
    "        [ 0.0904, -0.1998],\n",
    "        [ 0.0923, -0.2017]])\n",
    "target = torch.tensor([1, 0, 1, 0, 1, 0])\n",
    "score(input, target)\n"
   ]
  },
  {
   "cell_type": "code",
   "execution_count": null,
   "metadata": {},
   "outputs": [],
   "source": [
    "loss = nn.CrossEntropyLoss()\n",
    "loss = loss(input, target)\n",
    "loss.cpu().detach().numpy(),  loss.cpu().item(), loss.item()"
   ]
  },
  {
   "cell_type": "code",
   "execution_count": 541,
   "metadata": {},
   "outputs": [
    {
     "name": "stdout",
     "output_type": "stream",
     "text": [
      " batch:0\n",
      " x_data:tensor([[1, 2, 3],\n",
      "        [4, 5, 6],\n",
      "        [7, 8, 9],\n",
      "        [4, 5, 6]])\n",
      "label: tensor([44, 55, 66, 55])\n",
      " batch:1\n",
      " x_data:tensor([[7, 8, 9],\n",
      "        [7, 8, 9],\n",
      "        [4, 5, 6],\n",
      "        [7, 8, 9]])\n",
      "label: tensor([66, 66, 55, 66])\n",
      " batch:2\n",
      " x_data:tensor([[1, 2, 3],\n",
      "        [1, 2, 3],\n",
      "        [4, 5, 6],\n",
      "        [1, 2, 3]])\n",
      "label: tensor([44, 44, 55, 44])\n"
     ]
    }
   ],
   "source": [
    "a = torch.tensor([[1, 2, 3], [4, 5, 6], [7, 8, 9], [1, 2, 3], [4, 5, 6], [7, 8, 9], [1, 2, 3], [4, 5, 6], [7, 8, 9], [1, 2, 3], [4, 5, 6], [7, 8, 9]])\n",
    "b = torch.tensor([44, 55, 66, 44, 55, 66, 44, 55, 66, 44, 55, 66])\n",
    "\n",
    "train_loader = DataLoader(dataset=TensorDataset(a, b), batch_size=4, shuffle=True)\n",
    "for i, data in enumerate(train_loader):  # 注意enumerate返回值有两个,一个是序号，一个是数据（包含训练数据和标签）\n",
    "    x_data, label = data\n",
    "    print(' batch:{0}\\n x_data:{1}\\nlabel: {2}'.format(i, x_data, label))\n"
   ]
  },
  {
   "cell_type": "code",
   "execution_count": 566,
   "metadata": {},
   "outputs": [],
   "source": [
    "fin_ratios = pd.read_csv('../findata_for_torch.csv', encoding='gb18030')\n",
    "stkcd = set(fin_ratios.Stkcd)\n",
    "fin_ratios = fin_ratios.set_index(['Stkcd', 'year'])"
   ]
  },
  {
   "cell_type": "code",
   "execution_count": 568,
   "metadata": {},
   "outputs": [
    {
     "data": {
      "text/plain": [
       "year\n",
       "2016    0.925784\n",
       "2015    0.000000\n",
       "2014    0.704715\n",
       "2013    0.279324\n",
       "2012    0.094058\n",
       "2011    0.291402\n",
       "2010    1.000000\n",
       "Name: SGEE, dtype: float64"
      ]
     },
     "execution_count": 568,
     "metadata": {},
     "output_type": "execute_result"
    }
   ],
   "source": [
    "(fin_ratios.loc[2,'SGEE'] - np.min(fin_ratios.loc[2,'SGEE'])) / (np.max(fin_ratios.loc[2,'SGEE']) - np.min(fin_ratios.loc[2,'SGEE']))"
   ]
  },
  {
   "cell_type": "code",
   "execution_count": 572,
   "metadata": {},
   "outputs": [
    {
     "data": {
      "text/plain": [
       "(tensor(0.1760, dtype=torch.float64), tensor(0.9786, dtype=torch.float64))"
      ]
     },
     "execution_count": 572,
     "metadata": {},
     "output_type": "execute_result"
    }
   ],
   "source": [
    "torch.std_mean(torch.tensor(fin_ratios.loc[2,'SGEE'].values))"
   ]
  },
  {
   "cell_type": "code",
   "execution_count": 147,
   "metadata": {},
   "outputs": [
    {
     "data": {
      "text/plain": [
       "torch.Size([6, 6, 12])"
      ]
     },
     "execution_count": 147,
     "metadata": {},
     "output_type": "execute_result"
    }
   ],
   "source": [
    "sample = torch.randn(6, 6, 12)\n",
    "BN = torch.nn.BatchNorm1d(6)\n",
    "BN(sample)\n",
    "torch.cat([torch.tensor([]),sample]).shape"
   ]
  },
  {
   "cell_type": "code",
   "execution_count": 65,
   "metadata": {},
   "outputs": [
    {
     "data": {
      "text/plain": [
       "torch.Size([6, 6, 12])"
      ]
     },
     "execution_count": 65,
     "metadata": {},
     "output_type": "execute_result"
    }
   ],
   "source": [
    "LN = nn.LayerNorm(12)\n",
    "LN(sample).shape"
   ]
  },
  {
   "cell_type": "code",
   "execution_count": 154,
   "metadata": {},
   "outputs": [
    {
     "data": {
      "text/plain": [
       "[0]"
      ]
     },
     "execution_count": 154,
     "metadata": {},
     "output_type": "execute_result"
    }
   ],
   "source": [
    "json.loads('[0]')"
   ]
  },
  {
   "cell_type": "code",
   "execution_count": 67,
   "metadata": {},
   "outputs": [
    {
     "data": {
      "text/plain": [
       "torch.Size([2, 19, 400, 400])"
      ]
     },
     "execution_count": 67,
     "metadata": {},
     "output_type": "execute_result"
    }
   ],
   "source": [
    "torch.stack([torch.rand(19, 400, 400),torch.rand(19, 400, 400)]).shape"
   ]
  },
  {
   "cell_type": "code",
   "execution_count": 84,
   "metadata": {},
   "outputs": [
    {
     "data": {
      "text/plain": [
       "torch.Size([4111, 256])"
      ]
     },
     "execution_count": 84,
     "metadata": {},
     "output_type": "execute_result"
    }
   ],
   "source": [
    "import torch.nn.functional as F\n",
    "from dgl.nn.pytorch import GATConv\n",
    "import dgl\n",
    "gat = GATConv(in_feats = 64,\n",
    "                    out_feats = 64,\n",
    "                    num_heads = 4,\n",
    "                    feat_drop = 0,\n",
    "                    attn_drop = 0,\n",
    "                    activation = F.elu,\n",
    "                    allow_zero_in_degree = True, # 是否允许有度为0的点\n",
    ")\n",
    "node_emb = torch.rand(4111,64)\n",
    "adj = dgl.rand_graph(4111, 600)\n",
    "emb, attn_weight = gat(adj, node_emb, get_attention=True)\n",
    "emb.flatten(1).shape"
   ]
  },
  {
   "cell_type": "code",
   "execution_count": 85,
   "metadata": {},
   "outputs": [
    {
     "data": {
      "text/plain": [
       "torch.Size([600])"
      ]
     },
     "execution_count": 85,
     "metadata": {},
     "output_type": "execute_result"
    }
   ],
   "source": [
    "attn_weight.mean(1).squeeze()"
   ]
  },
  {
   "cell_type": "code",
   "execution_count": 93,
   "metadata": {},
   "outputs": [
    {
     "data": {
      "text/plain": [
       "torch.Size([600, 4, 1])"
      ]
     },
     "execution_count": 93,
     "metadata": {},
     "output_type": "execute_result"
    }
   ],
   "source": [
    "attn_weight.shape"
   ]
  },
  {
   "cell_type": "code",
   "execution_count": 89,
   "metadata": {},
   "outputs": [
    {
     "data": {
      "text/plain": [
       "torch.Size([4111, 4111])"
      ]
     },
     "execution_count": 89,
     "metadata": {},
     "output_type": "execute_result"
    }
   ],
   "source": [
    "src, dst = adj.edges()\n",
    "adj_matrix = dgl.graph((src, dst), num_nodes=4111)\n",
    "adj_matrix.edata['weight'] = attn_weight\n",
    "adj_matrix = adj_matrix.adjacency_matrix().to_dense()\n",
    "adj_matrix.shape"
   ]
  },
  {
   "cell_type": "code",
   "execution_count": 87,
   "metadata": {},
   "outputs": [
    {
     "data": {
      "text/plain": [
       "Graph(num_nodes=4111, num_edges=600,\n",
       "      ndata_schemes={}\n",
       "      edata_schemes={'weight': Scheme(shape=(4, 1), dtype=torch.float32)})"
      ]
     },
     "execution_count": 87,
     "metadata": {},
     "output_type": "execute_result"
    }
   ],
   "source": [
    "adj_matrix"
   ]
  },
  {
   "cell_type": "code",
   "execution_count": 74,
   "metadata": {},
   "outputs": [
    {
     "data": {
      "text/plain": [
       "600"
      ]
     },
     "execution_count": 74,
     "metadata": {},
     "output_type": "execute_result"
    }
   ],
   "source": [
    "adj.num_edges()"
   ]
  },
  {
   "cell_type": "code",
   "execution_count": 53,
   "metadata": {},
   "outputs": [
    {
     "ename": "TypeError",
     "evalue": "expected Tensor as element 0 in argument 0, but got int",
     "output_type": "error",
     "traceback": [
      "\u001b[0;31m---------------------------------------------------------------------------\u001b[0m",
      "\u001b[0;31mTypeError\u001b[0m                                 Traceback (most recent call last)",
      "\u001b[0;32m<ipython-input-53-c213948a45d0>\u001b[0m in \u001b[0;36m<module>\u001b[0;34m\u001b[0m\n\u001b[1;32m      1\u001b[0m \u001b[0mtorch\u001b[0m\u001b[0;34m.\u001b[0m\u001b[0mcat\u001b[0m\u001b[0;34m(\u001b[0m\u001b[0;34m[\u001b[0m\u001b[0mattn_weight\u001b[0m\u001b[0;34m,\u001b[0m \u001b[0mattn_weight1\u001b[0m\u001b[0;34m]\u001b[0m\u001b[0;34m,\u001b[0m\u001b[0mdim\u001b[0m\u001b[0;34m=\u001b[0m\u001b[0;36m0\u001b[0m\u001b[0;34m)\u001b[0m\u001b[0;34m.\u001b[0m\u001b[0mshape\u001b[0m\u001b[0;34m\u001b[0m\u001b[0;34m\u001b[0m\u001b[0m\n\u001b[0;32m----> 2\u001b[0;31m \u001b[0mtorch\u001b[0m\u001b[0;34m.\u001b[0m\u001b[0mcat\u001b[0m\u001b[0;34m(\u001b[0m\u001b[0;34m[\u001b[0m\u001b[0mattn_weight\u001b[0m\u001b[0;34m.\u001b[0m\u001b[0mshape\u001b[0m\u001b[0;34m[\u001b[0m\u001b[0;36m0\u001b[0m\u001b[0;34m]\u001b[0m\u001b[0;34m,\u001b[0m \u001b[0mattn_weight1\u001b[0m\u001b[0;34m.\u001b[0m\u001b[0mshape\u001b[0m\u001b[0;34m[\u001b[0m\u001b[0;36m0\u001b[0m\u001b[0;34m]\u001b[0m\u001b[0;34m]\u001b[0m\u001b[0;34m,\u001b[0m\u001b[0mdim\u001b[0m\u001b[0;34m=\u001b[0m\u001b[0;36m0\u001b[0m\u001b[0;34m)\u001b[0m\u001b[0;34m\u001b[0m\u001b[0;34m\u001b[0m\u001b[0m\n\u001b[0m",
      "\u001b[0;31mTypeError\u001b[0m: expected Tensor as element 0 in argument 0, but got int"
     ]
    }
   ],
   "source": [
    "torch.cat([attn_weight, attn_weight1],dim=0).shape\n",
    "torch.cat([attn_weight.shape[0], attn_weight1.shape[0]],dim=0)"
   ]
  },
  {
   "cell_type": "code",
   "execution_count": 59,
   "metadata": {},
   "outputs": [
    {
     "data": {
      "text/plain": [
       "500"
      ]
     },
     "execution_count": 59,
     "metadata": {},
     "output_type": "execute_result"
    }
   ],
   "source": [
    "attn_weight.size(0)"
   ]
  },
  {
   "cell_type": "code",
   "execution_count": 72,
   "metadata": {},
   "outputs": [],
   "source": [
    "all_data = pd.read_csv('../train_test.csv', encoding='gb18030')\n",
    "# all_data.set_index('pred_year',inplace=True)"
   ]
  },
  {
   "cell_type": "code",
   "execution_count": 71,
   "metadata": {},
   "outputs": [
    {
     "data": {
      "text/plain": [
       "(5730, 5)"
      ]
     },
     "execution_count": 71,
     "metadata": {},
     "output_type": "execute_result"
    }
   ],
   "source": [
    "all_data.loc[:,:].shape"
   ]
  },
  {
   "cell_type": "code",
   "execution_count": 79,
   "metadata": {},
   "outputs": [
    {
     "data": {
      "text/plain": [
       "(768,)"
      ]
     },
     "execution_count": 79,
     "metadata": {},
     "output_type": "execute_result"
    }
   ],
   "source": [
    "all_data[all_data.pred_year==2018].index.shape"
   ]
  },
  {
   "cell_type": "code",
   "execution_count": 53,
   "metadata": {},
   "outputs": [],
   "source": [
    "from sklearn.svm import SVC\n",
    "svm = SVC(kernel='linear')"
   ]
  },
  {
   "cell_type": "code",
   "execution_count": 69,
   "metadata": {},
   "outputs": [
    {
     "data": {
      "text/plain": [
       "(5730,)"
      ]
     },
     "execution_count": 69,
     "metadata": {},
     "output_type": "execute_result"
    }
   ],
   "source": [
    "last_year = np.array(list(map(\n",
    "            lambda i: corp_data['fin_seq'][i][corp_data['seq_len'][i]-1], range(0,len(corp_data['seq_len']))\n",
    "        )))\n",
    "last_year.shape"
   ]
  },
  {
   "cell_type": "code",
   "execution_count": 25,
   "metadata": {},
   "outputs": [
    {
     "name": "stdout",
     "output_type": "stream",
     "text": [
      "共4111家上市公司\n"
     ]
    }
   ],
   "source": [
    "subfirm = pd.read_csv('../上市公司子公司情况表/subsidiary_fullname_matched.csv', encoding='gb18030')\n",
    "qinshu = pd.read_csv('../股权及亲属关系/qinshu_no_dup_person.csv', encoding='gb18030')\n",
    "gaoguan = pd.read_csv('../高管关系/gaoguan_no_dup_person.csv', encoding='gb18030')\n",
    "gudong = pd.read_csv('../十大股东文件/gudong_not_fin.csv', encoding='gb18030')\n",
    "guanlian = pd.read_csv('../关联方交易/guanlian_no_dup_person.csv', encoding='gb18030')\n",
    "\n",
    "subfirm = subfirm.set_index(['interval'])\n",
    "qinshu = qinshu.set_index(['interval'])\n",
    "gaoguan = gaoguan.set_index(['interval'])\n",
    "gudong = gudong.set_index(['interval'])\n",
    "guanlian = guanlian.set_index(['interval'])\n",
    "\n",
    "with open('../meta-path/listed_firm.json', 'r') as f:\n",
    "    listed_corp = json.load(f)\n",
    "print('共%d家上市公司' % len(listed_corp))"
   ]
  },
  {
   "cell_type": "code",
   "execution_count": 49,
   "metadata": {},
   "outputs": [
    {
     "data": {
      "text/plain": [
       "torch.Size([256, 6, 99])"
      ]
     },
     "execution_count": 49,
     "metadata": {},
     "output_type": "execute_result"
    }
   ],
   "source": [
    "a = torch.ones([256, 6, 84])\n",
    "b = torch.ones([256, 6, 4])\n",
    "c = torch.ones([256, 6, 11])\n",
    "torch.cat([a,b,c],dim=-1).shape"
   ]
  },
  {
   "cell_type": "code",
   "execution_count": 59,
   "metadata": {},
   "outputs": [],
   "source": [
    "logits = torch.Tensor(\n",
    "        [[ -0.5630, 0.2597],\n",
    "        [ 0.4858, -0.2623],\n",
    "        [ 0.6105, -0.2699],\n",
    "        [ 0.9770, -0.7011],\n",
    "        [ 0.7892,1.1153],\n",
    "        [ 1.0543, -0.7584]])\n",
    "pred = torch.max(logits,dim=1)[1].long()\n",
    "label = torch.Tensor([1, 0, 0, 1, 0, 0]).long()\n",
    "accuracy = (pred == label).sum() / len(pred)\n",
    "prec = precision_score(label.numpy(), pred.numpy())\n",
    "recall = recall_score(label.numpy(), pred.numpy())\n",
    "f1 = f1_score(label.numpy(), pred.numpy(), average=\"binary\")"
   ]
  },
  {
   "cell_type": "code",
   "execution_count": 72,
   "metadata": {},
   "outputs": [
    {
     "name": "stdout",
     "output_type": "stream",
     "text": [
      "{'0': {'precision': 0.75, 'recall': 0.75, 'f1-score': 0.75, 'support': 4}, '1': {'precision': 0.5, 'recall': 0.5, 'f1-score': 0.5, 'support': 2}, 'accuracy': 0.6666666666666666, 'macro avg': {'precision': 0.625, 'recall': 0.625, 'f1-score': 0.625, 'support': 6}, 'weighted avg': {'precision': 0.6666666666666666, 'recall': 0.6666666666666666, 'f1-score': 0.6666666666666666, 'support': 6}}\n"
     ]
    }
   ],
   "source": [
    "from sklearn.metrics import classification_report, roc_auc_score\n",
    "t = classification_report(label.numpy(), pred.numpy(), target_names=['0', '1'], output_dict=True)\n",
    "print(t)"
   ]
  },
  {
   "cell_type": "code",
   "execution_count": 76,
   "metadata": {},
   "outputs": [
    {
     "data": {
      "text/plain": [
       "{'precision': 0.6666666666666666,\n",
       " 'recall': 0.6666666666666666,\n",
       " 'f1-score': 0.6666666666666666,\n",
       " 'support': 6}"
      ]
     },
     "execution_count": 76,
     "metadata": {},
     "output_type": "execute_result"
    }
   ],
   "source": [
    "t['weighted avg']"
   ]
  },
  {
   "cell_type": "code",
   "execution_count": 42,
   "metadata": {},
   "outputs": [],
   "source": [
    "import torch.nn as nn\n",
    "import torch.nn.functional as F\n",
    "from torch.autograd import Variable\n",
    "class FocalLoss(nn.Module):\n",
    "    def __init__(self, gamma=0, alpha=None, size_average=True):\n",
    "        super(FocalLoss, self).__init__()\n",
    "        self.gamma = gamma\n",
    "        self.alpha = alpha\n",
    "        if isinstance(alpha,(float,int)): self.alpha = torch.Tensor([alpha,1-alpha])\n",
    "        if isinstance(alpha,list): self.alpha = torch.Tensor(alpha)\n",
    "        self.size_average = size_average\n",
    "\n",
    "    def forward(self, input, target):\n",
    "        if input.dim()>2:\n",
    "            input = input.view(input.size(0),input.size(1),-1)  # N,C,H,W => N,C,H*W\n",
    "            input = input.transpose(1,2)    # N,C,H*W => N,H*W,C\n",
    "            input = input.contiguous().view(-1,input.size(2))   # N,H*W,C => N*H*W,C\n",
    "        target = target.view(-1,1)\n",
    "\n",
    "        logpt = F.log_softmax(input,dim=0)\n",
    "        print(logpt)\n",
    "        logpt = logpt.gather(1,target)\n",
    "        logpt = logpt.view(-1)\n",
    "        pt = Variable(logpt.data.exp())\n",
    "\n",
    "        if self.alpha is not None:\n",
    "            if self.alpha.type()!=input.data.type():\n",
    "                self.alpha = self.alpha.type_as(input.data)\n",
    "            at = self.alpha.gather(0,target.data.view(-1))\n",
    "            logpt = logpt * Variable(at)\n",
    "\n",
    "        loss = -1 * (1-pt)**self.gamma * logpt\n",
    "        if self.size_average: return loss.mean()\n",
    "        else: return loss.sum()"
   ]
  },
  {
   "cell_type": "code",
   "execution_count": 43,
   "metadata": {},
   "outputs": [
    {
     "name": "stdout",
     "output_type": "stream",
     "text": [
      "tensor([[-1.9982, -2.1033],\n",
      "        [-2.0754, -2.1059],\n",
      "        [-1.9507, -2.1135],\n",
      "        [-1.5842, -2.5447],\n",
      "        [-1.7720, -0.7283],\n",
      "        [-1.5069, -2.6020]])\n"
     ]
    },
    {
     "data": {
      "text/plain": [
       "tensor(0.6876)"
      ]
     },
     "execution_count": 43,
     "metadata": {},
     "output_type": "execute_result"
    }
   ],
   "source": [
    "fl = FocalLoss(gamma=2,alpha=0.25)\n",
    "fl(logits, label)"
   ]
  },
  {
   "cell_type": "code",
   "execution_count": 3,
   "metadata": {},
   "outputs": [
    {
     "data": {
      "text/plain": [
       "'2023-06-03'"
      ]
     },
     "execution_count": 3,
     "metadata": {},
     "output_type": "execute_result"
    }
   ],
   "source": [
    "import datetime\n",
    "f'{datetime.datetime.now().date()}'"
   ]
  },
  {
   "cell_type": "code",
   "execution_count": 402,
   "metadata": {},
   "outputs": [
    {
     "name": "stdout",
     "output_type": "stream",
     "text": [
      "torch.Size([4111, 10, 1]) torch.Size([4111, 10, 1])\n"
     ]
    },
    {
     "data": {
      "text/plain": [
       "tensor([[[0.6037, 0.6665, 0.6617,  ..., 0.3742, 0.4596, 0.5340]],\n",
       "\n",
       "        [[0.5163, 0.5031, 0.5674,  ..., 0.4094, 0.6511, 0.6636]],\n",
       "\n",
       "        [[0.5258, 0.5783, 0.6351,  ..., 0.3720, 0.4360, 0.5696]],\n",
       "\n",
       "        ...,\n",
       "\n",
       "        [[0.3728, 0.4391, 0.7207,  ..., 0.5388, 0.5359, 0.2392]],\n",
       "\n",
       "        [[0.4702, 0.5766, 0.4685,  ..., 0.3862, 0.3388, 0.5320]],\n",
       "\n",
       "        [[0.4819, 0.6587, 0.8157,  ..., 0.5535, 0.7652, 0.5596]]])"
      ]
     },
     "execution_count": 402,
     "metadata": {},
     "output_type": "execute_result"
    }
   ],
   "source": [
    "input = torch.rand(4111,10,64)\n",
    "# attn_coef = torch.bmm(input, input.permute(0, 2, 1))\n",
    "# norm_attn_coef = torch.softmax(attn_coef, dim=2).mean(1,keepdim=True)\n",
    "attn_coef = torch.bmm(input, input.permute(0, 2, 1)).mean(2,keepdim=True)\n",
    "norm_attn_coef = torch.softmax(attn_coef, dim=1)\n",
    "\n",
    "print(attn_coef.shape, norm_attn_coef.shape)\n",
    "torch.bmm(norm_attn_coef.permute(0, 2, 1), input)"
   ]
  },
  {
   "cell_type": "code",
   "execution_count": 396,
   "metadata": {},
   "outputs": [
    {
     "data": {
      "text/plain": [
       "tensor([[1.0000, 1.0000, 1.0000,  ..., 1.0000, 1.0000, 1.0000],\n",
       "        [1.0000, 1.0000, 1.0000,  ..., 1.0000, 1.0000, 1.0000],\n",
       "        [1.0000, 1.0000, 1.0000,  ..., 1.0000, 1.0000, 1.0000],\n",
       "        ...,\n",
       "        [0.3758, 0.5035, 0.5395,  ..., 0.3450, 0.1930, 0.8766],\n",
       "        [0.0957, 0.0407, 0.3123,  ..., 0.4565, 0.7414, 0.7067],\n",
       "        [0.9340, 0.2167, 0.0367,  ..., 0.4882, 0.2958, 0.8125]])"
      ]
     },
     "execution_count": 396,
     "metadata": {},
     "output_type": "execute_result"
    }
   ],
   "source": [
    "path_attns = torch.rand((4111 * 19, 10))\n",
    "path_attn = torch.ones([4111, 10])\n",
    "path_attns[0 * 4111: 1 * 4111] = path_attn\n",
    "path_attns"
   ]
  },
  {
   "cell_type": "code",
   "execution_count": 5,
   "metadata": {},
   "outputs": [
    {
     "data": {
      "text/plain": [
       "torch.Size([10, 8])"
      ]
     },
     "execution_count": 5,
     "metadata": {},
     "output_type": "execute_result"
    }
   ],
   "source": [
    "torch.cat([torch.rand(10,5),torch.rand(10,2),torch.rand(10,1)],dim=-1).shape"
   ]
  },
  {
   "cell_type": "code",
   "execution_count": 5,
   "metadata": {},
   "outputs": [
    {
     "name": "stdout",
     "output_type": "stream",
     "text": [
      "Friedman检验统计量为： 2.0\n",
      "Friedman检验p值为： 0.36787944117144245\n"
     ]
    }
   ],
   "source": [
    "from scipy.stats import friedmanchisquare\n",
    "\n",
    "# 创建一个包含多个相关样本的列表\n",
    "sample1 = [0.6765]\n",
    "sample2 = [0.6471]\n",
    "sample3 = [0.6544]\n",
    "\n",
    "# 将样本组合成一个列表\n",
    "data = [sample1, sample2, sample3]\n",
    "\n",
    "# 执行Friedman检验\n",
    "statistic, p_value = friedmanchisquare(*data)\n",
    "\n",
    "# 输出结果\n",
    "print(\"Friedman检验统计量为：\", statistic)\n",
    "print(\"Friedman检验p值为：\", p_value)"
   ]
  },
  {
   "cell_type": "code",
   "execution_count": 75,
   "metadata": {},
   "outputs": [
    {
     "name": "stdout",
     "output_type": "stream",
     "text": [
      "t检验统计量为： 6.517957827261811\n",
      "t检验p值为： 0.0028605662589638887\n"
     ]
    }
   ],
   "source": [
    "from scipy.stats import ttest_rel\n",
    "\n",
    "# 创建两个独立样本的列表\n",
    "acc_1 = [0.6213,0.5993,0.6103,0.6213,0.5956]\n",
    "acc_2 = [0.6912,\n",
    "            0.6838,\n",
    "            0.6949,\n",
    "            0.6912,\n",
    "            0.7279\n",
    "        ]\n",
    "acc_3 = [0.5846, 0.5846, 0.5846, 0.5846, 0.6434]\n",
    "\n",
    "\n",
    "recall_1 = [0.6397,\n",
    "            0.6176,\n",
    "            0.6471,\n",
    "            0.625,\n",
    "            0.6691]\n",
    "recall_2 = [\n",
    "    0.6103,\n",
    "    0.5515,\n",
    "    0.5956,\n",
    "    0.5441,\n",
    "    0.6176,\n",
    "]\n",
    "\n",
    "# 执行独立样本的t检验\n",
    "(statistic, p_value) = ttest_rel(recall_1, recall_2)\n",
    "\n",
    "# 输出结果\n",
    "print(\"t检验统计量为：\", statistic)\n",
    "print(\"t检验p值为：\", p_value)"
   ]
  },
  {
   "cell_type": "code",
   "execution_count": 85,
   "metadata": {},
   "outputs": [
    {
     "name": "stderr",
     "output_type": "stream",
     "text": [
      "/Applications/anaconda3/lib/python3.7/site-packages/scipy/stats/morestats.py:2863: UserWarning: Sample size too small for normal approximation.\n",
      "  warnings.warn(\"Sample size too small for normal approximation.\")\n"
     ]
    },
    {
     "data": {
      "text/plain": [
       "WilcoxonResult(statistic=0.0, pvalue=0.043114446783075355)"
      ]
     },
     "execution_count": 85,
     "metadata": {},
     "output_type": "execute_result"
    }
   ],
   "source": [
    "from scipy.stats import wilcoxon\n",
    "a = [0.5956, 0.5625, 0.5846, 0.5735, 0.5772]\n",
    "b = [0.6985, 0.7022, 0.6949, 0.7022, 0.6912]\n",
    "\n",
    "wilcoxon(a, b)"
   ]
  },
  {
   "cell_type": "code",
   "execution_count": 10,
   "metadata": {},
   "outputs": [
    {
     "name": "stdout",
     "output_type": "stream",
     "text": [
      "数据样本不服从正态分布\n"
     ]
    }
   ],
   "source": [
    "# 检查正态分布\n",
    "from scipy.stats import kstest, norm\n",
    "stat, p = kstest(sample2, 'norm')\n",
    "alpha = 0.05\n",
    "if p > alpha:\n",
    "    print('数据样本服从正态分布')\n",
    "else:\n",
    "    print('数据样本不服从正态分布')"
   ]
  },
  {
   "cell_type": "code",
   "execution_count": 5,
   "metadata": {},
   "outputs": [
    {
     "ename": "AttributeError",
     "evalue": "'list' object has no attribute 'fit'",
     "output_type": "error",
     "traceback": [
      "\u001b[0;31m---------------------------------------------------------------------------\u001b[0m",
      "\u001b[0;31mAttributeError\u001b[0m                            Traceback (most recent call last)",
      "\u001b[0;32m<ipython-input-5-96a43d853a41>\u001b[0m in \u001b[0;36m<module>\u001b[0;34m\u001b[0m\n\u001b[1;32m     12\u001b[0m                            \u001b[0my\u001b[0m\u001b[0;34m=\u001b[0m\u001b[0my\u001b[0m\u001b[0;34m,\u001b[0m\u001b[0;34m\u001b[0m\u001b[0;34m\u001b[0m\u001b[0m\n\u001b[1;32m     13\u001b[0m                            \u001b[0mscoring\u001b[0m\u001b[0;34m=\u001b[0m\u001b[0;34m'accuracy'\u001b[0m\u001b[0;34m,\u001b[0m\u001b[0;34m\u001b[0m\u001b[0;34m\u001b[0m\u001b[0m\n\u001b[0;32m---> 14\u001b[0;31m                            random_seed=1)\n\u001b[0m\u001b[1;32m     15\u001b[0m \u001b[0malpha\u001b[0m \u001b[0;34m=\u001b[0m \u001b[0;36m0.05\u001b[0m\u001b[0;34m\u001b[0m\u001b[0;34m\u001b[0m\u001b[0m\n\u001b[1;32m     16\u001b[0m \u001b[0;32mif\u001b[0m \u001b[0mp\u001b[0m \u001b[0;34m>\u001b[0m \u001b[0malpha\u001b[0m\u001b[0;34m:\u001b[0m\u001b[0;34m\u001b[0m\u001b[0;34m\u001b[0m\u001b[0m\n",
      "\u001b[0;32m~/opt/anaconda3/lib/python3.7/site-packages/mlxtend/evaluate/ttest.py\u001b[0m in \u001b[0;36mpaired_ttest_5x2cv\u001b[0;34m(estimator1, estimator2, X, y, scoring, random_seed)\u001b[0m\n\u001b[1;32m    316\u001b[0m         \u001b[0mX_1\u001b[0m\u001b[0;34m,\u001b[0m \u001b[0mX_2\u001b[0m\u001b[0;34m,\u001b[0m \u001b[0my_1\u001b[0m\u001b[0;34m,\u001b[0m \u001b[0my_2\u001b[0m \u001b[0;34m=\u001b[0m \u001b[0mtrain_test_split\u001b[0m\u001b[0;34m(\u001b[0m\u001b[0mX\u001b[0m\u001b[0;34m,\u001b[0m \u001b[0my\u001b[0m\u001b[0;34m,\u001b[0m \u001b[0mtest_size\u001b[0m\u001b[0;34m=\u001b[0m\u001b[0;36m0.5\u001b[0m\u001b[0;34m,\u001b[0m \u001b[0mrandom_state\u001b[0m\u001b[0;34m=\u001b[0m\u001b[0mrandint\u001b[0m\u001b[0;34m)\u001b[0m\u001b[0;34m\u001b[0m\u001b[0;34m\u001b[0m\u001b[0m\n\u001b[1;32m    317\u001b[0m \u001b[0;34m\u001b[0m\u001b[0m\n\u001b[0;32m--> 318\u001b[0;31m         \u001b[0mscore_diff_1\u001b[0m \u001b[0;34m=\u001b[0m \u001b[0mscore_diff\u001b[0m\u001b[0;34m(\u001b[0m\u001b[0mX_1\u001b[0m\u001b[0;34m,\u001b[0m \u001b[0mX_2\u001b[0m\u001b[0;34m,\u001b[0m \u001b[0my_1\u001b[0m\u001b[0;34m,\u001b[0m \u001b[0my_2\u001b[0m\u001b[0;34m)\u001b[0m\u001b[0;34m\u001b[0m\u001b[0;34m\u001b[0m\u001b[0m\n\u001b[0m\u001b[1;32m    319\u001b[0m         \u001b[0mscore_diff_2\u001b[0m \u001b[0;34m=\u001b[0m \u001b[0mscore_diff\u001b[0m\u001b[0;34m(\u001b[0m\u001b[0mX_2\u001b[0m\u001b[0;34m,\u001b[0m \u001b[0mX_1\u001b[0m\u001b[0;34m,\u001b[0m \u001b[0my_2\u001b[0m\u001b[0;34m,\u001b[0m \u001b[0my_1\u001b[0m\u001b[0;34m)\u001b[0m\u001b[0;34m\u001b[0m\u001b[0;34m\u001b[0m\u001b[0m\n\u001b[1;32m    320\u001b[0m         \u001b[0mscore_mean\u001b[0m \u001b[0;34m=\u001b[0m \u001b[0;34m(\u001b[0m\u001b[0mscore_diff_1\u001b[0m \u001b[0;34m+\u001b[0m \u001b[0mscore_diff_2\u001b[0m\u001b[0;34m)\u001b[0m \u001b[0;34m/\u001b[0m \u001b[0;36m2.0\u001b[0m\u001b[0;34m\u001b[0m\u001b[0;34m\u001b[0m\u001b[0m\n",
      "\u001b[0;32m~/opt/anaconda3/lib/python3.7/site-packages/mlxtend/evaluate/ttest.py\u001b[0m in \u001b[0;36mscore_diff\u001b[0;34m(X_1, X_2, y_1, y_2)\u001b[0m\n\u001b[1;32m    305\u001b[0m \u001b[0;34m\u001b[0m\u001b[0m\n\u001b[1;32m    306\u001b[0m     \u001b[0;32mdef\u001b[0m \u001b[0mscore_diff\u001b[0m\u001b[0;34m(\u001b[0m\u001b[0mX_1\u001b[0m\u001b[0;34m,\u001b[0m \u001b[0mX_2\u001b[0m\u001b[0;34m,\u001b[0m \u001b[0my_1\u001b[0m\u001b[0;34m,\u001b[0m \u001b[0my_2\u001b[0m\u001b[0;34m)\u001b[0m\u001b[0;34m:\u001b[0m\u001b[0;34m\u001b[0m\u001b[0;34m\u001b[0m\u001b[0m\n\u001b[0;32m--> 307\u001b[0;31m         \u001b[0mestimator1\u001b[0m\u001b[0;34m.\u001b[0m\u001b[0mfit\u001b[0m\u001b[0;34m(\u001b[0m\u001b[0mX_1\u001b[0m\u001b[0;34m,\u001b[0m \u001b[0my_1\u001b[0m\u001b[0;34m)\u001b[0m\u001b[0;34m\u001b[0m\u001b[0;34m\u001b[0m\u001b[0m\n\u001b[0m\u001b[1;32m    308\u001b[0m         \u001b[0mestimator2\u001b[0m\u001b[0;34m.\u001b[0m\u001b[0mfit\u001b[0m\u001b[0;34m(\u001b[0m\u001b[0mX_1\u001b[0m\u001b[0;34m,\u001b[0m \u001b[0my_1\u001b[0m\u001b[0;34m)\u001b[0m\u001b[0;34m\u001b[0m\u001b[0;34m\u001b[0m\u001b[0m\n\u001b[1;32m    309\u001b[0m         \u001b[0mest1_score\u001b[0m \u001b[0;34m=\u001b[0m \u001b[0mscorer\u001b[0m\u001b[0;34m(\u001b[0m\u001b[0mestimator1\u001b[0m\u001b[0;34m,\u001b[0m \u001b[0mX_2\u001b[0m\u001b[0;34m,\u001b[0m \u001b[0my_2\u001b[0m\u001b[0;34m)\u001b[0m\u001b[0;34m\u001b[0m\u001b[0;34m\u001b[0m\u001b[0m\n",
      "\u001b[0;31mAttributeError\u001b[0m: 'list' object has no attribute 'fit'"
     ]
    }
   ],
   "source": [
    "# \n",
    "from mlxtend.evaluate import paired_ttest_5x2cv\n",
    "import numpy as np\n",
    "model1_pred = [0.3, 0.5, 0.7, 0.9]\n",
    "model2_pred = [0.2, 0.4, 0.6, 0.8]\n",
    "\n",
    "y = [0, 1, 1, 0]\n",
    "X = np.array([1, 2, 3, 4]).reshape(-1, 1)\n",
    "t, p = paired_ttest_5x2cv(estimator1=model1_pred, \n",
    "                           estimator2=model2_pred, \n",
    "                           X=X, \n",
    "                           y=y, \n",
    "                           scoring='accuracy', \n",
    "                           random_seed=1)\n",
    "alpha = 0.05\n",
    "if p > alpha:\n",
    "    print('两个模型之间没有显著差异')\n",
    "else:\n",
    "    print('两个模型之间有显著差异')"
   ]
  },
  {
   "cell_type": "code",
   "execution_count": 26,
   "metadata": {},
   "outputs": [
    {
     "data": {
      "text/plain": [
       "'ab\"\"c'"
      ]
     },
     "execution_count": 26,
     "metadata": {},
     "output_type": "execute_result"
    }
   ],
   "source": [
    "import re\n",
    "result = re.sub(r'\\t| ', '', \"\\t a b \\t '' c\")\n",
    "result = re.sub(r\"'\",'\"', result)\n",
    "result"
   ]
  },
  {
   "cell_type": "code",
   "execution_count": 37,
   "metadata": {},
   "outputs": [],
   "source": [
    "import collections\n",
    "result = collections.defaultdict(list)"
   ]
  },
  {
   "cell_type": "code",
   "execution_count": 6,
   "metadata": {},
   "outputs": [],
   "source": [
    "from sklearn.svm import SVC\n",
    "from sklearn.linear_model import LogisticRegression\n",
    "from sklearn.neural_network import MLPClassifier\n",
    "from sklearn.tree import DecisionTreeClassifier\n",
    "from sklearn.naive_bayes import GaussianNB, MultinomialNB, BernoulliNB\n",
    "from sklearn.ensemble import RandomForestClassifier, GradientBoostingClassifier"
   ]
  },
  {
   "cell_type": "code",
   "execution_count": 69,
   "metadata": {},
   "outputs": [
    {
     "ename": "TypeError",
     "evalue": "__init__() got an unexpected keyword argument 'class_weight'",
     "output_type": "error",
     "traceback": [
      "\u001b[0;31m---------------------------------------------------------------------------\u001b[0m",
      "\u001b[0;31mTypeError\u001b[0m                                 Traceback (most recent call last)",
      "\u001b[0;32m<ipython-input-69-5399646ee889>\u001b[0m in \u001b[0;36m<module>\u001b[0;34m\u001b[0m\n\u001b[0;32m----> 1\u001b[0;31m \u001b[0mGradientBoostingClassifier\u001b[0m\u001b[0;34m(\u001b[0m\u001b[0mclass_weight\u001b[0m\u001b[0;34m=\u001b[0m\u001b[0;34m[\u001b[0m\u001b[0;36m0.5\u001b[0m\u001b[0;34m,\u001b[0m\u001b[0;36m0.5\u001b[0m\u001b[0;34m]\u001b[0m\u001b[0;34m)\u001b[0m\u001b[0;34m\u001b[0m\u001b[0;34m\u001b[0m\u001b[0m\n\u001b[0m",
      "\u001b[0;31mTypeError\u001b[0m: __init__() got an unexpected keyword argument 'class_weight'"
     ]
    }
   ],
   "source": [
    "GradientBoostingClassifier(class_weight=[0.5,0.5],)"
   ]
  },
  {
   "cell_type": "code",
   "execution_count": 65,
   "metadata": {},
   "outputs": [
    {
     "name": "stderr",
     "output_type": "stream",
     "text": [
      "\u001b[32m[I 2023-05-11 22:11:50,193]\u001b[0m A new study created in memory with name: no-name-0e4385fa-2257-49df-8023-9aee70f2f76b\u001b[0m\n",
      "\u001b[32m[I 2023-05-11 22:11:50,199]\u001b[0m Trial 0 finished with value: 0.9333333333333333 and parameters: {'max_depth': 7, 'min_samples_split': 6, 'min_samples_leaf': 3, 'max_features': 0.44355328055448917}. Best is trial 0 with value: 0.9333333333333333.\u001b[0m\n",
      "\u001b[32m[I 2023-05-11 22:11:50,202]\u001b[0m Trial 1 finished with value: 0.9666666666666667 and parameters: {'max_depth': 4, 'min_samples_split': 6, 'min_samples_leaf': 4, 'max_features': 0.629457471759617}. Best is trial 1 with value: 0.9666666666666667.\u001b[0m\n",
      "\u001b[32m[I 2023-05-11 22:11:50,204]\u001b[0m Trial 2 finished with value: 0.9666666666666667 and parameters: {'max_depth': 2, 'min_samples_split': 3, 'min_samples_leaf': 3, 'max_features': 0.6579060282263683}. Best is trial 1 with value: 0.9666666666666667.\u001b[0m\n",
      "\u001b[32m[I 2023-05-11 22:11:50,207]\u001b[0m Trial 3 finished with value: 0.9333333333333333 and parameters: {'max_depth': 10, 'min_samples_split': 9, 'min_samples_leaf': 2, 'max_features': 0.6943945871065286}. Best is trial 1 with value: 0.9666666666666667.\u001b[0m\n",
      "\u001b[32m[I 2023-05-11 22:11:50,209]\u001b[0m Trial 4 finished with value: 0.9333333333333333 and parameters: {'max_depth': 4, 'min_samples_split': 4, 'min_samples_leaf': 2, 'max_features': 0.47462581622288025}. Best is trial 1 with value: 0.9666666666666667.\u001b[0m\n",
      "\u001b[32m[I 2023-05-11 22:11:50,211]\u001b[0m Trial 5 finished with value: 1.0 and parameters: {'max_depth': 8, 'min_samples_split': 9, 'min_samples_leaf': 2, 'max_features': 0.8554793043850732}. Best is trial 5 with value: 1.0.\u001b[0m\n",
      "\u001b[32m[I 2023-05-11 22:11:50,213]\u001b[0m Trial 6 finished with value: 0.8 and parameters: {'max_depth': 2, 'min_samples_split': 7, 'min_samples_leaf': 5, 'max_features': 0.2716663986256857}. Best is trial 5 with value: 1.0.\u001b[0m\n",
      "\u001b[32m[I 2023-05-11 22:11:50,215]\u001b[0m Trial 7 finished with value: 0.9 and parameters: {'max_depth': 5, 'min_samples_split': 7, 'min_samples_leaf': 5, 'max_features': 0.25564262075614463}. Best is trial 5 with value: 1.0.\u001b[0m\n",
      "\u001b[32m[I 2023-05-11 22:11:50,216]\u001b[0m Trial 8 finished with value: 0.9333333333333333 and parameters: {'max_depth': 8, 'min_samples_split': 8, 'min_samples_leaf': 1, 'max_features': 0.3769207243990159}. Best is trial 5 with value: 1.0.\u001b[0m\n",
      "\u001b[32m[I 2023-05-11 22:11:50,218]\u001b[0m Trial 9 finished with value: 0.9666666666666667 and parameters: {'max_depth': 9, 'min_samples_split': 4, 'min_samples_leaf': 1, 'max_features': 0.9117433064278369}. Best is trial 5 with value: 1.0.\u001b[0m\n",
      "\u001b[32m[I 2023-05-11 22:11:50,238]\u001b[0m Trial 10 finished with value: 1.0 and parameters: {'max_depth': 7, 'min_samples_split': 10, 'min_samples_leaf': 2, 'max_features': 0.9880216008493291}. Best is trial 5 with value: 1.0.\u001b[0m\n",
      "\u001b[32m[I 2023-05-11 22:11:50,252]\u001b[0m Trial 11 finished with value: 1.0 and parameters: {'max_depth': 7, 'min_samples_split': 10, 'min_samples_leaf': 2, 'max_features': 0.9820334239724261}. Best is trial 5 with value: 1.0.\u001b[0m\n",
      "\u001b[32m[I 2023-05-11 22:11:50,266]\u001b[0m Trial 12 finished with value: 1.0 and parameters: {'max_depth': 6, 'min_samples_split': 10, 'min_samples_leaf': 2, 'max_features': 0.8380444874551557}. Best is trial 5 with value: 1.0.\u001b[0m\n",
      "\u001b[32m[I 2023-05-11 22:11:50,279]\u001b[0m Trial 13 finished with value: 1.0 and parameters: {'max_depth': 8, 'min_samples_split': 9, 'min_samples_leaf': 1, 'max_features': 0.9999158342272015}. Best is trial 5 with value: 1.0.\u001b[0m\n",
      "\u001b[32m[I 2023-05-11 22:11:50,295]\u001b[0m Trial 14 finished with value: 1.0 and parameters: {'max_depth': 10, 'min_samples_split': 10, 'min_samples_leaf': 3, 'max_features': 0.8011326692612148}. Best is trial 5 with value: 1.0.\u001b[0m\n",
      "\u001b[32m[I 2023-05-11 22:11:50,309]\u001b[0m Trial 15 finished with value: 1.0 and parameters: {'max_depth': 8, 'min_samples_split': 8, 'min_samples_leaf': 4, 'max_features': 0.7964502874931784}. Best is trial 5 with value: 1.0.\u001b[0m\n",
      "\u001b[32m[I 2023-05-11 22:11:50,325]\u001b[0m Trial 16 finished with value: 1.0 and parameters: {'max_depth': 6, 'min_samples_split': 9, 'min_samples_leaf': 2, 'max_features': 0.9000160001268147}. Best is trial 5 with value: 1.0.\u001b[0m\n",
      "\u001b[32m[I 2023-05-11 22:11:50,340]\u001b[0m Trial 17 finished with value: 0.9666666666666667 and parameters: {'max_depth': 9, 'min_samples_split': 8, 'min_samples_leaf': 4, 'max_features': 0.7429773286160725}. Best is trial 5 with value: 1.0.\u001b[0m\n",
      "\u001b[32m[I 2023-05-11 22:11:50,354]\u001b[0m Trial 18 finished with value: 0.9 and parameters: {'max_depth': 7, 'min_samples_split': 5, 'min_samples_leaf': 1, 'max_features': 0.10396321873136966}. Best is trial 5 with value: 1.0.\u001b[0m\n",
      "\u001b[32m[I 2023-05-11 22:11:50,368]\u001b[0m Trial 19 finished with value: 1.0 and parameters: {'max_depth': 5, 'min_samples_split': 10, 'min_samples_leaf': 2, 'max_features': 0.8990911694781933}. Best is trial 5 with value: 1.0.\u001b[0m\n",
      "\u001b[32m[I 2023-05-11 22:11:50,382]\u001b[0m Trial 20 finished with value: 0.9666666666666667 and parameters: {'max_depth': 9, 'min_samples_split': 2, 'min_samples_leaf': 3, 'max_features': 0.582433294243629}. Best is trial 5 with value: 1.0.\u001b[0m\n",
      "\u001b[32m[I 2023-05-11 22:11:50,397]\u001b[0m Trial 21 finished with value: 1.0 and parameters: {'max_depth': 7, 'min_samples_split': 10, 'min_samples_leaf': 2, 'max_features': 0.9665355989168338}. Best is trial 5 with value: 1.0.\u001b[0m\n",
      "\u001b[32m[I 2023-05-11 22:11:50,412]\u001b[0m Trial 22 finished with value: 1.0 and parameters: {'max_depth': 7, 'min_samples_split': 9, 'min_samples_leaf': 2, 'max_features': 0.9933236153144469}. Best is trial 5 with value: 1.0.\u001b[0m\n",
      "\u001b[32m[I 2023-05-11 22:11:50,428]\u001b[0m Trial 23 finished with value: 1.0 and parameters: {'max_depth': 8, 'min_samples_split': 10, 'min_samples_leaf': 1, 'max_features': 0.9040653593811911}. Best is trial 5 with value: 1.0.\u001b[0m\n",
      "\u001b[32m[I 2023-05-11 22:11:50,444]\u001b[0m Trial 24 finished with value: 1.0 and parameters: {'max_depth': 6, 'min_samples_split': 9, 'min_samples_leaf': 2, 'max_features': 0.8457711474757077}. Best is trial 5 with value: 1.0.\u001b[0m\n",
      "\u001b[32m[I 2023-05-11 22:11:50,459]\u001b[0m Trial 25 finished with value: 0.9666666666666667 and parameters: {'max_depth': 5, 'min_samples_split': 8, 'min_samples_leaf': 3, 'max_features': 0.7268487451991101}. Best is trial 5 with value: 1.0.\u001b[0m\n",
      "\u001b[32m[I 2023-05-11 22:11:50,474]\u001b[0m Trial 26 finished with value: 1.0 and parameters: {'max_depth': 7, 'min_samples_split': 7, 'min_samples_leaf': 2, 'max_features': 0.9478449130606698}. Best is trial 5 with value: 1.0.\u001b[0m\n",
      "\u001b[32m[I 2023-05-11 22:11:50,489]\u001b[0m Trial 27 finished with value: 1.0 and parameters: {'max_depth': 9, 'min_samples_split': 10, 'min_samples_leaf': 3, 'max_features': 0.771084620766699}. Best is trial 5 with value: 1.0.\u001b[0m\n",
      "\u001b[32m[I 2023-05-11 22:11:50,506]\u001b[0m Trial 28 finished with value: 1.0 and parameters: {'max_depth': 8, 'min_samples_split': 9, 'min_samples_leaf': 1, 'max_features': 0.8638571768331599}. Best is trial 5 with value: 1.0.\u001b[0m\n",
      "\u001b[32m[I 2023-05-11 22:11:50,522]\u001b[0m Trial 29 finished with value: 1.0 and parameters: {'max_depth': 6, 'min_samples_split': 6, 'min_samples_leaf': 3, 'max_features': 0.9473722543729834}. Best is trial 5 with value: 1.0.\u001b[0m\n",
      "\u001b[32m[I 2023-05-11 22:11:50,537]\u001b[0m Trial 30 finished with value: 1.0 and parameters: {'max_depth': 7, 'min_samples_split': 8, 'min_samples_leaf': 2, 'max_features': 0.8120569493632758}. Best is trial 5 with value: 1.0.\u001b[0m\n",
      "\u001b[32m[I 2023-05-11 22:11:50,554]\u001b[0m Trial 31 finished with value: 1.0 and parameters: {'max_depth': 6, 'min_samples_split': 10, 'min_samples_leaf': 2, 'max_features': 0.8429820387233821}. Best is trial 5 with value: 1.0.\u001b[0m\n",
      "\u001b[32m[I 2023-05-11 22:11:50,573]\u001b[0m Trial 32 finished with value: 1.0 and parameters: {'max_depth': 7, 'min_samples_split': 10, 'min_samples_leaf': 2, 'max_features': 0.9478423944647438}. Best is trial 5 with value: 1.0.\u001b[0m\n",
      "\u001b[32m[I 2023-05-11 22:11:50,590]\u001b[0m Trial 33 finished with value: 1.0 and parameters: {'max_depth': 4, 'min_samples_split': 9, 'min_samples_leaf': 3, 'max_features': 0.8599571419902057}. Best is trial 5 with value: 1.0.\u001b[0m\n",
      "\u001b[32m[I 2023-05-11 22:11:50,607]\u001b[0m Trial 34 finished with value: 0.9333333333333333 and parameters: {'max_depth': 5, 'min_samples_split': 10, 'min_samples_leaf': 2, 'max_features': 0.6857363042268084}. Best is trial 5 with value: 1.0.\u001b[0m\n",
      "\u001b[32m[I 2023-05-11 22:11:50,623]\u001b[0m Trial 35 finished with value: 1.0 and parameters: {'max_depth': 6, 'min_samples_split': 9, 'min_samples_leaf': 1, 'max_features': 0.9886780798977604}. Best is trial 5 with value: 1.0.\u001b[0m\n",
      "\u001b[32m[I 2023-05-11 22:11:50,640]\u001b[0m Trial 36 finished with value: 0.9333333333333333 and parameters: {'max_depth': 3, 'min_samples_split': 10, 'min_samples_leaf': 2, 'max_features': 0.7464491408514144}. Best is trial 5 with value: 1.0.\u001b[0m\n",
      "\u001b[32m[I 2023-05-11 22:11:50,655]\u001b[0m Trial 37 finished with value: 0.9666666666666667 and parameters: {'max_depth': 7, 'min_samples_split': 9, 'min_samples_leaf': 3, 'max_features': 0.6353915793098582}. Best is trial 5 with value: 1.0.\u001b[0m\n",
      "\u001b[32m[I 2023-05-11 22:11:50,673]\u001b[0m Trial 38 finished with value: 1.0 and parameters: {'max_depth': 8, 'min_samples_split': 7, 'min_samples_leaf': 2, 'max_features': 0.9253952750129727}. Best is trial 5 with value: 1.0.\u001b[0m\n",
      "\u001b[32m[I 2023-05-11 22:11:50,693]\u001b[0m Trial 39 finished with value: 0.9666666666666667 and parameters: {'max_depth': 10, 'min_samples_split': 5, 'min_samples_leaf': 1, 'max_features': 0.8719535165041978}. Best is trial 5 with value: 1.0.\u001b[0m\n",
      "\u001b[32m[I 2023-05-11 22:11:50,710]\u001b[0m Trial 40 finished with value: 1.0 and parameters: {'max_depth': 6, 'min_samples_split': 8, 'min_samples_leaf': 4, 'max_features': 0.8162405127504297}. Best is trial 5 with value: 1.0.\u001b[0m\n",
      "\u001b[32m[I 2023-05-11 22:11:50,727]\u001b[0m Trial 41 finished with value: 1.0 and parameters: {'max_depth': 8, 'min_samples_split': 9, 'min_samples_leaf': 1, 'max_features': 0.999339609682375}. Best is trial 5 with value: 1.0.\u001b[0m\n",
      "\u001b[32m[I 2023-05-11 22:11:50,744]\u001b[0m Trial 42 finished with value: 1.0 and parameters: {'max_depth': 8, 'min_samples_split': 10, 'min_samples_leaf': 1, 'max_features': 0.996817108900242}. Best is trial 5 with value: 1.0.\u001b[0m\n",
      "\u001b[32m[I 2023-05-11 22:11:50,761]\u001b[0m Trial 43 finished with value: 1.0 and parameters: {'max_depth': 9, 'min_samples_split': 9, 'min_samples_leaf': 1, 'max_features': 0.9356684536324406}. Best is trial 5 with value: 1.0.\u001b[0m\n",
      "\u001b[32m[I 2023-05-11 22:11:50,778]\u001b[0m Trial 44 finished with value: 1.0 and parameters: {'max_depth': 7, 'min_samples_split': 10, 'min_samples_leaf': 2, 'max_features': 0.9010104762986876}. Best is trial 5 with value: 1.0.\u001b[0m\n",
      "\u001b[32m[I 2023-05-11 22:11:50,795]\u001b[0m Trial 45 finished with value: 1.0 and parameters: {'max_depth': 8, 'min_samples_split': 9, 'min_samples_leaf': 2, 'max_features': 0.9579419417237033}. Best is trial 5 with value: 1.0.\u001b[0m\n",
      "\u001b[32m[I 2023-05-11 22:11:50,813]\u001b[0m Trial 46 finished with value: 1.0 and parameters: {'max_depth': 6, 'min_samples_split': 7, 'min_samples_leaf': 5, 'max_features': 0.8836781673391052}. Best is trial 5 with value: 1.0.\u001b[0m\n",
      "\u001b[32m[I 2023-05-11 22:11:50,829]\u001b[0m Trial 47 finished with value: 1.0 and parameters: {'max_depth': 8, 'min_samples_split': 8, 'min_samples_leaf': 1, 'max_features': 0.9228828044295772}. Best is trial 5 with value: 1.0.\u001b[0m\n",
      "\u001b[32m[I 2023-05-11 22:11:50,846]\u001b[0m Trial 48 finished with value: 1.0 and parameters: {'max_depth': 9, 'min_samples_split': 10, 'min_samples_leaf': 3, 'max_features': 0.8352454017526167}. Best is trial 5 with value: 1.0.\u001b[0m\n",
      "\u001b[32m[I 2023-05-11 22:11:50,863]\u001b[0m Trial 49 finished with value: 0.9666666666666667 and parameters: {'max_depth': 10, 'min_samples_split': 3, 'min_samples_leaf': 2, 'max_features': 0.7803294982376344}. Best is trial 5 with value: 1.0.\u001b[0m\n",
      "\u001b[32m[I 2023-05-11 22:11:50,880]\u001b[0m Trial 50 finished with value: 1.0 and parameters: {'max_depth': 7, 'min_samples_split': 8, 'min_samples_leaf': 1, 'max_features': 0.9618047342807399}. Best is trial 5 with value: 1.0.\u001b[0m\n",
      "\u001b[32m[I 2023-05-11 22:11:50,898]\u001b[0m Trial 51 finished with value: 1.0 and parameters: {'max_depth': 10, 'min_samples_split': 10, 'min_samples_leaf': 4, 'max_features': 0.7993953672328667}. Best is trial 5 with value: 1.0.\u001b[0m\n",
      "\u001b[32m[I 2023-05-11 22:11:50,916]\u001b[0m Trial 52 finished with value: 1.0 and parameters: {'max_depth': 9, 'min_samples_split': 9, 'min_samples_leaf': 3, 'max_features': 0.8892632996432162}. Best is trial 5 with value: 1.0.\u001b[0m\n",
      "\u001b[32m[I 2023-05-11 22:11:50,932]\u001b[0m Trial 53 finished with value: 1.0 and parameters: {'max_depth': 5, 'min_samples_split': 10, 'min_samples_leaf': 4, 'max_features': 0.917931358530961}. Best is trial 5 with value: 1.0.\u001b[0m\n",
      "\u001b[32m[I 2023-05-11 22:11:50,950]\u001b[0m Trial 54 finished with value: 1.0 and parameters: {'max_depth': 7, 'min_samples_split': 9, 'min_samples_leaf': 3, 'max_features': 0.8491301847611914}. Best is trial 5 with value: 1.0.\u001b[0m\n",
      "\u001b[32m[I 2023-05-11 22:11:50,967]\u001b[0m Trial 55 finished with value: 0.9333333333333333 and parameters: {'max_depth': 10, 'min_samples_split': 10, 'min_samples_leaf': 2, 'max_features': 0.7096264589214238}. Best is trial 5 with value: 1.0.\u001b[0m\n",
      "\u001b[32m[I 2023-05-11 22:11:50,984]\u001b[0m Trial 56 finished with value: 1.0 and parameters: {'max_depth': 9, 'min_samples_split': 10, 'min_samples_leaf': 2, 'max_features': 0.7713892442798401}. Best is trial 5 with value: 1.0.\u001b[0m\n",
      "\u001b[32m[I 2023-05-11 22:11:51,001]\u001b[0m Trial 57 finished with value: 1.0 and parameters: {'max_depth': 8, 'min_samples_split': 9, 'min_samples_leaf': 3, 'max_features': 0.9776166484413128}. Best is trial 5 with value: 1.0.\u001b[0m\n",
      "\u001b[32m[I 2023-05-11 22:11:51,018]\u001b[0m Trial 58 finished with value: 0.9666666666666667 and parameters: {'max_depth': 4, 'min_samples_split': 5, 'min_samples_leaf': 2, 'max_features': 0.8810271976261501}. Best is trial 5 with value: 1.0.\u001b[0m\n",
      "\u001b[32m[I 2023-05-11 22:11:51,036]\u001b[0m Trial 59 finished with value: 1.0 and parameters: {'max_depth': 6, 'min_samples_split': 10, 'min_samples_leaf': 3, 'max_features': 0.9624093745418356}. Best is trial 5 with value: 1.0.\u001b[0m\n",
      "\u001b[32m[I 2023-05-11 22:11:51,052]\u001b[0m Trial 60 finished with value: 1.0 and parameters: {'max_depth': 7, 'min_samples_split': 9, 'min_samples_leaf': 2, 'max_features': 0.8245582709961947}. Best is trial 5 with value: 1.0.\u001b[0m\n",
      "\u001b[32m[I 2023-05-11 22:11:51,070]\u001b[0m Trial 61 finished with value: 1.0 and parameters: {'max_depth': 8, 'min_samples_split': 8, 'min_samples_leaf': 4, 'max_features': 0.9057458842465085}. Best is trial 5 with value: 1.0.\u001b[0m\n",
      "\u001b[32m[I 2023-05-11 22:11:51,089]\u001b[0m Trial 62 finished with value: 1.0 and parameters: {'max_depth': 9, 'min_samples_split': 10, 'min_samples_leaf': 5, 'max_features': 0.7506457244911529}. Best is trial 5 with value: 1.0.\u001b[0m\n",
      "\u001b[32m[I 2023-05-11 22:11:51,112]\u001b[0m Trial 63 finished with value: 1.0 and parameters: {'max_depth': 7, 'min_samples_split': 9, 'min_samples_leaf': 4, 'max_features': 0.7996060978808971}. Best is trial 5 with value: 1.0.\u001b[0m\n",
      "\u001b[32m[I 2023-05-11 22:11:51,131]\u001b[0m Trial 64 finished with value: 1.0 and parameters: {'max_depth': 8, 'min_samples_split': 8, 'min_samples_leaf': 4, 'max_features': 0.8545972249117811}. Best is trial 5 with value: 1.0.\u001b[0m\n",
      "\u001b[32m[I 2023-05-11 22:11:51,150]\u001b[0m Trial 65 finished with value: 1.0 and parameters: {'max_depth': 6, 'min_samples_split': 9, 'min_samples_leaf': 3, 'max_features': 0.9347135716559151}. Best is trial 5 with value: 1.0.\u001b[0m\n",
      "\u001b[32m[I 2023-05-11 22:11:51,168]\u001b[0m Trial 66 finished with value: 1.0 and parameters: {'max_depth': 7, 'min_samples_split': 10, 'min_samples_leaf': 2, 'max_features': 0.9851509398875561}. Best is trial 5 with value: 1.0.\u001b[0m\n",
      "\u001b[32m[I 2023-05-11 22:11:51,186]\u001b[0m Trial 67 finished with value: 0.9666666666666667 and parameters: {'max_depth': 8, 'min_samples_split': 10, 'min_samples_leaf': 5, 'max_features': 0.7218552084049232}. Best is trial 5 with value: 1.0.\u001b[0m\n",
      "\u001b[32m[I 2023-05-11 22:11:51,204]\u001b[0m Trial 68 finished with value: 0.9333333333333333 and parameters: {'max_depth': 7, 'min_samples_split': 9, 'min_samples_leaf': 2, 'max_features': 0.6743444695669824}. Best is trial 5 with value: 1.0.\u001b[0m\n",
      "\u001b[32m[I 2023-05-11 22:11:51,221]\u001b[0m Trial 69 finished with value: 1.0 and parameters: {'max_depth': 6, 'min_samples_split': 8, 'min_samples_leaf': 1, 'max_features': 0.8778014680441107}. Best is trial 5 with value: 1.0.\u001b[0m\n",
      "\u001b[32m[I 2023-05-11 22:11:51,239]\u001b[0m Trial 70 finished with value: 0.9666666666666667 and parameters: {'max_depth': 2, 'min_samples_split': 7, 'min_samples_leaf': 3, 'max_features': 0.9390732436536124}. Best is trial 5 with value: 1.0.\u001b[0m\n",
      "\u001b[32m[I 2023-05-11 22:11:51,257]\u001b[0m Trial 71 finished with value: 1.0 and parameters: {'max_depth': 6, 'min_samples_split': 9, 'min_samples_leaf': 2, 'max_features': 0.9085504080144734}. Best is trial 5 with value: 1.0.\u001b[0m\n",
      "\u001b[32m[I 2023-05-11 22:11:51,275]\u001b[0m Trial 72 finished with value: 1.0 and parameters: {'max_depth': 5, 'min_samples_split': 10, 'min_samples_leaf': 2, 'max_features': 0.9706885634252177}. Best is trial 5 with value: 1.0.\u001b[0m\n",
      "\u001b[32m[I 2023-05-11 22:11:51,292]\u001b[0m Trial 73 finished with value: 1.0 and parameters: {'max_depth': 7, 'min_samples_split': 10, 'min_samples_leaf': 2, 'max_features': 0.9981438251083775}. Best is trial 5 with value: 1.0.\u001b[0m\n",
      "\u001b[32m[I 2023-05-11 22:11:51,310]\u001b[0m Trial 74 finished with value: 1.0 and parameters: {'max_depth': 6, 'min_samples_split': 9, 'min_samples_leaf': 2, 'max_features': 0.8244876394927743}. Best is trial 5 with value: 1.0.\u001b[0m\n",
      "\u001b[32m[I 2023-05-11 22:11:51,328]\u001b[0m Trial 75 finished with value: 1.0 and parameters: {'max_depth': 8, 'min_samples_split': 9, 'min_samples_leaf': 1, 'max_features': 0.8556500030600199}. Best is trial 5 with value: 1.0.\u001b[0m\n",
      "\u001b[32m[I 2023-05-11 22:11:51,346]\u001b[0m Trial 76 finished with value: 1.0 and parameters: {'max_depth': 5, 'min_samples_split': 10, 'min_samples_leaf': 2, 'max_features': 0.9473182215450867}. Best is trial 5 with value: 1.0.\u001b[0m\n",
      "\u001b[32m[I 2023-05-11 22:11:51,364]\u001b[0m Trial 77 finished with value: 1.0 and parameters: {'max_depth': 7, 'min_samples_split': 10, 'min_samples_leaf': 2, 'max_features': 0.8872008124385637}. Best is trial 5 with value: 1.0.\u001b[0m\n",
      "\u001b[32m[I 2023-05-11 22:11:51,384]\u001b[0m Trial 78 finished with value: 1.0 and parameters: {'max_depth': 9, 'min_samples_split': 2, 'min_samples_leaf': 3, 'max_features': 0.9155149712909088}. Best is trial 5 with value: 1.0.\u001b[0m\n",
      "\u001b[32m[I 2023-05-11 22:11:51,404]\u001b[0m Trial 79 finished with value: 1.0 and parameters: {'max_depth': 6, 'min_samples_split': 8, 'min_samples_leaf': 1, 'max_features': 0.7974491603757422}. Best is trial 5 with value: 1.0.\u001b[0m\n",
      "\u001b[32m[I 2023-05-11 22:11:51,422]\u001b[0m Trial 80 finished with value: 1.0 and parameters: {'max_depth': 8, 'min_samples_split': 7, 'min_samples_leaf': 2, 'max_features': 0.8352431249082355}. Best is trial 5 with value: 1.0.\u001b[0m\n",
      "\u001b[32m[I 2023-05-11 22:11:51,441]\u001b[0m Trial 81 finished with value: 1.0 and parameters: {'max_depth': 5, 'min_samples_split': 10, 'min_samples_leaf': 2, 'max_features': 0.8653001818384153}. Best is trial 5 with value: 1.0.\u001b[0m\n",
      "\u001b[32m[I 2023-05-11 22:11:51,458]\u001b[0m Trial 82 finished with value: 1.0 and parameters: {'max_depth': 4, 'min_samples_split': 6, 'min_samples_leaf': 2, 'max_features': 0.9550250116821712}. Best is trial 5 with value: 1.0.\u001b[0m\n",
      "\u001b[32m[I 2023-05-11 22:11:51,477]\u001b[0m Trial 83 finished with value: 1.0 and parameters: {'max_depth': 5, 'min_samples_split': 10, 'min_samples_leaf': 2, 'max_features': 0.9242934215297195}. Best is trial 5 with value: 1.0.\u001b[0m\n",
      "\u001b[32m[I 2023-05-11 22:11:51,494]\u001b[0m Trial 84 finished with value: 1.0 and parameters: {'max_depth': 6, 'min_samples_split': 9, 'min_samples_leaf': 2, 'max_features': 0.8941473146633356}. Best is trial 5 with value: 1.0.\u001b[0m\n",
      "\u001b[32m[I 2023-05-11 22:11:51,512]\u001b[0m Trial 85 finished with value: 1.0 and parameters: {'max_depth': 10, 'min_samples_split': 10, 'min_samples_leaf': 1, 'max_features': 0.9823672712563473}. Best is trial 5 with value: 1.0.\u001b[0m\n",
      "\u001b[32m[I 2023-05-11 22:11:51,531]\u001b[0m Trial 86 finished with value: 1.0 and parameters: {'max_depth': 9, 'min_samples_split': 9, 'min_samples_leaf': 3, 'max_features': 0.960667304623817}. Best is trial 5 with value: 1.0.\u001b[0m\n",
      "\u001b[32m[I 2023-05-11 22:11:51,550]\u001b[0m Trial 87 finished with value: 1.0 and parameters: {'max_depth': 8, 'min_samples_split': 10, 'min_samples_leaf': 2, 'max_features': 0.9014651808808837}. Best is trial 5 with value: 1.0.\u001b[0m\n",
      "\u001b[32m[I 2023-05-11 22:11:51,568]\u001b[0m Trial 88 finished with value: 1.0 and parameters: {'max_depth': 3, 'min_samples_split': 9, 'min_samples_leaf': 4, 'max_features': 0.934273344634762}. Best is trial 5 with value: 1.0.\u001b[0m\n",
      "\u001b[32m[I 2023-05-11 22:11:51,587]\u001b[0m Trial 89 finished with value: 1.0 and parameters: {'max_depth': 5, 'min_samples_split': 10, 'min_samples_leaf': 2, 'max_features': 0.8638999507920713}. Best is trial 5 with value: 1.0.\u001b[0m\n",
      "\u001b[32m[I 2023-05-11 22:11:51,606]\u001b[0m Trial 90 finished with value: 1.0 and parameters: {'max_depth': 7, 'min_samples_split': 6, 'min_samples_leaf': 1, 'max_features': 0.8399640978969042}. Best is trial 5 with value: 1.0.\u001b[0m\n",
      "\u001b[32m[I 2023-05-11 22:11:51,626]\u001b[0m Trial 91 finished with value: 1.0 and parameters: {'max_depth': 7, 'min_samples_split': 10, 'min_samples_leaf': 2, 'max_features': 0.9702300844775662}. Best is trial 5 with value: 1.0.\u001b[0m\n",
      "\u001b[32m[I 2023-05-11 22:11:51,645]\u001b[0m Trial 92 finished with value: 1.0 and parameters: {'max_depth': 6, 'min_samples_split': 10, 'min_samples_leaf': 2, 'max_features': 0.9997518713816709}. Best is trial 5 with value: 1.0.\u001b[0m\n",
      "\u001b[32m[I 2023-05-11 22:11:51,664]\u001b[0m Trial 93 finished with value: 1.0 and parameters: {'max_depth': 7, 'min_samples_split': 9, 'min_samples_leaf': 2, 'max_features': 0.942119301279723}. Best is trial 5 with value: 1.0.\u001b[0m\n",
      "\u001b[32m[I 2023-05-11 22:11:51,683]\u001b[0m Trial 94 finished with value: 1.0 and parameters: {'max_depth': 6, 'min_samples_split': 10, 'min_samples_leaf': 3, 'max_features': 0.9751716068096146}. Best is trial 5 with value: 1.0.\u001b[0m\n",
      "\u001b[32m[I 2023-05-11 22:11:51,702]\u001b[0m Trial 95 finished with value: 0.9666666666666667 and parameters: {'max_depth': 8, 'min_samples_split': 4, 'min_samples_leaf': 2, 'max_features': 0.9228393726759963}. Best is trial 5 with value: 1.0.\u001b[0m\n",
      "\u001b[32m[I 2023-05-11 22:11:51,721]\u001b[0m Trial 96 finished with value: 1.0 and parameters: {'max_depth': 7, 'min_samples_split': 10, 'min_samples_leaf': 2, 'max_features': 0.895000179827633}. Best is trial 5 with value: 1.0.\u001b[0m\n",
      "\u001b[32m[I 2023-05-11 22:11:51,740]\u001b[0m Trial 97 finished with value: 1.0 and parameters: {'max_depth': 8, 'min_samples_split': 9, 'min_samples_leaf': 2, 'max_features': 0.8768501468869742}. Best is trial 5 with value: 1.0.\u001b[0m\n",
      "\u001b[32m[I 2023-05-11 22:11:51,759]\u001b[0m Trial 98 finished with value: 1.0 and parameters: {'max_depth': 7, 'min_samples_split': 10, 'min_samples_leaf': 3, 'max_features': 0.8125110680221075}. Best is trial 5 with value: 1.0.\u001b[0m\n",
      "\u001b[32m[I 2023-05-11 22:11:51,777]\u001b[0m Trial 99 finished with value: 1.0 and parameters: {'max_depth': 5, 'min_samples_split': 8, 'min_samples_leaf': 1, 'max_features': 0.9496273347969331}. Best is trial 5 with value: 1.0.\u001b[0m\n"
     ]
    },
    {
     "name": "stdout",
     "output_type": "stream",
     "text": [
      "Best score: 1.0000\n",
      "Best parameters:\n",
      "  max_depth: 8\n",
      "  min_samples_split: 9\n",
      "  min_samples_leaf: 2\n",
      "  max_features: 0.8554793043850732\n"
     ]
    }
   ],
   "source": [
    "import optuna\n",
    "from sklearn.tree import DecisionTreeClassifier\n",
    "from sklearn.datasets import load_iris\n",
    "from sklearn.model_selection import train_test_split\n",
    "\n",
    "# 加载数据集\n",
    "iris = load_iris()\n",
    "X = iris.data\n",
    "y = iris.target\n",
    "\n",
    "# 划分训练集和测试集\n",
    "X_train, X_test, y_train, y_test = train_test_split(X, y, test_size=0.2, random_state=0)\n",
    "\n",
    "def objective(trial):\n",
    "    # 定义决策树模型\n",
    "    clf = DecisionTreeClassifier(\n",
    "        criterion='entropy',  # 划分标准\n",
    "        max_depth=trial.suggest_int('max_depth', 2, 10),  # 树的最大深度\n",
    "        min_samples_split=trial.suggest_int('min_samples_split', 2, 10),  # 节点划分的最小样本数\n",
    "        min_samples_leaf=trial.suggest_int('min_samples_leaf', 1, 5),  # 叶节点最少样本数\n",
    "        max_features=trial.suggest_float('max_features', 0.1, 1.0),  # 最大特征数\n",
    "        random_state=0,\n",
    "    )\n",
    "\n",
    "    # 训练模型\n",
    "    clf.fit(X_train, y_train)\n",
    "\n",
    "    # 计算模型在测试集上的准确率\n",
    "    score = clf.score(X_test, y_test)\n",
    "\n",
    "    # 返回模型准确率作为目标函数的值\n",
    "    return score\n",
    "\n",
    "# 创建study对象，指定搜索算法\n",
    "study = optuna.create_study(direction='maximize')\n",
    "\n",
    "# 启动搜索过程，指定搜索次数\n",
    "study.optimize(objective, n_trials=100)\n",
    "\n",
    "# 打印最优参数和最优分数\n",
    "print(f\"Best score: {study.best_value:.4f}\")\n",
    "print(\"Best parameters:\")\n",
    "for name, value in study.best_params.items():\n",
    "    print(f\"  {name}: {value}\")\n"
   ]
  },
  {
   "cell_type": "code",
   "execution_count": 4,
   "metadata": {},
   "outputs": [
    {
     "name": "stdout",
     "output_type": "stream",
     "text": [
      "(1797, 64)\n"
     ]
    },
    {
     "name": "stderr",
     "output_type": "stream",
     "text": [
      "/Applications/anaconda3/lib/python3.7/site-packages/sklearn/manifold/_t_sne.py:783: FutureWarning: The default initialization in TSNE will change from 'random' to 'pca' in 1.2.\n",
      "  FutureWarning,\n",
      "/Applications/anaconda3/lib/python3.7/site-packages/sklearn/manifold/_t_sne.py:793: FutureWarning: The default learning rate in TSNE will change from 200.0 to 'auto' in 1.2.\n",
      "  FutureWarning,\n"
     ]
    },
    {
     "data": {
      "image/png": "[encoded data removed]",
      "text/plain": [
       "<Figure size 576x576 with 1 Axes>"
      ]
     },
     "metadata": {
      "needs_background": "light"
     },
     "output_type": "display_data"
    },
    {
     "data": {
      "text/plain": [
       "(<Figure size 576x576 with 1 Axes>,\n",
       " <matplotlib.axes._subplots.AxesSubplot at 0x7fb9e8eb7630>,\n",
       " [Text(3.6231205, 64.51194, '0'),\n",
       "  Text(-7.107086, 3.9068456, '1'),\n",
       "  Text(-27.948048, -38.307602, '2'),\n",
       "  Text(9.096415, -44.500793, '3'),\n",
       "  Text(-30.327568, 35.932743, '4'),\n",
       "  Text(33.579247, -2.3884587, '5'),\n",
       "  Text(35.471077, 32.73103, '6'),\n",
       "  Text(-45.513237, -0.31322768, '7'),\n",
       "  Text(0.8642095, -16.00186, '8'),\n",
       "  Text(28.0027, -29.439379, '9')])"
      ]
     },
     "execution_count": 4,
     "metadata": {},
     "output_type": "execute_result"
    }
   ],
   "source": [
    "import numpy as np\n",
    "\n",
    "from sklearn.manifold import TSNE\n",
    "# For the UCI ML handwritten digits dataset\n",
    "from sklearn.datasets import load_digits\n",
    "\n",
    "# Import matplotlib for plotting graphs ans seaborn for attractive graphics.\n",
    "import matplotlib.pyplot as plt\n",
    "import matplotlib.patheffects as pe\n",
    "import seaborn as sns\n",
    "\n",
    "def plot(x, colors):\n",
    "    # Choosing color palette\n",
    "    # https://seaborn.pydata.org/generated/seaborn.color_palette.html\n",
    "    palette = np.array(sns.color_palette(\"pastel\", 10))\n",
    "    # pastel, husl, and so on\n",
    "\n",
    "    # Create a scatter plot.\n",
    "    f = plt.figure(figsize=(8, 8))\n",
    "    ax = plt.subplot(aspect='equal')\n",
    "    sc = ax.scatter(x[:,0], x[:,1], lw=0, s=40, c=palette[colors.astype(np.int8)])\n",
    "    # Add the labels for each digit.\n",
    "    txts = []\n",
    "    for i in range(10):\n",
    "        # Position of each label.\n",
    "        xtext, ytext = np.median(x[colors == i, :], axis=0)\n",
    "        txt = ax.text(xtext, ytext, str(i), fontsize=24)\n",
    "        txt.set_path_effects([pe.Stroke(linewidth=5, foreground=\"w\"), pe.Normal()])\n",
    "        txts.append(txt)\n",
    "    plt.show()\n",
    "    # plt.savefig('./digits_tsne-pastel.png', dpi=120)\n",
    "    return f, ax, txts\n",
    "\n",
    "\n",
    "digits = load_digits()\n",
    "print(digits.data.shape)\n",
    "# There are 10 classes (0 to 9) with alomst 180 images in each class \n",
    "# The images are 8x8 and hence 64 pixels(dimensions)\n",
    "\n",
    "# Place the arrays of data of each digit on top of each other and store in X\n",
    "X = np.vstack([digits.data[digits.target==i] for i in range(10)])\n",
    "# Place the arrays of data of each target digit by the side of each other continuosly and store in Y\n",
    "Y = np.hstack([digits.target[digits.target==i] for i in range(10)])\n",
    "\n",
    "# Implementing the TSNE Function - ah Scikit learn makes it so easy!\n",
    "digits_final = TSNE(perplexity=30).fit_transform(X) \n",
    "# Play around with varying the parameters like perplexity, random_state to get different plots\n",
    "\n",
    "plot(digits_final, Y)\n"
   ]
  },
  {
   "cell_type": "code",
   "execution_count": 56,
   "metadata": {},
   "outputs": [],
   "source": [
    "from sklearn.manifold import TSNE\n",
    "import matplotlib.pyplot as plt\n",
    "\n",
    "X = np.load('results/base-han_5e-05_0.0_0.001_[2, 2]_256_30_[]_512_64_None_2023-05-25/output_2020.npy')\n"
   ]
  },
  {
   "cell_type": "code",
   "execution_count": 11,
   "metadata": {},
   "outputs": [
    {
     "data": {
      "text/plain": [
       "tensor([1, 0, 1,  ..., 0, 1, 0])"
      ]
     },
     "execution_count": 11,
     "metadata": {},
     "output_type": "execute_result"
    }
   ],
   "source": [
    "corp_data = torch.load('ChinaCorp_1x.pt')\n",
    "corp_data['label']"
   ]
  },
  {
   "cell_type": "code",
   "execution_count": 12,
   "metadata": {},
   "outputs": [
    {
     "data": {
      "text/plain": [
       "dict_keys(['label', 'split_idx', 'fin_ratio', 'nonfin_ratio', 'mda', 'fin_seq', 'nonfin_seq', 'mda_seq', 'node_seq', 'seq_len', 'graphs'])"
      ]
     },
     "execution_count": 12,
     "metadata": {},
     "output_type": "execute_result"
    }
   ],
   "source": [
    "corp_data.keys()"
   ]
  },
  {
   "cell_type": "code",
   "execution_count": 71,
   "metadata": {},
   "outputs": [],
   "source": [
    "test_idx = corp_data['split_idx']['test']\n",
    "Y_true_test = corp_data['label'][test_idx].numpy()\n",
    "\n",
    "normal_idxs = (Y_true_test == 0)\n",
    "abnorm_idxs = (Y_true_test == 1)\n"
   ]
  },
  {
   "cell_type": "code",
   "execution_count": 73,
   "metadata": {},
   "outputs": [
    {
     "name": "stderr",
     "output_type": "stream",
     "text": [
      "/Applications/anaconda3/lib/python3.7/site-packages/sklearn/manifold/_t_sne.py:986: FutureWarning: The PCA initialization in TSNE will change to have the standard deviation of PC1 equal to 1e-4 in 1.2. This will ensure better convergence.\n",
      "  FutureWarning,\n"
     ]
    },
    {
     "data": {
      "image/png": "[encoded data removed]",
      "text/plain": [
       "<Figure size 432x288 with 1 Axes>"
      ]
     },
     "metadata": {
      "needs_background": "light"
     },
     "output_type": "display_data"
    }
   ],
   "source": [
    "tsne = TSNE(n_components=2, perplexity=200, learning_rate=308.7128368980257, init='pca')\n",
    "\n",
    "\n",
    "X_tsne = tsne.fit_transform(X)\n",
    "x_min, x_max = X_tsne.min(0), X_tsne.max(0)\n",
    "X_tsne = (X_tsne - x_min) / (x_max - x_min)\n",
    "\n",
    "plt.scatter(X_tsne[:, 0], X_tsne[:, 1], c=Y_true_test)\n",
    "plt.show()"
   ]
  },
  {
   "cell_type": "code",
   "execution_count": 78,
   "metadata": {},
   "outputs": [
    {
     "name": "stderr",
     "output_type": "stream",
     "text": [
      "/Applications/anaconda3/lib/python3.7/site-packages/sklearn/manifold/_t_sne.py:986: FutureWarning: The PCA initialization in TSNE will change to have the standard deviation of PC1 equal to 1e-4 in 1.2. This will ensure better convergence.\n",
      "  FutureWarning,\n"
     ]
    },
    {
     "data": {
      "image/png": "[encoded data removed]",
      "text/plain": [
       "<Figure size 432x288 with 1 Axes>"
      ]
     },
     "metadata": {
      "needs_background": "light"
     },
     "output_type": "display_data"
    }
   ],
   "source": [
    "# 画三维图\n",
    "from mpl_toolkits.mplot3d import axes3d\n",
    "tsne = TSNE(n_components=3, perplexity=46, learning_rate=252, init='pca')\n",
    "X_tsne = tsne.fit_transform(X)\n",
    "\n",
    "\n",
    "fig = plt.figure()\n",
    "\n",
    "ax = axes3d.Axes3D(fig)\n",
    "ax.scatter(X_tsne[:, 0], X_tsne[:, 1], X_tsne[:, 2], c=Y_true_test)\n",
    "plt.show()"
   ]
  },
  {
   "cell_type": "code",
   "execution_count": 48,
   "metadata": {},
   "outputs": [
    {
     "name": "stderr",
     "output_type": "stream",
     "text": [
      "\u001b[32m[I 2023-05-25 16:03:36,133]\u001b[0m A new study created in memory with name: no-name-f7fd8019-20ef-47a9-a0b5-bc2107b47257\u001b[0m\n",
      "/Applications/anaconda3/lib/python3.7/site-packages/sklearn/manifold/_t_sne.py:783: FutureWarning: The default initialization in TSNE will change from 'random' to 'pca' in 1.2.\n",
      "  FutureWarning,\n",
      "\u001b[32m[I 2023-05-25 16:03:38,492]\u001b[0m Trial 0 finished with value: 0.029260877519845963 and parameters: {'perplexity': 36, 'learning_rate': 276.8717681333692}. Best is trial 0 with value: 0.029260877519845963.\u001b[0m\n",
      "/Applications/anaconda3/lib/python3.7/site-packages/sklearn/manifold/_t_sne.py:783: FutureWarning: The default initialization in TSNE will change from 'random' to 'pca' in 1.2.\n",
      "  FutureWarning,\n",
      "\u001b[32m[I 2023-05-25 16:03:41,222]\u001b[0m Trial 1 finished with value: 0.029459455981850624 and parameters: {'perplexity': 46, 'learning_rate': 401.84178505969527}. Best is trial 1 with value: 0.029459455981850624.\u001b[0m\n",
      "/Applications/anaconda3/lib/python3.7/site-packages/sklearn/manifold/_t_sne.py:783: FutureWarning: The default initialization in TSNE will change from 'random' to 'pca' in 1.2.\n",
      "  FutureWarning,\n",
      "\u001b[32m[I 2023-05-25 16:03:43,887]\u001b[0m Trial 2 finished with value: 0.012114553712308407 and parameters: {'perplexity': 23, 'learning_rate': 443.2699966372395}. Best is trial 1 with value: 0.029459455981850624.\u001b[0m\n",
      "/Applications/anaconda3/lib/python3.7/site-packages/sklearn/manifold/_t_sne.py:783: FutureWarning: The default initialization in TSNE will change from 'random' to 'pca' in 1.2.\n",
      "  FutureWarning,\n",
      "\u001b[32m[I 2023-05-25 16:03:46,705]\u001b[0m Trial 3 finished with value: 0.025425247848033905 and parameters: {'perplexity': 48, 'learning_rate': 316.44050998651375}. Best is trial 1 with value: 0.029459455981850624.\u001b[0m\n",
      "/Applications/anaconda3/lib/python3.7/site-packages/sklearn/manifold/_t_sne.py:783: FutureWarning: The default initialization in TSNE will change from 'random' to 'pca' in 1.2.\n",
      "  FutureWarning,\n",
      "\u001b[32m[I 2023-05-25 16:03:49,471]\u001b[0m Trial 4 finished with value: 0.024003561586141586 and parameters: {'perplexity': 32, 'learning_rate': 456.6089387613725}. Best is trial 1 with value: 0.029459455981850624.\u001b[0m\n",
      "/Applications/anaconda3/lib/python3.7/site-packages/sklearn/manifold/_t_sne.py:783: FutureWarning: The default initialization in TSNE will change from 'random' to 'pca' in 1.2.\n",
      "  FutureWarning,\n",
      "\u001b[32m[I 2023-05-25 16:03:52,109]\u001b[0m Trial 5 finished with value: 0.02129019796848297 and parameters: {'perplexity': 16, 'learning_rate': 431.19839491902525}. Best is trial 1 with value: 0.029459455981850624.\u001b[0m\n",
      "/Applications/anaconda3/lib/python3.7/site-packages/sklearn/manifold/_t_sne.py:783: FutureWarning: The default initialization in TSNE will change from 'random' to 'pca' in 1.2.\n",
      "  FutureWarning,\n",
      "\u001b[32m[I 2023-05-25 16:03:54,267]\u001b[0m Trial 6 finished with value: 0.012538734823465347 and parameters: {'perplexity': 23, 'learning_rate': 341.4776895452493}. Best is trial 1 with value: 0.029459455981850624.\u001b[0m\n",
      "/Applications/anaconda3/lib/python3.7/site-packages/sklearn/manifold/_t_sne.py:783: FutureWarning: The default initialization in TSNE will change from 'random' to 'pca' in 1.2.\n",
      "  FutureWarning,\n",
      "\u001b[32m[I 2023-05-25 16:03:56,949]\u001b[0m Trial 7 finished with value: 0.019697587937116623 and parameters: {'perplexity': 28, 'learning_rate': 259.91712459702285}. Best is trial 1 with value: 0.029459455981850624.\u001b[0m\n",
      "/Applications/anaconda3/lib/python3.7/site-packages/sklearn/manifold/_t_sne.py:783: FutureWarning: The default initialization in TSNE will change from 'random' to 'pca' in 1.2.\n",
      "  FutureWarning,\n",
      "\u001b[32m[I 2023-05-25 16:03:59,468]\u001b[0m Trial 8 finished with value: 0.019860822707414627 and parameters: {'perplexity': 11, 'learning_rate': 135.62738446495354}. Best is trial 1 with value: 0.029459455981850624.\u001b[0m\n",
      "/Applications/anaconda3/lib/python3.7/site-packages/sklearn/manifold/_t_sne.py:783: FutureWarning: The default initialization in TSNE will change from 'random' to 'pca' in 1.2.\n",
      "  FutureWarning,\n",
      "\u001b[32m[I 2023-05-25 16:04:02,385]\u001b[0m Trial 9 finished with value: 0.026328394189476967 and parameters: {'perplexity': 49, 'learning_rate': 142.63693620127958}. Best is trial 1 with value: 0.029459455981850624.\u001b[0m\n",
      "/Applications/anaconda3/lib/python3.7/site-packages/sklearn/manifold/_t_sne.py:783: FutureWarning: The default initialization in TSNE will change from 'random' to 'pca' in 1.2.\n",
      "  FutureWarning,\n",
      "\u001b[32m[I 2023-05-25 16:04:05,197]\u001b[0m Trial 10 finished with value: 0.024916553869843483 and parameters: {'perplexity': 40, 'learning_rate': 495.34814200504127}. Best is trial 1 with value: 0.029459455981850624.\u001b[0m\n",
      "/Applications/anaconda3/lib/python3.7/site-packages/sklearn/manifold/_t_sne.py:783: FutureWarning: The default initialization in TSNE will change from 'random' to 'pca' in 1.2.\n",
      "  FutureWarning,\n",
      "\u001b[32m[I 2023-05-25 16:04:07,505]\u001b[0m Trial 11 finished with value: 0.029321108013391495 and parameters: {'perplexity': 38, 'learning_rate': 244.8255564750472}. Best is trial 1 with value: 0.029459455981850624.\u001b[0m\n",
      "/Applications/anaconda3/lib/python3.7/site-packages/sklearn/manifold/_t_sne.py:783: FutureWarning: The default initialization in TSNE will change from 'random' to 'pca' in 1.2.\n",
      "  FutureWarning,\n",
      "\u001b[32m[I 2023-05-25 16:04:09,656]\u001b[0m Trial 12 finished with value: 0.01737973652780056 and parameters: {'perplexity': 40, 'learning_rate': 212.39013542483727}. Best is trial 1 with value: 0.029459455981850624.\u001b[0m\n",
      "/Applications/anaconda3/lib/python3.7/site-packages/sklearn/manifold/_t_sne.py:783: FutureWarning: The default initialization in TSNE will change from 'random' to 'pca' in 1.2.\n",
      "  FutureWarning,\n",
      "\u001b[32m[I 2023-05-25 16:04:11,803]\u001b[0m Trial 13 finished with value: 0.019964614883065224 and parameters: {'perplexity': 42, 'learning_rate': 368.20827095243015}. Best is trial 1 with value: 0.029459455981850624.\u001b[0m\n",
      "/Applications/anaconda3/lib/python3.7/site-packages/sklearn/manifold/_t_sne.py:783: FutureWarning: The default initialization in TSNE will change from 'random' to 'pca' in 1.2.\n",
      "  FutureWarning,\n",
      "\u001b[32m[I 2023-05-25 16:04:14,171]\u001b[0m Trial 14 finished with value: 0.017314014956355095 and parameters: {'perplexity': 45, 'learning_rate': 388.48288163996995}. Best is trial 1 with value: 0.029459455981850624.\u001b[0m\n",
      "/Applications/anaconda3/lib/python3.7/site-packages/sklearn/manifold/_t_sne.py:783: FutureWarning: The default initialization in TSNE will change from 'random' to 'pca' in 1.2.\n",
      "  FutureWarning,\n",
      "\u001b[32m[I 2023-05-25 16:04:16,880]\u001b[0m Trial 15 finished with value: 0.03258342668414116 and parameters: {'perplexity': 34, 'learning_rate': 56.4216579385355}. Best is trial 15 with value: 0.03258342668414116.\u001b[0m\n",
      "/Applications/anaconda3/lib/python3.7/site-packages/sklearn/manifold/_t_sne.py:783: FutureWarning: The default initialization in TSNE will change from 'random' to 'pca' in 1.2.\n",
      "  FutureWarning,\n",
      "\u001b[32m[I 2023-05-25 16:04:19,737]\u001b[0m Trial 16 finished with value: 0.027246002107858658 and parameters: {'perplexity': 32, 'learning_rate': 80.52486453919153}. Best is trial 15 with value: 0.03258342668414116.\u001b[0m\n",
      "/Applications/anaconda3/lib/python3.7/site-packages/sklearn/manifold/_t_sne.py:783: FutureWarning: The default initialization in TSNE will change from 'random' to 'pca' in 1.2.\n",
      "  FutureWarning,\n",
      "\u001b[32m[I 2023-05-25 16:04:22,526]\u001b[0m Trial 17 finished with value: 0.0255661029368639 and parameters: {'perplexity': 34, 'learning_rate': 71.2145715505998}. Best is trial 15 with value: 0.03258342668414116.\u001b[0m\n",
      "/Applications/anaconda3/lib/python3.7/site-packages/sklearn/manifold/_t_sne.py:783: FutureWarning: The default initialization in TSNE will change from 'random' to 'pca' in 1.2.\n",
      "  FutureWarning,\n",
      "\u001b[32m[I 2023-05-25 16:04:25,141]\u001b[0m Trial 18 finished with value: 0.015605964697897434 and parameters: {'perplexity': 5, 'learning_rate': 200.5377463807844}. Best is trial 15 with value: 0.03258342668414116.\u001b[0m\n",
      "/Applications/anaconda3/lib/python3.7/site-packages/sklearn/manifold/_t_sne.py:783: FutureWarning: The default initialization in TSNE will change from 'random' to 'pca' in 1.2.\n",
      "  FutureWarning,\n",
      "\u001b[32m[I 2023-05-25 16:04:28,068]\u001b[0m Trial 19 finished with value: 0.02689657174050808 and parameters: {'perplexity': 45, 'learning_rate': 50.486569450334486}. Best is trial 15 with value: 0.03258342668414116.\u001b[0m\n",
      "/Applications/anaconda3/lib/python3.7/site-packages/sklearn/manifold/_t_sne.py:783: FutureWarning: The default initialization in TSNE will change from 'random' to 'pca' in 1.2.\n",
      "  FutureWarning,\n",
      "\u001b[32m[I 2023-05-25 16:04:30,742]\u001b[0m Trial 20 finished with value: 0.019030101597309113 and parameters: {'perplexity': 27, 'learning_rate': 314.99803135169475}. Best is trial 15 with value: 0.03258342668414116.\u001b[0m\n",
      "/Applications/anaconda3/lib/python3.7/site-packages/sklearn/manifold/_t_sne.py:783: FutureWarning: The default initialization in TSNE will change from 'random' to 'pca' in 1.2.\n",
      "  FutureWarning,\n",
      "\u001b[32m[I 2023-05-25 16:04:33,089]\u001b[0m Trial 21 finished with value: 0.03265627473592758 and parameters: {'perplexity': 39, 'learning_rate': 393.704491158578}. Best is trial 21 with value: 0.03265627473592758.\u001b[0m\n",
      "/Applications/anaconda3/lib/python3.7/site-packages/sklearn/manifold/_t_sne.py:783: FutureWarning: The default initialization in TSNE will change from 'random' to 'pca' in 1.2.\n",
      "  FutureWarning,\n",
      "\u001b[32m[I 2023-05-25 16:04:35,205]\u001b[0m Trial 22 finished with value: 0.02204478532075882 and parameters: {'perplexity': 44, 'learning_rate': 396.81598217623457}. Best is trial 21 with value: 0.03265627473592758.\u001b[0m\n",
      "/Applications/anaconda3/lib/python3.7/site-packages/sklearn/manifold/_t_sne.py:783: FutureWarning: The default initialization in TSNE will change from 'random' to 'pca' in 1.2.\n",
      "  FutureWarning,\n",
      "\u001b[32m[I 2023-05-25 16:04:38,937]\u001b[0m Trial 23 finished with value: 0.025207901373505592 and parameters: {'perplexity': 37, 'learning_rate': 364.1193189190974}. Best is trial 21 with value: 0.03265627473592758.\u001b[0m\n",
      "/Applications/anaconda3/lib/python3.7/site-packages/sklearn/manifold/_t_sne.py:783: FutureWarning: The default initialization in TSNE will change from 'random' to 'pca' in 1.2.\n",
      "  FutureWarning,\n",
      "\u001b[32m[I 2023-05-25 16:04:41,422]\u001b[0m Trial 24 finished with value: 0.023213675245642662 and parameters: {'perplexity': 28, 'learning_rate': 406.9614886726612}. Best is trial 21 with value: 0.03265627473592758.\u001b[0m\n",
      "/Applications/anaconda3/lib/python3.7/site-packages/sklearn/manifold/_t_sne.py:783: FutureWarning: The default initialization in TSNE will change from 'random' to 'pca' in 1.2.\n",
      "  FutureWarning,\n",
      "\u001b[32m[I 2023-05-25 16:04:44,946]\u001b[0m Trial 25 finished with value: 0.022417692467570305 and parameters: {'perplexity': 48, 'learning_rate': 309.2721233871166}. Best is trial 21 with value: 0.03265627473592758.\u001b[0m\n",
      "/Applications/anaconda3/lib/python3.7/site-packages/sklearn/manifold/_t_sne.py:783: FutureWarning: The default initialization in TSNE will change from 'random' to 'pca' in 1.2.\n",
      "  FutureWarning,\n",
      "\u001b[32m[I 2023-05-25 16:04:47,942]\u001b[0m Trial 26 finished with value: 0.017521129921078682 and parameters: {'perplexity': 50, 'learning_rate': 361.89211920109597}. Best is trial 21 with value: 0.03265627473592758.\u001b[0m\n",
      "/Applications/anaconda3/lib/python3.7/site-packages/sklearn/manifold/_t_sne.py:783: FutureWarning: The default initialization in TSNE will change from 'random' to 'pca' in 1.2.\n",
      "  FutureWarning,\n",
      "\u001b[32m[I 2023-05-25 16:04:50,719]\u001b[0m Trial 27 finished with value: 0.012634308077394962 and parameters: {'perplexity': 42, 'learning_rate': 492.51887277267815}. Best is trial 21 with value: 0.03265627473592758.\u001b[0m\n",
      "/Applications/anaconda3/lib/python3.7/site-packages/sklearn/manifold/_t_sne.py:783: FutureWarning: The default initialization in TSNE will change from 'random' to 'pca' in 1.2.\n",
      "  FutureWarning,\n",
      "\u001b[32m[I 2023-05-25 16:04:54,915]\u001b[0m Trial 28 finished with value: 0.02257021702826023 and parameters: {'perplexity': 33, 'learning_rate': 417.1903650649622}. Best is trial 21 with value: 0.03265627473592758.\u001b[0m\n",
      "/Applications/anaconda3/lib/python3.7/site-packages/sklearn/manifold/_t_sne.py:783: FutureWarning: The default initialization in TSNE will change from 'random' to 'pca' in 1.2.\n",
      "  FutureWarning,\n",
      "\u001b[32m[I 2023-05-25 16:04:59,449]\u001b[0m Trial 29 finished with value: 0.02535327896475792 and parameters: {'perplexity': 35, 'learning_rate': 271.7372246411306}. Best is trial 21 with value: 0.03265627473592758.\u001b[0m\n",
      "/Applications/anaconda3/lib/python3.7/site-packages/sklearn/manifold/_t_sne.py:783: FutureWarning: The default initialization in TSNE will change from 'random' to 'pca' in 1.2.\n",
      "  FutureWarning,\n",
      "\u001b[32m[I 2023-05-25 16:05:01,561]\u001b[0m Trial 30 finished with value: 0.03085106611251831 and parameters: {'perplexity': 40, 'learning_rate': 295.21711287843175}. Best is trial 21 with value: 0.03265627473592758.\u001b[0m\n",
      "/Applications/anaconda3/lib/python3.7/site-packages/sklearn/manifold/_t_sne.py:783: FutureWarning: The default initialization in TSNE will change from 'random' to 'pca' in 1.2.\n",
      "  FutureWarning,\n",
      "\u001b[32m[I 2023-05-25 16:05:03,489]\u001b[0m Trial 31 finished with value: 0.019670885056257248 and parameters: {'perplexity': 38, 'learning_rate': 296.2584209426109}. Best is trial 21 with value: 0.03265627473592758.\u001b[0m\n",
      "/Applications/anaconda3/lib/python3.7/site-packages/sklearn/manifold/_t_sne.py:783: FutureWarning: The default initialization in TSNE will change from 'random' to 'pca' in 1.2.\n",
      "  FutureWarning,\n",
      "\u001b[32m[I 2023-05-25 16:05:06,057]\u001b[0m Trial 32 finished with value: 0.016507813706994057 and parameters: {'perplexity': 41, 'learning_rate': 329.7409369722193}. Best is trial 21 with value: 0.03265627473592758.\u001b[0m\n",
      "/Applications/anaconda3/lib/python3.7/site-packages/sklearn/manifold/_t_sne.py:783: FutureWarning: The default initialization in TSNE will change from 'random' to 'pca' in 1.2.\n",
      "  FutureWarning,\n",
      "\u001b[32m[I 2023-05-25 16:05:08,298]\u001b[0m Trial 33 finished with value: 0.031627241522073746 and parameters: {'perplexity': 46, 'learning_rate': 280.2089029794502}. Best is trial 21 with value: 0.03265627473592758.\u001b[0m\n",
      "/Applications/anaconda3/lib/python3.7/site-packages/sklearn/manifold/_t_sne.py:783: FutureWarning: The default initialization in TSNE will change from 'random' to 'pca' in 1.2.\n",
      "  FutureWarning,\n",
      "\u001b[32m[I 2023-05-25 16:05:11,247]\u001b[0m Trial 34 finished with value: 0.033887043595314026 and parameters: {'perplexity': 36, 'learning_rate': 291.25212220569347}. Best is trial 34 with value: 0.033887043595314026.\u001b[0m\n",
      "/Applications/anaconda3/lib/python3.7/site-packages/sklearn/manifold/_t_sne.py:783: FutureWarning: The default initialization in TSNE will change from 'random' to 'pca' in 1.2.\n",
      "  FutureWarning,\n",
      "\u001b[32m[I 2023-05-25 16:05:14,087]\u001b[0m Trial 35 finished with value: 0.02214784175157547 and parameters: {'perplexity': 36, 'learning_rate': 242.9363267608192}. Best is trial 34 with value: 0.033887043595314026.\u001b[0m\n",
      "/Applications/anaconda3/lib/python3.7/site-packages/sklearn/manifold/_t_sne.py:783: FutureWarning: The default initialization in TSNE will change from 'random' to 'pca' in 1.2.\n",
      "  FutureWarning,\n",
      "\u001b[32m[I 2023-05-25 16:05:16,460]\u001b[0m Trial 36 finished with value: 0.015385303646326065 and parameters: {'perplexity': 29, 'learning_rate': 285.1273134718758}. Best is trial 34 with value: 0.033887043595314026.\u001b[0m\n",
      "/Applications/anaconda3/lib/python3.7/site-packages/sklearn/manifold/_t_sne.py:783: FutureWarning: The default initialization in TSNE will change from 'random' to 'pca' in 1.2.\n",
      "  FutureWarning,\n",
      "\u001b[32m[I 2023-05-25 16:05:19,013]\u001b[0m Trial 37 finished with value: 0.014245452359318733 and parameters: {'perplexity': 23, 'learning_rate': 329.904712724969}. Best is trial 34 with value: 0.033887043595314026.\u001b[0m\n",
      "/Applications/anaconda3/lib/python3.7/site-packages/sklearn/manifold/_t_sne.py:783: FutureWarning: The default initialization in TSNE will change from 'random' to 'pca' in 1.2.\n",
      "  FutureWarning,\n",
      "\u001b[32m[I 2023-05-25 16:05:21,259]\u001b[0m Trial 38 finished with value: 0.02202938124537468 and parameters: {'perplexity': 30, 'learning_rate': 341.7235252492179}. Best is trial 34 with value: 0.033887043595314026.\u001b[0m\n",
      "/Applications/anaconda3/lib/python3.7/site-packages/sklearn/manifold/_t_sne.py:783: FutureWarning: The default initialization in TSNE will change from 'random' to 'pca' in 1.2.\n",
      "  FutureWarning,\n",
      "\u001b[32m[I 2023-05-25 16:05:24,159]\u001b[0m Trial 39 finished with value: 0.022609738633036613 and parameters: {'perplexity': 47, 'learning_rate': 446.6951492824476}. Best is trial 34 with value: 0.033887043595314026.\u001b[0m\n",
      "/Applications/anaconda3/lib/python3.7/site-packages/sklearn/manifold/_t_sne.py:783: FutureWarning: The default initialization in TSNE will change from 'random' to 'pca' in 1.2.\n",
      "  FutureWarning,\n",
      "\u001b[32m[I 2023-05-25 16:05:26,600]\u001b[0m Trial 40 finished with value: 0.024807795882225037 and parameters: {'perplexity': 25, 'learning_rate': 272.9595178217304}. Best is trial 34 with value: 0.033887043595314026.\u001b[0m\n",
      "/Applications/anaconda3/lib/python3.7/site-packages/sklearn/manifold/_t_sne.py:783: FutureWarning: The default initialization in TSNE will change from 'random' to 'pca' in 1.2.\n",
      "  FutureWarning,\n",
      "\u001b[32m[I 2023-05-25 16:05:29,131]\u001b[0m Trial 41 finished with value: 0.016544492915272713 and parameters: {'perplexity': 43, 'learning_rate': 289.05844193460314}. Best is trial 34 with value: 0.033887043595314026.\u001b[0m\n",
      "/Applications/anaconda3/lib/python3.7/site-packages/sklearn/manifold/_t_sne.py:783: FutureWarning: The default initialization in TSNE will change from 'random' to 'pca' in 1.2.\n",
      "  FutureWarning,\n",
      "\u001b[32m[I 2023-05-25 16:05:31,443]\u001b[0m Trial 42 finished with value: 0.02997737005352974 and parameters: {'perplexity': 38, 'learning_rate': 303.89887667377025}. Best is trial 34 with value: 0.033887043595314026.\u001b[0m\n",
      "/Applications/anaconda3/lib/python3.7/site-packages/sklearn/manifold/_t_sne.py:783: FutureWarning: The default initialization in TSNE will change from 'random' to 'pca' in 1.2.\n",
      "  FutureWarning,\n",
      "\u001b[32m[I 2023-05-25 16:05:33,629]\u001b[0m Trial 43 finished with value: 0.022670460864901543 and parameters: {'perplexity': 32, 'learning_rate': 246.7820393050066}. Best is trial 34 with value: 0.033887043595314026.\u001b[0m\n",
      "/Applications/anaconda3/lib/python3.7/site-packages/sklearn/manifold/_t_sne.py:783: FutureWarning: The default initialization in TSNE will change from 'random' to 'pca' in 1.2.\n",
      "  FutureWarning,\n",
      "\u001b[32m[I 2023-05-25 16:05:35,991]\u001b[0m Trial 44 finished with value: 0.015037904493510723 and parameters: {'perplexity': 40, 'learning_rate': 263.30304081196795}. Best is trial 34 with value: 0.033887043595314026.\u001b[0m\n",
      "/Applications/anaconda3/lib/python3.7/site-packages/sklearn/manifold/_t_sne.py:783: FutureWarning: The default initialization in TSNE will change from 'random' to 'pca' in 1.2.\n",
      "  FutureWarning,\n",
      "\u001b[32m[I 2023-05-25 16:05:38,074]\u001b[0m Trial 45 finished with value: 0.02267969399690628 and parameters: {'perplexity': 19, 'learning_rate': 214.03944913108853}. Best is trial 34 with value: 0.033887043595314026.\u001b[0m\n",
      "/Applications/anaconda3/lib/python3.7/site-packages/sklearn/manifold/_t_sne.py:783: FutureWarning: The default initialization in TSNE will change from 'random' to 'pca' in 1.2.\n",
      "  FutureWarning,\n",
      "\u001b[32m[I 2023-05-25 16:05:40,544]\u001b[0m Trial 46 finished with value: 0.0197482667863369 and parameters: {'perplexity': 46, 'learning_rate': 340.7491860618343}. Best is trial 34 with value: 0.033887043595314026.\u001b[0m\n",
      "/Applications/anaconda3/lib/python3.7/site-packages/sklearn/manifold/_t_sne.py:783: FutureWarning: The default initialization in TSNE will change from 'random' to 'pca' in 1.2.\n",
      "  FutureWarning,\n",
      "\u001b[32m[I 2023-05-25 16:05:42,788]\u001b[0m Trial 47 finished with value: 0.028354626148939133 and parameters: {'perplexity': 35, 'learning_rate': 174.77153300666927}. Best is trial 34 with value: 0.033887043595314026.\u001b[0m\n",
      "/Applications/anaconda3/lib/python3.7/site-packages/sklearn/manifold/_t_sne.py:783: FutureWarning: The default initialization in TSNE will change from 'random' to 'pca' in 1.2.\n",
      "  FutureWarning,\n",
      "\u001b[32m[I 2023-05-25 16:05:45,055]\u001b[0m Trial 48 finished with value: 0.015261299908161163 and parameters: {'perplexity': 38, 'learning_rate': 291.1414246985854}. Best is trial 34 with value: 0.033887043595314026.\u001b[0m\n",
      "/Applications/anaconda3/lib/python3.7/site-packages/sklearn/manifold/_t_sne.py:783: FutureWarning: The default initialization in TSNE will change from 'random' to 'pca' in 1.2.\n",
      "  FutureWarning,\n",
      "\u001b[32m[I 2023-05-25 16:05:47,379]\u001b[0m Trial 49 finished with value: 0.019720107316970825 and parameters: {'perplexity': 31, 'learning_rate': 383.3182136744083}. Best is trial 34 with value: 0.033887043595314026.\u001b[0m\n",
      "/Applications/anaconda3/lib/python3.7/site-packages/sklearn/manifold/_t_sne.py:783: FutureWarning: The default initialization in TSNE will change from 'random' to 'pca' in 1.2.\n",
      "  FutureWarning,\n",
      "\u001b[32m[I 2023-05-25 16:05:49,635]\u001b[0m Trial 50 finished with value: 0.023722181096673012 and parameters: {'perplexity': 39, 'learning_rate': 252.14638437358633}. Best is trial 34 with value: 0.033887043595314026.\u001b[0m\n",
      "/Applications/anaconda3/lib/python3.7/site-packages/sklearn/manifold/_t_sne.py:783: FutureWarning: The default initialization in TSNE will change from 'random' to 'pca' in 1.2.\n",
      "  FutureWarning,\n",
      "\u001b[32m[I 2023-05-25 16:05:51,875]\u001b[0m Trial 51 finished with value: 0.015090854838490486 and parameters: {'perplexity': 36, 'learning_rate': 300.38343509587975}. Best is trial 34 with value: 0.033887043595314026.\u001b[0m\n",
      "/Applications/anaconda3/lib/python3.7/site-packages/sklearn/manifold/_t_sne.py:783: FutureWarning: The default initialization in TSNE will change from 'random' to 'pca' in 1.2.\n",
      "  FutureWarning,\n",
      "\u001b[32m[I 2023-05-25 16:05:54,120]\u001b[0m Trial 52 finished with value: 0.013318692333996296 and parameters: {'perplexity': 42, 'learning_rate': 305.65386787588363}. Best is trial 34 with value: 0.033887043595314026.\u001b[0m\n",
      "/Applications/anaconda3/lib/python3.7/site-packages/sklearn/manifold/_t_sne.py:783: FutureWarning: The default initialization in TSNE will change from 'random' to 'pca' in 1.2.\n",
      "  FutureWarning,\n",
      "\u001b[32m[I 2023-05-25 16:05:56,009]\u001b[0m Trial 53 finished with value: 0.02808050811290741 and parameters: {'perplexity': 44, 'learning_rate': 276.19639399288957}. Best is trial 34 with value: 0.033887043595314026.\u001b[0m\n",
      "/Applications/anaconda3/lib/python3.7/site-packages/sklearn/manifold/_t_sne.py:783: FutureWarning: The default initialization in TSNE will change from 'random' to 'pca' in 1.2.\n",
      "  FutureWarning,\n",
      "\u001b[32m[I 2023-05-25 16:05:57,728]\u001b[0m Trial 54 finished with value: 0.029988989233970642 and parameters: {'perplexity': 34, 'learning_rate': 238.24342947962293}. Best is trial 34 with value: 0.033887043595314026.\u001b[0m\n",
      "/Applications/anaconda3/lib/python3.7/site-packages/sklearn/manifold/_t_sne.py:783: FutureWarning: The default initialization in TSNE will change from 'random' to 'pca' in 1.2.\n",
      "  FutureWarning,\n",
      "\u001b[32m[I 2023-05-25 16:05:59,787]\u001b[0m Trial 55 finished with value: 0.026022184640169144 and parameters: {'perplexity': 33, 'learning_rate': 115.32973640629866}. Best is trial 34 with value: 0.033887043595314026.\u001b[0m\n",
      "/Applications/anaconda3/lib/python3.7/site-packages/sklearn/manifold/_t_sne.py:783: FutureWarning: The default initialization in TSNE will change from 'random' to 'pca' in 1.2.\n",
      "  FutureWarning,\n",
      "\u001b[32m[I 2023-05-25 16:06:01,883]\u001b[0m Trial 56 finished with value: 0.013856805860996246 and parameters: {'perplexity': 40, 'learning_rate': 229.75924779532247}. Best is trial 34 with value: 0.033887043595314026.\u001b[0m\n",
      "/Applications/anaconda3/lib/python3.7/site-packages/sklearn/manifold/_t_sne.py:783: FutureWarning: The default initialization in TSNE will change from 'random' to 'pca' in 1.2.\n",
      "  FutureWarning,\n",
      "\u001b[32m[I 2023-05-25 16:06:03,601]\u001b[0m Trial 57 finished with value: 0.02149784006178379 and parameters: {'perplexity': 36, 'learning_rate': 186.72459491651557}. Best is trial 34 with value: 0.033887043595314026.\u001b[0m\n",
      "/Applications/anaconda3/lib/python3.7/site-packages/sklearn/manifold/_t_sne.py:783: FutureWarning: The default initialization in TSNE will change from 'random' to 'pca' in 1.2.\n",
      "  FutureWarning,\n",
      "\u001b[32m[I 2023-05-25 16:06:05,930]\u001b[0m Trial 58 finished with value: 0.028458788990974426 and parameters: {'perplexity': 33, 'learning_rate': 225.02400470733843}. Best is trial 34 with value: 0.033887043595314026.\u001b[0m\n",
      "/Applications/anaconda3/lib/python3.7/site-packages/sklearn/manifold/_t_sne.py:783: FutureWarning: The default initialization in TSNE will change from 'random' to 'pca' in 1.2.\n",
      "  FutureWarning,\n",
      "\u001b[32m[I 2023-05-25 16:06:08,794]\u001b[0m Trial 59 finished with value: 0.02063859812915325 and parameters: {'perplexity': 26, 'learning_rate': 156.38956051659045}. Best is trial 34 with value: 0.033887043595314026.\u001b[0m\n",
      "/Applications/anaconda3/lib/python3.7/site-packages/sklearn/manifold/_t_sne.py:783: FutureWarning: The default initialization in TSNE will change from 'random' to 'pca' in 1.2.\n",
      "  FutureWarning,\n",
      "\u001b[32m[I 2023-05-25 16:06:11,865]\u001b[0m Trial 60 finished with value: 0.015148639678955078 and parameters: {'perplexity': 30, 'learning_rate': 266.1032045067194}. Best is trial 34 with value: 0.033887043595314026.\u001b[0m\n",
      "/Applications/anaconda3/lib/python3.7/site-packages/sklearn/manifold/_t_sne.py:783: FutureWarning: The default initialization in TSNE will change from 'random' to 'pca' in 1.2.\n",
      "  FutureWarning,\n",
      "\u001b[32m[I 2023-05-25 16:06:14,448]\u001b[0m Trial 61 finished with value: 0.01664758287370205 and parameters: {'perplexity': 38, 'learning_rate': 325.44104768836195}. Best is trial 34 with value: 0.033887043595314026.\u001b[0m\n",
      "/Applications/anaconda3/lib/python3.7/site-packages/sklearn/manifold/_t_sne.py:783: FutureWarning: The default initialization in TSNE will change from 'random' to 'pca' in 1.2.\n",
      "  FutureWarning,\n",
      "\u001b[32m[I 2023-05-25 16:06:16,921]\u001b[0m Trial 62 finished with value: 0.01641601324081421 and parameters: {'perplexity': 34, 'learning_rate': 305.52642250397787}. Best is trial 34 with value: 0.033887043595314026.\u001b[0m\n",
      "/Applications/anaconda3/lib/python3.7/site-packages/sklearn/manifold/_t_sne.py:783: FutureWarning: The default initialization in TSNE will change from 'random' to 'pca' in 1.2.\n",
      "  FutureWarning,\n",
      "\u001b[32m[I 2023-05-25 16:06:19,630]\u001b[0m Trial 63 finished with value: 0.027981100603938103 and parameters: {'perplexity': 41, 'learning_rate': 257.7047431672751}. Best is trial 34 with value: 0.033887043595314026.\u001b[0m\n",
      "/Applications/anaconda3/lib/python3.7/site-packages/sklearn/manifold/_t_sne.py:783: FutureWarning: The default initialization in TSNE will change from 'random' to 'pca' in 1.2.\n",
      "  FutureWarning,\n",
      "\u001b[32m[I 2023-05-25 16:06:22,414]\u001b[0m Trial 64 finished with value: 0.01758522540330887 and parameters: {'perplexity': 37, 'learning_rate': 283.2302811324578}. Best is trial 34 with value: 0.033887043595314026.\u001b[0m\n",
      "/Applications/anaconda3/lib/python3.7/site-packages/sklearn/manifold/_t_sne.py:783: FutureWarning: The default initialization in TSNE will change from 'random' to 'pca' in 1.2.\n",
      "  FutureWarning,\n",
      "\u001b[32m[I 2023-05-25 16:06:25,006]\u001b[0m Trial 65 finished with value: 0.03711150586605072 and parameters: {'perplexity': 44, 'learning_rate': 313.8700505252669}. Best is trial 65 with value: 0.03711150586605072.\u001b[0m\n",
      "/Applications/anaconda3/lib/python3.7/site-packages/sklearn/manifold/_t_sne.py:783: FutureWarning: The default initialization in TSNE will change from 'random' to 'pca' in 1.2.\n",
      "  FutureWarning,\n",
      "\u001b[32m[I 2023-05-25 16:06:27,638]\u001b[0m Trial 66 finished with value: 0.025052407756447792 and parameters: {'perplexity': 46, 'learning_rate': 353.9266970716925}. Best is trial 65 with value: 0.03711150586605072.\u001b[0m\n",
      "/Applications/anaconda3/lib/python3.7/site-packages/sklearn/manifold/_t_sne.py:783: FutureWarning: The default initialization in TSNE will change from 'random' to 'pca' in 1.2.\n",
      "  FutureWarning,\n",
      "\u001b[32m[I 2023-05-25 16:06:29,714]\u001b[0m Trial 67 finished with value: 0.026452818885445595 and parameters: {'perplexity': 43, 'learning_rate': 318.1889345888981}. Best is trial 65 with value: 0.03711150586605072.\u001b[0m\n",
      "/Applications/anaconda3/lib/python3.7/site-packages/sklearn/manifold/_t_sne.py:783: FutureWarning: The default initialization in TSNE will change from 'random' to 'pca' in 1.2.\n",
      "  FutureWarning,\n",
      "\u001b[32m[I 2023-05-25 16:06:32,157]\u001b[0m Trial 68 finished with value: 0.018210865557193756 and parameters: {'perplexity': 49, 'learning_rate': 374.40146538413865}. Best is trial 65 with value: 0.03711150586605072.\u001b[0m\n",
      "/Applications/anaconda3/lib/python3.7/site-packages/sklearn/manifold/_t_sne.py:783: FutureWarning: The default initialization in TSNE will change from 'random' to 'pca' in 1.2.\n",
      "  FutureWarning,\n",
      "\u001b[32m[I 2023-05-25 16:06:34,864]\u001b[0m Trial 69 finished with value: 0.030255142599344254 and parameters: {'perplexity': 44, 'learning_rate': 354.176044953635}. Best is trial 65 with value: 0.03711150586605072.\u001b[0m\n",
      "/Applications/anaconda3/lib/python3.7/site-packages/sklearn/manifold/_t_sne.py:783: FutureWarning: The default initialization in TSNE will change from 'random' to 'pca' in 1.2.\n",
      "  FutureWarning,\n",
      "\u001b[32m[I 2023-05-25 16:06:37,615]\u001b[0m Trial 70 finished with value: 0.026846010237932205 and parameters: {'perplexity': 47, 'learning_rate': 315.5522368182693}. Best is trial 65 with value: 0.03711150586605072.\u001b[0m\n",
      "/Applications/anaconda3/lib/python3.7/site-packages/sklearn/manifold/_t_sne.py:783: FutureWarning: The default initialization in TSNE will change from 'random' to 'pca' in 1.2.\n",
      "  FutureWarning,\n",
      "\u001b[32m[I 2023-05-25 16:06:40,503]\u001b[0m Trial 71 finished with value: 0.026294196024537086 and parameters: {'perplexity': 44, 'learning_rate': 353.2356451925392}. Best is trial 65 with value: 0.03711150586605072.\u001b[0m\n",
      "/Applications/anaconda3/lib/python3.7/site-packages/sklearn/manifold/_t_sne.py:783: FutureWarning: The default initialization in TSNE will change from 'random' to 'pca' in 1.2.\n",
      "  FutureWarning,\n",
      "\u001b[32m[I 2023-05-25 16:06:42,750]\u001b[0m Trial 72 finished with value: 0.03344925120472908 and parameters: {'perplexity': 41, 'learning_rate': 110.44409236284892}. Best is trial 65 with value: 0.03711150586605072.\u001b[0m\n",
      "/Applications/anaconda3/lib/python3.7/site-packages/sklearn/manifold/_t_sne.py:783: FutureWarning: The default initialization in TSNE will change from 'random' to 'pca' in 1.2.\n",
      "  FutureWarning,\n",
      "\u001b[32m[I 2023-05-25 16:06:45,477]\u001b[0m Trial 73 finished with value: 0.02565823681652546 and parameters: {'perplexity': 45, 'learning_rate': 54.199011996333724}. Best is trial 65 with value: 0.03711150586605072.\u001b[0m\n",
      "/Applications/anaconda3/lib/python3.7/site-packages/sklearn/manifold/_t_sne.py:783: FutureWarning: The default initialization in TSNE will change from 'random' to 'pca' in 1.2.\n",
      "  FutureWarning,\n",
      "\u001b[32m[I 2023-05-25 16:06:47,672]\u001b[0m Trial 74 finished with value: 0.01724814996123314 and parameters: {'perplexity': 42, 'learning_rate': 86.824367375482}. Best is trial 65 with value: 0.03711150586605072.\u001b[0m\n",
      "/Applications/anaconda3/lib/python3.7/site-packages/sklearn/manifold/_t_sne.py:783: FutureWarning: The default initialization in TSNE will change from 'random' to 'pca' in 1.2.\n",
      "  FutureWarning,\n",
      "\u001b[32m[I 2023-05-25 16:06:50,476]\u001b[0m Trial 75 finished with value: 0.027754345908761024 and parameters: {'perplexity': 41, 'learning_rate': 96.20425186969564}. Best is trial 65 with value: 0.03711150586605072.\u001b[0m\n",
      "/Applications/anaconda3/lib/python3.7/site-packages/sklearn/manifold/_t_sne.py:783: FutureWarning: The default initialization in TSNE will change from 'random' to 'pca' in 1.2.\n",
      "  FutureWarning,\n",
      "\u001b[32m[I 2023-05-25 16:06:52,809]\u001b[0m Trial 76 finished with value: 0.015939220786094666 and parameters: {'perplexity': 50, 'learning_rate': 291.4760020679108}. Best is trial 65 with value: 0.03711150586605072.\u001b[0m\n",
      "/Applications/anaconda3/lib/python3.7/site-packages/sklearn/manifold/_t_sne.py:783: FutureWarning: The default initialization in TSNE will change from 'random' to 'pca' in 1.2.\n",
      "  FutureWarning,\n",
      "\u001b[32m[I 2023-05-25 16:06:56,148]\u001b[0m Trial 77 finished with value: 0.01462708879262209 and parameters: {'perplexity': 48, 'learning_rate': 338.2757595270024}. Best is trial 65 with value: 0.03711150586605072.\u001b[0m\n",
      "/Applications/anaconda3/lib/python3.7/site-packages/sklearn/manifold/_t_sne.py:783: FutureWarning: The default initialization in TSNE will change from 'random' to 'pca' in 1.2.\n",
      "  FutureWarning,\n",
      "\u001b[32m[I 2023-05-25 16:06:58,910]\u001b[0m Trial 78 finished with value: 0.02351779118180275 and parameters: {'perplexity': 39, 'learning_rate': 274.78534483783017}. Best is trial 65 with value: 0.03711150586605072.\u001b[0m\n",
      "/Applications/anaconda3/lib/python3.7/site-packages/sklearn/manifold/_t_sne.py:783: FutureWarning: The default initialization in TSNE will change from 'random' to 'pca' in 1.2.\n",
      "  FutureWarning,\n",
      "\u001b[32m[I 2023-05-25 16:07:01,528]\u001b[0m Trial 79 finished with value: 0.01080436259508133 and parameters: {'perplexity': 5, 'learning_rate': 62.68526053477085}. Best is trial 65 with value: 0.03711150586605072.\u001b[0m\n",
      "/Applications/anaconda3/lib/python3.7/site-packages/sklearn/manifold/_t_sne.py:783: FutureWarning: The default initialization in TSNE will change from 'random' to 'pca' in 1.2.\n",
      "  FutureWarning,\n",
      "\u001b[32m[I 2023-05-25 16:07:04,375]\u001b[0m Trial 80 finished with value: 0.015291408635675907 and parameters: {'perplexity': 43, 'learning_rate': 71.88947113357291}. Best is trial 65 with value: 0.03711150586605072.\u001b[0m\n",
      "/Applications/anaconda3/lib/python3.7/site-packages/sklearn/manifold/_t_sne.py:783: FutureWarning: The default initialization in TSNE will change from 'random' to 'pca' in 1.2.\n",
      "  FutureWarning,\n",
      "\u001b[32m[I 2023-05-25 16:07:07,235]\u001b[0m Trial 81 finished with value: 0.02576129324734211 and parameters: {'perplexity': 39, 'learning_rate': 124.2351524358386}. Best is trial 65 with value: 0.03711150586605072.\u001b[0m\n",
      "/Applications/anaconda3/lib/python3.7/site-packages/sklearn/manifold/_t_sne.py:783: FutureWarning: The default initialization in TSNE will change from 'random' to 'pca' in 1.2.\n",
      "  FutureWarning,\n",
      "\u001b[32m[I 2023-05-25 16:07:09,976]\u001b[0m Trial 82 finished with value: 0.015810834243893623 and parameters: {'perplexity': 45, 'learning_rate': 320.3834497777787}. Best is trial 65 with value: 0.03711150586605072.\u001b[0m\n",
      "/Applications/anaconda3/lib/python3.7/site-packages/sklearn/manifold/_t_sne.py:783: FutureWarning: The default initialization in TSNE will change from 'random' to 'pca' in 1.2.\n",
      "  FutureWarning,\n",
      "\u001b[32m[I 2023-05-25 16:07:12,314]\u001b[0m Trial 83 finished with value: 0.02912251651287079 and parameters: {'perplexity': 35, 'learning_rate': 401.89624444634154}. Best is trial 65 with value: 0.03711150586605072.\u001b[0m\n",
      "/Applications/anaconda3/lib/python3.7/site-packages/sklearn/manifold/_t_sne.py:783: FutureWarning: The default initialization in TSNE will change from 'random' to 'pca' in 1.2.\n",
      "  FutureWarning,\n",
      "\u001b[32m[I 2023-05-25 16:07:14,918]\u001b[0m Trial 84 finished with value: 0.015082510188221931 and parameters: {'perplexity': 9, 'learning_rate': 296.2532721973375}. Best is trial 65 with value: 0.03711150586605072.\u001b[0m\n",
      "/Applications/anaconda3/lib/python3.7/site-packages/sklearn/manifold/_t_sne.py:783: FutureWarning: The default initialization in TSNE will change from 'random' to 'pca' in 1.2.\n",
      "  FutureWarning,\n",
      "\u001b[32m[I 2023-05-25 16:07:17,550]\u001b[0m Trial 85 finished with value: 0.029470983892679214 and parameters: {'perplexity': 37, 'learning_rate': 282.7845294615989}. Best is trial 65 with value: 0.03711150586605072.\u001b[0m\n",
      "/Applications/anaconda3/lib/python3.7/site-packages/sklearn/manifold/_t_sne.py:783: FutureWarning: The default initialization in TSNE will change from 'random' to 'pca' in 1.2.\n",
      "  FutureWarning,\n",
      "\u001b[32m[I 2023-05-25 16:07:20,262]\u001b[0m Trial 86 finished with value: 0.015316670760512352 and parameters: {'perplexity': 41, 'learning_rate': 98.4370881015063}. Best is trial 65 with value: 0.03711150586605072.\u001b[0m\n",
      "/Applications/anaconda3/lib/python3.7/site-packages/sklearn/manifold/_t_sne.py:783: FutureWarning: The default initialization in TSNE will change from 'random' to 'pca' in 1.2.\n",
      "  FutureWarning,\n",
      "\u001b[32m[I 2023-05-25 16:07:23,026]\u001b[0m Trial 87 finished with value: 0.016513025388121605 and parameters: {'perplexity': 47, 'learning_rate': 263.4775422325971}. Best is trial 65 with value: 0.03711150586605072.\u001b[0m\n",
      "/Applications/anaconda3/lib/python3.7/site-packages/sklearn/manifold/_t_sne.py:783: FutureWarning: The default initialization in TSNE will change from 'random' to 'pca' in 1.2.\n",
      "  FutureWarning,\n",
      "\u001b[32m[I 2023-05-25 16:07:25,703]\u001b[0m Trial 88 finished with value: 0.023713691160082817 and parameters: {'perplexity': 34, 'learning_rate': 241.80759237207172}. Best is trial 65 with value: 0.03711150586605072.\u001b[0m\n",
      "/Applications/anaconda3/lib/python3.7/site-packages/sklearn/manifold/_t_sne.py:783: FutureWarning: The default initialization in TSNE will change from 'random' to 'pca' in 1.2.\n",
      "  FutureWarning,\n",
      "\u001b[32m[I 2023-05-25 16:07:28,368]\u001b[0m Trial 89 finished with value: 0.021872151643037796 and parameters: {'perplexity': 43, 'learning_rate': 312.4303378710191}. Best is trial 65 with value: 0.03711150586605072.\u001b[0m\n",
      "/Applications/anaconda3/lib/python3.7/site-packages/sklearn/manifold/_t_sne.py:783: FutureWarning: The default initialization in TSNE will change from 'random' to 'pca' in 1.2.\n",
      "  FutureWarning,\n",
      "\u001b[32m[I 2023-05-25 16:07:31,101]\u001b[0m Trial 90 finished with value: 0.015718242153525352 and parameters: {'perplexity': 39, 'learning_rate': 330.63717699508203}. Best is trial 65 with value: 0.03711150586605072.\u001b[0m\n",
      "/Applications/anaconda3/lib/python3.7/site-packages/sklearn/manifold/_t_sne.py:783: FutureWarning: The default initialization in TSNE will change from 'random' to 'pca' in 1.2.\n",
      "  FutureWarning,\n",
      "\u001b[32m[I 2023-05-25 16:07:33,832]\u001b[0m Trial 91 finished with value: 0.01896028220653534 and parameters: {'perplexity': 37, 'learning_rate': 302.52998364984006}. Best is trial 65 with value: 0.03711150586605072.\u001b[0m\n",
      "/Applications/anaconda3/lib/python3.7/site-packages/sklearn/manifold/_t_sne.py:783: FutureWarning: The default initialization in TSNE will change from 'random' to 'pca' in 1.2.\n",
      "  FutureWarning,\n",
      "\u001b[32m[I 2023-05-25 16:07:36,620]\u001b[0m Trial 92 finished with value: 0.03131004050374031 and parameters: {'perplexity': 40, 'learning_rate': 285.42265057391677}. Best is trial 65 with value: 0.03711150586605072.\u001b[0m\n",
      "/Applications/anaconda3/lib/python3.7/site-packages/sklearn/manifold/_t_sne.py:783: FutureWarning: The default initialization in TSNE will change from 'random' to 'pca' in 1.2.\n",
      "  FutureWarning,\n",
      "\u001b[32m[I 2023-05-25 16:07:39,568]\u001b[0m Trial 93 finished with value: 0.018073685467243195 and parameters: {'perplexity': 44, 'learning_rate': 289.5420084719242}. Best is trial 65 with value: 0.03711150586605072.\u001b[0m\n",
      "/Applications/anaconda3/lib/python3.7/site-packages/sklearn/manifold/_t_sne.py:783: FutureWarning: The default initialization in TSNE will change from 'random' to 'pca' in 1.2.\n",
      "  FutureWarning,\n",
      "\u001b[32m[I 2023-05-25 16:07:42,668]\u001b[0m Trial 94 finished with value: 0.015182223170995712 and parameters: {'perplexity': 42, 'learning_rate': 268.5109479468038}. Best is trial 65 with value: 0.03711150586605072.\u001b[0m\n",
      "/Applications/anaconda3/lib/python3.7/site-packages/sklearn/manifold/_t_sne.py:783: FutureWarning: The default initialization in TSNE will change from 'random' to 'pca' in 1.2.\n",
      "  FutureWarning,\n",
      "\u001b[32m[I 2023-05-25 16:07:45,330]\u001b[0m Trial 95 finished with value: 0.014248345047235489 and parameters: {'perplexity': 40, 'learning_rate': 277.15608066535606}. Best is trial 65 with value: 0.03711150586605072.\u001b[0m\n",
      "/Applications/anaconda3/lib/python3.7/site-packages/sklearn/manifold/_t_sne.py:783: FutureWarning: The default initialization in TSNE will change from 'random' to 'pca' in 1.2.\n",
      "  FutureWarning,\n",
      "\u001b[32m[I 2023-05-25 16:07:47,936]\u001b[0m Trial 96 finished with value: 0.042205095291137695 and parameters: {'perplexity': 46, 'learning_rate': 252.13549489045974}. Best is trial 96 with value: 0.042205095291137695.\u001b[0m\n",
      "/Applications/anaconda3/lib/python3.7/site-packages/sklearn/manifold/_t_sne.py:783: FutureWarning: The default initialization in TSNE will change from 'random' to 'pca' in 1.2.\n",
      "  FutureWarning,\n",
      "\u001b[32m[I 2023-05-25 16:07:51,168]\u001b[0m Trial 97 finished with value: 0.015730656683444977 and parameters: {'perplexity': 46, 'learning_rate': 256.131986234189}. Best is trial 96 with value: 0.042205095291137695.\u001b[0m\n",
      "/Applications/anaconda3/lib/python3.7/site-packages/sklearn/manifold/_t_sne.py:783: FutureWarning: The default initialization in TSNE will change from 'random' to 'pca' in 1.2.\n",
      "  FutureWarning,\n",
      "\u001b[32m[I 2023-05-25 16:07:54,445]\u001b[0m Trial 98 finished with value: 0.030526062473654747 and parameters: {'perplexity': 21, 'learning_rate': 308.7128368980257}. Best is trial 96 with value: 0.042205095291137695.\u001b[0m\n",
      "/Applications/anaconda3/lib/python3.7/site-packages/sklearn/manifold/_t_sne.py:783: FutureWarning: The default initialization in TSNE will change from 'random' to 'pca' in 1.2.\n",
      "  FutureWarning,\n",
      "\u001b[32m[I 2023-05-25 16:07:57,432]\u001b[0m Trial 99 finished with value: 0.01168337557464838 and parameters: {'perplexity': 17, 'learning_rate': 298.05304185542167}. Best is trial 96 with value: 0.042205095291137695.\u001b[0m\n"
     ]
    }
   ],
   "source": [
    "from sklearn.metrics import silhouette_score\n",
    "import optuna\n",
    "def objective(trial):\n",
    "    # 定义参数搜索空间\n",
    "    perplexity = trial.suggest_int('perplexity', 5, 50)\n",
    "    learning_rate = trial.suggest_float('learning_rate', 50, 500)\n",
    "\n",
    "    # 创建 t-SNE 模型\n",
    "    tsne = TSNE(n_components=2, perplexity=perplexity, learning_rate=learning_rate)\n",
    "\n",
    "    # 转换数据\n",
    "    X_tsne = tsne.fit_transform(X)\n",
    "\n",
    "    # 计算聚类效果评分，这里可以根据具体需求定义自己的评分指标\n",
    "    score = silhouette_score(X_tsne, Y_true_test)\n",
    "\n",
    "    return score\n",
    "\n",
    "study = optuna.create_study(direction='maximize')\n",
    "study.optimize(objective, n_trials=100)"
   ]
  },
  {
   "cell_type": "code",
   "execution_count": 52,
   "metadata": {},
   "outputs": [
    {
     "data": {
      "text/plain": [
       "({'perplexity': 46, 'learning_rate': 252.13549489045974}, 0.042205095291137695)"
      ]
     },
     "execution_count": 52,
     "metadata": {},
     "output_type": "execute_result"
    }
   ],
   "source": [
    "best_params = study.best_params\n",
    "best_score = study.best_value\n",
    "best_params, best_score"
   ]
  },
  {
   "cell_type": "code",
   "execution_count": 7,
   "metadata": {},
   "outputs": [
    {
     "data": {
      "text/plain": [
       "'2023-06-02'"
      ]
     },
     "execution_count": 7,
     "metadata": {},
     "output_type": "execute_result"
    }
   ],
   "source": [
    "import datetime\n",
    "str(datetime.datetime.now().date())"
   ]
  },
  {
   "cell_type": "code",
   "execution_count": 16,
   "metadata": {},
   "outputs": [
    {
     "data": {
      "text/plain": [
       "torch.Size([4111, 25, 2])"
      ]
     },
     "execution_count": 16,
     "metadata": {},
     "output_type": "execute_result"
    }
   ],
   "source": [
    "attn = torch.rand((4111,25,1))\n",
    "attn_sum = torch.cat([attn, attn], dim=-1)\n",
    "attn_sum.shape"
   ]
  },
  {
   "cell_type": "code",
   "execution_count": 25,
   "metadata": {},
   "outputs": [],
   "source": [
    "np.save('test.npy', np.stack([attn.cpu().data, attn.cpu().data]))"
   ]
  },
  {
   "cell_type": "code",
   "execution_count": 53,
   "metadata": {},
   "outputs": [],
   "source": [
    "path_attn = np.load(f'results/base-han_5e-05_0.0_0.001_[2, 2]_256_30_[0]_512_64_None_2023-06-04/path_attn_2020.npy', allow_pickle=True)"
   ]
  },
  {
   "cell_type": "code",
   "execution_count": 6,
   "metadata": {},
   "outputs": [
    {
     "data": {
      "text/plain": [
       "0.1617395978252927"
      ]
     },
     "execution_count": 6,
     "metadata": {},
     "output_type": "execute_result"
    }
   ],
   "source": [
    "import numpy as np\n",
    "my_fr_recall = np.array([0.6677 for i in range(7)])\n",
    "baseline_fr_recall = np.array([0.5647, 0.5456, 0.5971, 0.5838, 0.5985, 0.5853, 0.5529])\n",
    "np.mean((my_fr_recall-baseline_fr_recall)/baseline_fr_recall)"
   ]
  },
  {
   "cell_type": "code",
   "execution_count": null,
   "metadata": {},
   "outputs": [],
   "source": []
  }
 ],
 "metadata": {
  "kernelspec": {
   "display_name": "Python 3",
   "language": "python",
   "name": "python3"
  },
  "language_info": {
   "codemirror_mode": {
    "name": "ipython",
    "version": 3
   },
   "file_extension": ".py",
   "mimetype": "text/x-python",
   "name": "python",
   "nbconvert_exporter": "python",
   "pygments_lexer": "ipython3",
   "version": "3.7.3"
  },
  "orig_nbformat": 4,
  "vscode": {
   "interpreter": {
    "hash": "cd78fef2128015050713e82ca51c6520b11aee7c9ee8df750520bbbc7384cbaa"
   }
  }
 },
 "nbformat": 4,
 "nbformat_minor": 2
}
