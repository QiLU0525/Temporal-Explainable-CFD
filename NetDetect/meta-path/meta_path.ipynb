{
 "cells": [
  {
   "cell_type": "code",
   "execution_count": 1,
   "metadata": {},
   "outputs": [
    {
     "data": {
      "text/plain": [
       "'0.25.1'"
      ]
     },
     "execution_count": 1,
     "metadata": {},
     "output_type": "execute_result"
    }
   ],
   "source": [
    "import pandas as pd\n",
    "import numpy as np\n",
    "import os\n",
    "import json\n",
    "import re\n",
    "import random\n",
    "from scipy.sparse import coo_matrix\n",
    "from scipy.io import mmread, mmwrite, mminfo\n",
    "import dgl\n",
    "import meta_2rel_v2, meta_3rel_v2\n",
    "# 用 base 环境，anaconda3 环境的 pandas 版本不对\n",
    "pd.__version__"
   ]
  },
  {
   "attachments": {},
   "cell_type": "markdown",
   "metadata": {},
   "source": [
    "两种方法统计四种关系的数量：一个是统计四种关系 mtx 中的 nnz，一种是统计csv表格里的行数，两种方法算出来的结果不一样，最终还是用关系csv表格里的行数"
   ]
  },
  {
   "cell_type": "code",
   "execution_count": 31,
   "metadata": {},
   "outputs": [
    {
     "name": "stdout",
     "output_type": "stream",
     "text": [
      "每种关系数量：高管: 844511, 亲属: 33232, 股东及子公司: 1371404, 关联交易: 1113171, 总计: 3362318\n"
     ]
    }
   ],
   "source": [
    "def path_stats(PATH_NAME):\n",
    "    N_by_year = []\n",
    "    for year in range(2003,2022):\n",
    "        path = mmread(f'mat_by_year/{year}/{PATH_NAME}.mtx')\n",
    "        N_by_year.append(path.nnz)\n",
    "    return N_by_year, np.sum(N_by_year)\n",
    "\n",
    "n_gaoguan_by_year, n_gaoguan = path_stats('gaoguan')\n",
    "_, n_trans = path_stats('guanlian')\n",
    "_, n_gud = path_stats('gud_&_sub')\n",
    "n_qin_by_year, n_qinshu = path_stats('qinshu')\n",
    "print(f'每种关系数量：高管: {n_gaoguan}, 亲属: {n_qinshu}, 股东及子公司: {n_gud}, 关联交易: {n_trans}, 总计: {n_gaoguan+n_qinshu+n_gud+n_trans}')"
   ]
  },
  {
   "cell_type": "code",
   "execution_count": 33,
   "metadata": {},
   "outputs": [
    {
     "name": "stdout",
     "output_type": "stream",
     "text": [
      "每种关系的数量：亲属:16684; 高管:844626; 关联交易:686116; 股东关系(包括子公司):1412443; 共计2959869\n"
     ]
    }
   ],
   "source": [
    "# 五种关系\n",
    "subfirm = pd.read_csv('../上市公司子公司情况表/subsidiary_fullname_matched.csv',encoding='gb18030')\n",
    "qinshu = pd.read_csv('../股权及亲属关系/qinshu_no_dup_person.csv',encoding='gb18030')\n",
    "gaoguan = pd.read_csv('../高管关系/gaoguan_no_dup_person.csv',encoding='gb18030')\n",
    "guanlian = pd.read_csv('../关联方交易/guanlian_no_dup_person.csv',encoding='gb18030')\n",
    "gudong = pd.read_csv('../十大股东文件/gudong_not_fin.csv',encoding='gb18030')\n",
    "# gudong = pd.read_csv('../十大流通股股东/gudong_no_dup_person.csv',encoding='gb18030')\n",
    "\n",
    "#读取train_test数据集\n",
    "# train_test = pd.read_csv('../train_test_x10.csv',encoding='gb18030')\n",
    "stk_fullname = pd.read_csv('../stk_fullname.csv',encoding='gb18030')\n",
    "fullname_id_dict = dict((stk_fullname.FullName[i],stk_fullname.Stkcd[i]) for i in stk_fullname.index)\n",
    "\n",
    "print('每种关系的数量：亲属:%d; 高管:%d; 关联交易:%d; 股东关系(包括子公司):%d; 共计%d' % \n",
    "      (len(qinshu), len(gaoguan), len(guanlian), len(gudong)+len(subfirm), len(subfirm)+len(qinshu)+len(gaoguan)+len(guanlian)+len(gudong)) )"
   ]
  },
  {
   "attachments": {},
   "cell_type": "markdown",
   "metadata": {},
   "source": [
    "### 生成上市公司、非上市公司、自然人三个列表"
   ]
  },
  {
   "attachments": {},
   "cell_type": "markdown",
   "metadata": {},
   "source": [
    "完整的上市公司列表来源于 code_for_CSMAR.xlsx，code_for_CSMAR 是由 会计信息质量-财务指标/all_corp_fin_data.xlsx 里面的上市公司提取出来的，就是财务指标完整的上市公司"
   ]
  },
  {
   "cell_type": "code",
   "execution_count": 16,
   "metadata": {},
   "outputs": [
    {
     "name": "stdout",
     "output_type": "stream",
     "text": [
      "子公司中有134家上市公司,剔除,剩下的作为初始的非上市公司集合\n"
     ]
    }
   ],
   "source": [
    "n_listed_corp = 0\n",
    "n_unlisted_corp = 0\n",
    "n_people = 0\n",
    "\n",
    "# 先生成所有上市公司的一个列表\n",
    "code_for_CSMAR = pd.read_excel('../code_for_CSMAR.xlsx',encoding = 'utf-8')\n",
    "listed_corp, unlisted_corp = set(code_for_CSMAR.code), set()\n",
    "# 子公司里面有一些是上市公司\n",
    "# unlisted_corp = set(subfirm.subsidiary)-set([str(i).zfill(6) for i in listed_corp])\n",
    "for i in set(subfirm.subsidiary):\n",
    "    try:\n",
    "        # 把子公司里面的上市公司代码加到listed_corp集合中\n",
    "        listed_corp.add(int(i))\n",
    "    except:\n",
    "        unlisted_corp.add(i)\n",
    "\n",
    "# 高管关系中的manager和亲属关系中的person1和person2都是个人\n",
    "people = set(list(gaoguan.manager)+list(qinshu.person1)+list(qinshu.person2))\n",
    "print('子公司中有%d家上市公司,剔除,剩下的作为初始的非上市公司集合' % len(set(subfirm.subsidiary)-unlisted_corp))"
   ]
  },
  {
   "cell_type": "code",
   "execution_count": 17,
   "metadata": {},
   "outputs": [],
   "source": [
    "# 股东关系,holded不可能是个人，holder可能是个人、上市公司、非上市公司\n",
    "last_name = r'^[赵钱孙李周吴郑王冯陈褚卫蒋沈韩杨朱秦尤许何吕施张孔曹严华金魏陶姜戚谢邹喻柏水窦章云苏潘葛奚范彭郎鲁韦昌马苗凤花方俞任袁柳酆鲍史唐费廉岑薛雷贺倪汤滕殷罗毕郝邬安常乐于时傅皮卞齐康伍余元卜顾孟平黄和穆萧尹姚邵湛汪祁毛禹狄米贝明臧计伏成戴谈宋茅庞熊纪舒屈项祝董梁杜阮蓝闵席季麻强贾路娄危江童颜郭梅盛林刁钟徐邱骆高夏蔡田樊胡凌霍虞支柯昝管卢莫经房裘缪干解应宗丁宣贲邓郁单杭洪包诸左石崔吉钮龚程嵇邢滑裴陆荣翁荀羊於惠甄麴家封芮羿储靳汲邴糜松井段富巫乌焦巴弓牧隗山谷车侯宓蓬全郗班仰秋仲伊宫宁仇栾暴甘钭厉戎祖武符刘景詹束叶幸司韶郜黎蓟薄印宿白怀蒲邰从鄂索咸籍赖卓蔺屠蒙池乔阴郁胥能苍双闻莘党翟谭贡劳逄姬申扶堵冉宰郦雍舄璩桑桂濮牛寿通边扈燕冀郏浦尚农温别庄晏柴瞿阎充慕连茹习宦艾鱼容向古易慎戈廖庾终暨居衡步都耿满弘匡国文寇广禄阙东殴殳沃利蔚越夔隆师巩厍聂晁勾敖融冷訾辛阚那简饶空曾毋沙乜养鞠须丰巢关蒯相查後荆红游竺权逯盖益桓公晋楚闫法汝鄢涂钦岳帅缑亢况后有商牟佘佴伯赏南宫墨哈谯笪年爱阳佟言福欧候劳原卿]'\n",
    "firm_suffix = r'公司|有限|股份|企业|责任|集团|银行|证券|基金|保险|科技|资管|Ltd|LTD|INC|Inc|LIMITED|A/C|中国|Bank|平台|Corp|CORP|医院|欧洲|控股|大学|煤炭|地产|绿化|服饰|小学|船厂|发展|药业|城投|建投|实业|增长'\n",
    "for i in gudong.index:\n",
    "    holded = gudong.loc[i,'Stkcd']\n",
    "    holder = gudong.loc[i,'shareholder']\n",
    "    # 后半部分的数字股票代码是字符串，用type = int识别不出来\n",
    "    try: # 判断是否是数字或者数字字符串\n",
    "        holded = int(holded)\n",
    "        listed_corp.add(holded)\n",
    "    except:\n",
    "        unlisted_corp.add(holded)\n",
    "    \n",
    "    try: # 判断是否是数字或者数字字符串\n",
    "        holder = int(holder)\n",
    "        listed_corp.add(holder)\n",
    "    except:\n",
    "        #if type(holder)==int or re.match('^[0-9]+',holder) is not None:\n",
    "        if holder in unlisted_corp or holder in people:\n",
    "            continue\n",
    "        elif len(re.findall(firm_suffix,holder)) > 0: # 不要用re.match，有些识别不出来\n",
    "            unlisted_corp.add(holder)\n",
    "        elif len(re.findall(r'^[^0-9A-Za-z]+-[0-9]+',holder)) > 0:\n",
    "            people.add(holder)\n",
    "        elif len(holder)<=4 and len(re.findall(last_name,holder)) > 0:\n",
    "            people.add(holder)\n",
    "        else:\n",
    "            unlisted_corp.add(holder)"
   ]
  },
  {
   "cell_type": "code",
   "execution_count": 18,
   "metadata": {},
   "outputs": [],
   "source": [
    "# 关联关系\n",
    "for i in guanlian.index:\n",
    "    seller = guanlian.loc[i,'seller']\n",
    "    buyer = guanlian.loc[i,'buyer']\n",
    "    try:\n",
    "        seller = int(seller)\n",
    "        listed_corp.add(seller)\n",
    "    except:\n",
    "        if seller not in unlisted_corp and seller not in people:\n",
    "            if len(re.findall(firm_suffix,seller)) > 0 :\n",
    "                unlisted_corp.add(seller)\n",
    "            elif len(seller)<=4 and len(re.findall(last_name,seller)) > 0:\n",
    "                people.add(seller)\n",
    "            elif len(re.findall(r'^[^0-9A-Za-z]+-[0-9]+',seller)) > 0:\n",
    "                people.add(seller)\n",
    "            else:\n",
    "                unlisted_corp.add(seller)\n",
    "\n",
    "    try:\n",
    "        buyer = int(buyer)\n",
    "        listed_corp.add(buyer)\n",
    "    except:\n",
    "        if buyer in unlisted_corp or buyer in people:\n",
    "            continue\n",
    "        elif len(re.findall(firm_suffix,buyer)) > 0:\n",
    "            unlisted_corp.add(buyer)\n",
    "        elif len(buyer)<=4 and len(re.findall(last_name,buyer)) > 0 :\n",
    "            people.add(buyer)\n",
    "        elif len(re.findall(r'^[^0-9A-Za-z]+-[0-9]+',buyer)) > 0:\n",
    "            people.add(buyer)\n",
    "        else:\n",
    "            unlisted_corp.add(buyer)\n"
   ]
  },
  {
   "cell_type": "code",
   "execution_count": 19,
   "metadata": {},
   "outputs": [
    {
     "name": "stdout",
     "output_type": "stream",
     "text": [
      "4111 324764 212646\n"
     ]
    }
   ],
   "source": [
    "n_listed_corp = len(listed_corp)\n",
    "n_unlisted_corp = len(unlisted_corp)\n",
    "n_people = len(people)\n",
    "\n",
    "listed_corp = sorted(listed_corp)\n",
    "people = sorted(people)\n",
    "unlisted_corp = sorted(unlisted_corp)\n",
    "print(n_listed_corp, n_unlisted_corp, n_people)\n",
    "# 3月2日版本：4111 324764 212646"
   ]
  },
  {
   "attachments": {},
   "cell_type": "markdown",
   "metadata": {},
   "source": [
    "写入 listed_firm.json，people.json，unlisted_firm.json"
   ]
  },
  {
   "cell_type": "code",
   "execution_count": null,
   "metadata": {},
   "outputs": [],
   "source": [
    "'''with open('listed_firm.json','w') as f:\n",
    "    json.dump(list(listed_corp),f,ensure_ascii=False)\n",
    "\n",
    "with open('people.json','w') as f:\n",
    "    json.dump(list(people),f,ensure_ascii=False)\n",
    "\n",
    "with open('unlisted_firm.json','w') as f:\n",
    "    json.dump(list(unlisted_corp),f,ensure_ascii=False)'''"
   ]
  },
  {
   "cell_type": "code",
   "execution_count": null,
   "metadata": {},
   "outputs": [],
   "source": [
    "last_name = '赵、钱、孙、李、周、吴、郑、王、冯、陈、褚、卫、蒋、沈、韩、杨、朱、秦、尤、许、何、吕、施、张、孔、曹、严、华、金、魏、陶、姜、戚、谢、邹、喻、柏、水、窦、章、云、苏、潘、葛、奚、范、彭、郎、鲁、韦、昌、马、苗、凤、花、方、俞、任、袁、柳、酆、鲍、史、唐、费、廉、岑、薛、雷、贺、倪、汤、滕、殷、罗、毕、郝、邬、安、常、乐、于、时、傅、皮、卞、齐、康、伍、余、元、卜、顾、孟、平、黄、和、穆、萧、尹、姚、邵、湛、汪、祁、毛、禹、狄、米、贝、明、臧、计、伏、成、戴、谈、宋、茅、庞、熊、纪、舒、屈、项、祝、董、梁、杜、阮、蓝、闵、席、季、麻、强、贾、路、娄、危、江、童、颜、郭、梅、盛、林、刁、钟、徐、邱、骆、高、夏、蔡、田、樊、胡、凌、霍、虞、支、柯、昝、管、卢、莫、经、房、裘、缪、干、解、应、宗、丁、宣、贲、邓、郁、单、杭、洪、包、诸、左、石、崔、吉、钮、龚、程、嵇、邢、滑、裴、陆、荣、翁、荀、羊、於、惠、甄、麴、家、封、芮、羿、储、靳、汲、邴、糜、松、井、段、富、巫、乌、焦、巴、弓、牧、隗、山、谷、车、侯、宓、蓬、全、郗、班、仰、秋、仲、伊、宫、宁、仇、栾、暴、甘、钭、厉、戎、祖、武、符、刘、景、詹、束、叶、幸、司、韶、郜、黎、蓟、薄、印、宿、白、怀、蒲、邰、从、鄂、索、咸、籍、赖、卓、蔺、屠、蒙、池、乔、阴、郁、胥、能、苍、双、闻、莘、党、翟、谭、贡、劳、逄、姬、申、扶、堵冉、宰、郦、雍、舄、璩、桑、桂、濮、牛、寿、通、边、扈、燕、冀、郏、浦、尚、农、温、别、庄、晏、柴、瞿、阎、充、慕、连、茹、习、宦、艾、鱼、容、向、古、易、慎戈、廖、庾、终、暨、居、衡、步、都、耿、满、弘、匡、国、文、寇、广、禄、阙、东殴、殳、沃、利、蔚、越、夔、隆、师、巩、厍、聂、晁、勾、敖、融、冷、訾、辛、阚那、简、饶、空、曾、毋、沙、乜、养、鞠、须、丰、巢、关、蒯、相、查、後、荆、红游、竺、权、逯、盖、益、桓、公晋、楚、闫、法、汝、鄢、涂、钦岳、帅、缑、亢、况、后、有商、牟、佘、佴、伯、赏、南宫、墨、哈、谯、笪、年、爱、阳、佟言、福'\n",
    "last_name = last_name.replace('、','')\n",
    "# 查看 people 集合中还有多少是公司的名称\n",
    "for i in people:\n",
    "    if re.match(r'^[^0-9A-Za-z]+-[0-9]+',i) is None and re.match(r'[^a-zA-Z]+',i) is not None:\n",
    "        if len(i)>3:\n",
    "            print(i)"
   ]
  },
  {
   "cell_type": "markdown",
   "metadata": {},
   "source": [
    "### 读取实体列表"
   ]
  },
  {
   "cell_type": "code",
   "execution_count": 22,
   "metadata": {},
   "outputs": [
    {
     "name": "stdout",
     "output_type": "stream",
     "text": [
      "4111 324764 212646\n",
      "541521\n"
     ]
    }
   ],
   "source": [
    "with open('listed_firm.json','r') as f:\n",
    "    listed_corp = json.load(f)\n",
    "with open('unlisted_firm.json', 'r') as f:\n",
    "    unlisted_corp = json.load(f)\n",
    "with open('people.json','r') as f:\n",
    "    people = json.load(f)\n",
    "\n",
    "n_listed_corp = len(listed_corp)\n",
    "n_unlisted_corp = len(unlisted_corp)\n",
    "n_people = len(people)\n",
    "n_all = n_listed_corp + n_unlisted_corp + n_people\n",
    "\n",
    "print(n_listed_corp, n_unlisted_corp, n_people)\n",
    "\n",
    "# 3月2日版本：4111 324764 212646\n",
    "# 5月30日版本：4111 324764 212646，和3月2日一样\n",
    "\n",
    "all_body = listed_corp + unlisted_corp + people\n",
    "print(len(all_body))\n",
    "\n",
    "# all_body_dict 用来找 entity 的下标\n",
    "all_body_dict = {}\n",
    "for i in range(len(all_body)):\n",
    "    all_body_dict[all_body[i]] = i"
   ]
  },
  {
   "attachments": {},
   "cell_type": "markdown",
   "metadata": {},
   "source": [
    "### 计算 one hop 关系，结果和3.2那版不太一样"
   ]
  },
  {
   "cell_type": "code",
   "execution_count": 23,
   "metadata": {},
   "outputs": [
    {
     "name": "stdout",
     "output_type": "stream",
     "text": [
      "2003 44 (541521, 541521)  qinshu done.\n",
      "2004 156 (541521, 541521)  qinshu done.\n",
      "2005 100 (541521, 541521)  qinshu done.\n",
      "2006 118 (541521, 541521)  qinshu done.\n",
      "2007 200 (541521, 541521)  qinshu done.\n",
      "2008 334 (541521, 541521)  qinshu done.\n",
      "2009 632 (541521, 541521)  qinshu done.\n",
      "2010 1346 (541521, 541521)  qinshu done.\n",
      "2011 1722 (541521, 541521)  qinshu done.\n",
      "2012 1566 (541521, 541521)  qinshu done.\n",
      "2013 1820 (541521, 541521)  qinshu done.\n",
      "2014 1878 (541521, 541521)  qinshu done.\n",
      "2015 2268 (541521, 541521)  qinshu done.\n",
      "2016 2898 (541521, 541521)  qinshu done.\n",
      "2017 4762 (541521, 541521)  qinshu done.\n",
      "2018 3712 (541521, 541521)  qinshu done.\n",
      "2019 3532 (541521, 541521)  qinshu done.\n",
      "2020 3140 (541521, 541521)  qinshu done.\n",
      "2021 3134 (541521, 541521)  qinshu done.\n"
     ]
    }
   ],
   "source": [
    "# 亲戚关系\n",
    "# 构造matrix by year\n",
    "all_body = listed_corp + unlisted_corp + people\n",
    "n_qinshu = 0\n",
    "_row, _col, _data= [], [], []\n",
    "for year in range(2003,2022):\n",
    "    for i in qinshu.index:\n",
    "        cur_year = int(qinshu.loc[ i,'interval'])\n",
    "        if cur_year != year:\n",
    "            continue\n",
    "\n",
    "        p1 = qinshu.loc[i,'person1']\n",
    "        p2 = qinshu.loc[i,'person2']\n",
    "\n",
    "        _row.append(all_body.index(p1))\n",
    "        _col.append(all_body.index(p2))\n",
    "        _data.append(1)\n",
    "\n",
    "        _row.append(all_body.index(p2))\n",
    "        _col.append(all_body.index(p1))\n",
    "        _data.append(1)\n",
    "    _row, _col, _data = np.array(_row), np.array(_col), np.array(_data)\n",
    "\n",
    "    coo = coo_matrix((_data, (_row, _col)), shape= (n_all,n_all), dtype=np.int)\n",
    "    n_qinshu += coo.nnz\n",
    "    # mmwrite(os.path.join('mat_by_year', str(year), 'qinshu.mtx'),coo)\n",
    "    _row, _col, _data = [], [], []\n",
    "    \n",
    "    print(year, coo.nnz, coo.shape,' qinshu done.')"
   ]
  },
  {
   "cell_type": "code",
   "execution_count": 35,
   "metadata": {},
   "outputs": [
    {
     "data": {
      "text/plain": [
       "[44,\n",
       " 156,\n",
       " 100,\n",
       " 118,\n",
       " 200,\n",
       " 328,\n",
       " 620,\n",
       " 1336,\n",
       " 1710,\n",
       " 1560,\n",
       " 1810,\n",
       " 1870,\n",
       " 2264,\n",
       " 2870,\n",
       " 4748,\n",
       " 3708,\n",
       " 3528,\n",
       " 3138,\n",
       " 3124]"
      ]
     },
     "execution_count": 35,
     "metadata": {},
     "output_type": "execute_result"
    }
   ],
   "source": [
    "n_qin_by_year"
   ]
  },
  {
   "cell_type": "code",
   "execution_count": 30,
   "metadata": {},
   "outputs": [
    {
     "name": "stdout",
     "output_type": "stream",
     "text": [
      "2003 21830 (4111, 541521) gaoguan done.\n",
      "2004 23561 (4111, 541521) gaoguan done.\n",
      "2005 23354 (4111, 541521) gaoguan done.\n",
      "2006 24605 (4111, 541521) gaoguan done.\n"
     ]
    },
    {
     "ename": "KeyboardInterrupt",
     "evalue": "",
     "output_type": "error",
     "traceback": [
      "\u001b[0;31m---------------------------------------------------------------------------\u001b[0m",
      "\u001b[0;31mKeyboardInterrupt\u001b[0m                         Traceback (most recent call last)",
      "\u001b[0;32m<ipython-input-30-bfe926d79cc1>\u001b[0m in \u001b[0;36m<module>\u001b[0;34m\u001b[0m\n\u001b[1;32m     13\u001b[0m \u001b[0;34m\u001b[0m\u001b[0m\n\u001b[1;32m     14\u001b[0m         \u001b[0m_row\u001b[0m\u001b[0;34m.\u001b[0m\u001b[0mappend\u001b[0m\u001b[0;34m(\u001b[0m\u001b[0mlisted_corp\u001b[0m\u001b[0;34m.\u001b[0m\u001b[0mindex\u001b[0m\u001b[0;34m(\u001b[0m\u001b[0mstk\u001b[0m\u001b[0;34m)\u001b[0m\u001b[0;34m)\u001b[0m\u001b[0;34m\u001b[0m\u001b[0;34m\u001b[0m\u001b[0m\n\u001b[0;32m---> 15\u001b[0;31m         \u001b[0m_col\u001b[0m\u001b[0;34m.\u001b[0m\u001b[0mappend\u001b[0m\u001b[0;34m(\u001b[0m\u001b[0mall_body\u001b[0m\u001b[0;34m.\u001b[0m\u001b[0mindex\u001b[0m\u001b[0;34m(\u001b[0m\u001b[0mmanager\u001b[0m\u001b[0;34m)\u001b[0m\u001b[0;34m)\u001b[0m\u001b[0;34m\u001b[0m\u001b[0;34m\u001b[0m\u001b[0m\n\u001b[0m\u001b[1;32m     16\u001b[0m         \u001b[0m_data\u001b[0m\u001b[0;34m.\u001b[0m\u001b[0mappend\u001b[0m\u001b[0;34m(\u001b[0m\u001b[0;36m1\u001b[0m\u001b[0;34m)\u001b[0m\u001b[0;34m\u001b[0m\u001b[0;34m\u001b[0m\u001b[0m\n\u001b[1;32m     17\u001b[0m \u001b[0;34m\u001b[0m\u001b[0m\n",
      "\u001b[0;31mKeyboardInterrupt\u001b[0m: "
     ]
    }
   ],
   "source": [
    "# 高管关系\n",
    "n_gaoguan = 0\n",
    "# 构造matrix by year\n",
    "all_body = listed_corp + unlisted_corp + people\n",
    "_row, _col, _data = [], [], []\n",
    "for year in range(2003,2022):\n",
    "    for i in gaoguan.index:\n",
    "        cur_year = int(gaoguan.loc[i,'interval'])\n",
    "        if cur_year != year:\n",
    "            continue\n",
    "        stk = gaoguan.loc[i,'Stkcd']\n",
    "        manager = gaoguan.loc[i,'manager']\n",
    "\n",
    "        _row.append(listed_corp.index(stk))\n",
    "        _col.append(all_body.index(manager))\n",
    "        _data.append(1)\n",
    "\n",
    "    _row, _col, _data = np.array(_row), np.array(_col), np.array(_data)\n",
    "\n",
    "    coo = coo_matrix((_data, (_row, _col)), shape= (n_listed_corp, n_all), dtype=np.int)\n",
    "    \n",
    "    # mmwrite(os.path.join('mat_by_year', str(year), 'gaoguan.mtx'),coo)\n",
    "    _row, _col, _data = [], [], []\n",
    "    n_gaoguan += coo.nnz\n",
    "    print(year, coo.nnz, coo.shape,'gaoguan done.')\n",
    "print(n_gaoguan)"
   ]
  },
  {
   "cell_type": "code",
   "execution_count": null,
   "metadata": {},
   "outputs": [],
   "source": [
    "# 关联交易\n",
    "_row, _col, _data = [], [], []\n",
    "all_body = listed_corp + unlisted_corp + people\n",
    "for year in range(2003,2022):\n",
    "    for i in guanlian.index:\n",
    "        cur_year = guanlian.loc[i,'interval']\n",
    "        \n",
    "        if year != cur_year:\n",
    "            continue\n",
    "        try:\n",
    "            seller = int(guanlian.loc[i,'seller'])\n",
    "        except:\n",
    "            seller = guanlian.loc[i,'seller']\n",
    "        try:\n",
    "            buyer = int(guanlian.loc[i,'buyer'])\n",
    "        except:\n",
    "            buyer = guanlian.loc[i,'buyer']\n",
    "        \n",
    "        _row.append(all_body.index(seller))\n",
    "        _col.append(all_body.index(buyer))\n",
    "        _data.append(1)\n",
    "        \n",
    "        # 因为在计算元路径的时候，关联交易不管是买方是目标上市公司还是卖方是目标上市公司，都要算在一个矩阵里，这里做成对称的矩阵更好\n",
    "        # 但是对称操作会使得有些数据重复，则导致 data 值大于1\n",
    "        _row.append(all_body.index(buyer))\n",
    "        _col.append(all_body.index(seller))\n",
    "        _data.append(1)\n",
    "    \n",
    "    coo = coo_matrix((_data, (_row, _col)), shape = (len(all_body),len(all_body)), dtype=np.int)\n",
    "    mmwrite(os.path.join('mat_by_year', str(year), 'guanlian.mtx'), coo)\n",
    "    _row, _col, _data = [], [], []\n",
    "    print(year, coo.nnz, coo.shape)\n"
   ]
  },
  {
   "attachments": {},
   "cell_type": "markdown",
   "metadata": {},
   "source": [
    "子公司关系并入股东关系里"
   ]
  },
  {
   "cell_type": "code",
   "execution_count": 32,
   "metadata": {},
   "outputs": [
    {
     "name": "stdout",
     "output_type": "stream",
     "text": [
      "2003 22526 (541521, 541521) gudong_subsidiary done.\n",
      "2004 24724 (541521, 541521) gudong_subsidiary done.\n",
      "2005 25872 (541521, 541521) gudong_subsidiary done.\n",
      "2006 28251 (541521, 541521) gudong_subsidiary done.\n",
      "2007 30175 (541521, 541521) gudong_subsidiary done.\n",
      "2008 32236 (541521, 541521) gudong_subsidiary done.\n",
      "2009 35735 (541521, 541521) gudong_subsidiary done.\n",
      "2010 39375 (541521, 541521) gudong_subsidiary done.\n",
      "2011 47178 (541521, 541521) gudong_subsidiary done.\n",
      "2012 51945 (541521, 541521) gudong_subsidiary done.\n",
      "2013 61577 (541521, 541521) gudong_subsidiary done.\n",
      "2014 71833 (541521, 541521) gudong_subsidiary done.\n",
      "2015 84852 (541521, 541521) gudong_subsidiary done.\n",
      "2016 93478 (541521, 541521) gudong_subsidiary done.\n",
      "2017 117341 (541521, 541521) gudong_subsidiary done.\n",
      "2018 126834 (541521, 541521) gudong_subsidiary done.\n",
      "2019 140311 (541521, 541521) gudong_subsidiary done.\n",
      "2020 165445 (541521, 541521) gudong_subsidiary done.\n",
      "2021 171716 (541521, 541521) gudong_subsidiary done.\n"
     ]
    }
   ],
   "source": [
    "# 子公司 & 股东关系\n",
    "\n",
    "# 矩阵的 row 是股东， col是被持股方\n",
    "_row, _col, _data = [], [], []\n",
    "all_body = listed_corp + unlisted_corp + people\n",
    "\n",
    "for year in range(2003,2022):\n",
    "    # 子公司\n",
    "    for i in subfirm.index:\n",
    "        cur_year = int(subfirm.loc[i,'interval'])\n",
    "        if cur_year != year:\n",
    "            continue\n",
    "\n",
    "        stkcd = subfirm.loc[i,'Stkcd']\n",
    "        \n",
    "        try: # 判断子公司是上市公司还是非上市公司\n",
    "            sub = int(subfirm.loc[i,'subsidiary'])\n",
    "        except:\n",
    "            sub = subfirm.loc[i,'subsidiary']\n",
    "        \n",
    "        # row 是股东， col是被持股方\n",
    "        _row.append(all_body_dict[stkcd])\n",
    "        _col.append(all_body_dict[sub])\n",
    "        _data.append(1)\n",
    "    \n",
    "    # 股东关系\n",
    "    for i in gudong.index:\n",
    "        cur_year = gudong.loc[i,'interval']\n",
    "        if year != cur_year:\n",
    "            continue\n",
    "        holded = int(gudong.loc[i,'Stkcd'])\n",
    "        try:\n",
    "            holder = int(gudong.loc[i,'shareholder'])\n",
    "        except:\n",
    "            holder = gudong.loc[i,'shareholder']\n",
    "        \n",
    "        # row 是股东， col是被持股方\n",
    "        _row.append(all_body_dict[holder])\n",
    "        _col.append(all_body_dict[holded])\n",
    "        _data.append(1)\n",
    "\n",
    "    coo = coo_matrix((_data, (_row, _col)), shape= (len(all_body), len(all_body)), dtype=np.int)\n",
    "    # coo.todense()  # 通过toarray方法转化成密集矩阵(numpy.matrix)\n",
    "    mmwrite(os.path.join('mat_by_year', str(year), 'gud_&_sub.mtx'),coo)\n",
    "    _row, _col, _data = [], [], []\n",
    "    print(year, coo.nnz, coo.shape, 'gudong_subsidiary done.')"
   ]
  },
  {
   "cell_type": "code",
   "execution_count": null,
   "metadata": {},
   "outputs": [],
   "source": [
    "# 子公司关系\n",
    "''' \n",
    "_row, _col, _data = [], [], []\n",
    "all_corp = listed_corp + unlisted_corp\n",
    "all_body = listed_corp + unlisted_corp + people\n",
    "\n",
    "# 构造matrix by year\n",
    "for year in range(2003,2022):\n",
    "    for i in subfirm.index:\n",
    "        cur_year = int(subfirm.loc[i,'interval'])\n",
    "        if cur_year != year:\n",
    "            continue\n",
    "\n",
    "        stkcd = subfirm.loc[i,'Stkcd']\n",
    "        \n",
    "        try: # 判断子公司是上市公司还是非上市公司\n",
    "            sub = int(subfirm.loc[i,'subsidiary'])\n",
    "        except:\n",
    "            sub = subfirm.loc[i,'subsidiary']\n",
    "        \n",
    "        _row.append(listed_corp.index(stkcd))\n",
    "        \n",
    "        _col.append(all_corp.index(sub))\n",
    "        \n",
    "        _data.append(1)\n",
    "\n",
    "    _row, _col, _data = np.array(_row), np.array(_col), np.array(_data)\n",
    "\n",
    "    coo = coo_matrix((_data, (_row, _col)), shape= (n_listed_corp, n_listed_corp + n_unlisted_corp), dtype=np.int)\n",
    "    # coo.todense()  # 通过toarray方法转化成密集矩阵(numpy.matrix)\n",
    "    mmwrite(os.path.join('mat_by_year', str(year), 'subfirm.mtx'),coo)\n",
    "    _row, _col, _data = [], [], []\n",
    "    print(year, coo.nnz, coo.shape, 'subsidiary done.')\n",
    "'''"
   ]
  },
  {
   "cell_type": "code",
   "execution_count": null,
   "metadata": {},
   "outputs": [],
   "source": [
    "# 股东关系\n",
    "# all_corp = listed_corp + unlisted_corp\n",
    "'''\n",
    "all_body = listed_corp + unlisted_corp + people\n",
    "\n",
    "_row, _col, _data = [], [], []\n",
    "for year in range(2003,2022):\n",
    "    for i in gudong.index:\n",
    "        cur_year = gudong.loc[i,'interval']\n",
    "        if year != cur_year:\n",
    "            continue\n",
    "        holded = int(gudong.loc[i,'Stkcd'])\n",
    "        try:\n",
    "            holder = int(gudong.loc[i,'shareholder'])\n",
    "        except:\n",
    "            holder = gudong.loc[i,'shareholder']\n",
    "        \n",
    "        _row.append(listed_corp.index(holded))\n",
    "        _col.append(all_body.index(holder))\n",
    "        _data.append(1)\n",
    "    coo = coo_matrix((_data, (_row, _col)), shape = (n_listed_corp, n_all), dtype=np.int)\n",
    "    mmwrite(os.path.join('mat_by_year', str(year), 'gudong.mtx'),coo)\n",
    "    _row, _col, _data = [], [], []\n",
    "    # print(year,' gudong done.')\n",
    "    print(year, coo.nnz, coo.shape)\n",
    "'''"
   ]
  },
  {
   "cell_type": "markdown",
   "metadata": {},
   "source": [
    "### 计算相似度"
   ]
  },
  {
   "cell_type": "code",
   "execution_count": 36,
   "metadata": {},
   "outputs": [
    {
     "name": "stdout",
     "output_type": "stream",
     "text": [
      "4111 324764 212646 541521\n"
     ]
    }
   ],
   "source": [
    "with open('listed_firm.json','r') as f:\n",
    "    listed_corp = json.load(f)\n",
    "with open('unlisted_firm.json', 'r') as f:\n",
    "    unlisted_corp = json.load(f)\n",
    "with open('people.json','r') as f:\n",
    "    people = json.load(f)\n",
    "\n",
    "n_listed_corp = len(listed_corp)\n",
    "n_unlisted_corp = len(unlisted_corp)\n",
    "n_people = len(people)\n",
    "n_all = n_listed_corp + n_unlisted_corp + n_people\n",
    "\n",
    "print(n_listed_corp, n_unlisted_corp, n_people, n_all)\n",
    "\n",
    "def trans(D):\n",
    "    return coo_matrix((D.data, (D.col, D.row)), shape=(D.shape[1], D.shape[0]))\n",
    "# 3124 254457 160165 417746"
   ]
  },
  {
   "cell_type": "code",
   "execution_count": 3,
   "metadata": {},
   "outputs": [],
   "source": [
    "def listed_row_slices(coo_mtx, n_listed_corp): # 对原始的矩阵进行行切片，以加快计算速度\n",
    "    _row, _col, _data = [], [], []\n",
    "    \n",
    "    for row, col, data in zip(coo_mtx.row, coo_mtx.col, coo_mtx.data):\n",
    "        if row < n_listed_corp:\n",
    "            _row.append(row)\n",
    "            _col.append(col)\n",
    "            _data.append(data)\n",
    "    return coo_matrix((_data, (_row, _col)), shape = (n_listed_corp, coo_mtx.shape[1]), dtype=np.int)\n",
    "\n",
    "def listed_col_slices(coo_mtx, n_listed_corp): # 对原始的矩阵进行行切片，以加快计算速度\n",
    "    _row, _col, _data = [], [], []\n",
    "    \n",
    "    for row, col, data in zip(coo_mtx.row, coo_mtx.col, coo_mtx.data):\n",
    "        if col < n_listed_corp:\n",
    "            _row.append(row)\n",
    "            _col.append(col)\n",
    "            _data.append(data)\n",
    "    return coo_matrix((_data, (_row, _col)), shape = (coo_mtx.shape[0], n_listed_corp), dtype=np.int)\n",
    "\n",
    "def listed_listed_slices(coo_mtx, n_listed_corp): # 对原始的矩阵进行行切片，以加快计算速度\n",
    "    '''\n",
    "    output: coo (4111, 4111)\n",
    "    '''\n",
    "    _row, _col, _data = [], [], []\n",
    "    \n",
    "    for row, col, data in zip(coo_mtx.row, coo_mtx.col, coo_mtx.data):\n",
    "        if row < n_listed_corp and col < n_listed_corp:\n",
    "            _row.append(row)\n",
    "            _col.append(col)\n",
    "            _data.append(data)\n",
    "    return coo_matrix((_data, (_row, _col)), shape = (n_listed_corp, n_listed_corp), dtype=np.int)\n"
   ]
  },
  {
   "attachments": {},
   "cell_type": "markdown",
   "metadata": {},
   "source": [
    "统计路径从2003-2021年的总数"
   ]
  },
  {
   "cell_type": "code",
   "execution_count": 5,
   "metadata": {},
   "outputs": [
    {
     "data": {
      "text/plain": [
       "9869"
      ]
     },
     "execution_count": 5,
     "metadata": {},
     "output_type": "execute_result"
    }
   ],
   "source": [
    "def sum_path_num(path_name):\n",
    "    total_num = 0\n",
    "    for year in range(2003, 2022):\n",
    "        coo = mmread(f'mat_by_year/{year}/metapath/{path_name}.mtx')\n",
    "        total_num+=coo.nnz\n",
    "    return total_num\n",
    "    \n",
    "sum_path_num(path_name = 'gu(T)_qin_gu')"
   ]
  },
  {
   "attachments": {},
   "cell_type": "markdown",
   "metadata": {},
   "source": [
    "### 长度为1的路径"
   ]
  },
  {
   "attachments": {},
   "cell_type": "markdown",
   "metadata": {},
   "source": [
    "listed_firm - [shareholderOf] - listed_firm"
   ]
  },
  {
   "cell_type": "code",
   "execution_count": 44,
   "metadata": {},
   "outputs": [
    {
     "name": "stdout",
     "output_type": "stream",
     "text": [
      "2003 419 (4111, 4111)\n",
      "2004 559 (4111, 4111)\n",
      "2005 626 (4111, 4111)\n",
      "2006 753 (4111, 4111)\n",
      "2007 924 (4111, 4111)\n",
      "2008 865 (4111, 4111)\n",
      "2009 1291 (4111, 4111)\n",
      "2010 1720 (4111, 4111)\n",
      "2011 1739 (4111, 4111)\n",
      "2012 1704 (4111, 4111)\n",
      "2013 1860 (4111, 4111)\n",
      "2014 4040 (4111, 4111)\n",
      "2015 6496 (4111, 4111)\n",
      "2016 5791 (4111, 4111)\n",
      "2017 4656 (4111, 4111)\n",
      "2018 3623 (4111, 4111)\n",
      "2019 3782 (4111, 4111)\n",
      "2020 4541 (4111, 4111)\n",
      "2021 6000 (4111, 4111)\n",
      "21年总共有: 51389 条路径\n"
     ]
    }
   ],
   "source": [
    "total_num = 0\n",
    "for year in range(2003,2022):\n",
    "    # [all_body, all_body]\n",
    "    gudong = mmread(os.path.join('mat_by_year',str(year), 'gud_&_sub.mtx'))\n",
    "    # [all_body, all_body]  -> [listed_corp, listed_corp]\n",
    "    gudong = listed_listed_slices(gudong, n_listed_corp=n_listed_corp)\n",
    "    \n",
    "    mmwrite(os.path.join('mat_by_year',str(year),'metapath/gudong.mtx'), gudong)\n",
    "    total_num += gudong.nnz\n",
    "    print(year, gudong.nnz, gudong.shape)\n",
    "print(f'21年总共有: {total_num} 条路径')"
   ]
  },
  {
   "attachments": {},
   "cell_type": "markdown",
   "metadata": {},
   "source": [
    "listed_firm - [HasTransaction] - listed_firm"
   ]
  },
  {
   "cell_type": "code",
   "execution_count": 45,
   "metadata": {},
   "outputs": [
    {
     "name": "stdout",
     "output_type": "stream",
     "text": [
      "2003 258 (4111, 4111)\n",
      "2004 232 (4111, 4111)\n",
      "2005 248 (4111, 4111)\n",
      "2006 307 (4111, 4111)\n",
      "2007 314 (4111, 4111)\n",
      "2008 426 (4111, 4111)\n",
      "2009 428 (4111, 4111)\n",
      "2010 520 (4111, 4111)\n",
      "2011 613 (4111, 4111)\n",
      "2012 662 (4111, 4111)\n",
      "2013 721 (4111, 4111)\n",
      "2014 821 (4111, 4111)\n",
      "2015 926 (4111, 4111)\n",
      "2016 1051 (4111, 4111)\n",
      "2017 1218 (4111, 4111)\n",
      "2018 1302 (4111, 4111)\n",
      "2019 1565 (4111, 4111)\n",
      "2020 1686 (4111, 4111)\n",
      "2021 1797 (4111, 4111)\n",
      "21年总共有: 15095 条路径\n"
     ]
    }
   ],
   "source": [
    "total_num = 0\n",
    "for year in range(2003,2022):\n",
    "    # [all_body, all_body]\n",
    "    guanlian = mmread(os.path.join('mat_by_year',str(year),'guanlian.mtx'))\n",
    "    # [all_body, all_body]  -> [listed_corp, listed_corp]\n",
    "    guanlian = listed_listed_slices(guanlian, n_listed_corp=n_listed_corp)\n",
    "    \n",
    "    mmwrite(os.path.join('mat_by_year',str(year),'metapath/guanlian.mtx'), guanlian)\n",
    "    total_num += guanlian.nnz\n",
    "    print(year, guanlian.nnz, guanlian.shape)\n",
    "print(f'21年总共有: {total_num} 条路径')"
   ]
  },
  {
   "attachments": {},
   "cell_type": "markdown",
   "metadata": {},
   "source": [
    "### 长度为2的路径"
   ]
  },
  {
   "cell_type": "code",
   "execution_count": 15,
   "metadata": {},
   "outputs": [],
   "source": [
    "import meta_2rel_v2 # v2 太慢了"
   ]
  },
  {
   "attachments": {},
   "cell_type": "markdown",
   "metadata": {},
   "source": [
    "1. (C1, shareholderOf -1, C3, shareholderOf, C2)\n",
    "2. (C1, shareholderOf -1, C3, hasTransaction, C2)\n",
    "3. (C1, shareholderOf-1, P, managerOf, C2)\n",
    "4. (C1, shareholderOf -1, C3, shareholderOf-1, C2) (C1, shareholderOf , C3, shareholderOf, C2)\n",
    "5. (C1, hasTransaction, C3, hasTransaction, C2)\n",
    "6. (C1, hasTransaction, P, managerOf, C2)\n",
    "7. (C1, shareholderOf, C3, hasTransaction, C2)\n",
    "8. (C1, managerOf -1, P, managerOf, C2)\n",
    "9. (C1, shareholderOf, C3, shareholderOf-1, C2)"
   ]
  },
  {
   "attachments": {},
   "cell_type": "markdown",
   "metadata": {},
   "source": [
    "1. (C1, shareholderOf-1, C3, shareholderOf, C2)\n"
   ]
  },
  {
   "cell_type": "code",
   "execution_count": 50,
   "metadata": {},
   "outputs": [
    {
     "name": "stdout",
     "output_type": "stream",
     "text": [
      "2003 7656 (4111, 4111)\n",
      "2004 17102 (4111, 4111)\n",
      "2005 19036 (4111, 4111)\n",
      "2006 30238 (4111, 4111)\n",
      "2007 45686 (4111, 4111)\n",
      "2008 41166 (4111, 4111)\n",
      "2009 89640 (4111, 4111)\n",
      "2010 164676 (4111, 4111)\n",
      "2011 163172 (4111, 4111)\n",
      "2012 157724 (4111, 4111)\n",
      "2013 167624 (4111, 4111)\n",
      "2014 1135048 (4111, 4111)\n",
      "2015 3011894 (4111, 4111)\n",
      "2016 2250474 (4111, 4111)\n",
      "2017 1468782 (4111, 4111)\n",
      "2018 1124826 (4111, 4111)\n",
      "2019 1657594 (4111, 4111)\n",
      "2020 2287526 (4111, 4111)\n",
      "2021 2972232 (4111, 4111)\n",
      "21年总共有: 16812096 条路径\n"
     ]
    }
   ],
   "source": [
    "total_num = 0\n",
    "for year in range(2003,2022):\n",
    "    # [all_body, all_body]\n",
    "    gudong = mmread(os.path.join('mat_by_year',str(year), 'gud_&_sub.mtx'))\n",
    "    # [all_body, listed_corp] 行是 股东，列是被持股方\n",
    "    gudong = listed_col_slices(gudong, n_listed_corp)\n",
    "    # [listed_corp, all_body]\n",
    "    gudong_T = trans(gudong)\n",
    "\n",
    "    gudT_gud = meta_2rel_v2.cal_metapath(gudong_T, gudong, del_diagnoal=True)\n",
    "    print(year, gudT_gud.nnz, gudT_gud.shape)\n",
    "    total_num += gudT_gud.nnz\n",
    "\n",
    "    mmwrite(os.path.join('mat_by_year',str(year),'metapath/gud(T)_gud.mtx'), gudT_gud)\n",
    "\n",
    "print(f'21年总共有: {total_num} 条路径') # 16812096"
   ]
  },
  {
   "attachments": {},
   "cell_type": "markdown",
   "metadata": {},
   "source": [
    "4. (C1, shareholderOf -1, C3, shareholderOf-1, C2) or (C1, shareholderOf , C3, shareholderOf, C2), 这里用后者来计算"
   ]
  },
  {
   "cell_type": "code",
   "execution_count": 51,
   "metadata": {},
   "outputs": [
    {
     "name": "stdout",
     "output_type": "stream",
     "text": [
      "2003 99 (4111, 4111)\n",
      "2004 162 (4111, 4111)\n",
      "2005 160 (4111, 4111)\n",
      "2006 202 (4111, 4111)\n",
      "2007 173 (4111, 4111)\n",
      "2008 149 (4111, 4111)\n",
      "2009 245 (4111, 4111)\n",
      "2010 272 (4111, 4111)\n",
      "2011 243 (4111, 4111)\n",
      "2012 302 (4111, 4111)\n",
      "2013 293 (4111, 4111)\n",
      "2014 459 (4111, 4111)\n",
      "2015 697 (4111, 4111)\n",
      "2016 741 (4111, 4111)\n",
      "2017 691 (4111, 4111)\n",
      "2018 583 (4111, 4111)\n",
      "2019 552 (4111, 4111)\n",
      "2020 692 (4111, 4111)\n",
      "2021 1010 (4111, 4111)\n",
      "21年总共有: 7725 条路径\n"
     ]
    }
   ],
   "source": [
    "total_num = 0\n",
    "for year in range(2003,2022):\n",
    "    # [all_body, all_body]\n",
    "    gudong = mmread(os.path.join('mat_by_year',str(year), 'gud_&_sub.mtx'))\n",
    "    # [listed_corp, all_body] 行是股东，列是被持股方\n",
    "    gudong = listed_row_slices(gudong, n_listed_corp)\n",
    "    \n",
    "    # [all_body, listed_corp] 行是股东，列是被持股方\n",
    "    gudong_level2 = listed_col_slices(gudong, n_listed_corp)\n",
    "    \n",
    "    gud_gud = meta_2rel_v2.cal_metapath(gudong, gudong_level2, del_diagnoal=True)\n",
    "    print(year, gud_gud.nnz, gud_gud.shape)\n",
    "    total_num += gud_gud.nnz\n",
    "\n",
    "    mmwrite(os.path.join('mat_by_year',str(year),'metapath/gud_gud.mtx'), gud_gud)\n",
    "\n",
    "print(f'21年总共有: {total_num} 条路径') # 7725"
   ]
  },
  {
   "attachments": {},
   "cell_type": "markdown",
   "metadata": {},
   "source": [
    "9. (C1, shareholderOf, C3, shareholderOf-1, C2)"
   ]
  },
  {
   "cell_type": "code",
   "execution_count": 52,
   "metadata": {},
   "outputs": [
    {
     "name": "stdout",
     "output_type": "stream",
     "text": [
      "2003 212 (4111, 4111)\n",
      "2004 326 (4111, 4111)\n",
      "2005 380 (4111, 4111)\n",
      "2006 496 (4111, 4111)\n",
      "2007 518 (4111, 4111)\n",
      "2008 478 (4111, 4111)\n",
      "2009 730 (4111, 4111)\n",
      "2010 864 (4111, 4111)\n",
      "2011 832 (4111, 4111)\n",
      "2012 798 (4111, 4111)\n",
      "2013 892 (4111, 4111)\n",
      "2014 1474 (4111, 4111)\n",
      "2015 2436 (4111, 4111)\n",
      "2016 2426 (4111, 4111)\n",
      "2017 2128 (4111, 4111)\n",
      "2018 1718 (4111, 4111)\n",
      "2019 1550 (4111, 4111)\n",
      "2020 2008 (4111, 4111)\n",
      "2021 3026 (4111, 4111)\n",
      "21年总共有: 23292 条路径\n"
     ]
    }
   ],
   "source": [
    "total_num = 0\n",
    "for year in range(2003,2022):\n",
    "    # [all_body, all_body]\n",
    "    gudong = mmread(os.path.join('mat_by_year',str(year), 'gud_&_sub.mtx'))\n",
    "    # [listed_corp, all_body] 行是股东，列是被持股方\n",
    "    gudong = listed_row_slices(gudong, n_listed_corp)\n",
    "    \n",
    "    gudong_T = trans(gudong)\n",
    "    \n",
    "    gud_gudT = meta_2rel_v2.cal_metapath(gudong, gudong_T, del_diagnoal=True)\n",
    "    print(year, gud_gudT.nnz, gud_gudT.shape)\n",
    "    total_num += gud_gudT.nnz\n",
    "\n",
    "    mmwrite(os.path.join('mat_by_year',str(year),'metapath/gud_gud(T).mtx'), gud_gudT)\n",
    "\n",
    "print(f'21年总共有: {total_num} 条路径') # 23292"
   ]
  },
  {
   "attachments": {},
   "cell_type": "markdown",
   "metadata": {},
   "source": [
    "2. (C1, shareholderOf -1, C3, hasTransaction, C2)"
   ]
  },
  {
   "cell_type": "code",
   "execution_count": 55,
   "metadata": {},
   "outputs": [
    {
     "name": "stdout",
     "output_type": "stream",
     "text": [
      "2003 1238 (4111, 4111)\n",
      "2004 1533 (4111, 4111)\n",
      "2005 1593 (4111, 4111)\n",
      "2006 1863 (4111, 4111)\n",
      "2007 1912 (4111, 4111)\n",
      "2008 2148 (4111, 4111)\n",
      "2009 2471 (4111, 4111)\n",
      "2010 2514 (4111, 4111)\n",
      "2011 3101 (4111, 4111)\n",
      "2012 3199 (4111, 4111)\n",
      "2013 3633 (4111, 4111)\n",
      "2014 4428 (4111, 4111)\n",
      "2015 5748 (4111, 4111)\n",
      "2016 5598 (4111, 4111)\n",
      "2017 6158 (4111, 4111)\n",
      "2018 7612 (4111, 4111)\n",
      "2019 9060 (4111, 4111)\n",
      "2020 11580 (4111, 4111)\n",
      "2021 13964 (4111, 4111)\n",
      "21年总共有: 89353 条路径\n"
     ]
    }
   ],
   "source": [
    "total_num = 0\n",
    "for year in range(2003,2022):\n",
    "    # [all_body, all_body]\n",
    "    gudong = mmread(os.path.join('mat_by_year',str(year), 'gud_&_sub.mtx'))\n",
    "    # [all_body, listed_corp] 行是股东，列是被持股方\n",
    "    gudong = listed_col_slices(gudong, n_listed_corp)\n",
    "    # [listed_corp, all_body]\n",
    "    gudong_T = trans(gudong)\n",
    "    # [all_body, all_body]\n",
    "    guanlian = mmread(os.path.join('mat_by_year',str(year),'guanlian.mtx'))\n",
    "    # [all_body, listed_corp]\n",
    "    guanlian = listed_col_slices(guanlian, n_listed_corp=n_listed_corp)\n",
    "    \n",
    "    gudT_trans = meta_2rel_v2.cal_metapath(gudong_T, guanlian, del_diagnoal=False)\n",
    "\n",
    "    mmwrite(f'mat_by_year/{year}/metapath/gud(T)_trans.mtx', gudT_trans)\n",
    "    print(year, gudT_trans.nnz, gudT_trans.shape)\n",
    "    total_num += gudT_trans.nnz\n",
    "print(f'21年总共有: {total_num} 条路径') # 89353"
   ]
  },
  {
   "attachments": {},
   "cell_type": "markdown",
   "metadata": {},
   "source": [
    "7. (C1, shareholderOf, C3, hasTransaction, C2)"
   ]
  },
  {
   "cell_type": "code",
   "execution_count": 72,
   "metadata": {},
   "outputs": [
    {
     "ename": "KeyboardInterrupt",
     "evalue": "",
     "output_type": "error",
     "traceback": [
      "\u001b[0;31m---------------------------------------------------------------------------\u001b[0m",
      "\u001b[0;31mKeyboardInterrupt\u001b[0m                         Traceback (most recent call last)",
      "\u001b[0;32m<ipython-input-72-8fb6a9842256>\u001b[0m in \u001b[0;36m<module>\u001b[0;34m\u001b[0m\n\u001b[1;32m     11\u001b[0m     \u001b[0mguanlian\u001b[0m \u001b[0;34m=\u001b[0m \u001b[0mlisted_col_slices\u001b[0m\u001b[0;34m(\u001b[0m\u001b[0mguanlian\u001b[0m\u001b[0;34m,\u001b[0m \u001b[0mn_listed_corp\u001b[0m\u001b[0;34m=\u001b[0m\u001b[0mn_listed_corp\u001b[0m\u001b[0;34m)\u001b[0m\u001b[0;34m\u001b[0m\u001b[0;34m\u001b[0m\u001b[0m\n\u001b[1;32m     12\u001b[0m \u001b[0;34m\u001b[0m\u001b[0m\n\u001b[0;32m---> 13\u001b[0;31m     \u001b[0mgud_trans\u001b[0m \u001b[0;34m=\u001b[0m \u001b[0mmeta_2rel_v2\u001b[0m\u001b[0;34m.\u001b[0m\u001b[0mcal_metapath\u001b[0m\u001b[0;34m(\u001b[0m\u001b[0mgudong\u001b[0m\u001b[0;34m,\u001b[0m \u001b[0mguanlian\u001b[0m\u001b[0;34m,\u001b[0m \u001b[0mdel_diagnoal\u001b[0m\u001b[0;34m=\u001b[0m\u001b[0;32mFalse\u001b[0m\u001b[0;34m)\u001b[0m\u001b[0;34m\u001b[0m\u001b[0;34m\u001b[0m\u001b[0m\n\u001b[0m\u001b[1;32m     14\u001b[0m \u001b[0;34m\u001b[0m\u001b[0m\n\u001b[1;32m     15\u001b[0m     \u001b[0mmmwrite\u001b[0m\u001b[0;34m(\u001b[0m\u001b[0;34mf'mat_by_year/{year}/metapath/gud_trans.mtx'\u001b[0m\u001b[0;34m,\u001b[0m \u001b[0mgud_trans\u001b[0m\u001b[0;34m)\u001b[0m\u001b[0;34m\u001b[0m\u001b[0;34m\u001b[0m\u001b[0m\n",
      "\u001b[0;32m~/Resource/Research/CorporateFraudDetection/WangShuo_CFD/Temporal_Explainable_CFD/meta-path/meta_2rel_v2.py\u001b[0m in \u001b[0;36mcal_metapath\u001b[0;34m(matrix_a, matrix_b, del_diagnoal)\u001b[0m\n\u001b[1;32m     56\u001b[0m \u001b[0;34m\u001b[0m\u001b[0m\n\u001b[1;32m     57\u001b[0m             \u001b[0;31m# print(f_i,f_j,listAB,listBC)\u001b[0m\u001b[0;34m\u001b[0m\u001b[0;34m\u001b[0m\u001b[0;34m\u001b[0m\u001b[0m\n\u001b[0;32m---> 58\u001b[0;31m             \u001b[0;32mif\u001b[0m \u001b[0;32mnot\u001b[0m \u001b[0mlistCB\u001b[0m \u001b[0;32mor\u001b[0m \u001b[0;32mnot\u001b[0m \u001b[0mlistAB\u001b[0m \u001b[0;32mor\u001b[0m \u001b[0;32mnot\u001b[0m \u001b[0mlist\u001b[0m\u001b[0;34m(\u001b[0m\u001b[0mset\u001b[0m\u001b[0;34m(\u001b[0m\u001b[0mlistAB\u001b[0m\u001b[0;34m)\u001b[0m \u001b[0;34m&\u001b[0m \u001b[0mset\u001b[0m\u001b[0;34m(\u001b[0m\u001b[0mlistCB\u001b[0m\u001b[0;34m)\u001b[0m\u001b[0;34m)\u001b[0m\u001b[0;34m:\u001b[0m \u001b[0;31m# listBC是空集\u001b[0m\u001b[0;34m\u001b[0m\u001b[0;34m\u001b[0m\u001b[0m\n\u001b[0m\u001b[1;32m     59\u001b[0m                 \u001b[0;32mcontinue\u001b[0m\u001b[0;34m\u001b[0m\u001b[0;34m\u001b[0m\u001b[0m\n\u001b[1;32m     60\u001b[0m \u001b[0;34m\u001b[0m\u001b[0m\n",
      "\u001b[0;31mKeyboardInterrupt\u001b[0m: "
     ]
    }
   ],
   "source": [
    "total_num = 0\n",
    "for year in range(2021,2022):\n",
    "    # [all_body, all_body]\n",
    "    gudong = mmread(os.path.join('mat_by_year',str(year), 'gud_&_sub.mtx'))\n",
    "    # [listed_corp, all_body] 行是股东，列是被持股方\n",
    "    gudong = listed_row_slices(gudong, n_listed_corp)\n",
    "    \n",
    "    # [all_body, all_body]\n",
    "    guanlian = mmread(os.path.join('mat_by_year',str(year),'guanlian.mtx'))\n",
    "    # [all_body, listed_corp]\n",
    "    guanlian = listed_col_slices(guanlian, n_listed_corp=n_listed_corp)\n",
    "    \n",
    "    gud_trans = meta_2rel_v2.cal_metapath(gudong, guanlian, del_diagnoal=False)\n",
    "\n",
    "    mmwrite(f'mat_by_year/{year}/metapath/gud_trans.mtx', gud_trans)\n",
    "    print(year, gud_trans.nnz, gud_trans.shape)\n",
    "    total_num += gud_trans.nnz\n",
    "print(f'21年总共有: {total_num} 条路径') # 121334"
   ]
  },
  {
   "attachments": {},
   "cell_type": "markdown",
   "metadata": {},
   "source": [
    "3. (C1, shareholderOf-1, P, managerOf, C2)"
   ]
  },
  {
   "cell_type": "code",
   "execution_count": 62,
   "metadata": {},
   "outputs": [
    {
     "name": "stdout",
     "output_type": "stream",
     "text": [
      "2003 102 (4111, 4111)\n",
      "2004 154 (4111, 4111)\n",
      "2005 166 (4111, 4111)\n",
      "2006 234 (4111, 4111)\n",
      "2007 341 (4111, 4111)\n",
      "2008 392 (4111, 4111)\n",
      "2009 552 (4111, 4111)\n",
      "2010 865 (4111, 4111)\n",
      "2011 1119 (4111, 4111)\n",
      "2012 1260 (4111, 4111)\n",
      "2013 1532 (4111, 4111)\n",
      "2014 1784 (4111, 4111)\n",
      "2015 2135 (4111, 4111)\n",
      "2016 2289 (4111, 4111)\n",
      "2017 2705 (4111, 4111)\n",
      "2018 2775 (4111, 4111)\n",
      "2019 3096 (4111, 4111)\n",
      "2020 3094 (4111, 4111)\n",
      "2021 3181 (4111, 4111)\n",
      "21年总共有: 27776 条路径\n"
     ]
    }
   ],
   "source": [
    "total_num = 0\n",
    "for year in range(2003,2022):\n",
    "    # [all_body, all_body]\n",
    "    gudong = mmread(os.path.join('mat_by_year',str(year), 'gud_&_sub.mtx'))\n",
    "    # [all_body, listed_corp] 行是股东，列是被持股方\n",
    "    gudong = listed_col_slices(gudong, n_listed_corp)\n",
    "    # [listed_corp, all_body]\n",
    "    gudong_T = trans(gudong)\n",
    "\n",
    "    # [listed_corp, all_body]\n",
    "    gaoguan = mmread(os.path.join('mat_by_year',str(year),'gaoguan.mtx'))\n",
    "    gaoguan_T = trans(gaoguan)\n",
    "    gudT_gaoguan = meta_2rel_v2.cal_metapath(gudong_T, gaoguan_T, del_diagnoal=False)\n",
    "    \n",
    "    mmwrite(os.path.join('mat_by_year',str(year),'metapath/gud(T)_mana.mtx'), gudT_gaoguan)\n",
    "    print(year, gudT_gaoguan.nnz, gudT_gaoguan.shape)\n",
    "    total_num += gudT_gaoguan.nnz\n",
    "\n",
    "print(f'21年总共有: {total_num} 条路径') # 27776\n"
   ]
  },
  {
   "attachments": {},
   "cell_type": "markdown",
   "metadata": {},
   "source": [
    "5. (C1, hasTransaction, C3, hasTransaction, C2)"
   ]
  },
  {
   "cell_type": "code",
   "execution_count": 63,
   "metadata": {},
   "outputs": [
    {
     "name": "stdout",
     "output_type": "stream",
     "text": [
      "2003 1424 (4111, 4111)\n",
      "2004 1632 (4111, 4111)\n",
      "2005 1749 (4111, 4111)\n",
      "2006 1867 (4111, 4111)\n",
      "2007 2055 (4111, 4111)\n",
      "2008 2493 (4111, 4111)\n",
      "2009 2872 (4111, 4111)\n",
      "2010 3200 (4111, 4111)\n",
      "2011 3694 (4111, 4111)\n",
      "2012 4105 (4111, 4111)\n",
      "2013 4484 (4111, 4111)\n",
      "2014 4858 (4111, 4111)\n",
      "2015 5362 (4111, 4111)\n",
      "2016 6126 (4111, 4111)\n",
      "2017 7112 (4111, 4111)\n",
      "2018 7710 (4111, 4111)\n",
      "2019 8814 (4111, 4111)\n",
      "2020 9418 (4111, 4111)\n",
      "2021 10044 (4111, 4111)\n",
      "21年总共有: 89019 条路径\n"
     ]
    }
   ],
   "source": [
    "total_num = 0\n",
    "for year in range(2003,2022):\n",
    "    # [all_corp, all_body]\n",
    "    guanlian = mmread(os.path.join('mat_by_year',str(year),'guanlian.mtx'))\n",
    "    # [listed_corp, all_body]\n",
    "    guanlian = listed_row_slices(guanlian, n_listed_corp=n_listed_corp)\n",
    "    guanlian_T = trans(guanlian)\n",
    "    \n",
    "    trans_trans = meta_2rel_v2.cal_metapath(guanlian, guanlian_T, del_diagnoal=False)\n",
    "    mmwrite(os.path.join('mat_by_year',str(year),'metapath/trans_trans.mtx'), trans_trans)\n",
    "    print(year, trans_trans.nnz, trans_trans.shape)\n",
    "    total_num += trans_trans.nnz\n",
    "\n",
    "print(f'21年总共有: {total_num} 条路径') # 89019\n"
   ]
  },
  {
   "cell_type": "code",
   "execution_count": 65,
   "metadata": {},
   "outputs": [
    {
     "name": "stdout",
     "output_type": "stream",
     "text": [
      "21年总共有: 89019 条路径\n"
     ]
    }
   ],
   "source": [
    "print(f'21年总共有: {total_num} 条路径') # 89019"
   ]
  },
  {
   "attachments": {},
   "cell_type": "markdown",
   "metadata": {},
   "source": [
    "6. (C1, hasTransaction, P, managerOf, C2)"
   ]
  },
  {
   "cell_type": "code",
   "execution_count": 66,
   "metadata": {},
   "outputs": [
    {
     "name": "stdout",
     "output_type": "stream",
     "text": [
      "2003 6 (4111, 4111)\n",
      "2004 12 (4111, 4111)\n",
      "2005 23 (4111, 4111)\n",
      "2006 165 (4111, 4111)\n",
      "2007 83 (4111, 4111)\n",
      "2008 186 (4111, 4111)\n",
      "2009 282 (4111, 4111)\n",
      "2010 293 (4111, 4111)\n",
      "2011 387 (4111, 4111)\n",
      "2012 410 (4111, 4111)\n",
      "2013 455 (4111, 4111)\n",
      "2014 707 (4111, 4111)\n",
      "2015 859 (4111, 4111)\n",
      "2016 995 (4111, 4111)\n",
      "2017 1064 (4111, 4111)\n",
      "2018 1108 (4111, 4111)\n",
      "2019 1144 (4111, 4111)\n",
      "2020 1076 (4111, 4111)\n",
      "2021 995 (4111, 4111)\n",
      "21年总共有: 10250 条路径\n"
     ]
    }
   ],
   "source": [
    "total_num = 0\n",
    "for year in range(2003,2022):\n",
    "    # [all_corp, all_body]\n",
    "    guanlian = mmread(os.path.join('mat_by_year',str(year),'guanlian.mtx'))\n",
    "    # [listed_corp, all_body]\n",
    "    guanlian = listed_row_slices(guanlian, n_listed_corp=n_listed_corp)\n",
    "    # [listed_corp, all_body]\n",
    "    gaoguan = mmread(os.path.join('mat_by_year',str(year),'gaoguan.mtx'))\n",
    "    gaoguan_T = trans(gaoguan)\n",
    "    \n",
    "    trans_mana = meta_2rel_v2.cal_metapath(guanlian, gaoguan_T, del_diagnoal=False)\n",
    "    mmwrite(os.path.join('mat_by_year',str(year),'metapath/trans_mana.mtx'), trans_mana)\n",
    "    print(year, trans_mana.nnz, trans_mana.shape)\n",
    "    total_num += trans_mana.nnz\n",
    "\n",
    "print(f'21年总共有: {total_num} 条路径') # 10250 "
   ]
  },
  {
   "attachments": {},
   "cell_type": "markdown",
   "metadata": {},
   "source": [
    "8. (C1, managerOf -1, P, managerOf, C2)"
   ]
  },
  {
   "cell_type": "code",
   "execution_count": 67,
   "metadata": {},
   "outputs": [
    {
     "name": "stdout",
     "output_type": "stream",
     "text": [
      "2003 4335 (4111, 4111)\n",
      "2004 5010 (4111, 4111)\n",
      "2005 4927 (4111, 4111)\n",
      "2006 5202 (4111, 4111)\n",
      "2007 5902 (4111, 4111)\n",
      "2008 6564 (4111, 4111)\n",
      "2009 7377 (4111, 4111)\n",
      "2010 9640 (4111, 4111)\n",
      "2011 11394 (4111, 4111)\n",
      "2012 12728 (4111, 4111)\n",
      "2013 14067 (4111, 4111)\n",
      "2014 16102 (4111, 4111)\n",
      "2015 16945 (4111, 4111)\n",
      "2016 19553 (4111, 4111)\n",
      "2017 21869 (4111, 4111)\n",
      "2018 20761 (4111, 4111)\n",
      "2019 21920 (4111, 4111)\n",
      "2020 21765 (4111, 4111)\n",
      "2021 20951 (4111, 4111)\n",
      "21年总共有: 247012 条路径\n"
     ]
    }
   ],
   "source": [
    "total_num = 0\n",
    "for year in range(2003,2022):\n",
    "    # [listed_corp, all_body]\n",
    "    gaoguan = mmread(os.path.join('mat_by_year',str(year),'gaoguan.mtx'))\n",
    "    gaoguan_T = trans(gaoguan)\n",
    "    mana_mana = meta_2rel_v2.cal_metapath(gaoguan, gaoguan_T, del_diagnoal=False)\n",
    "    mmwrite(os.path.join('mat_by_year',str(year),'metapath/mana_mana.mtx'), mana_mana)\n",
    "    print(year, mana_mana.nnz, mana_mana.shape)\n",
    "    total_num += mana_mana.nnz\n",
    "\n",
    "print(f'21年总共有: {total_num} 条路径') # 247012"
   ]
  },
  {
   "cell_type": "code",
   "execution_count": 68,
   "metadata": {},
   "outputs": [
    {
     "data": {
      "text/plain": [
       "247012"
      ]
     },
     "execution_count": 68,
     "metadata": {},
     "output_type": "execute_result"
    }
   ],
   "source": [
    "total_num"
   ]
  },
  {
   "cell_type": "markdown",
   "metadata": {},
   "source": [
    "### 长度为3的路径"
   ]
  },
  {
   "attachments": {},
   "cell_type": "markdown",
   "metadata": {},
   "source": [
    "1. (C1, shareholderOf-1, C3, kinship, C4, shareholderOf, C2)\n",
    "2. (C1, shareholderOf-1, C3, kinship, C4, hasTransaction, C2)\n",
    "3. (C1, shareholderOf-1, C3, kinship, C4, managerOf, C2)\n",
    "4. (C1, hasTransaction, C3, kinship, C4, hasTransaction, C2)\n",
    "5. (C1, hasTransaction, C3, kinship, C4, managerOf, C2)\n",
    "6. (C1, managerOf-1, C3, kinship, C4, managerOf, C2)"
   ]
  },
  {
   "cell_type": "code",
   "execution_count": 6,
   "metadata": {},
   "outputs": [],
   "source": [
    "import meta_3rel_v2\n",
    "# gudong: (listed_corp + unlisted_corp) * (listed_corp + unlisted_corp + people)\n",
    "\n",
    "# first_quadrant 切到第一象限: 行往小了切，列往大了切\n",
    "def first_quadrant_slices(coo_mtx, upper_bound, lower_bound):\n",
    "    _row, _col, _data = [], [], []\n",
    "    for r, c, d in zip(coo_mtx.row, coo_mtx.col, coo_mtx.data):\n",
    "        if r < upper_bound and c >= lower_bound:\n",
    "            _row.append(r)\n",
    "            _col.append(c-lower_bound)\n",
    "            _data.append(d)\n",
    "    return coo_matrix((_data, (_row, _col)), shape = (upper_bound, coo_mtx.shape[1]-lower_bound), dtype=np.int)"
   ]
  },
  {
   "attachments": {},
   "cell_type": "markdown",
   "metadata": {},
   "source": [
    "1. (C1, shareholderOf-1, C3, kinship, C4, shareholderOf, C2)"
   ]
  },
  {
   "cell_type": "code",
   "execution_count": 116,
   "metadata": {},
   "outputs": [
    {
     "name": "stdout",
     "output_type": "stream",
     "text": [
      "2003 3 (4111, 4111)\n",
      "2004 11 (4111, 4111)\n",
      "2005 15 (4111, 4111)\n",
      "2006 24 (4111, 4111)\n",
      "2007 51 (4111, 4111)\n",
      "2008 60 (4111, 4111)\n",
      "2009 106 (4111, 4111)\n",
      "2010 207 (4111, 4111)\n",
      "2011 252 (4111, 4111)\n",
      "2012 283 (4111, 4111)\n",
      "2013 325 (4111, 4111)\n",
      "2014 686 (4111, 4111)\n",
      "2015 1212 (4111, 4111)\n",
      "2016 991 (4111, 4111)\n",
      "2017 1167 (4111, 4111)\n",
      "2018 934 (4111, 4111)\n",
      "2019 1015 (4111, 4111)\n",
      "2020 1105 (4111, 4111)\n",
      "2021 1422 (4111, 4111)\n"
     ]
    }
   ],
   "source": [
    "total_num = 0\n",
    "for year in range(2003,2022):\n",
    "    # [all_body, all_body]\n",
    "    qinshu = mmread(os.path.join('mat_by_year', str(year), 'qinshu.mtx'))\n",
    "    # [all_body, all_body]\n",
    "    gudong = mmread(os.path.join('mat_by_year',str(year), 'gud_&_sub.mtx'))\n",
    "    # [all_body, listed_corp] 行是 股东，列是被持股方\n",
    "    gudong = listed_col_slices(gudong, n_listed_corp)\n",
    "    # [listed_corp, all_body]\n",
    "    gudong_T = trans(gudong)\n",
    "    guT_qin_gu = meta_3rel_v2.cal_metapath(gudong_T, qinshu, gudong)\n",
    "    \n",
    "    print(year,guT_qin_gu.nnz, guT_qin_gu.shape)\n",
    "    mmwrite(os.path.join('mat_by_year',str(year),'metapath/gu(T)_qin_gu.mtx'),guT_qin_gu)\n",
    "    total_num += guT_qin_gu.nnz\n",
    "print(f'21年总共有: {total_num} 条路径') # 27018"
   ]
  },
  {
   "attachments": {},
   "cell_type": "markdown",
   "metadata": {},
   "source": [
    "2. (C1, shareholderOf-1, C3, kinship, C4, hasTransaction, C2)"
   ]
  },
  {
   "cell_type": "code",
   "execution_count": 118,
   "metadata": {},
   "outputs": [
    {
     "name": "stdout",
     "output_type": "stream",
     "text": [
      "2003 1 (4111, 4111)\n",
      "2004 3 (4111, 4111)\n",
      "2005 5 (4111, 4111)\n",
      "2006 9 (4111, 4111)\n",
      "2007 20 (4111, 4111)\n",
      "2008 25 (4111, 4111)\n",
      "2009 40 (4111, 4111)\n",
      "2010 60 (4111, 4111)\n",
      "2011 87 (4111, 4111)\n",
      "2012 93 (4111, 4111)\n",
      "2013 107 (4111, 4111)\n",
      "2014 168 (4111, 4111)\n",
      "2015 239 (4111, 4111)\n",
      "2016 266 (4111, 4111)\n",
      "2017 309 (4111, 4111)\n",
      "2018 356 (4111, 4111)\n",
      "2019 365 (4111, 4111)\n",
      "2020 288 (4111, 4111)\n",
      "2021 274 (4111, 4111)\n",
      "21年总共有: 2715 条路径\n"
     ]
    }
   ],
   "source": [
    "total_num = 0\n",
    "for year in range(2003,2022):\n",
    "    # [all_body, all_body]\n",
    "    qinshu = mmread(os.path.join('mat_by_year', str(year), 'qinshu.mtx'))\n",
    "    # [all_body, all_body]\n",
    "    gudong = mmread(os.path.join('mat_by_year',str(year), 'gud_&_sub.mtx'))\n",
    "    # [all_body, listed_corp] 行是 股东，列是被持股方\n",
    "    gudong = listed_col_slices(gudong, n_listed_corp)\n",
    "    gudong_T = trans(gudong)\n",
    "    \n",
    "    # [all_body, all_body]\n",
    "    guanlian = mmread(os.path.join('mat_by_year',str(year),'guanlian.mtx'))\n",
    "    # [all_body, listed_corp]\n",
    "    guanlian = listed_col_slices(guanlian, n_listed_corp)\n",
    "    guT_qin_trans = meta_3rel_v2.cal_metapath(gudong_T, qinshu, guanlian)\n",
    "    \n",
    "    print(year,guT_qin_trans.nnz, guT_qin_trans.shape)\n",
    "    mmwrite(os.path.join('mat_by_year',str(year),'metapath/gu(T)_qin_trans.mtx'),guT_qin_trans)\n",
    "    total_num += guT_qin_trans.nnz\n",
    "print(f'21年总共有: {total_num} 条路径') # 2715"
   ]
  },
  {
   "attachments": {},
   "cell_type": "markdown",
   "metadata": {},
   "source": [
    "3. (C1, shareholderOf-1, C3, kinship, C4, managerOf, C2)"
   ]
  },
  {
   "cell_type": "code",
   "execution_count": 123,
   "metadata": {},
   "outputs": [
    {
     "name": "stdout",
     "output_type": "stream",
     "text": [
      "2003 4 (4111, 4111)\n",
      "2004 20 (4111, 4111)\n",
      "2005 17 (4111, 4111)\n",
      "2006 28 (4111, 4111)\n",
      "2007 49 (4111, 4111)\n",
      "2008 62 (4111, 4111)\n",
      "2009 105 (4111, 4111)\n",
      "2010 211 (4111, 4111)\n",
      "2011 287 (4111, 4111)\n",
      "2012 320 (4111, 4111)\n",
      "2013 358 (4111, 4111)\n",
      "2014 412 (4111, 4111)\n",
      "2015 509 (4111, 4111)\n",
      "2016 638 (4111, 4111)\n",
      "2017 826 (4111, 4111)\n",
      "2018 828 (4111, 4111)\n",
      "2019 861 (4111, 4111)\n",
      "2020 774 (4111, 4111)\n",
      "2021 791 (4111, 4111)\n",
      "21年总共有: 7100 条路径\n"
     ]
    }
   ],
   "source": [
    "total_num = 0\n",
    "for year in range(2003,2022):\n",
    "    # [all_body, all_body]\n",
    "    qinshu = mmread(os.path.join('mat_by_year', str(year), 'qinshu.mtx'))\n",
    "    # [all_body, all_body]\n",
    "    gudong = mmread(os.path.join('mat_by_year',str(year), 'gud_&_sub.mtx'))\n",
    "    # [all_body, listed_corp] 行是 股东，列是被持股方\n",
    "    gudong = listed_col_slices(gudong, n_listed_corp)\n",
    "    gudong_T = trans(gudong)\n",
    "    \n",
    "    # [listed_corp, all_body]\n",
    "    gaoguan = mmread(os.path.join('mat_by_year',str(year), 'gaoguan.mtx'))\n",
    "    gaoguan_T = trans(gaoguan)\n",
    "    \n",
    "    \n",
    "    guT_qin_mana = meta_3rel_v2.cal_metapath(gudong_T, qinshu, gaoguan_T)\n",
    "    \n",
    "    print(year,guT_qin_mana.nnz, guT_qin_mana.shape)\n",
    "    mmwrite(os.path.join('mat_by_year',str(year),'metapath/gu(T)_qin_mana.mtx'),guT_qin_mana)\n",
    "    total_num += guT_qin_mana.nnz\n",
    "\n",
    "print(f'21年总共有: {total_num} 条路径')"
   ]
  },
  {
   "attachments": {},
   "cell_type": "markdown",
   "metadata": {},
   "source": [
    "4. (C1, hasTransaction, C3, kinship, C4, hasTransaction, C2)"
   ]
  },
  {
   "cell_type": "code",
   "execution_count": 124,
   "metadata": {},
   "outputs": [
    {
     "name": "stdout",
     "output_type": "stream",
     "text": [
      "2003 0 (4111, 4111)\n",
      "2004 1 (4111, 4111)\n",
      "2005 1 (4111, 4111)\n",
      "2006 3 (4111, 4111)\n",
      "2007 6 (4111, 4111)\n",
      "2008 4 (4111, 4111)\n",
      "2009 7 (4111, 4111)\n",
      "2010 13 (4111, 4111)\n",
      "2011 13 (4111, 4111)\n",
      "2012 13 (4111, 4111)\n",
      "2013 20 (4111, 4111)\n",
      "2014 37 (4111, 4111)\n",
      "2015 44 (4111, 4111)\n",
      "2016 56 (4111, 4111)\n",
      "2017 48 (4111, 4111)\n",
      "2018 47 (4111, 4111)\n",
      "2019 56 (4111, 4111)\n",
      "2020 44 (4111, 4111)\n",
      "2021 36 (4111, 4111)\n",
      "21年总共有: 449 条路径\n"
     ]
    }
   ],
   "source": [
    "total_num = 0\n",
    "for year in range(2003,2022):\n",
    "    # [all_body, all_body]\n",
    "    qinshu = mmread(os.path.join('mat_by_year', str(year), 'qinshu.mtx'))\n",
    "    # [all_body, all_body]\n",
    "    guanlian = mmread(os.path.join('mat_by_year',str(year),'guanlian.mtx'))\n",
    "    # [listed_corp, all_body]\n",
    "    guanlian = listed_row_slices(guanlian, n_listed_corp)\n",
    "    guanlian_T = trans(guanlian)\n",
    "    trans_qin_trans = meta_3rel_v2.cal_metapath(guanlian, qinshu, guanlian_T)\n",
    "    \n",
    "    print(year,trans_qin_trans.nnz, trans_qin_trans.shape)\n",
    "    mmwrite(os.path.join('mat_by_year',str(year),'metapath/trans_qin_trans.mtx'),trans_qin_trans)\n",
    "    total_num += trans_qin_trans.nnz\n",
    "\n",
    "print(f'21年总共有: {total_num} 条路径') # 449"
   ]
  },
  {
   "attachments": {},
   "cell_type": "markdown",
   "metadata": {},
   "source": [
    "5. (C1, hasTransaction, C3, kinship, C4, managerOf, C2)"
   ]
  },
  {
   "cell_type": "code",
   "execution_count": 122,
   "metadata": {},
   "outputs": [
    {
     "name": "stdout",
     "output_type": "stream",
     "text": [
      "2003 1 (4111, 4111)\n",
      "2004 3 (4111, 4111)\n",
      "2005 6 (4111, 4111)\n",
      "2006 8 (4111, 4111)\n",
      "2007 15 (4111, 4111)\n",
      "2008 23 (4111, 4111)\n",
      "2009 35 (4111, 4111)\n",
      "2010 62 (4111, 4111)\n",
      "2011 85 (4111, 4111)\n",
      "2012 85 (4111, 4111)\n",
      "2013 93 (4111, 4111)\n",
      "2014 126 (4111, 4111)\n",
      "2015 171 (4111, 4111)\n",
      "2016 190 (4111, 4111)\n",
      "2017 221 (4111, 4111)\n",
      "2018 241 (4111, 4111)\n",
      "2019 244 (4111, 4111)\n",
      "2020 204 (4111, 4111)\n",
      "2021 182 (4111, 4111)\n",
      "21年总共有: 1995 条路径\n"
     ]
    }
   ],
   "source": [
    "total_num = 0\n",
    "for year in range(2003,2022):\n",
    "    # [all_body, all_body]\n",
    "    qinshu = mmread(os.path.join('mat_by_year', str(year), 'qinshu.mtx'))\n",
    "    # [all_body, all_body]\n",
    "    guanlian = mmread(os.path.join('mat_by_year',str(year),'guanlian.mtx'))\n",
    "    # [listed_corp, all_body]\n",
    "    guanlian = listed_row_slices(guanlian, n_listed_corp)\n",
    "    # [listed_corp, all_body]\n",
    "    gaoguan = mmread(os.path.join('mat_by_year',str(year), 'gaoguan.mtx'))\n",
    "    gaoguan_T = trans(gaoguan)\n",
    "    \n",
    "    trans_qin_mana = meta_3rel_v2.cal_metapath(guanlian, qinshu, gaoguan_T)\n",
    "    \n",
    "    print(year,trans_qin_mana.nnz, trans_qin_mana.shape)\n",
    "    mmwrite(os.path.join('mat_by_year',str(year),'metapath/trans_qin_mana.mtx'),trans_qin_mana)\n",
    "    total_num += trans_qin_mana.nnz\n",
    "\n",
    "print(f'21年总共有: {total_num} 条路径') # 1995"
   ]
  },
  {
   "attachments": {},
   "cell_type": "markdown",
   "metadata": {},
   "source": [
    "### 用同一个函数来计算 3-hop metapath"
   ]
  },
  {
   "cell_type": "code",
   "execution_count": 6,
   "metadata": {},
   "outputs": [],
   "source": [
    "name_path_dict = {\n",
    "    'gud': 'gud_&_sub.mtx',\n",
    "    'gu': 'gud_&_sub.mtx',\n",
    "    'trans': 'guanlian.mtx',\n",
    "    'mana': 'gaoguan.mtx',\n",
    "    'qin': 'qinshu.mtx',\n",
    "}\n",
    "\n",
    "def cal_3hop_metapath(PATH_NAME):\n",
    "    # PATH_NAME: trans_qin_mana\n",
    "    walks = PATH_NAME.split('_')\n",
    "    \n",
    "    IS_TRANSFER = [True if '(T)' in w else False for w in walks]\n",
    "    # 去掉逆标记\n",
    "    walks = [w.replace('(T)', '') for w in walks]\n",
    "    total_num = 0\n",
    "    \n",
    "    for year in range(2003,2022):\n",
    "        mat_1 = mmread(os.path.join('mat_by_year',str(year), name_path_dict[walks[0]]))\n",
    "        mat_2 = mmread(os.path.join('mat_by_year',str(year), name_path_dict[walks[1]]))\n",
    "        mat_3 = mmread(os.path.join('mat_by_year',str(year), name_path_dict[walks[2]]))\n",
    "        '''\n",
    "        mat_1\n",
    "        '''\n",
    "        # 有可能是 shareholderOf，managerOf，hasTransaction。其中 hasTransaction 不可能有逆\n",
    "        if walks[0]=='gud' or walks[0]=='gu':\n",
    "            if IS_TRANSFER[0] is True: # True\n",
    "                # [all_body, listed_corp]\n",
    "                mat_1 = listed_col_slices(mat_1, n_listed_corp)\n",
    "                mat_1 = trans(mat_1)\n",
    "            else:\n",
    "                # [listed_corp, all_body]\n",
    "                mat_1 = listed_row_slices(mat_1, n_listed_corp)\n",
    "        elif walks[0]=='mana': # mana 位于第一个walk 时，必然有 (T), 不用切片，也不用逆，直接读进来就是 [listed_corp, all_body]\n",
    "            pass\n",
    "        elif walks[0]=='trans':\n",
    "            mat_1 = listed_row_slices(mat_1, n_listed_corp)\n",
    "        '''\n",
    "        mat_2\n",
    "        '''\n",
    "        # 可能是 shareholderOf，managerOf，hasTransaction, kinship。其中 hasTransaction, kinship 不可能有逆，\n",
    "        # mat_2 不管是什么关系，都不需要对 row 或者 col 切分\n",
    "        if walks[1] == 'mana': # mana 和其他的相反，有(T) 不需要逆，没有 (T) 才需要逆\n",
    "            if  IS_TRANSFER[1] is False: \n",
    "                mat_2 = trans(mat_2)\n",
    "        else: # 其他关系正常：有(T)就取逆\n",
    "            if IS_TRANSFER[1] is True: \n",
    "                # [all_body, all_body]\n",
    "                mat_2 = trans(mat_2)\n",
    "        '''\n",
    "        mat_3\n",
    "        '''\n",
    "        if walks[2]=='gud' or walks[2]=='gu':\n",
    "            if IS_TRANSFER[2] is True: \n",
    "                # 上市公司是股东，即subsidiaryOf\n",
    "                mat_3 = listed_row_slices(mat_3, n_listed_corp)\n",
    "                mat_3 = trans(mat_3)\n",
    "            else:\n",
    "                # 上市公司是子公司，即shareholderOf\n",
    "                mat_3 = listed_col_slices(mat_3, n_listed_corp)\n",
    "        elif walks[2]=='trans':\n",
    "            mat_3 = listed_col_slices(mat_3, n_listed_corp)\n",
    "        elif walks[2]=='mana':\n",
    "            # mana 必然没有(T), 和其他关系是相反的，没有(T)就要取逆，即 从 [listed_corp, all_body] -> [all_body, listed_corp]\n",
    "            mat_3 = trans(mat_3)\n",
    "\n",
    "        meta_path = meta_3rel_v2.cal_metapath(mat_1, mat_2, mat_3)\n",
    "    \n",
    "        print(year,meta_path.nnz, meta_path.shape)\n",
    "        mmwrite(os.path.join('mat_by_year',str(year),f'metapath/{PATH_NAME}.mtx'),meta_path)\n",
    "        total_num += meta_path.nnz\n",
    "\n",
    "    print(f'{PATH_NAME} 2003-2021年总共有: {total_num} 条路径')\n",
    "    return total_num"
   ]
  },
  {
   "attachments": {},
   "cell_type": "markdown",
   "metadata": {},
   "source": [
    "6. (C1, managerOf-1, C3, kinship, C4, managerOf, C2)"
   ]
  },
  {
   "cell_type": "code",
   "execution_count": 152,
   "metadata": {},
   "outputs": [
    {
     "name": "stdout",
     "output_type": "stream",
     "text": [
      "['mana', 'qin', 'mana'] [True, False, False]\n",
      "2003 9 (4111, 4111)\n",
      "2004 31 (4111, 4111)\n",
      "2005 13 (4111, 4111)\n",
      "2006 24 (4111, 4111)\n",
      "2007 33 (4111, 4111)\n",
      "2008 44 (4111, 4111)\n",
      "2009 88 (4111, 4111)\n",
      "2010 194 (4111, 4111)\n",
      "2011 258 (4111, 4111)\n",
      "2012 263 (4111, 4111)\n",
      "2013 282 (4111, 4111)\n",
      "2014 275 (4111, 4111)\n",
      "2015 346 (4111, 4111)\n",
      "2016 404 (4111, 4111)\n",
      "2017 480 (4111, 4111)\n",
      "2018 489 (4111, 4111)\n",
      "2019 479 (4111, 4111)\n",
      "2020 433 (4111, 4111)\n",
      "2021 430 (4111, 4111)\n",
      "mana(T)_qin_mana 2003-2021年总共有: 4575 条路径\n"
     ]
    }
   ],
   "source": [
    "total_num = cal_3hop_metapath(PATH_NAME='mana(T)_qin_mana') # 4575"
   ]
  },
  {
   "attachments": {},
   "cell_type": "markdown",
   "metadata": {},
   "source": [
    "#### 包含managerOf，不包含kinshipOf:\n",
    "1. ManagerOf-1, HasTransaction, HasTransaction\n",
    "2. HasTransaction, ManagerOf-1, HasTransaction\n",
    "3. ShareholderOf, HasTransaction, ManagerOf\n",
    "4. ShareholderOf-1, HasTransaction, ManagerOf\n",
    "5. HasTransaction, ShareholderOf-1, ManagerOf\n",
    "6. ShareholderOf-1, ManagerOf, HasTransaction\n",
    "7. HasTransaction, ManagerOf, ShareholderOf-1\n",
    "8. ManagerOf-1, ManagerOf, HasTransaction\n",
    "9. ManagerOf-1, ManagerOf, ShareholderOf\n",
    "10. ManagerOf-1, ManagerOf, ShareholderOf-1"
   ]
  },
  {
   "attachments": {},
   "cell_type": "markdown",
   "metadata": {},
   "source": [
    "1. ManagerOf-1, HasTransaction, HasTransaction"
   ]
  },
  {
   "cell_type": "code",
   "execution_count": null,
   "metadata": {},
   "outputs": [],
   "source": [
    "total_num = cal_3hop_metapath(PATH_NAME='mana(T)_trans_trans') # 2419"
   ]
  },
  {
   "attachments": {},
   "cell_type": "markdown",
   "metadata": {},
   "source": [
    "2. HasTransaction, ManagerOf-1, HasTransaction"
   ]
  },
  {
   "cell_type": "code",
   "execution_count": 11,
   "metadata": {},
   "outputs": [
    {
     "name": "stdout",
     "output_type": "stream",
     "text": [
      "2003 0 (4111, 4111)\n",
      "2004 1 (4111, 4111)\n",
      "2005 4 (4111, 4111)\n",
      "2006 35 (4111, 4111)\n",
      "2007 5 (4111, 4111)\n",
      "2008 45 (4111, 4111)\n",
      "2009 68 (4111, 4111)\n",
      "2010 38 (4111, 4111)\n",
      "2011 46 (4111, 4111)\n",
      "2012 52 (4111, 4111)\n",
      "2013 67 (4111, 4111)\n",
      "2014 107 (4111, 4111)\n",
      "2015 139 (4111, 4111)\n",
      "2016 151 (4111, 4111)\n",
      "2017 152 (4111, 4111)\n",
      "2018 174 (4111, 4111)\n",
      "2019 204 (4111, 4111)\n",
      "2020 208 (4111, 4111)\n",
      "2021 210 (4111, 4111)\n",
      "trans_mana(T)_trans 2003-2021年总共有: 1706 条路径\n"
     ]
    }
   ],
   "source": [
    "total_num = cal_3hop_metapath(PATH_NAME='trans_mana(T)_trans') # 1706"
   ]
  },
  {
   "attachments": {},
   "cell_type": "markdown",
   "metadata": {},
   "source": [
    "3. ShareholderOf, HasTransaction, ManagerOf\n"
   ]
  },
  {
   "cell_type": "code",
   "execution_count": 12,
   "metadata": {},
   "outputs": [
    {
     "name": "stdout",
     "output_type": "stream",
     "text": [
      "2003 0 (4111, 4111)\n",
      "2004 7 (4111, 4111)\n",
      "2005 8 (4111, 4111)\n",
      "2006 64 (4111, 4111)\n",
      "2007 39 (4111, 4111)\n",
      "2008 114 (4111, 4111)\n",
      "2009 198 (4111, 4111)\n",
      "2010 193 (4111, 4111)\n",
      "2011 225 (4111, 4111)\n",
      "2012 334 (4111, 4111)\n",
      "2013 370 (4111, 4111)\n",
      "2014 1109 (4111, 4111)\n",
      "2015 2081 (4111, 4111)\n",
      "2016 1709 (4111, 4111)\n",
      "2017 1240 (4111, 4111)\n",
      "2018 992 (4111, 4111)\n",
      "2019 1066 (4111, 4111)\n",
      "2020 1273 (4111, 4111)\n",
      "2021 1490 (4111, 4111)\n",
      "gud_trans_mana 2003-2021年总共有: 12512 条路径\n"
     ]
    }
   ],
   "source": [
    "total_num = cal_3hop_metapath(PATH_NAME='gud_trans_mana') # 12512, 107min"
   ]
  },
  {
   "cell_type": "code",
   "execution_count": 13,
   "metadata": {},
   "outputs": [
    {
     "data": {
      "text/plain": [
       "12512"
      ]
     },
     "execution_count": 13,
     "metadata": {},
     "output_type": "execute_result"
    }
   ],
   "source": [
    "total_num"
   ]
  },
  {
   "attachments": {},
   "cell_type": "markdown",
   "metadata": {},
   "source": [
    "4. ShareholderOf-1, HasTransaction, ManagerOf"
   ]
  },
  {
   "cell_type": "code",
   "execution_count": 7,
   "metadata": {},
   "outputs": [
    {
     "name": "stdout",
     "output_type": "stream",
     "text": [
      "2003 0 (4111, 4111)\n",
      "2004 0 (4111, 4111)\n",
      "2005 0 (4111, 4111)\n",
      "2006 18 (4111, 4111)\n",
      "2007 1 (4111, 4111)\n",
      "2008 18 (4111, 4111)\n",
      "2009 14 (4111, 4111)\n",
      "2010 39 (4111, 4111)\n",
      "2011 51 (4111, 4111)\n",
      "2012 20 (4111, 4111)\n",
      "2013 44 (4111, 4111)\n",
      "2014 49 (4111, 4111)\n",
      "2015 108 (4111, 4111)\n",
      "2016 133 (4111, 4111)\n",
      "2017 90 (4111, 4111)\n",
      "2018 109 (4111, 4111)\n",
      "2019 123 (4111, 4111)\n",
      "2020 129 (4111, 4111)\n",
      "2021 132 (4111, 4111)\n",
      "gud(T)_trans_mana 2003-2021年总共有: 1078 条路径\n"
     ]
    }
   ],
   "source": [
    "total_num = cal_3hop_metapath(PATH_NAME='gud(T)_trans_mana') # 1078, 52min"
   ]
  },
  {
   "attachments": {},
   "cell_type": "markdown",
   "metadata": {},
   "source": [
    "5. HasTransaction, ShareholderOf-1, ManagerOf\n"
   ]
  },
  {
   "cell_type": "code",
   "execution_count": 8,
   "metadata": {},
   "outputs": [
    {
     "name": "stdout",
     "output_type": "stream",
     "text": [
      "2003 13 (4111, 4111)\n",
      "2004 22 (4111, 4111)\n",
      "2005 26 (4111, 4111)\n",
      "2006 42 (4111, 4111)\n",
      "2007 42 (4111, 4111)\n",
      "2008 61 (4111, 4111)\n",
      "2009 73 (4111, 4111)\n",
      "2010 118 (4111, 4111)\n",
      "2011 160 (4111, 4111)\n",
      "2012 180 (4111, 4111)\n",
      "2013 237 (4111, 4111)\n",
      "2014 324 (4111, 4111)\n",
      "2015 490 (4111, 4111)\n",
      "2016 502 (4111, 4111)\n",
      "2017 584 (4111, 4111)\n",
      "2018 619 (4111, 4111)\n",
      "2019 823 (4111, 4111)\n",
      "2020 812 (4111, 4111)\n",
      "2021 855 (4111, 4111)\n",
      "trans_gud(T)_mana 2003-2021年总共有: 5983 条路径\n"
     ]
    }
   ],
   "source": [
    "total_num = cal_3hop_metapath(PATH_NAME='trans_gud(T)_mana') # 5983"
   ]
  },
  {
   "cell_type": "code",
   "execution_count": 9,
   "metadata": {},
   "outputs": [
    {
     "name": "stdout",
     "output_type": "stream",
     "text": [
      "5983\n"
     ]
    }
   ],
   "source": [
    "print(total_num)"
   ]
  },
  {
   "attachments": {},
   "cell_type": "markdown",
   "metadata": {},
   "source": [
    "6. ShareholderOf-1, ManagerOf, HasTransaction"
   ]
  },
  {
   "cell_type": "code",
   "execution_count": 10,
   "metadata": {},
   "outputs": [
    {
     "name": "stdout",
     "output_type": "stream",
     "text": [
      "2003 16 (4111, 4111)\n",
      "2004 26 (4111, 4111)\n",
      "2005 21 (4111, 4111)\n",
      "2006 38 (4111, 4111)\n",
      "2007 50 (4111, 4111)\n",
      "2008 72 (4111, 4111)\n",
      "2009 95 (4111, 4111)\n",
      "2010 140 (4111, 4111)\n",
      "2011 189 (4111, 4111)\n",
      "2012 195 (4111, 4111)\n",
      "2013 263 (4111, 4111)\n",
      "2014 316 (4111, 4111)\n",
      "2015 424 (4111, 4111)\n",
      "2016 482 (4111, 4111)\n",
      "2017 626 (4111, 4111)\n",
      "2018 678 (4111, 4111)\n",
      "2019 885 (4111, 4111)\n",
      "2020 947 (4111, 4111)\n",
      "2021 1087 (4111, 4111)\n",
      "gud(T)_mana_trans 2003-2021年总共有: 6550 条路径\n",
      "6550\n"
     ]
    }
   ],
   "source": [
    "total_num = cal_3hop_metapath(PATH_NAME='gud(T)_mana_trans')\n",
    "print(total_num) # 6550"
   ]
  },
  {
   "attachments": {},
   "cell_type": "markdown",
   "metadata": {},
   "source": [
    "7. HasTransaction, ManagerOf, ShareholderOf-1"
   ]
  },
  {
   "cell_type": "code",
   "execution_count": 11,
   "metadata": {},
   "outputs": [
    {
     "name": "stdout",
     "output_type": "stream",
     "text": [
      "2003 0 (4111, 4111)\n",
      "2004 4 (4111, 4111)\n",
      "2005 12 (4111, 4111)\n",
      "2006 75 (4111, 4111)\n",
      "2007 33 (4111, 4111)\n",
      "2008 80 (4111, 4111)\n",
      "2009 161 (4111, 4111)\n",
      "2010 148 (4111, 4111)\n",
      "2011 170 (4111, 4111)\n",
      "2012 174 (4111, 4111)\n",
      "2013 256 (4111, 4111)\n",
      "2014 957 (4111, 4111)\n",
      "2015 1827 (4111, 4111)\n",
      "2016 1545 (4111, 4111)\n",
      "2017 1112 (4111, 4111)\n",
      "2018 856 (4111, 4111)\n",
      "2019 921 (4111, 4111)\n",
      "2020 1162 (4111, 4111)\n",
      "2021 1401 (4111, 4111)\n",
      "trans_mana_gud(T) 2003-2021年总共有: 10894 条路径\n",
      "10894\n"
     ]
    }
   ],
   "source": [
    "total_num = cal_3hop_metapath(PATH_NAME='trans_mana_gud(T)')\n",
    "print(total_num) # 10894"
   ]
  },
  {
   "attachments": {},
   "cell_type": "markdown",
   "metadata": {},
   "source": [
    "8. ManagerOf-1, ManagerOf, HasTransaction"
   ]
  },
  {
   "cell_type": "code",
   "execution_count": 12,
   "metadata": {},
   "outputs": [
    {
     "name": "stdout",
     "output_type": "stream",
     "text": [
      "2003 1012 (4111, 4111)\n",
      "2004 1034 (4111, 4111)\n",
      "2005 1062 (4111, 4111)\n",
      "2006 1332 (4111, 4111)\n",
      "2007 1311 (4111, 4111)\n",
      "2008 1816 (4111, 4111)\n",
      "2009 1865 (4111, 4111)\n",
      "2010 2654 (4111, 4111)\n",
      "2011 3253 (4111, 4111)\n",
      "2012 3627 (4111, 4111)\n",
      "2013 4226 (4111, 4111)\n",
      "2014 5309 (4111, 4111)\n",
      "2015 5926 (4111, 4111)\n",
      "2016 6809 (4111, 4111)\n",
      "2017 8262 (4111, 4111)\n",
      "2018 8365 (4111, 4111)\n",
      "2019 10122 (4111, 4111)\n",
      "2020 11190 (4111, 4111)\n",
      "2021 11388 (4111, 4111)\n",
      "mana(T)_mana_trans 2003-2021年总共有: 90563 条路径\n",
      "90563\n"
     ]
    }
   ],
   "source": [
    "total_num = cal_3hop_metapath(PATH_NAME='mana(T)_mana_trans')\n",
    "print(total_num) # 90563"
   ]
  },
  {
   "attachments": {},
   "cell_type": "markdown",
   "metadata": {},
   "source": [
    "9. ManagerOf-1, ManagerOf, ShareholderOf"
   ]
  },
  {
   "cell_type": "code",
   "execution_count": 13,
   "metadata": {},
   "outputs": [
    {
     "name": "stdout",
     "output_type": "stream",
     "text": [
      "2003 1055 (4111, 4111)\n",
      "2004 1152 (4111, 4111)\n",
      "2005 1282 (4111, 4111)\n",
      "2006 1230 (4111, 4111)\n",
      "2007 1190 (4111, 4111)\n",
      "2008 1194 (4111, 4111)\n",
      "2009 1243 (4111, 4111)\n",
      "2010 1429 (4111, 4111)\n",
      "2011 1633 (4111, 4111)\n",
      "2012 1670 (4111, 4111)\n",
      "2013 1863 (4111, 4111)\n",
      "2014 1878 (4111, 4111)\n",
      "2015 2142 (4111, 4111)\n",
      "2016 2861 (4111, 4111)\n",
      "2017 3482 (4111, 4111)\n",
      "2018 3369 (4111, 4111)\n",
      "2019 3863 (4111, 4111)\n",
      "2020 4176 (4111, 4111)\n",
      "2021 4277 (4111, 4111)\n",
      "mana(T)_mana_gud 2003-2021年总共有: 40989 条路径\n",
      "40989\n"
     ]
    }
   ],
   "source": [
    "total_num = cal_3hop_metapath(PATH_NAME='mana(T)_mana_gud')\n",
    "print(total_num) # 40989"
   ]
  },
  {
   "attachments": {},
   "cell_type": "markdown",
   "metadata": {},
   "source": [
    "10. ManagerOf-1, ManagerOf, ShareholderOf-1"
   ]
  },
  {
   "cell_type": "code",
   "execution_count": 14,
   "metadata": {},
   "outputs": [
    {
     "name": "stdout",
     "output_type": "stream",
     "text": [
      "2003 1699 (4111, 4111)\n",
      "2004 2178 (4111, 4111)\n",
      "2005 2448 (4111, 4111)\n",
      "2006 2926 (4111, 4111)\n",
      "2007 3591 (4111, 4111)\n",
      "2008 3633 (4111, 4111)\n",
      "2009 5443 (4111, 4111)\n",
      "2010 7470 (4111, 4111)\n",
      "2011 8113 (4111, 4111)\n",
      "2012 8499 (4111, 4111)\n",
      "2013 9920 (4111, 4111)\n",
      "2014 18090 (4111, 4111)\n",
      "2015 24467 (4111, 4111)\n",
      "2016 24203 (4111, 4111)\n",
      "2017 22282 (4111, 4111)\n",
      "2018 17127 (4111, 4111)\n",
      "2019 17904 (4111, 4111)\n",
      "2020 20543 (4111, 4111)\n",
      "2021 25757 (4111, 4111)\n",
      "mana(T)_mana_gud(T) 2003-2021年总共有: 226293 条路径\n",
      "226293\n"
     ]
    }
   ],
   "source": [
    "total_num = cal_3hop_metapath(PATH_NAME='mana(T)_mana_gud(T)')\n",
    "print(total_num) # 226293"
   ]
  },
  {
   "attachments": {},
   "cell_type": "markdown",
   "metadata": {},
   "source": [
    "#### 不含managerOf 和 kinshipOf: 14。2023.06.02，这14条不要了\n",
    "1. HasTransaction, HasTransaction, HasTransaction\n",
    "2. ShareholderOf, HasTransaction, HasTransaction\n",
    "3. ShareholderOf-1, HasTransaction, HasTransaction\n",
    "4. HasTransaction, ShareholderOf, HasTransaction\n",
    "5. ShareholderOf-1, ShareholderOf, HasTransaction\n",
    "6. ShareholderOf, ShareholderOf-1, HasTransaction\n",
    "7. ShareholderOf, ShareholderOf, HasTransaction\n",
    "8. ShareholderOf-1, ShareholderOf-1, HasTransaction\n",
    "9. ShareholderOf-1, HasTransaction, ShareholderOf\n",
    "10. ShareholderOf, HasTransaction, ShareholderOf\n",
    "11. ShareholderOf-1, ShareholderOf, ShareholderOf\n",
    "12. ShareholderOf, ShareholderOf-1, ShareholderOf\n",
    "13. ShareholderOf, ShareholderOf, ShareholderOf-1\n",
    "14. ShareholderOf, ShareholderOf, ShareholderOf\n"
   ]
  },
  {
   "attachments": {},
   "cell_type": "markdown",
   "metadata": {},
   "source": [
    "1. HasTransaction, HasTransaction, HasTransaction"
   ]
  },
  {
   "cell_type": "code",
   "execution_count": 7,
   "metadata": {},
   "outputs": [
    {
     "name": "stdout",
     "output_type": "stream",
     "text": [
      "2003 587 (4111, 4111)\n",
      "2004 561 (4111, 4111)\n",
      "2005 656 (4111, 4111)\n",
      "2006 783 (4111, 4111)\n",
      "2007 881 (4111, 4111)\n",
      "2008 1346 (4111, 4111)\n",
      "2009 1664 (4111, 4111)\n",
      "2010 1976 (4111, 4111)\n",
      "2011 2503 (4111, 4111)\n",
      "2012 2775 (4111, 4111)\n",
      "2013 3237 (4111, 4111)\n",
      "2014 3540 (4111, 4111)\n",
      "2015 3954 (4111, 4111)\n",
      "2016 4965 (4111, 4111)\n",
      "2017 6224 (4111, 4111)\n",
      "2018 6985 (4111, 4111)\n",
      "2019 9376 (4111, 4111)\n",
      "2020 10535 (4111, 4111)\n",
      "2021 12282 (4111, 4111)\n",
      "trans_trans_trans 2003-2021年总共有: 74830 条路径\n",
      "74830\n"
     ]
    }
   ],
   "source": [
    "total_num = cal_3hop_metapath(PATH_NAME='trans_trans_trans')\n",
    "print(total_num) # 74830"
   ]
  },
  {
   "attachments": {},
   "cell_type": "markdown",
   "metadata": {},
   "source": [
    "2. ShareholderOf, HasTransaction, HasTransaction"
   ]
  },
  {
   "cell_type": "code",
   "execution_count": 8,
   "metadata": {},
   "outputs": [
    {
     "name": "stdout",
     "output_type": "stream",
     "text": [
      "2003 632 (4111, 4111)\n",
      "2004 994 (4111, 4111)\n",
      "2005 1141 (4111, 4111)\n",
      "2006 1365 (4111, 4111)\n",
      "2007 1614 (4111, 4111)\n",
      "2008 1973 (4111, 4111)\n",
      "2009 2918 (4111, 4111)\n",
      "2010 3621 (4111, 4111)\n",
      "2011 4145 (4111, 4111)\n",
      "2012 4532 (4111, 4111)\n",
      "2013 4959 (4111, 4111)\n",
      "2014 7958 (4111, 4111)\n",
      "2015 11569 (4111, 4111)\n",
      "2016 11247 (4111, 4111)\n",
      "2017 10753 (4111, 4111)\n",
      "2018 9992 (4111, 4111)\n",
      "2019 11151 (4111, 4111)\n",
      "2020 12978 (4111, 4111)\n",
      "2021 16655 (4111, 4111)\n",
      "gud_trans_trans 2003-2021年总共有: 120197 条路径\n",
      "120197\n"
     ]
    }
   ],
   "source": [
    "total_num = cal_3hop_metapath(PATH_NAME='gud_trans_trans')\n",
    "print(total_num) # 120197"
   ]
  },
  {
   "attachments": {},
   "cell_type": "markdown",
   "metadata": {},
   "source": [
    "3. ShareholderOf-1, HasTransaction, HasTransaction"
   ]
  },
  {
   "cell_type": "code",
   "execution_count": 9,
   "metadata": {},
   "outputs": [
    {
     "name": "stdout",
     "output_type": "stream",
     "text": [
      "2003 618 (4111, 4111)\n",
      "2004 746 (4111, 4111)\n",
      "2005 862 (4111, 4111)\n",
      "2006 1081 (4111, 4111)\n",
      "2007 992 (4111, 4111)\n",
      "2008 1360 (4111, 4111)\n",
      "2009 1509 (4111, 4111)\n",
      "2010 1689 (4111, 4111)\n",
      "2011 2263 (4111, 4111)\n",
      "2012 2551 (4111, 4111)\n",
      "2013 3011 (4111, 4111)\n",
      "2014 4207 (4111, 4111)\n",
      "2015 5421 (4111, 4111)\n",
      "2016 5041 (4111, 4111)\n",
      "2017 6474 (4111, 4111)\n",
      "2018 9683 (4111, 4111)\n",
      "2019 13923 (4111, 4111)\n",
      "2020 21854 (4111, 4111)\n",
      "2021 27087 (4111, 4111)\n",
      "gud(T)_trans_trans 2003-2021年总共有: 110372 条路径\n",
      "110372\n"
     ]
    }
   ],
   "source": [
    "total_num = cal_3hop_metapath(PATH_NAME='gud(T)_trans_trans')\n",
    "print(total_num)"
   ]
  },
  {
   "attachments": {},
   "cell_type": "markdown",
   "metadata": {},
   "source": [
    "4. HasTransaction, ShareholderOf, HasTransaction"
   ]
  },
  {
   "attachments": {},
   "cell_type": "markdown",
   "metadata": {},
   "source": [
    "### 统计各个meta-path的数量:"
   ]
  },
  {
   "cell_type": "code",
   "execution_count": 103,
   "metadata": {},
   "outputs": [
    {
     "name": "stdout",
     "output_type": "stream",
     "text": [
      "[587, 561, 656, 783, 881, 1346, 1664, 1976, 2503, 2775, 3237, 3540, 3954, 4965, 6224, 6985, 9376, 10535, 12282] 74830\n"
     ]
    }
   ],
   "source": [
    "'''\n",
    "P1: gud_gud\n",
    "P2: gu_qin_gu\n",
    "P3: gud_trans\n",
    "P4: mana_gud\n",
    "P5: mana_mana\n",
    "P6: mana_qin_gud\n",
    "P7: mana_qin_mana\n",
    "P8: sub_trans\n",
    "P9: trans_trans\n",
    "P10: trans_trans_trans\n",
    "'''\n",
    "\n",
    "def path_stats(PATH_NAME):\n",
    "    N_by_year = []\n",
    "    for year in range(2003,2022):\n",
    "        path = mmread(os.path.join('mat_by_year',str(year),f'metapath/{PATH_NAME}.mtx'))\n",
    "        N_by_year.append(path.nnz)\n",
    "    return N_by_year, np.sum(N_by_year)\n",
    "\n",
    "N_by_year, n_agg = path_stats(PATH_NAME='trans_trans_trans')\n",
    "print(N_by_year, n_agg)\n"
   ]
  },
  {
   "attachments": {},
   "cell_type": "markdown",
   "metadata": {},
   "source": [
    "查看 subsidiary 和 shareholder 的实体重复率"
   ]
  },
  {
   "cell_type": "code",
   "execution_count": 17,
   "metadata": {},
   "outputs": [
    {
     "data": {
      "text/plain": [
       "(120278, 184869)"
      ]
     },
     "execution_count": 17,
     "metadata": {},
     "output_type": "execute_result"
    }
   ],
   "source": [
    "len(set(gudong.shareholder.tolist()) & set(subfirm.subsidiary.tolist())), \\\n",
    "    len(set(gudong.shareholder.tolist())), len(set(subfirm.subsidiary.tolist()))"
   ]
  },
  {
   "cell_type": "code",
   "execution_count": null,
   "metadata": {},
   "outputs": [],
   "source": [
    "mat_a = coo_matrix(np.array([\n",
    "                    [1,0,0,0,1,0,0],\n",
    "                    [1,1,0,0,0,0,1],\n",
    "                ]))\n",
    "mat_b = coo_matrix(np.array([\n",
    "                    [1,1],\n",
    "                    [0,0],\n",
    "                    [0,0],\n",
    "                    [0,0],\n",
    "                    [1,0],\n",
    "                    [0,0],\n",
    "                    [0,1]\n",
    "                ]))\n",
    "mat_c = coo_matrix(np.array([\n",
    "                    [1,1,1],\n",
    "                    [0,1,1],\n",
    "                ]))\n",
    "mat_d = coo_matrix(np.array([\n",
    "                    [1,1,0],\n",
    "                    [0,1,0],\n",
    "                    [0,0,1]\n",
    "                ]))\n",
    "'''coo = cal_metapath(mat_c, mat_d,[0,1,2])\n",
    "coo_den = coo.todense()\n",
    "coo_den'''\n",
    "mat_a_T = trans(mat_a)\n",
    "mat_a_T = mat_a_T.todense()\n",
    "a = np.array([\n",
    "  [1,0,0,0,1,0,0],\n",
    "  [1,1,0,0,0,0,1],\n",
    "])\n",
    "b = np.array([\n",
    "  [0,0,1,0,1,0,1],\n",
    "  [1,1,0,1,0,1,0],\n",
    "])\n",
    "np.matmul(a, b.T)\n",
    "np.matmul(b, a.T)\n",
    "\n",
    "outdegree = np.array([list(mat_b.row).count(i) for i in range(mat_a.shape[1])])\n",
    "print(outdegree)\n",
    "outdegree_reverse = np.array([list(mat_a.col).count(i) for i in range(mat_b.shape[0])])\n",
    "np.sum(1/2 * 1/outdegree[[0,4]])"
   ]
  },
  {
   "cell_type": "code",
   "execution_count": null,
   "metadata": {},
   "outputs": [],
   "source": [
    "import torch\n",
    "trans_trans_trans = mmread('mat_by_year/2018/metapath/trans_trans.mtx')\n",
    "torch.from_numpy(trans_trans_trans.todense())\n",
    "trans_trans_trans.data.shape"
   ]
  },
  {
   "cell_type": "code",
   "execution_count": null,
   "metadata": {},
   "outputs": [],
   "source": [
    "import meta_3rel_v2, meta_3rel_v1, meta_4rel_v2\n",
    "\n",
    "ab = meta_2rel_v2.cal_metapath(mat_a, mat_b, del_diagnoal=False)\n",
    "ab = ab.todense()\n",
    "\n",
    "ac = meta_3rel_v2.cal_metapath(mat_a, mat_b, mat_c, del_diagnoal=False)\n",
    "ac = ac.todense()\n",
    "ac\n",
    "\n",
    "ad = meta_4rel_v2.cal_metapath(mat_a, mat_b, mat_c, mat_d, del_diagnoal=False)\n",
    "ad = ad.todense()\n",
    "ad"
   ]
  },
  {
   "cell_type": "code",
   "execution_count": null,
   "metadata": {},
   "outputs": [],
   "source": [
    "92+134+152+198+198+68+218+84+128+36+48"
   ]
  },
  {
   "attachments": {},
   "cell_type": "markdown",
   "metadata": {},
   "source": [
    "### 简单地穷举元路径"
   ]
  },
  {
   "cell_type": "code",
   "execution_count": 102,
   "metadata": {},
   "outputs": [
    {
     "data": {
      "text/plain": [
       "[('shareholderOf', 'shareholderOf', 'shareholderOf'),\n",
       " ('shareholderOf', 'shareholderOf', 'hasTransaction'),\n",
       " ('shareholderOf', 'shareholderOf', 'managerOf'),\n",
       " ('shareholderOf', 'shareholderOf', 'subsidiaryOf'),\n",
       " ('shareholderOf', 'shareholderOf', 'kinshipOf'),\n",
       " ('shareholderOf', 'hasTransaction', 'shareholderOf'),\n",
       " ('shareholderOf', 'hasTransaction', 'hasTransaction'),\n",
       " ('shareholderOf', 'hasTransaction', 'managerOf'),\n",
       " ('shareholderOf', 'hasTransaction', 'subsidiaryOf'),\n",
       " ('shareholderOf', 'hasTransaction', 'kinshipOf'),\n",
       " ('shareholderOf', 'managerOf', 'shareholderOf'),\n",
       " ('shareholderOf', 'managerOf', 'hasTransaction'),\n",
       " ('shareholderOf', 'managerOf', 'managerOf'),\n",
       " ('shareholderOf', 'managerOf', 'subsidiaryOf'),\n",
       " ('shareholderOf', 'managerOf', 'kinshipOf'),\n",
       " ('shareholderOf', 'subsidiaryOf', 'shareholderOf'),\n",
       " ('shareholderOf', 'subsidiaryOf', 'hasTransaction'),\n",
       " ('shareholderOf', 'subsidiaryOf', 'managerOf'),\n",
       " ('shareholderOf', 'subsidiaryOf', 'subsidiaryOf'),\n",
       " ('shareholderOf', 'subsidiaryOf', 'kinshipOf'),\n",
       " ('shareholderOf', 'kinshipOf', 'shareholderOf'),\n",
       " ('shareholderOf', 'kinshipOf', 'hasTransaction'),\n",
       " ('shareholderOf', 'kinshipOf', 'managerOf'),\n",
       " ('shareholderOf', 'kinshipOf', 'subsidiaryOf'),\n",
       " ('shareholderOf', 'kinshipOf', 'kinshipOf'),\n",
       " ('hasTransaction', 'shareholderOf', 'shareholderOf'),\n",
       " ('hasTransaction', 'shareholderOf', 'hasTransaction'),\n",
       " ('hasTransaction', 'shareholderOf', 'managerOf'),\n",
       " ('hasTransaction', 'shareholderOf', 'subsidiaryOf'),\n",
       " ('hasTransaction', 'shareholderOf', 'kinshipOf'),\n",
       " ('hasTransaction', 'hasTransaction', 'shareholderOf'),\n",
       " ('hasTransaction', 'hasTransaction', 'hasTransaction'),\n",
       " ('hasTransaction', 'hasTransaction', 'managerOf'),\n",
       " ('hasTransaction', 'hasTransaction', 'subsidiaryOf'),\n",
       " ('hasTransaction', 'hasTransaction', 'kinshipOf'),\n",
       " ('hasTransaction', 'managerOf', 'shareholderOf'),\n",
       " ('hasTransaction', 'managerOf', 'hasTransaction'),\n",
       " ('hasTransaction', 'managerOf', 'managerOf'),\n",
       " ('hasTransaction', 'managerOf', 'subsidiaryOf'),\n",
       " ('hasTransaction', 'managerOf', 'kinshipOf'),\n",
       " ('hasTransaction', 'subsidiaryOf', 'shareholderOf'),\n",
       " ('hasTransaction', 'subsidiaryOf', 'hasTransaction'),\n",
       " ('hasTransaction', 'subsidiaryOf', 'managerOf'),\n",
       " ('hasTransaction', 'subsidiaryOf', 'subsidiaryOf'),\n",
       " ('hasTransaction', 'subsidiaryOf', 'kinshipOf'),\n",
       " ('hasTransaction', 'kinshipOf', 'shareholderOf'),\n",
       " ('hasTransaction', 'kinshipOf', 'hasTransaction'),\n",
       " ('hasTransaction', 'kinshipOf', 'managerOf'),\n",
       " ('hasTransaction', 'kinshipOf', 'subsidiaryOf'),\n",
       " ('hasTransaction', 'kinshipOf', 'kinshipOf'),\n",
       " ('managerOf', 'shareholderOf', 'shareholderOf'),\n",
       " ('managerOf', 'shareholderOf', 'hasTransaction'),\n",
       " ('managerOf', 'shareholderOf', 'managerOf'),\n",
       " ('managerOf', 'shareholderOf', 'subsidiaryOf'),\n",
       " ('managerOf', 'shareholderOf', 'kinshipOf'),\n",
       " ('managerOf', 'hasTransaction', 'shareholderOf'),\n",
       " ('managerOf', 'hasTransaction', 'hasTransaction'),\n",
       " ('managerOf', 'hasTransaction', 'managerOf'),\n",
       " ('managerOf', 'hasTransaction', 'subsidiaryOf'),\n",
       " ('managerOf', 'hasTransaction', 'kinshipOf'),\n",
       " ('managerOf', 'managerOf', 'shareholderOf'),\n",
       " ('managerOf', 'managerOf', 'hasTransaction'),\n",
       " ('managerOf', 'managerOf', 'managerOf'),\n",
       " ('managerOf', 'managerOf', 'subsidiaryOf'),\n",
       " ('managerOf', 'managerOf', 'kinshipOf'),\n",
       " ('managerOf', 'subsidiaryOf', 'shareholderOf'),\n",
       " ('managerOf', 'subsidiaryOf', 'hasTransaction'),\n",
       " ('managerOf', 'subsidiaryOf', 'managerOf'),\n",
       " ('managerOf', 'subsidiaryOf', 'subsidiaryOf'),\n",
       " ('managerOf', 'subsidiaryOf', 'kinshipOf'),\n",
       " ('managerOf', 'kinshipOf', 'shareholderOf'),\n",
       " ('managerOf', 'kinshipOf', 'hasTransaction'),\n",
       " ('managerOf', 'kinshipOf', 'managerOf'),\n",
       " ('managerOf', 'kinshipOf', 'subsidiaryOf'),\n",
       " ('managerOf', 'kinshipOf', 'kinshipOf'),\n",
       " ('subsidiaryOf', 'shareholderOf', 'shareholderOf'),\n",
       " ('subsidiaryOf', 'shareholderOf', 'hasTransaction'),\n",
       " ('subsidiaryOf', 'shareholderOf', 'managerOf'),\n",
       " ('subsidiaryOf', 'shareholderOf', 'subsidiaryOf'),\n",
       " ('subsidiaryOf', 'shareholderOf', 'kinshipOf'),\n",
       " ('subsidiaryOf', 'hasTransaction', 'shareholderOf'),\n",
       " ('subsidiaryOf', 'hasTransaction', 'hasTransaction'),\n",
       " ('subsidiaryOf', 'hasTransaction', 'managerOf'),\n",
       " ('subsidiaryOf', 'hasTransaction', 'subsidiaryOf'),\n",
       " ('subsidiaryOf', 'hasTransaction', 'kinshipOf'),\n",
       " ('subsidiaryOf', 'managerOf', 'shareholderOf'),\n",
       " ('subsidiaryOf', 'managerOf', 'hasTransaction'),\n",
       " ('subsidiaryOf', 'managerOf', 'managerOf'),\n",
       " ('subsidiaryOf', 'managerOf', 'subsidiaryOf'),\n",
       " ('subsidiaryOf', 'managerOf', 'kinshipOf'),\n",
       " ('subsidiaryOf', 'subsidiaryOf', 'shareholderOf'),\n",
       " ('subsidiaryOf', 'subsidiaryOf', 'hasTransaction'),\n",
       " ('subsidiaryOf', 'subsidiaryOf', 'managerOf'),\n",
       " ('subsidiaryOf', 'subsidiaryOf', 'subsidiaryOf'),\n",
       " ('subsidiaryOf', 'subsidiaryOf', 'kinshipOf'),\n",
       " ('subsidiaryOf', 'kinshipOf', 'shareholderOf'),\n",
       " ('subsidiaryOf', 'kinshipOf', 'hasTransaction'),\n",
       " ('subsidiaryOf', 'kinshipOf', 'managerOf'),\n",
       " ('subsidiaryOf', 'kinshipOf', 'subsidiaryOf'),\n",
       " ('subsidiaryOf', 'kinshipOf', 'kinshipOf'),\n",
       " ('kinshipOf', 'shareholderOf', 'shareholderOf'),\n",
       " ('kinshipOf', 'shareholderOf', 'hasTransaction'),\n",
       " ('kinshipOf', 'shareholderOf', 'managerOf'),\n",
       " ('kinshipOf', 'shareholderOf', 'subsidiaryOf'),\n",
       " ('kinshipOf', 'shareholderOf', 'kinshipOf'),\n",
       " ('kinshipOf', 'hasTransaction', 'shareholderOf'),\n",
       " ('kinshipOf', 'hasTransaction', 'hasTransaction'),\n",
       " ('kinshipOf', 'hasTransaction', 'managerOf'),\n",
       " ('kinshipOf', 'hasTransaction', 'subsidiaryOf'),\n",
       " ('kinshipOf', 'hasTransaction', 'kinshipOf'),\n",
       " ('kinshipOf', 'managerOf', 'shareholderOf'),\n",
       " ('kinshipOf', 'managerOf', 'hasTransaction'),\n",
       " ('kinshipOf', 'managerOf', 'managerOf'),\n",
       " ('kinshipOf', 'managerOf', 'subsidiaryOf'),\n",
       " ('kinshipOf', 'managerOf', 'kinshipOf'),\n",
       " ('kinshipOf', 'subsidiaryOf', 'shareholderOf'),\n",
       " ('kinshipOf', 'subsidiaryOf', 'hasTransaction'),\n",
       " ('kinshipOf', 'subsidiaryOf', 'managerOf'),\n",
       " ('kinshipOf', 'subsidiaryOf', 'subsidiaryOf'),\n",
       " ('kinshipOf', 'subsidiaryOf', 'kinshipOf'),\n",
       " ('kinshipOf', 'kinshipOf', 'shareholderOf'),\n",
       " ('kinshipOf', 'kinshipOf', 'hasTransaction'),\n",
       " ('kinshipOf', 'kinshipOf', 'managerOf'),\n",
       " ('kinshipOf', 'kinshipOf', 'subsidiaryOf'),\n",
       " ('kinshipOf', 'kinshipOf', 'kinshipOf')]"
      ]
     },
     "execution_count": 102,
     "metadata": {},
     "output_type": "execute_result"
    }
   ],
   "source": [
    "import itertools\n",
    "def find_permutations(elements, sample_num):\n",
    "    permutations = list(itertools.product(elements, repeat=sample_num))\n",
    "    return permutations\n",
    "\n",
    "# 示例输入\n",
    "n = 6\n",
    "elements = ['shareholderOf','hasTransaction','managerOf','subsidiaryOf','kinshipOf']\n",
    "\n",
    "result_3 = find_permutations(elements, 3)\n",
    "result_3"
   ]
  },
  {
   "cell_type": "code",
   "execution_count": 32,
   "metadata": {},
   "outputs": [
    {
     "name": "stdout",
     "output_type": "stream",
     "text": [
      "(C1, shareholderOf, C3,shareholderOf, C2)\n",
      "(C1, shareholderOf, C3,hasTransaction, C2)\n",
      "(C1, shareholderOf, C3,managerOf, C2)\n",
      "(C1, shareholderOf, C3,subsidiaryOf, C2)\n",
      "(C1, hasTransaction, C3,shareholderOf, C2)\n",
      "(C1, hasTransaction, C3,hasTransaction, C2)\n",
      "(C1, hasTransaction, C3,managerOf, C2)\n",
      "(C1, hasTransaction, C3,subsidiaryOf, C2)\n",
      "(C1, managerOf, C3,shareholderOf, C2)\n",
      "(C1, managerOf, C3,hasTransaction, C2)\n",
      "(C1, managerOf, C3,managerOf, C2)\n",
      "(C1, managerOf, C3,subsidiaryOf, C2)\n",
      "(C1, subsidiaryOf, C3,shareholderOf, C2)\n",
      "(C1, subsidiaryOf, C3,hasTransaction, C2)\n",
      "(C1, subsidiaryOf, C3,managerOf, C2)\n",
      "(C1, subsidiaryOf, C3,subsidiaryOf, C2)\n"
     ]
    }
   ],
   "source": [
    "# 路径长度为2\n",
    "elements = ['shareholderOf','hasTransaction','managerOf','subsidiaryOf']\n",
    "result_2 = find_permutations(elements, 2)\n",
    "for path in result_2:\n",
    "    print(f'(C1, {path[0]}, C3,{path[1]}, C2)')"
   ]
  },
  {
   "cell_type": "code",
   "execution_count": 37,
   "metadata": {},
   "outputs": [
    {
     "data": {
      "text/plain": [
       "16"
      ]
     },
     "execution_count": 37,
     "metadata": {},
     "output_type": "execute_result"
    }
   ],
   "source": [
    "len(result_2)"
   ]
  },
  {
   "attachments": {},
   "cell_type": "markdown",
   "metadata": {},
   "source": [
    "### meta-path的schema: 用 heterogeneous random_walk 算法统计所有元路径\n",
    "在 chatgpt 搜“给定一个关系异构图的邻接矩阵结构 XXX = {YYYY}, 其中节点id为0和1，('managerOf', 0)二元组是关系和尾节点，如何设计一个起始节点为0，终止节点也为0，路径长度为3的random walk算法，要求输出所有路径”\n"
   ]
  },
  {
   "attachments": {},
   "cell_type": "markdown",
   "metadata": {},
   "source": [
    "下面这个算法 num_walks 取不一样的值，输出的路径条数不一样。所以和 ppt 里总结的30条结果还不太一样"
   ]
  },
  {
   "cell_type": "code",
   "execution_count": 100,
   "metadata": {},
   "outputs": [
    {
     "name": "stdout",
     "output_type": "stream",
     "text": [
      "所有符合条件的路径共 66 条:\n",
      "0 - hasTransaction - hasTransaction - hasTransaction - 0\n",
      "0 - hasTransaction - hasTransaction - managerOf - 0\n",
      "0 - hasTransaction - hasTransaction - shareholderOf - 0\n",
      "0 - hasTransaction - hasTransaction - shareholderOf(-1) - 0\n",
      "0 - hasTransaction - kinshipOf - hasTransaction - 0\n",
      "0 - hasTransaction - kinshipOf - managerOf - 0\n",
      "0 - hasTransaction - kinshipOf - shareholderOf - 0\n",
      "0 - hasTransaction - managerOf - hasTransaction - 0\n",
      "0 - hasTransaction - managerOf - shareholderOf - 0\n",
      "0 - hasTransaction - managerOf - shareholderOf(-1) - 0\n",
      "0 - hasTransaction - managerOf(-1) - hasTransaction - 0\n",
      "0 - hasTransaction - managerOf(-1) - managerOf - 0\n",
      "0 - hasTransaction - managerOf(-1) - shareholderOf - 0\n",
      "0 - hasTransaction - shareholderOf - hasTransaction - 0\n",
      "0 - hasTransaction - shareholderOf - shareholderOf - 0\n",
      "0 - hasTransaction - shareholderOf - shareholderOf(-1) - 0\n",
      "0 - hasTransaction - shareholderOf(-1) - hasTransaction - 0\n",
      "0 - hasTransaction - shareholderOf(-1) - managerOf - 0\n",
      "0 - hasTransaction - shareholderOf(-1) - shareholderOf - 0\n",
      "0 - hasTransaction - shareholderOf(-1) - shareholderOf(-1) - 0\n",
      "0 - managerOf(-1) - hasTransaction - hasTransaction - 0\n",
      "0 - managerOf(-1) - hasTransaction - shareholderOf - 0\n",
      "0 - managerOf(-1) - hasTransaction - shareholderOf(-1) - 0\n",
      "0 - managerOf(-1) - kinshipOf - hasTransaction - 0\n",
      "0 - managerOf(-1) - kinshipOf - managerOf - 0\n",
      "0 - managerOf(-1) - kinshipOf - shareholderOf - 0\n",
      "0 - managerOf(-1) - managerOf - hasTransaction - 0\n",
      "0 - managerOf(-1) - managerOf - shareholderOf - 0\n",
      "0 - managerOf(-1) - managerOf - shareholderOf(-1) - 0\n",
      "0 - managerOf(-1) - shareholderOf - hasTransaction - 0\n",
      "0 - managerOf(-1) - shareholderOf - shareholderOf - 0\n",
      "0 - managerOf(-1) - shareholderOf - shareholderOf(-1) - 0\n",
      "0 - shareholderOf - hasTransaction - hasTransaction - 0\n",
      "0 - shareholderOf - hasTransaction - managerOf - 0\n",
      "0 - shareholderOf - hasTransaction - shareholderOf - 0\n",
      "0 - shareholderOf - hasTransaction - shareholderOf(-1) - 0\n",
      "0 - shareholderOf - managerOf(-1) - hasTransaction - 0\n",
      "0 - shareholderOf - managerOf(-1) - managerOf - 0\n",
      "0 - shareholderOf - managerOf(-1) - shareholderOf - 0\n",
      "0 - shareholderOf - shareholderOf - hasTransaction - 0\n",
      "0 - shareholderOf - shareholderOf - shareholderOf - 0\n",
      "0 - shareholderOf - shareholderOf - shareholderOf(-1) - 0\n",
      "0 - shareholderOf - shareholderOf(-1) - hasTransaction - 0\n",
      "0 - shareholderOf - shareholderOf(-1) - managerOf - 0\n",
      "0 - shareholderOf - shareholderOf(-1) - shareholderOf - 0\n",
      "0 - shareholderOf - shareholderOf(-1) - shareholderOf(-1) - 0\n",
      "0 - shareholderOf(-1) - hasTransaction - hasTransaction - 0\n",
      "0 - shareholderOf(-1) - hasTransaction - managerOf - 0\n",
      "0 - shareholderOf(-1) - hasTransaction - shareholderOf - 0\n",
      "0 - shareholderOf(-1) - hasTransaction - shareholderOf(-1) - 0\n",
      "0 - shareholderOf(-1) - kinshipOf - hasTransaction - 0\n",
      "0 - shareholderOf(-1) - kinshipOf - managerOf - 0\n",
      "0 - shareholderOf(-1) - kinshipOf - shareholderOf - 0\n",
      "0 - shareholderOf(-1) - managerOf - hasTransaction - 0\n",
      "0 - shareholderOf(-1) - managerOf - shareholderOf - 0\n",
      "0 - shareholderOf(-1) - managerOf - shareholderOf(-1) - 0\n",
      "0 - shareholderOf(-1) - managerOf(-1) - hasTransaction - 0\n",
      "0 - shareholderOf(-1) - managerOf(-1) - managerOf - 0\n",
      "0 - shareholderOf(-1) - managerOf(-1) - shareholderOf - 0\n",
      "0 - shareholderOf(-1) - shareholderOf - hasTransaction - 0\n",
      "0 - shareholderOf(-1) - shareholderOf - shareholderOf - 0\n",
      "0 - shareholderOf(-1) - shareholderOf - shareholderOf(-1) - 0\n",
      "0 - shareholderOf(-1) - shareholderOf(-1) - hasTransaction - 0\n",
      "0 - shareholderOf(-1) - shareholderOf(-1) - managerOf - 0\n",
      "0 - shareholderOf(-1) - shareholderOf(-1) - shareholderOf - 0\n",
      "0 - shareholderOf(-1) - shareholderOf(-1) - shareholderOf(-1) - 0\n"
     ]
    }
   ],
   "source": [
    "# 用 dgl\n",
    "import torch\n",
    "import random\n",
    "# 0: company, 1: people\n",
    "# relation_type = ['shareholderOf','hasTransaction','managerOf','kinshipOf']\n",
    "business_net = dgl.heterograph({\n",
    "    ('company', 'shareholderOf', 'company'): ([0,1], [0,0]),\n",
    "    ('company', 'shareholderOf(T)', 'company & people'): ([0,1], [0,0]),\n",
    "    ('company', 'hasTransaction', 'company & people'): ([0,0,1], [0,1,0]),\n",
    "    ('people', 'managerOf', 'company'): ([1], [0]),\n",
    "    ('people', 'kinshipOf', 'people'): ([1], [1]),\n",
    "})\n",
    "\n",
    "adj = {\n",
    "    0 : [('shareholderOf', 0),\n",
    "         ('shareholderOf(T)', 0),\n",
    "         ('shareholderOf(T)', 1), \n",
    "         ('managerOf(T)', 1), \n",
    "         ('hasTransaction', 0), \n",
    "         ('hasTransaction', 1)\n",
    "        ], \n",
    "    1 : [('managerOf', 0),\n",
    "         ('kinshipOf', 1), \n",
    "         ('hasTransaction', 0), \n",
    "         ('shareholderOf', 0)]\n",
    "}\n",
    "\n",
    "def random_walk_heterogeneous(adj, current_node, end_node, num_steps, path, paths):\n",
    "    if current_node == end_node and len(path) == num_steps:\n",
    "        paths.append(list(path))\n",
    "        return\n",
    "\n",
    "    if len(path) == num_steps:\n",
    "        return\n",
    "\n",
    "    neighbors = adj[current_node]\n",
    "    \n",
    "    edge_type, next_node = random.choice(neighbors)\n",
    "    path.append((edge_type, next_node))\n",
    "    random_walk_heterogeneous(adj, next_node, end_node, num_steps, path, paths)\n",
    "    path.pop()\n",
    "\n",
    "\n",
    "def generate_random_walks(graph, start_node, end_node, num_steps, num_walks):\n",
    "    walks = []\n",
    "    for _ in range(num_walks):\n",
    "        path = [(None, start_node)]  # 路径的起始节点\n",
    "        paths = []\n",
    "        random_walk_heterogeneous(graph, start_node, end_node, num_steps, path, paths)\n",
    "        walks.extend(paths)\n",
    "    return walks\n",
    "\n",
    "    \n",
    "# 构建关系异构图的邻接列表表示\n",
    "\n",
    "\n",
    "start = 0\n",
    "end = 0\n",
    "steps = 4\n",
    "num_walks = 3000 # walk 多少次，每一次walk一条路，但不一定能到终点\n",
    "\n",
    "walks = generate_random_walks(adj, start, end, steps, num_walks)\n",
    "\n",
    "\n",
    "# walks = [' - '.join([str(path[0][1]), path[1][0], str(path[1][1]), path[2][0], str(path[2][1]),path[3][0],str(path[3][1])]) for path in walks]\n",
    "walks = [' - '.join([str(path[0][1]), path[1][0], path[2][0], path[3][0],str(path[3][1])]) for path in walks]\n",
    "\n",
    "print(f\"所有符合条件的路径共 {len(set(walks))} 条:\")\n",
    "for path in sorted(set(walks)):\n",
    "    print(path)"
   ]
  },
  {
   "attachments": {},
   "cell_type": "markdown",
   "metadata": {},
   "source": [
    "发现当 num_walks > 1000 时，所有符合条件的路径定格在 66 条，所以总的就是 66 条，但是这 66 条里面还有一些是对称的，可以去掉一半"
   ]
  },
  {
   "cell_type": "code",
   "execution_count": null,
   "metadata": {},
   "outputs": [],
   "source": []
  }
 ],
 "metadata": {
  "kernelspec": {
   "display_name": "base",
   "language": "python",
   "name": "python3"
  },
  "language_info": {
   "codemirror_mode": {
    "name": "ipython",
    "version": 3
   },
   "file_extension": ".py",
   "mimetype": "text/x-python",
   "name": "python",
   "nbconvert_exporter": "python",
   "pygments_lexer": "ipython3",
   "version": "3.7.4"
  },
  "orig_nbformat": 4,
  "vscode": {
   "interpreter": {
    "hash": "5484b3874f613c56f67dfe76afc9d70e38b4ca66f35bf223fdfd31467824f203"
   }
  }
 },
 "nbformat": 4,
 "nbformat_minor": 2
}
