{
 "cells": [
  {
   "cell_type": "code",
   "execution_count": 1,
   "metadata": {},
   "outputs": [],
   "source": [
    "import pandas as pd\n",
    "import numpy as np\n",
    "import os\n",
    "import json\n",
    "import re\n",
    "import random\n",
    "from scipy.sparse import coo_matrix\n",
    "from scipy.io import mmread, mmwrite, mminfo\n",
    "# 用 base 环境，anaconda3 的pandas版本不对"
   ]
  },
  {
   "attachments": {},
   "cell_type": "markdown",
   "metadata": {},
   "source": [
    "### 生成上市公司、非上市公司、自然人三个列表"
   ]
  },
  {
   "cell_type": "code",
   "execution_count": 11,
   "metadata": {},
   "outputs": [
    {
     "name": "stdout",
     "output_type": "stream",
     "text": [
      "每种关系的数量：子公司：872305；亲属：16684；高管：844626；关联交易：686116；股东关系：540138；共计2959869\n"
     ]
    }
   ],
   "source": [
    "# 五种关系\n",
    "subfirm = pd.read_csv('../上市公司子公司情况表/subsidiary_fullname_matched.csv',encoding='gb18030')\n",
    "qinshu = pd.read_csv('../股权及亲属关系/qinshu_no_dup_person.csv',encoding='gb18030')\n",
    "gaoguan = pd.read_csv('../高管关系/gaoguan_no_dup_person.csv',encoding='gb18030')\n",
    "guanlian = pd.read_csv('../关联方交易/guanlian_no_dup_person.csv',encoding='gb18030')\n",
    "gudong = pd.read_csv('../十大股东文件/gudong_not_fin.csv',encoding='gb18030')\n",
    "# gudong = pd.read_csv('../十大流通股股东/gudong_no_dup_person.csv',encoding='gb18030')\n",
    "\n",
    "#读取train_test数据集\n",
    "# train_test = pd.read_csv('../train_test_x10.csv',encoding='gb18030')\n",
    "stk_fullname = pd.read_csv('../stk_fullname.csv',encoding='gb18030')\n",
    "fullname_id_dict = dict((stk_fullname.FullName[i],stk_fullname.Stkcd[i]) for i in stk_fullname.index)\n",
    "\n",
    "print('每种关系的数量：子公司：%d；亲属：%d；高管：%d；关联交易：%d；股东关系：%d；共计%d' % \n",
    "      (len(subfirm), len(qinshu), len(gaoguan), len(guanlian), len(gudong),len(subfirm)+len(qinshu)+len(gaoguan)+len(guanlian)+len(gudong)) )"
   ]
  },
  {
   "attachments": {},
   "cell_type": "markdown",
   "metadata": {},
   "source": [
    "完整的上市公司列表来源于 code_for_CSMAR.xlsx，code_for_CSMAR 是由 会计信息质量-财务指标/all_corp_fin_data.xlsx 里面的上市公司提取出来的，就是财务指标完整的上市公司"
   ]
  },
  {
   "cell_type": "code",
   "execution_count": 12,
   "metadata": {},
   "outputs": [
    {
     "name": "stdout",
     "output_type": "stream",
     "text": [
      "子公司中有134家上市公司,剔除,剩下的作为初始的非上市公司集合\n"
     ]
    }
   ],
   "source": [
    "n_listed_corp = 0\n",
    "n_unlisted_corp = 0\n",
    "n_people = 0\n",
    "\n",
    "# 先生成所有上市公司的一个列表\n",
    "code_for_CSMAR = pd.read_excel('../code_for_CSMAR.xlsx',encoding = 'utf-8')\n",
    "listed_corp, unlisted_corp = set(code_for_CSMAR.code), set()\n",
    "# 子公司里面有一些是上市公司\n",
    "# unlisted_corp = set(subfirm.subsidiary)-set([str(i).zfill(6) for i in listed_corp])\n",
    "for i in set(subfirm.subsidiary):\n",
    "    try:\n",
    "        # 把子公司里面的上市公司代码加到listed_corp集合中\n",
    "        listed_corp.add(int(i))\n",
    "    except:\n",
    "        unlisted_corp.add(i)\n",
    "\n",
    "# 高管关系中的manager和亲属关系中的person1和person2都是个人\n",
    "people = set(list(gaoguan.manager)+list(qinshu.person1)+list(qinshu.person2))\n",
    "print('子公司中有%d家上市公司,剔除,剩下的作为初始的非上市公司集合' % len(set(subfirm.subsidiary)-unlisted_corp))"
   ]
  },
  {
   "cell_type": "code",
   "execution_count": 14,
   "metadata": {},
   "outputs": [],
   "source": [
    "# 股东关系,holded不可能是个人，holder可能是个人、上市公司、非上市公司\n",
    "last_name = r'^[赵钱孙李周吴郑王冯陈褚卫蒋沈韩杨朱秦尤许何吕施张孔曹严华金魏陶姜戚谢邹喻柏水窦章云苏潘葛奚范彭郎鲁韦昌马苗凤花方俞任袁柳酆鲍史唐费廉岑薛雷贺倪汤滕殷罗毕郝邬安常乐于时傅皮卞齐康伍余元卜顾孟平黄和穆萧尹姚邵湛汪祁毛禹狄米贝明臧计伏成戴谈宋茅庞熊纪舒屈项祝董梁杜阮蓝闵席季麻强贾路娄危江童颜郭梅盛林刁钟徐邱骆高夏蔡田樊胡凌霍虞支柯昝管卢莫经房裘缪干解应宗丁宣贲邓郁单杭洪包诸左石崔吉钮龚程嵇邢滑裴陆荣翁荀羊於惠甄麴家封芮羿储靳汲邴糜松井段富巫乌焦巴弓牧隗山谷车侯宓蓬全郗班仰秋仲伊宫宁仇栾暴甘钭厉戎祖武符刘景詹束叶幸司韶郜黎蓟薄印宿白怀蒲邰从鄂索咸籍赖卓蔺屠蒙池乔阴郁胥能苍双闻莘党翟谭贡劳逄姬申扶堵冉宰郦雍舄璩桑桂濮牛寿通边扈燕冀郏浦尚农温别庄晏柴瞿阎充慕连茹习宦艾鱼容向古易慎戈廖庾终暨居衡步都耿满弘匡国文寇广禄阙东殴殳沃利蔚越夔隆师巩厍聂晁勾敖融冷訾辛阚那简饶空曾毋沙乜养鞠须丰巢关蒯相查後荆红游竺权逯盖益桓公晋楚闫法汝鄢涂钦岳帅缑亢况后有商牟佘佴伯赏南宫墨哈谯笪年爱阳佟言福欧候劳原卿]'\n",
    "firm_suffix = r'公司|有限|股份|企业|责任|集团|银行|证券|基金|保险|科技|资管|Ltd|LTD|INC|Inc|LIMITED|A/C|中国|Bank|平台|Corp|CORP|医院|欧洲|控股|大学|煤炭|地产|绿化|服饰|小学|船厂|发展|药业|城投|建投|实业|增长'\n",
    "for i in gudong.index:\n",
    "    holded = gudong.loc[i,'Stkcd']\n",
    "    holder = gudong.loc[i,'shareholder']\n",
    "    # 后半部分的数字股票代码是字符串，用type = int识别不出来\n",
    "    try: # 判断是否是数字或者数字字符串\n",
    "        holded = int(holded)\n",
    "        listed_corp.add(holded)\n",
    "    except:\n",
    "        unlisted_corp.add(holded)\n",
    "    \n",
    "    try: # 判断是否是数字或者数字字符串\n",
    "        holder = int(holder)\n",
    "        listed_corp.add(holder)\n",
    "    except:\n",
    "        #if type(holder)==int or re.match('^[0-9]+',holder) is not None:\n",
    "        if holder in unlisted_corp or holder in people:\n",
    "            continue\n",
    "        elif len(re.findall(firm_suffix,holder)) > 0: # 不要用re.match，有些识别不出来\n",
    "            unlisted_corp.add(holder)\n",
    "        elif len(re.findall(r'^[^0-9A-Za-z]+-[0-9]+',holder)) > 0:\n",
    "            people.add(holder)\n",
    "        elif len(holder)<=4 and len(re.findall(last_name,holder)) > 0:\n",
    "            people.add(holder)\n",
    "        else:\n",
    "            unlisted_corp.add(holder)"
   ]
  },
  {
   "cell_type": "code",
   "execution_count": 15,
   "metadata": {},
   "outputs": [],
   "source": [
    "# 关联关系\n",
    "for i in guanlian.index:\n",
    "    seller = guanlian.loc[i,'seller']\n",
    "    buyer = guanlian.loc[i,'buyer']\n",
    "    try:\n",
    "        seller = int(seller)\n",
    "        listed_corp.add(seller)\n",
    "    except:\n",
    "        if seller not in unlisted_corp and seller not in people:\n",
    "            if len(re.findall(firm_suffix,seller)) > 0 :\n",
    "                unlisted_corp.add(seller)\n",
    "            elif len(seller)<=4 and len(re.findall(last_name,seller)) > 0:\n",
    "                people.add(seller)\n",
    "            elif len(re.findall(r'^[^0-9A-Za-z]+-[0-9]+',seller)) > 0:\n",
    "                people.add(seller)\n",
    "            else:\n",
    "                unlisted_corp.add(seller)\n",
    "\n",
    "    try:\n",
    "        buyer = int(buyer)\n",
    "        listed_corp.add(buyer)\n",
    "    except:\n",
    "        if buyer in unlisted_corp or buyer in people:\n",
    "            continue\n",
    "        elif len(re.findall(firm_suffix,buyer)) > 0:\n",
    "            unlisted_corp.add(buyer)\n",
    "        elif len(buyer)<=4 and len(re.findall(last_name,buyer)) > 0 :\n",
    "            people.add(buyer)\n",
    "        elif len(re.findall(r'^[^0-9A-Za-z]+-[0-9]+',buyer)) > 0:\n",
    "            people.add(buyer)\n",
    "        else:\n",
    "            unlisted_corp.add(buyer)\n"
   ]
  },
  {
   "cell_type": "code",
   "execution_count": 18,
   "metadata": {},
   "outputs": [
    {
     "name": "stdout",
     "output_type": "stream",
     "text": [
      "4111 324764 212646\n"
     ]
    }
   ],
   "source": [
    "n_listed_corp = len(listed_corp)\n",
    "n_unlisted_corp = len(unlisted_corp)\n",
    "n_people = len(people)\n",
    "\n",
    "listed_corp = sorted(listed_corp)\n",
    "people = sorted(people)\n",
    "unlisted_corp = sorted(unlisted_corp)\n",
    "print(n_listed_corp, n_unlisted_corp, n_people)\n",
    "# 3月2日版本：4111 324764 212646"
   ]
  },
  {
   "attachments": {},
   "cell_type": "markdown",
   "metadata": {},
   "source": [
    "写入 listed_firm.json，people.json，unlisted_firm.json"
   ]
  },
  {
   "cell_type": "code",
   "execution_count": null,
   "metadata": {},
   "outputs": [],
   "source": [
    "'''with open('listed_firm.json','w') as f:\n",
    "    json.dump(list(listed_corp),f,ensure_ascii=False)\n",
    "\n",
    "with open('people.json','w') as f:\n",
    "    json.dump(list(people),f,ensure_ascii=False)\n",
    "\n",
    "with open('unlisted_firm.json','w') as f:\n",
    "    json.dump(list(unlisted_corp),f,ensure_ascii=False)'''"
   ]
  },
  {
   "cell_type": "code",
   "execution_count": null,
   "metadata": {},
   "outputs": [],
   "source": [
    "last_name = '赵、钱、孙、李、周、吴、郑、王、冯、陈、褚、卫、蒋、沈、韩、杨、朱、秦、尤、许、何、吕、施、张、孔、曹、严、华、金、魏、陶、姜、戚、谢、邹、喻、柏、水、窦、章、云、苏、潘、葛、奚、范、彭、郎、鲁、韦、昌、马、苗、凤、花、方、俞、任、袁、柳、酆、鲍、史、唐、费、廉、岑、薛、雷、贺、倪、汤、滕、殷、罗、毕、郝、邬、安、常、乐、于、时、傅、皮、卞、齐、康、伍、余、元、卜、顾、孟、平、黄、和、穆、萧、尹、姚、邵、湛、汪、祁、毛、禹、狄、米、贝、明、臧、计、伏、成、戴、谈、宋、茅、庞、熊、纪、舒、屈、项、祝、董、梁、杜、阮、蓝、闵、席、季、麻、强、贾、路、娄、危、江、童、颜、郭、梅、盛、林、刁、钟、徐、邱、骆、高、夏、蔡、田、樊、胡、凌、霍、虞、支、柯、昝、管、卢、莫、经、房、裘、缪、干、解、应、宗、丁、宣、贲、邓、郁、单、杭、洪、包、诸、左、石、崔、吉、钮、龚、程、嵇、邢、滑、裴、陆、荣、翁、荀、羊、於、惠、甄、麴、家、封、芮、羿、储、靳、汲、邴、糜、松、井、段、富、巫、乌、焦、巴、弓、牧、隗、山、谷、车、侯、宓、蓬、全、郗、班、仰、秋、仲、伊、宫、宁、仇、栾、暴、甘、钭、厉、戎、祖、武、符、刘、景、詹、束、叶、幸、司、韶、郜、黎、蓟、薄、印、宿、白、怀、蒲、邰、从、鄂、索、咸、籍、赖、卓、蔺、屠、蒙、池、乔、阴、郁、胥、能、苍、双、闻、莘、党、翟、谭、贡、劳、逄、姬、申、扶、堵冉、宰、郦、雍、舄、璩、桑、桂、濮、牛、寿、通、边、扈、燕、冀、郏、浦、尚、农、温、别、庄、晏、柴、瞿、阎、充、慕、连、茹、习、宦、艾、鱼、容、向、古、易、慎戈、廖、庾、终、暨、居、衡、步、都、耿、满、弘、匡、国、文、寇、广、禄、阙、东殴、殳、沃、利、蔚、越、夔、隆、师、巩、厍、聂、晁、勾、敖、融、冷、訾、辛、阚那、简、饶、空、曾、毋、沙、乜、养、鞠、须、丰、巢、关、蒯、相、查、後、荆、红游、竺、权、逯、盖、益、桓、公晋、楚、闫、法、汝、鄢、涂、钦岳、帅、缑、亢、况、后、有商、牟、佘、佴、伯、赏、南宫、墨、哈、谯、笪、年、爱、阳、佟言、福'\n",
    "last_name = last_name.replace('、','')\n",
    "last_name"
   ]
  },
  {
   "cell_type": "code",
   "execution_count": null,
   "metadata": {},
   "outputs": [],
   "source": [
    "# 查看 people 集合中还有多少是公司的名称\n",
    "for i in people:\n",
    "    if re.match(r'^[^0-9A-Za-z]+-[0-9]+',i) is None and re.match(r'[^a-zA-Z]+',i) is not None:\n",
    "        if len(i)>3:\n",
    "            print(i)"
   ]
  },
  {
   "cell_type": "markdown",
   "metadata": {},
   "source": [
    "### 读取实体列表"
   ]
  },
  {
   "cell_type": "code",
   "execution_count": 31,
   "metadata": {},
   "outputs": [
    {
     "name": "stdout",
     "output_type": "stream",
     "text": [
      "4111 324764 212646\n",
      "541521\n"
     ]
    }
   ],
   "source": [
    "with open('listed_firm.json','r') as f:\n",
    "    listed_corp = json.load(f)\n",
    "with open('unlisted_firm.json', 'r') as f:\n",
    "    unlisted_corp = json.load(f)\n",
    "with open('people.json','r') as f:\n",
    "    people = json.load(f)\n",
    "\n",
    "n_listed_corp = len(listed_corp)\n",
    "n_unlisted_corp = len(unlisted_corp)\n",
    "n_people = len(people)\n",
    "n_all = n_listed_corp + n_unlisted_corp + n_people\n",
    "\n",
    "print(n_listed_corp, n_unlisted_corp, n_people)\n",
    "\n",
    "# 3月2日版本：4111 324764 212646\n",
    "# 5月30日版本：4111 324764 212646，和3月2日一样\n",
    "\n",
    "all_body = listed_corp + unlisted_corp + people\n",
    "print(len(all_body))\n",
    "\n",
    "# all_body_dict 用来找 entity 的下标\n",
    "all_body_dict = {}\n",
    "for i in range(len(all_body)):\n",
    "    all_body_dict[all_body[i]] = i"
   ]
  },
  {
   "attachments": {},
   "cell_type": "markdown",
   "metadata": {},
   "source": [
    "### 计算 one hop 关系"
   ]
  },
  {
   "cell_type": "code",
   "execution_count": null,
   "metadata": {},
   "outputs": [],
   "source": [
    "# 亲戚关系\n",
    "# 构造matrix by year\n",
    "all_body = listed_corp + unlisted_corp + people\n",
    "\n",
    "for year in range(2003,2022):\n",
    "    for i in qinshu.index:\n",
    "        cur_year = int(qinshu.loc[ i,'interval'])\n",
    "        if cur_year != year:\n",
    "            continue\n",
    "\n",
    "        p1 = qinshu.loc[i,'person1']\n",
    "        p2 = qinshu.loc[i,'person2']\n",
    "\n",
    "        _row.append(all_body.index(p1))\n",
    "        _col.append(all_body.index(p2))\n",
    "        _data.append(1)\n",
    "\n",
    "        _row.append(all_body.index(p2))\n",
    "        _col.append(all_body.index(p1))\n",
    "        _data.append(1)\n",
    "    _row, _col, _data = np.array(_row), np.array(_col), np.array(_data)\n",
    "\n",
    "    coo = coo_matrix((_data, (_row, _col)), shape= (n_all,n_all), dtype=np.int)\n",
    "    mmwrite(os.path.join('mat_by_year', str(year), 'qinshu.mtx'),coo)\n",
    "    _row, _col, _data = [], [], []\n",
    "    \n",
    "    print(year, coo.nnz, coo.shape,' qinshu done.')"
   ]
  },
  {
   "cell_type": "code",
   "execution_count": null,
   "metadata": {},
   "outputs": [],
   "source": [
    "# 高管关系\n",
    "# 构造matrix by year\n",
    "all_body = listed_corp + unlisted_corp + people\n",
    "\n",
    "for year in range(2003,2022):\n",
    "    for i in gaoguan.index:\n",
    "        cur_year = int(gaoguan.loc[i,'interval'])\n",
    "        if cur_year != year:\n",
    "            continue\n",
    "        stk = gaoguan.loc[i,'Stkcd']\n",
    "        manager = gaoguan.loc[i,'manager']\n",
    "\n",
    "        _row.append(listed_corp.index(stk))\n",
    "        _col.append(all_body.index(manager))\n",
    "        _data.append(1)\n",
    "\n",
    "    _row, _col, _data = np.array(_row), np.array(_col), np.array(_data)\n",
    "\n",
    "    coo = coo_matrix((_data, (_row, _col)), shape= (n_listed_corp, n_all), dtype=np.int)\n",
    "    \n",
    "    mmwrite(os.path.join('mat_by_year', str(year), 'gaoguan.mtx'),coo)\n",
    "    _row, _col, _data = [], [], []\n",
    "    print(year, coo.nnz, coo.shape,'gaoguan done.')"
   ]
  },
  {
   "cell_type": "code",
   "execution_count": null,
   "metadata": {},
   "outputs": [],
   "source": [
    "# 关联交易\n",
    "_row, _col, _data = [], [], []\n",
    "all_body = listed_corp + unlisted_corp + people\n",
    "for year in range(2003,2022):\n",
    "    for i in guanlian.index:\n",
    "        cur_year = guanlian.loc[i,'interval']\n",
    "        \n",
    "        if year != cur_year:\n",
    "            continue\n",
    "        try:\n",
    "            seller = int(guanlian.loc[i,'seller'])\n",
    "        except:\n",
    "            seller = guanlian.loc[i,'seller']\n",
    "        try:\n",
    "            buyer = int(guanlian.loc[i,'buyer'])\n",
    "        except:\n",
    "            buyer = guanlian.loc[i,'buyer']\n",
    "        \n",
    "        _row.append(all_body.index(seller))\n",
    "        _col.append(all_body.index(buyer))\n",
    "        _data.append(1)\n",
    "        \n",
    "        # 因为在计算元路径的时候，关联交易不管是买方是目标上市公司还是卖方是目标上市公司，都要算在一个矩阵里，这里做成对称的矩阵更好\n",
    "        # 但是对称操作会使得有些数据重复，则导致 data 值大于1\n",
    "        _row.append(all_body.index(buyer))\n",
    "        _col.append(all_body.index(seller))\n",
    "        _data.append(1)\n",
    "    \n",
    "    coo = coo_matrix((_data, (_row, _col)), shape = (len(all_body),len(all_body)), dtype=np.int)\n",
    "    mmwrite(os.path.join('mat_by_year', str(year), 'guanlian.mtx'), coo)\n",
    "    _row, _col, _data = [], [], []\n",
    "    print(year, coo.nnz, coo.shape)\n"
   ]
  },
  {
   "cell_type": "code",
   "execution_count": null,
   "metadata": {},
   "outputs": [],
   "source": [
    "# 子公司关系\n",
    "_row, _col, _data = [], [], []\n",
    "all_corp = listed_corp + unlisted_corp\n",
    "all_body = listed_corp + unlisted_corp + people\n",
    "\n",
    "# 构造matrix by year\n",
    "for year in range(2003,2022):\n",
    "    for i in subfirm.index:\n",
    "        cur_year = int(subfirm.loc[i,'interval'])\n",
    "        if cur_year != year:\n",
    "            continue\n",
    "\n",
    "        stkcd = subfirm.loc[i,'Stkcd']\n",
    "        \n",
    "        try: # 判断子公司是上市公司还是非上市公司\n",
    "            sub = int(subfirm.loc[i,'subsidiary'])\n",
    "        except:\n",
    "            sub = subfirm.loc[i,'subsidiary']\n",
    "        \n",
    "        _row.append(listed_corp.index(stkcd))\n",
    "        \n",
    "        _col.append(all_corp.index(sub))\n",
    "        \n",
    "        _data.append(1)\n",
    "\n",
    "    _row, _col, _data = np.array(_row), np.array(_col), np.array(_data)\n",
    "\n",
    "    coo = coo_matrix((_data, (_row, _col)), shape= (n_listed_corp, n_listed_corp + n_unlisted_corp), dtype=np.int)\n",
    "    # coo.todense()  # 通过toarray方法转化成密集矩阵(numpy.matrix)\n",
    "    mmwrite(os.path.join('mat_by_year', str(year), 'subfirm.mtx'),coo)\n",
    "    _row, _col, _data = [], [], []\n",
    "    print(year, coo.nnz, coo.shape, 'subsidiary done.')"
   ]
  },
  {
   "cell_type": "code",
   "execution_count": null,
   "metadata": {},
   "outputs": [],
   "source": [
    "# 股东关系\n",
    "# all_corp = listed_corp + unlisted_corp\n",
    "all_body = listed_corp + unlisted_corp + people\n",
    "\n",
    "_row, _col, _data = [], [], []\n",
    "for year in range(2003,2022):\n",
    "    for i in gudong.index:\n",
    "        cur_year = gudong.loc[i,'interval']\n",
    "        if year != cur_year:\n",
    "            continue\n",
    "        holded = int(gudong.loc[i,'Stkcd'])\n",
    "        try:\n",
    "            holder = int(gudong.loc[i,'shareholder'])\n",
    "        except:\n",
    "            holder = gudong.loc[i,'shareholder']\n",
    "        \n",
    "        _row.append(listed_corp.index(holded))\n",
    "        _col.append(all_body.index(holder))\n",
    "        _data.append(1)\n",
    "    coo = coo_matrix((_data, (_row, _col)), shape = (n_listed_corp, n_all), dtype=np.int)\n",
    "    mmwrite(os.path.join('mat_by_year', str(year), 'gudong.mtx'),coo)\n",
    "    _row, _col, _data = [], [], []\n",
    "    # print(year,' gudong done.')\n",
    "    print(year, coo.nnz, coo.shape)"
   ]
  },
  {
   "cell_type": "markdown",
   "metadata": {},
   "source": [
    "### 计算相似度"
   ]
  },
  {
   "cell_type": "code",
   "execution_count": 35,
   "metadata": {},
   "outputs": [
    {
     "name": "stdout",
     "output_type": "stream",
     "text": [
      "4111 324764 212646 541521\n"
     ]
    }
   ],
   "source": [
    "with open('listed_firm.json','r') as f:\n",
    "    listed_corp = json.load(f)\n",
    "with open('unlisted_firm.json', 'r') as f:\n",
    "    unlisted_corp = json.load(f)\n",
    "with open('people.json','r') as f:\n",
    "    people = json.load(f)\n",
    "\n",
    "n_listed_corp = len(listed_corp)\n",
    "n_unlisted_corp = len(unlisted_corp)\n",
    "n_people = len(people)\n",
    "n_all = n_listed_corp + n_unlisted_corp + n_people\n",
    "\n",
    "print(n_listed_corp, n_unlisted_corp, n_people, n_all)\n",
    "\n",
    "def trans(D):\n",
    "    return coo_matrix((D.data, (D.col, D.row)), shape=(D.shape[1], D.shape[0]))\n",
    "# 3124 254457 160165 417746"
   ]
  },
  {
   "cell_type": "markdown",
   "metadata": {},
   "source": [
    "### 长度为2的路径"
   ]
  },
  {
   "cell_type": "code",
   "execution_count": 46,
   "metadata": {},
   "outputs": [],
   "source": [
    "import meta_2rel_v2 # v2 太慢了\n",
    "\n",
    "def listed_corp_slices(coo_mtx, n_listed_corp): # 对原始的矩阵进行行切片，以加快计算速度\n",
    "    _row, _col, _data = [], [], []\n",
    "    \n",
    "    for row, col, data in zip(coo_mtx.row, coo_mtx.col, coo_mtx.data):\n",
    "        if row < n_listed_corp:\n",
    "            _row.append(row)\n",
    "            _col.append(col)\n",
    "            _data.append(data)\n",
    "    return coo_matrix((_data, (_row, _col)), shape = (n_listed_corp, coo_mtx.shape[1]), dtype=np.int)\n"
   ]
  },
  {
   "cell_type": "code",
   "execution_count": null,
   "metadata": {},
   "outputs": [],
   "source": [
    "# listed_firm - [HasTransaction] - all_body - [ShareholderOf] - listed_firm\n",
    "# listed_firm - [ShareholderOf] - all_body - [HasTransaction] - listed_firm\n",
    "'''数据量比较少'''\n",
    "for year in range(2003,2022):\n",
    "    # [listed_corp, all_body]\n",
    "    gudong = mmread(os.path.join('mat_by_year',str(year), 'gudong.mtx'))\n",
    "    \n",
    "    # [all_corp, all_body]  -> [listed_corp, all_body]\n",
    "    # gudong = listed_corp_slices(gudong, n_listed_corp=n_listed_corp)\n",
    "\n",
    "    # [all_body, all_body]\n",
    "    guanlian = mmread(os.path.join('mat_by_year',str(year),'guanlian.mtx'))\n",
    "    # [all_body, all_body]  -> [listed_corp, all_body]\n",
    "    guanlian = listed_corp_slices(guanlian, n_listed_corp=n_listed_corp)\n",
    "    guanlian_T = trans(guanlian)\n",
    "    gudong_guanlian = meta_2rel_v2.cal_metapath(gudong, guanlian_T, del_diagnoal=False)\n",
    "    mmwrite(os.path.join('mat_by_year',str(year),'metapath/gud_trans.mtx'), gudong_guanlian)\n",
    "    print(year, gudong_guanlian.nnz, gudong_guanlian.shape)"
   ]
  },
  {
   "cell_type": "code",
   "execution_count": null,
   "metadata": {},
   "outputs": [],
   "source": [
    "# listed_firm - [ShareholderOf] - all_body - [ShareholderOf] - listed_firm\n",
    "for year in range(2003,2022):\n",
    "    # [listed_corp, all_body]\n",
    "    gudong = mmread(os.path.join('mat_by_year',str(year), 'gudong.mtx'))\n",
    "    # [all_corp, all_body] -> [listed_corp, all_body]\n",
    "    # gudong = listed_corp_slices(gudong, n_listed_corp=n_listed_corp)\n",
    "\n",
    "    gudong_T = trans(gudong)\n",
    "\n",
    "    gudong_gudong = meta_2rel_v2.cal_metapath(gudong, gudong_T, del_diagnoal=True)\n",
    "    print(year, gudong_gudong.nnz, gudong_gudong.shape)\n",
    "    mmwrite(os.path.join('mat_by_year',str(year),'metapath/gud_gud.mtx'), gudong_gudong)"
   ]
  },
  {
   "cell_type": "code",
   "execution_count": null,
   "metadata": {},
   "outputs": [],
   "source": [
    "# listed_corp - [ManagerOf] - all_body(buyer) - [ShareholderOf] - listed_corp\n",
    "'''数量比较少'''\n",
    "for year in range(2003,2022):\n",
    "    # [listed_corp, all_body]\n",
    "    gaoguan = mmread(os.path.join('mat_by_year',str(year),'gaoguan.mtx'))\n",
    "    \n",
    "    # [listed_corp, all_body]\n",
    "    gudong =  mmread(os.path.join('mat_by_year',str(year), 'gudong.mtx'))\n",
    "    # [all_corp, all_body] -> [listed_corp, all_body]\n",
    "    # gudong = listed_corp_slices(gudong, n_listed_corp=n_listed_corp)\n",
    "    gudong_T = trans(gudong)\n",
    "\n",
    "    mana_gudong = meta_2rel_v2.cal_metapath(gaoguan, gudong_T, del_diagnoal=False)\n",
    "    print(year, mana_gudong.nnz, mana_gudong.shape)\n",
    "    mmwrite(os.path.join('mat_by_year',str(year),'metapath/mana_gud.mtx'), mana_gudong)\n"
   ]
  },
  {
   "cell_type": "code",
   "execution_count": null,
   "metadata": {},
   "outputs": [],
   "source": [
    "# listed_corp - [ManagerOf] - people - [ManagerOf] - listed_corp\n",
    "'''数量比较少'''\n",
    "for year in range(2003,2022):\n",
    "    # [listed_corp, all_body]\n",
    "    gaoguan = mmread(os.path.join('mat_by_year',str(year),'gaoguan.mtx'))\n",
    "    gaoguan_T = trans(gaoguan)\n",
    "    mana_mana = meta_2rel_v2.cal_metapath(gaoguan, gaoguan_T, del_diagnoal=True)\n",
    "    print(year, mana_mana.nnz, mana_mana.shape)\n",
    "    mmwrite(os.path.join('mat_by_year',str(year),'metapath/mana_mana.mtx'), mana_mana)\n"
   ]
  },
  {
   "cell_type": "code",
   "execution_count": null,
   "metadata": {},
   "outputs": [],
   "source": [
    "# listed_corp - [HasTransaction] - all_body - [HasTransaction] - listed_corp\n",
    "'''数量比较少'''\n",
    "for year in range(2003, 2022):\n",
    "    \n",
    "    guanlian = mmread(os.path.join('mat_by_year',str(year),'guanlian.mtx'))\n",
    "    guanlian = listed_corp_slices(guanlian, n_listed_corp=n_listed_corp)\n",
    "    guanlian_T = trans(guanlian)\n",
    "    guan_guan = meta_2rel_v2.cal_metapath(guanlian, guanlian_T, del_diagnoal=True)\n",
    "    print(year, guan_guan.nnz, guan_guan.shape)\n",
    "    mmwrite(os.path.join('mat_by_year',str(year),'metapath/trans_trans.mtx'), guan_guan)\n"
   ]
  },
  {
   "cell_type": "code",
   "execution_count": 36,
   "metadata": {},
   "outputs": [
    {
     "name": "stdout",
     "output_type": "stream",
     "text": [
      "2003 65 (4111, 4111)\n",
      "2004 85 (4111, 4111)\n",
      "2005 80 (4111, 4111)\n",
      "2006 91 (4111, 4111)\n",
      "2007 81 (4111, 4111)\n",
      "2008 76 (4111, 4111)\n",
      "2009 90 (4111, 4111)\n",
      "2010 91 (4111, 4111)\n",
      "2011 123 (4111, 4111)\n",
      "2012 106 (4111, 4111)\n",
      "2013 107 (4111, 4111)\n",
      "2014 118 (4111, 4111)\n",
      "2015 124 (4111, 4111)\n",
      "2016 156 (4111, 4111)\n",
      "2017 160 (4111, 4111)\n",
      "2018 152 (4111, 4111)\n",
      "2019 158 (4111, 4111)\n",
      "2020 167 (4111, 4111)\n",
      "2021 155 (4111, 4111)\n"
     ]
    }
   ],
   "source": [
    "# listed_corp - [SubsidiaryOf] - all_body - [ShareholderOf] - listed_corp\n",
    "'''数量比较少, 没有输出到文件中'''\n",
    "for year in range(2003, 2022):\n",
    "    # [listed_corp, all_corp]\n",
    "    subfirm = mmread(os.path.join('mat_by_year',str(year),'subfirm.mtx'))\n",
    "    # [listed_corp, all_body]\n",
    "    gudong =  mmread(os.path.join('mat_by_year',str(year), 'gudong.mtx'))\n",
    "    \n",
    "    # gudong = listed_corp_slices(gudong, n_listed_corp=n_listed_corp)\n",
    "    gudong_T = trans(gudong)\n",
    "    \n",
    "    sub_gudong = meta_2rel_v2.cal_metapath(subfirm, gudong_T, del_diagnoal=False)\n",
    "    print(year, sub_gudong.nnz, sub_gudong.shape)\n",
    "    "
   ]
  },
  {
   "attachments": {},
   "cell_type": "markdown",
   "metadata": {},
   "source": [
    "2023年5月30日"
   ]
  },
  {
   "cell_type": "code",
   "execution_count": 38,
   "metadata": {},
   "outputs": [
    {
     "name": "stdout",
     "output_type": "stream",
     "text": [
      "2003 1124 (4111, 4111)\n",
      "2004 1195 (4111, 4111)\n",
      "2005 1257 (4111, 4111)\n",
      "2006 1332 (4111, 4111)\n",
      "2007 1431 (4111, 4111)\n",
      "2008 1505 (4111, 4111)\n",
      "2009 1625 (4111, 4111)\n",
      "2010 1658 (4111, 4111)\n",
      "2011 2170 (4111, 4111)\n",
      "2012 2321 (4111, 4111)\n",
      "2013 2397 (4111, 4111)\n",
      "2014 2463 (4111, 4111)\n",
      "2015 2698 (4111, 4111)\n",
      "2016 2983 (4111, 4111)\n",
      "2017 3484 (4111, 4111)\n",
      "2018 3589 (4111, 4111)\n",
      "2019 3789 (4111, 4111)\n",
      "2020 3812 (4111, 4111)\n",
      "2021 3843 (4111, 4111)\n"
     ]
    }
   ],
   "source": [
    "# listed_corp - [SubsidiaryOf] - all_body - [SubsidiaryOf] - listed_corp\n",
    "'''数量比较少, 没有输出到文件中'''\n",
    "for year in range(2003, 2022):\n",
    "    # [listed_corp, all_corp]\n",
    "    subfirm = mmread(os.path.join('mat_by_year',str(year),'subfirm.mtx'))\n",
    "    subfirm_T = trans(subfirm)\n",
    "    \n",
    "    sub_sub = meta_2rel_v2.cal_metapath(subfirm, subfirm_T, del_diagnoal=False)\n",
    "    print(year, sub_sub.nnz, sub_sub.shape)\n",
    "    "
   ]
  },
  {
   "cell_type": "code",
   "execution_count": null,
   "metadata": {},
   "outputs": [],
   "source": [
    "# listed_corp - [SubsidiaryOf] - all_body - [SubsidiaryOf] - listed_corp\n"
   ]
  },
  {
   "cell_type": "code",
   "execution_count": null,
   "metadata": {},
   "outputs": [],
   "source": [
    "# listed_corp - [SubsidiaryOf] - all_body - [HasTransactionOf] - listed_corp\n",
    "'''数量比较少'''\n",
    "for year in range(2003, 2022):\n",
    "    # [listed_corp, all_corp]\n",
    "    subfirm = mmread(os.path.join('mat_by_year',str(year),'subfirm.mtx'))\n",
    "    # [all_body, all_body]\n",
    "    guanlian = mmread(os.path.join('mat_by_year',str(year),'guanlian.mtx'))\n",
    "    guanlian = listed_corp_slices(guanlian, n_listed_corp=n_listed_corp)\n",
    "    guanlian_T = trans(guanlian)\n",
    "    \n",
    "    sub_guanlian = meta_2rel_v2.cal_metapath(subfirm, guanlian_T, del_diagnoal=False)\n",
    "    print(year, sub_guanlian.nnz, sub_guanlian.shape)\n",
    "    mmwrite(os.path.join('mat_by_year',str(year),'metapath/sub_trans.mtx'), sub_guanlian)\n",
    "\n",
    "    "
   ]
  },
  {
   "cell_type": "markdown",
   "metadata": {},
   "source": [
    "### 长度为3的路径"
   ]
  },
  {
   "cell_type": "code",
   "execution_count": null,
   "metadata": {},
   "outputs": [],
   "source": [
    "import meta_3rel_v1, meta_3rel_v2\n",
    "# gudong: (listed_corp + unlisted_corp) * (listed_corp + unlisted_corp + people)\n",
    "\n",
    "# first_quadrant 切到第一象限: 行往小了切，列往大了切\n",
    "def first_quadrant_slices(coo_mtx, upper_bound, lower_bound):\n",
    "    _row, _col, _data = [], [], []\n",
    "    for r, c, d in zip(coo_mtx.row, coo_mtx.col, coo_mtx.data):\n",
    "        if r < upper_bound and c >= lower_bound:\n",
    "            _row.append(r)\n",
    "            _col.append(c-lower_bound)\n",
    "            _data.append(d)\n",
    "    return coo_matrix((_data, (_row, _col)), shape = (upper_bound, coo_mtx.shape[1]-lower_bound), dtype=np.int)"
   ]
  },
  {
   "cell_type": "code",
   "execution_count": null,
   "metadata": {},
   "outputs": [],
   "source": [
    "# listed_corp - (ShareholderOf) - person - (KindshipOf) - person - (ShareholderOf) - listed_corp\n",
    "'''数量比较少'''\n",
    "for year in range(2003,2022):\n",
    "    # [all_body, all_body]\n",
    "    qinshu = mmread(os.path.join('mat_by_year', str(year), 'qinshu.mtx'))\n",
    "    # [listed_corp, all_body]\n",
    "    gudong = mmread(os.path.join('mat_by_year',str(year), 'gudong.mtx'))\n",
    "    # [all_corp, all_body] -> [listed_corp, all_body]\n",
    "    # gudong = listed_corp_slices(gudong, n_listed_corp=n_listed_corp)\n",
    "\n",
    "    # print(gudong.shape, qinshu.shape)\n",
    "    gudong_T = trans(gudong)\n",
    "    gu_qin_gu = meta_3rel_v2.cal_metapath(gudong, qinshu, gudong_T)\n",
    "    print(year,gu_qin_gu.nnz, gu_qin_gu.shape)\n",
    "    mmwrite(os.path.join('mat_by_year',str(year),'metapath/gu_qin_gu.mtx'),gu_qin_gu)"
   ]
  },
  {
   "cell_type": "code",
   "execution_count": null,
   "metadata": {},
   "outputs": [],
   "source": [
    "# listed_corp - [HasTransaction] - all_body - [HasTransaction] - all_body - [HasTransaction] - listed_corp\n",
    "for year in range(2003,2022):\n",
    "    guanlian = mmread(os.path.join('mat_by_year',str(year),'guanlian.mtx'))\n",
    "    guanlian1 = listed_corp_slices(guanlian, n_listed_corp=n_listed_corp)\n",
    "    guanlian_T = trans(guanlian1)\n",
    "    guan_guan_guan = meta_3rel_v2.cal_metapath(guanlian1, guanlian, guanlian_T, del_diagnoal=False)\n",
    "    print(year, guan_guan_guan.nnz, guan_guan_guan.shape)\n",
    "    mmwrite(os.path.join('mat_by_year',str(year),'metapath/trans_trans_trans.mtx'), guan_guan_guan)"
   ]
  },
  {
   "cell_type": "code",
   "execution_count": null,
   "metadata": {},
   "outputs": [],
   "source": [
    "# listed_corp - [ManagerOf] - person - [KindshipOf] - person - [ManagerOf] - listed_corp\n",
    "'''数量比较少'''\n",
    "for year in range(2003,2022):\n",
    "    # [all_body, all_body]\n",
    "    qinshu = mmread(os.path.join('mat_by_year', str(year), 'qinshu.mtx'))\n",
    "    # [listed_corp, all_body]\n",
    "    gaoguan = mmread(os.path.join('mat_by_year',str(year), 'gaoguan.mtx'))\n",
    "    gaoguan_T = trans(gaoguan)\n",
    "    mana_qin_mana = meta_3rel_v2.cal_metapath(gaoguan, qinshu, gaoguan_T, del_diagnoal=False)\n",
    "    print(year, mana_qin_mana.nnz, mana_qin_mana.shape)\n",
    "    mmwrite(os.path.join('mat_by_year',str(year),'metapath/mana_qin_mana.mtx'), mana_qin_mana)"
   ]
  },
  {
   "cell_type": "code",
   "execution_count": null,
   "metadata": {},
   "outputs": [],
   "source": [
    "# listed_corp - [ManagerOf] - person - [KindshipOf] - person - [ShareholderOf] - listed_corp\n",
    "'''数量比较少'''\n",
    "for year in range(2003,2022):\n",
    "    # [all_body, all_body]\n",
    "    qinshu = mmread(os.path.join('mat_by_year', str(year), 'qinshu.mtx'))\n",
    "\n",
    "    # [listed_corp, all_body]\n",
    "    gaoguan = mmread(os.path.join('mat_by_year',str(year), 'gaoguan.mtx'))\n",
    "    \n",
    "    # [listed_corp, all_body]\n",
    "    gudong = mmread(os.path.join('mat_by_year',str(year), 'gudong.mtx'))\n",
    "    \n",
    "    # gudong = listed_corp_slices(gudong, n_listed_corp = n_listed_corp)\n",
    "    \n",
    "    gudong_T = trans(gudong)\n",
    "    \n",
    "    # 股东\n",
    "    mana_qin_gud = meta_3rel_v2.cal_metapath(gaoguan, qinshu, gudong_T, del_diagnoal=False)\n",
    "    print(year, mana_qin_gud.nnz, mana_qin_gud.shape)\n",
    "    mmwrite(os.path.join('mat_by_year',str(year),'metapath/mana_qin_gud.mtx'), mana_qin_gud)"
   ]
  },
  {
   "attachments": {},
   "cell_type": "markdown",
   "metadata": {},
   "source": [
    "#### 统计各个meta-path的数量:"
   ]
  },
  {
   "cell_type": "code",
   "execution_count": null,
   "metadata": {},
   "outputs": [],
   "source": [
    "'''\n",
    "P1: gud_gud\n",
    "P2: gu_qin_gu\n",
    "P3: gud_trans\n",
    "P4: mana_gud\n",
    "P5: mana_mana\n",
    "P6: mana_qin_gud\n",
    "P7: mana_qin_mana\n",
    "P8: sub_trans\n",
    "P9: trans_trans\n",
    "P10: trans_trans_trans\n",
    "'''\n",
    "\n",
    "def path_stats(PATH_NAME):\n",
    "    N_by_year = []\n",
    "    for year in range(2003,2022):\n",
    "        path = mmread(os.path.join('mat_by_year',str(year),f'metapath/{PATH_NAME}.mtx'))\n",
    "        N_by_year.append(path.nnz)\n",
    "    return N_by_year, np.sum(N_by_year)\n",
    "\n",
    "N_by_year, n_agg = path_stats(PATH_NAME='trans_trans_trans')\n",
    "print(N_by_year, n_agg)\n"
   ]
  },
  {
   "attachments": {},
   "cell_type": "markdown",
   "metadata": {},
   "source": [
    "查看 subsidiary 和 shareholder 的实体重复率"
   ]
  },
  {
   "cell_type": "code",
   "execution_count": 16,
   "metadata": {},
   "outputs": [
    {
     "data": {
      "text/plain": [
       "708"
      ]
     },
     "execution_count": 16,
     "metadata": {},
     "output_type": "execute_result"
    }
   ],
   "source": [
    "len(set(gudong.shareholder.tolist()) & set(subfirm.subsidiary.tolist()))"
   ]
  },
  {
   "cell_type": "code",
   "execution_count": 17,
   "metadata": {},
   "outputs": [
    {
     "data": {
      "text/plain": [
       "(120278, 184869)"
      ]
     },
     "execution_count": 17,
     "metadata": {},
     "output_type": "execute_result"
    }
   ],
   "source": [
    "len(set(gudong.shareholder.tolist())), len(set(subfirm.subsidiary.tolist()))"
   ]
  },
  {
   "cell_type": "code",
   "execution_count": 11,
   "metadata": {},
   "outputs": [
    {
     "data": {
      "text/html": [
       "<div>\n",
       "<style scoped>\n",
       "    .dataframe tbody tr th:only-of-type {\n",
       "        vertical-align: middle;\n",
       "    }\n",
       "\n",
       "    .dataframe tbody tr th {\n",
       "        vertical-align: top;\n",
       "    }\n",
       "\n",
       "    .dataframe thead th {\n",
       "        text-align: right;\n",
       "    }\n",
       "</style>\n",
       "<table border=\"1\" class=\"dataframe\">\n",
       "  <thead>\n",
       "    <tr style=\"text-align: right;\">\n",
       "      <th></th>\n",
       "      <th>Stkcd</th>\n",
       "      <th>interval</th>\n",
       "      <th>subsidiary</th>\n",
       "    </tr>\n",
       "  </thead>\n",
       "  <tbody>\n",
       "    <tr>\n",
       "      <td>0</td>\n",
       "      <td>2</td>\n",
       "      <td>2003</td>\n",
       "      <td>成都万科物业管理有限公司</td>\n",
       "    </tr>\n",
       "    <tr>\n",
       "      <td>1</td>\n",
       "      <td>2</td>\n",
       "      <td>2003</td>\n",
       "      <td>天津万科房地产有限公司</td>\n",
       "    </tr>\n",
       "    <tr>\n",
       "      <td>2</td>\n",
       "      <td>2</td>\n",
       "      <td>2003</td>\n",
       "      <td>天津万科兴业发展有限公司</td>\n",
       "    </tr>\n",
       "    <tr>\n",
       "      <td>3</td>\n",
       "      <td>2</td>\n",
       "      <td>2003</td>\n",
       "      <td>天津万科住宅发展有限公司</td>\n",
       "    </tr>\n",
       "    <tr>\n",
       "      <td>4</td>\n",
       "      <td>2</td>\n",
       "      <td>2003</td>\n",
       "      <td>天津万科物业管理有限公司</td>\n",
       "    </tr>\n",
       "    <tr>\n",
       "      <td>...</td>\n",
       "      <td>...</td>\n",
       "      <td>...</td>\n",
       "      <td>...</td>\n",
       "    </tr>\n",
       "    <tr>\n",
       "      <td>872300</td>\n",
       "      <td>900956</td>\n",
       "      <td>2019</td>\n",
       "      <td>阿拉山口东贝洁能有限公司</td>\n",
       "    </tr>\n",
       "    <tr>\n",
       "      <td>872301</td>\n",
       "      <td>900956</td>\n",
       "      <td>2019</td>\n",
       "      <td>东贝国际贸易有限公司</td>\n",
       "    </tr>\n",
       "    <tr>\n",
       "      <td>872302</td>\n",
       "      <td>900956</td>\n",
       "      <td>2019</td>\n",
       "      <td>东贝机电(江苏)有限公司</td>\n",
       "    </tr>\n",
       "    <tr>\n",
       "      <td>872303</td>\n",
       "      <td>900956</td>\n",
       "      <td>2019</td>\n",
       "      <td>东贝(武汉)科技创新有限公司</td>\n",
       "    </tr>\n",
       "    <tr>\n",
       "      <td>872304</td>\n",
       "      <td>900956</td>\n",
       "      <td>2019</td>\n",
       "      <td>东贝(芜湖)机电有限公司</td>\n",
       "    </tr>\n",
       "  </tbody>\n",
       "</table>\n",
       "<p>872305 rows × 3 columns</p>\n",
       "</div>"
      ],
      "text/plain": [
       "         Stkcd  interval      subsidiary\n",
       "0            2      2003    成都万科物业管理有限公司\n",
       "1            2      2003     天津万科房地产有限公司\n",
       "2            2      2003    天津万科兴业发展有限公司\n",
       "3            2      2003    天津万科住宅发展有限公司\n",
       "4            2      2003    天津万科物业管理有限公司\n",
       "...        ...       ...             ...\n",
       "872300  900956      2019    阿拉山口东贝洁能有限公司\n",
       "872301  900956      2019      东贝国际贸易有限公司\n",
       "872302  900956      2019    东贝机电(江苏)有限公司\n",
       "872303  900956      2019  东贝(武汉)科技创新有限公司\n",
       "872304  900956      2019    东贝(芜湖)机电有限公司\n",
       "\n",
       "[872305 rows x 3 columns]"
      ]
     },
     "execution_count": 11,
     "metadata": {},
     "output_type": "execute_result"
    }
   ],
   "source": [
    "subfirm"
   ]
  },
  {
   "cell_type": "code",
   "execution_count": null,
   "metadata": {},
   "outputs": [],
   "source": [
    "mat_a = coo_matrix(np.array([\n",
    "                    [1,0,0,0,1,0,0],\n",
    "                    [1,1,0,0,0,0,1],\n",
    "                ]))\n",
    "mat_b = coo_matrix(np.array([\n",
    "                    [1,1],\n",
    "                    [0,0],\n",
    "                    [0,0],\n",
    "                    [0,0],\n",
    "                    [1,0],\n",
    "                    [0,0],\n",
    "                    [0,1]\n",
    "                ]))\n",
    "mat_c = coo_matrix(np.array([\n",
    "                    [1,1,1],\n",
    "                    [0,1,1],\n",
    "                ]))\n",
    "mat_d = coo_matrix(np.array([\n",
    "                    [1,1,0],\n",
    "                    [0,1,0],\n",
    "                    [0,0,1]\n",
    "                ]))\n",
    "'''coo = cal_metapath(mat_c, mat_d,[0,1,2])\n",
    "coo_den = coo.todense()\n",
    "coo_den'''\n",
    "mat_a_T = trans(mat_a)\n",
    "mat_a_T = mat_a_T.todense()\n",
    "a = np.array([\n",
    "  [1,0,0,0,1,0,0],\n",
    "  [1,1,0,0,0,0,1],\n",
    "])\n",
    "b = np.array([\n",
    "  [0,0,1,0,1,0,1],\n",
    "  [1,1,0,1,0,1,0],\n",
    "])\n",
    "np.matmul(a, b.T)\n",
    "np.matmul(b, a.T)\n",
    "\n",
    "outdegree = np.array([list(mat_b.row).count(i) for i in range(mat_a.shape[1])])\n",
    "print(outdegree)\n",
    "outdegree_reverse = np.array([list(mat_a.col).count(i) for i in range(mat_b.shape[0])])\n",
    "np.sum(1/2 * 1/outdegree[[0,4]])\n",
    "\n",
    "\n"
   ]
  },
  {
   "cell_type": "code",
   "execution_count": null,
   "metadata": {},
   "outputs": [],
   "source": [
    "import torch\n",
    "trans_trans_trans = mmread('mat_by_year/2018/metapath/trans_trans.mtx')\n",
    "torch.from_numpy(trans_trans_trans.todense())\n",
    "trans_trans_trans.data.shape"
   ]
  },
  {
   "cell_type": "code",
   "execution_count": null,
   "metadata": {},
   "outputs": [],
   "source": [
    "import meta_3rel_v2, meta_3rel_v1, meta_4rel_v2\n",
    "\n",
    "ab = meta_2rel_v2.cal_metapath(mat_a, mat_b, del_diagnoal=False)\n",
    "ab = ab.todense()\n",
    "\n",
    "ac = meta_3rel_v2.cal_metapath(mat_a, mat_b, mat_c, del_diagnoal=False)\n",
    "ac = ac.todense()\n",
    "ac\n",
    "\n",
    "ad = meta_4rel_v2.cal_metapath(mat_a, mat_b, mat_c, mat_d, del_diagnoal=False)\n",
    "ad = ad.todense()\n",
    "ad"
   ]
  },
  {
   "cell_type": "code",
   "execution_count": null,
   "metadata": {},
   "outputs": [],
   "source": [
    "92+134+152+198+198+68+218+84+128+36+48"
   ]
  },
  {
   "cell_type": "code",
   "execution_count": 25,
   "metadata": {},
   "outputs": [
    {
     "data": {
      "text/plain": [
       "[('shareholderOf', 'shareholderOf', 'shareholderOf'),\n",
       " ('shareholderOf', 'shareholderOf', 'hasTransaction'),\n",
       " ('shareholderOf', 'shareholderOf', 'managerOf'),\n",
       " ('shareholderOf', 'shareholderOf', 'subsidiaryOf'),\n",
       " ('shareholderOf', 'shareholderOf', 'kinshipOf'),\n",
       " ('shareholderOf', 'hasTransaction', 'shareholderOf'),\n",
       " ('shareholderOf', 'hasTransaction', 'hasTransaction'),\n",
       " ('shareholderOf', 'hasTransaction', 'managerOf'),\n",
       " ('shareholderOf', 'hasTransaction', 'subsidiaryOf'),\n",
       " ('shareholderOf', 'hasTransaction', 'kinshipOf'),\n",
       " ('shareholderOf', 'managerOf', 'shareholderOf'),\n",
       " ('shareholderOf', 'managerOf', 'hasTransaction'),\n",
       " ('shareholderOf', 'managerOf', 'managerOf'),\n",
       " ('shareholderOf', 'managerOf', 'subsidiaryOf'),\n",
       " ('shareholderOf', 'managerOf', 'kinshipOf'),\n",
       " ('shareholderOf', 'subsidiaryOf', 'shareholderOf'),\n",
       " ('shareholderOf', 'subsidiaryOf', 'hasTransaction'),\n",
       " ('shareholderOf', 'subsidiaryOf', 'managerOf'),\n",
       " ('shareholderOf', 'subsidiaryOf', 'subsidiaryOf'),\n",
       " ('shareholderOf', 'subsidiaryOf', 'kinshipOf'),\n",
       " ('shareholderOf', 'kinshipOf', 'shareholderOf'),\n",
       " ('shareholderOf', 'kinshipOf', 'hasTransaction'),\n",
       " ('shareholderOf', 'kinshipOf', 'managerOf'),\n",
       " ('shareholderOf', 'kinshipOf', 'subsidiaryOf'),\n",
       " ('shareholderOf', 'kinshipOf', 'kinshipOf'),\n",
       " ('hasTransaction', 'shareholderOf', 'shareholderOf'),\n",
       " ('hasTransaction', 'shareholderOf', 'hasTransaction'),\n",
       " ('hasTransaction', 'shareholderOf', 'managerOf'),\n",
       " ('hasTransaction', 'shareholderOf', 'subsidiaryOf'),\n",
       " ('hasTransaction', 'shareholderOf', 'kinshipOf'),\n",
       " ('hasTransaction', 'hasTransaction', 'shareholderOf'),\n",
       " ('hasTransaction', 'hasTransaction', 'hasTransaction'),\n",
       " ('hasTransaction', 'hasTransaction', 'managerOf'),\n",
       " ('hasTransaction', 'hasTransaction', 'subsidiaryOf'),\n",
       " ('hasTransaction', 'hasTransaction', 'kinshipOf'),\n",
       " ('hasTransaction', 'managerOf', 'shareholderOf'),\n",
       " ('hasTransaction', 'managerOf', 'hasTransaction'),\n",
       " ('hasTransaction', 'managerOf', 'managerOf'),\n",
       " ('hasTransaction', 'managerOf', 'subsidiaryOf'),\n",
       " ('hasTransaction', 'managerOf', 'kinshipOf'),\n",
       " ('hasTransaction', 'subsidiaryOf', 'shareholderOf'),\n",
       " ('hasTransaction', 'subsidiaryOf', 'hasTransaction'),\n",
       " ('hasTransaction', 'subsidiaryOf', 'managerOf'),\n",
       " ('hasTransaction', 'subsidiaryOf', 'subsidiaryOf'),\n",
       " ('hasTransaction', 'subsidiaryOf', 'kinshipOf'),\n",
       " ('hasTransaction', 'kinshipOf', 'shareholderOf'),\n",
       " ('hasTransaction', 'kinshipOf', 'hasTransaction'),\n",
       " ('hasTransaction', 'kinshipOf', 'managerOf'),\n",
       " ('hasTransaction', 'kinshipOf', 'subsidiaryOf'),\n",
       " ('hasTransaction', 'kinshipOf', 'kinshipOf'),\n",
       " ('managerOf', 'shareholderOf', 'shareholderOf'),\n",
       " ('managerOf', 'shareholderOf', 'hasTransaction'),\n",
       " ('managerOf', 'shareholderOf', 'managerOf'),\n",
       " ('managerOf', 'shareholderOf', 'subsidiaryOf'),\n",
       " ('managerOf', 'shareholderOf', 'kinshipOf'),\n",
       " ('managerOf', 'hasTransaction', 'shareholderOf'),\n",
       " ('managerOf', 'hasTransaction', 'hasTransaction'),\n",
       " ('managerOf', 'hasTransaction', 'managerOf'),\n",
       " ('managerOf', 'hasTransaction', 'subsidiaryOf'),\n",
       " ('managerOf', 'hasTransaction', 'kinshipOf'),\n",
       " ('managerOf', 'managerOf', 'shareholderOf'),\n",
       " ('managerOf', 'managerOf', 'hasTransaction'),\n",
       " ('managerOf', 'managerOf', 'managerOf'),\n",
       " ('managerOf', 'managerOf', 'subsidiaryOf'),\n",
       " ('managerOf', 'managerOf', 'kinshipOf'),\n",
       " ('managerOf', 'subsidiaryOf', 'shareholderOf'),\n",
       " ('managerOf', 'subsidiaryOf', 'hasTransaction'),\n",
       " ('managerOf', 'subsidiaryOf', 'managerOf'),\n",
       " ('managerOf', 'subsidiaryOf', 'subsidiaryOf'),\n",
       " ('managerOf', 'subsidiaryOf', 'kinshipOf'),\n",
       " ('managerOf', 'kinshipOf', 'shareholderOf'),\n",
       " ('managerOf', 'kinshipOf', 'hasTransaction'),\n",
       " ('managerOf', 'kinshipOf', 'managerOf'),\n",
       " ('managerOf', 'kinshipOf', 'subsidiaryOf'),\n",
       " ('managerOf', 'kinshipOf', 'kinshipOf'),\n",
       " ('subsidiaryOf', 'shareholderOf', 'shareholderOf'),\n",
       " ('subsidiaryOf', 'shareholderOf', 'hasTransaction'),\n",
       " ('subsidiaryOf', 'shareholderOf', 'managerOf'),\n",
       " ('subsidiaryOf', 'shareholderOf', 'subsidiaryOf'),\n",
       " ('subsidiaryOf', 'shareholderOf', 'kinshipOf'),\n",
       " ('subsidiaryOf', 'hasTransaction', 'shareholderOf'),\n",
       " ('subsidiaryOf', 'hasTransaction', 'hasTransaction'),\n",
       " ('subsidiaryOf', 'hasTransaction', 'managerOf'),\n",
       " ('subsidiaryOf', 'hasTransaction', 'subsidiaryOf'),\n",
       " ('subsidiaryOf', 'hasTransaction', 'kinshipOf'),\n",
       " ('subsidiaryOf', 'managerOf', 'shareholderOf'),\n",
       " ('subsidiaryOf', 'managerOf', 'hasTransaction'),\n",
       " ('subsidiaryOf', 'managerOf', 'managerOf'),\n",
       " ('subsidiaryOf', 'managerOf', 'subsidiaryOf'),\n",
       " ('subsidiaryOf', 'managerOf', 'kinshipOf'),\n",
       " ('subsidiaryOf', 'subsidiaryOf', 'shareholderOf'),\n",
       " ('subsidiaryOf', 'subsidiaryOf', 'hasTransaction'),\n",
       " ('subsidiaryOf', 'subsidiaryOf', 'managerOf'),\n",
       " ('subsidiaryOf', 'subsidiaryOf', 'subsidiaryOf'),\n",
       " ('subsidiaryOf', 'subsidiaryOf', 'kinshipOf'),\n",
       " ('subsidiaryOf', 'kinshipOf', 'shareholderOf'),\n",
       " ('subsidiaryOf', 'kinshipOf', 'hasTransaction'),\n",
       " ('subsidiaryOf', 'kinshipOf', 'managerOf'),\n",
       " ('subsidiaryOf', 'kinshipOf', 'subsidiaryOf'),\n",
       " ('subsidiaryOf', 'kinshipOf', 'kinshipOf'),\n",
       " ('kinshipOf', 'shareholderOf', 'shareholderOf'),\n",
       " ('kinshipOf', 'shareholderOf', 'hasTransaction'),\n",
       " ('kinshipOf', 'shareholderOf', 'managerOf'),\n",
       " ('kinshipOf', 'shareholderOf', 'subsidiaryOf'),\n",
       " ('kinshipOf', 'shareholderOf', 'kinshipOf'),\n",
       " ('kinshipOf', 'hasTransaction', 'shareholderOf'),\n",
       " ('kinshipOf', 'hasTransaction', 'hasTransaction'),\n",
       " ('kinshipOf', 'hasTransaction', 'managerOf'),\n",
       " ('kinshipOf', 'hasTransaction', 'subsidiaryOf'),\n",
       " ('kinshipOf', 'hasTransaction', 'kinshipOf'),\n",
       " ('kinshipOf', 'managerOf', 'shareholderOf'),\n",
       " ('kinshipOf', 'managerOf', 'hasTransaction'),\n",
       " ('kinshipOf', 'managerOf', 'managerOf'),\n",
       " ('kinshipOf', 'managerOf', 'subsidiaryOf'),\n",
       " ('kinshipOf', 'managerOf', 'kinshipOf'),\n",
       " ('kinshipOf', 'subsidiaryOf', 'shareholderOf'),\n",
       " ('kinshipOf', 'subsidiaryOf', 'hasTransaction'),\n",
       " ('kinshipOf', 'subsidiaryOf', 'managerOf'),\n",
       " ('kinshipOf', 'subsidiaryOf', 'subsidiaryOf'),\n",
       " ('kinshipOf', 'subsidiaryOf', 'kinshipOf'),\n",
       " ('kinshipOf', 'kinshipOf', 'shareholderOf'),\n",
       " ('kinshipOf', 'kinshipOf', 'hasTransaction'),\n",
       " ('kinshipOf', 'kinshipOf', 'managerOf'),\n",
       " ('kinshipOf', 'kinshipOf', 'subsidiaryOf'),\n",
       " ('kinshipOf', 'kinshipOf', 'kinshipOf')]"
      ]
     },
     "execution_count": 25,
     "metadata": {},
     "output_type": "execute_result"
    }
   ],
   "source": [
    "import itertools\n",
    "def find_permutations(elements, sample_num):\n",
    "    permutations = list(itertools.product(elements, repeat=sample_num))\n",
    "    return permutations\n",
    "\n",
    "# 示例输入\n",
    "n = 6\n",
    "elements = ['shareholderOf','hasTransaction','managerOf','subsidiaryOf','kinshipOf']\n",
    "\n",
    "result_3 = find_permutations(elements, 3)\n",
    "result_3"
   ]
  },
  {
   "cell_type": "code",
   "execution_count": 32,
   "metadata": {},
   "outputs": [
    {
     "name": "stdout",
     "output_type": "stream",
     "text": [
      "(C1, shareholderOf, C3,shareholderOf, C2)\n",
      "(C1, shareholderOf, C3,hasTransaction, C2)\n",
      "(C1, shareholderOf, C3,managerOf, C2)\n",
      "(C1, shareholderOf, C3,subsidiaryOf, C2)\n",
      "(C1, hasTransaction, C3,shareholderOf, C2)\n",
      "(C1, hasTransaction, C3,hasTransaction, C2)\n",
      "(C1, hasTransaction, C3,managerOf, C2)\n",
      "(C1, hasTransaction, C3,subsidiaryOf, C2)\n",
      "(C1, managerOf, C3,shareholderOf, C2)\n",
      "(C1, managerOf, C3,hasTransaction, C2)\n",
      "(C1, managerOf, C3,managerOf, C2)\n",
      "(C1, managerOf, C3,subsidiaryOf, C2)\n",
      "(C1, subsidiaryOf, C3,shareholderOf, C2)\n",
      "(C1, subsidiaryOf, C3,hasTransaction, C2)\n",
      "(C1, subsidiaryOf, C3,managerOf, C2)\n",
      "(C1, subsidiaryOf, C3,subsidiaryOf, C2)\n"
     ]
    }
   ],
   "source": [
    "# 路径长度为2\n",
    "elements = ['shareholderOf','hasTransaction','managerOf','subsidiaryOf']\n",
    "\n",
    "result_2 = find_permutations(elements, 2)\n",
    "for path in result_2:\n",
    "    print(f'(C1, {path[0]}, C3,{path[1]}, C2)')"
   ]
  },
  {
   "cell_type": "code",
   "execution_count": 37,
   "metadata": {},
   "outputs": [
    {
     "data": {
      "text/plain": [
       "16"
      ]
     },
     "execution_count": 37,
     "metadata": {},
     "output_type": "execute_result"
    }
   ],
   "source": [
    "len(result_2)"
   ]
  },
  {
   "cell_type": "code",
   "execution_count": null,
   "metadata": {},
   "outputs": [],
   "source": []
  }
 ],
 "metadata": {
  "kernelspec": {
   "display_name": "base",
   "language": "python",
   "name": "python3"
  },
  "language_info": {
   "codemirror_mode": {
    "name": "ipython",
    "version": 3
   },
   "file_extension": ".py",
   "mimetype": "text/x-python",
   "name": "python",
   "nbconvert_exporter": "python",
   "pygments_lexer": "ipython3",
   "version": "3.7.4"
  },
  "orig_nbformat": 4,
  "vscode": {
   "interpreter": {
    "hash": "5484b3874f613c56f67dfe76afc9d70e38b4ca66f35bf223fdfd31467824f203"
   }
  }
 },
 "nbformat": 4,
 "nbformat_minor": 2
}
