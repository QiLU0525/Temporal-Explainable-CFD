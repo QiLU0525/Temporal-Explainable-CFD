{
 "cells": [
  {
   "cell_type": "code",
   "execution_count": 3,
   "metadata": {},
   "outputs": [
    {
     "data": {
      "text/plain": [
       "('0.25.1', '0.9.1')"
      ]
     },
     "execution_count": 3,
     "metadata": {},
     "output_type": "execute_result"
    }
   ],
   "source": [
    "import torch\n",
    "import numpy as np\n",
    "import torch.nn as nn\n",
    "from sklearn.metrics import f1_score, recall_score, precision_score\n",
    "from torch.utils.data import DataLoader, TensorDataset\n",
    "import pandas as pd\n",
    "import sklearn\n",
    "import json\n",
    "from scipy.io import mmread, mmwrite, mminfo\n",
    "import os\n",
    "import collections\n",
    "import dgl\n",
    "pd.__version__, dgl.__version__"
   ]
  },
  {
   "cell_type": "code",
   "execution_count": 6,
   "metadata": {},
   "outputs": [],
   "source": [
    "from dgl import DGLHeteroGraph"
   ]
  },
  {
   "cell_type": "markdown",
   "metadata": {},
   "source": [
    "得选 anaconda3 (Python 3.7.3) 那个环境，不然 dgl.DGLHeteroGraph 会出错"
   ]
  },
  {
   "cell_type": "code",
   "execution_count": 2,
   "metadata": {},
   "outputs": [
    {
     "data": {
      "text/plain": [
       "dict_keys(['Stkcd_year', 'label', 'split_idx', 'fin_ratio', 'nonfin_ratio', 'mda', 'fin_seq', 'nonfin_seq', 'mda_seq', 'node_seq', 'seq_len', 'graphs'])"
      ]
     },
     "execution_count": 2,
     "metadata": {},
     "output_type": "execute_result"
    }
   ],
   "source": [
    "corp_data = torch.load('../data/ChinaCorp_1x_2023-06-07.pt')\n",
    "corp_data.keys()"
   ]
  },
  {
   "cell_type": "code",
   "execution_count": 6,
   "metadata": {},
   "outputs": [
    {
     "name": "stdout",
     "output_type": "stream",
     "text": [
      "937 937\n"
     ]
    }
   ],
   "source": [
    "fraud_index, nonfraud_index = [], []\n",
    "for i in range(len(corp_data['Stkcd_year'].numpy())):\n",
    "    id, year = corp_data['Stkcd_year'][i].numpy()\n",
    "    if corp_data['label'][i].item() == 1:\n",
    "        fraud_index.append((id, year))\n",
    "    else:\n",
    "        nonfraud_index.append((id, year))\n",
    "        # index = [(i,j) for i,j in corp_data['Stkcd_year'].numpy().tolist()]\n",
    "print(len(fraud_index), len(nonfraud_index))"
   ]
  },
  {
   "attachments": {},
   "cell_type": "markdown",
   "metadata": {},
   "source": [
    "#### Appendix Table A1: Descriptive statistics of fraud dataset"
   ]
  },
  {
   "cell_type": "code",
   "execution_count": 5,
   "metadata": {},
   "outputs": [],
   "source": [
    "finRatio = pd.read_excel('../data/会计信息质量-财务指标/AIQ_LCFinIndexY_s1.xlsx',encoding='gb18030')\n",
    "nonfin_data = pd.read_csv('../data/非财务指标/nonfin_data_raw.csv')\n",
    "finRatio = finRatio.set_index(['Symbol', 'EndDate'])\n",
    "nonfin_data = nonfin_data.set_index(['Symbol','year'])"
   ]
  },
  {
   "attachments": {},
   "cell_type": "markdown",
   "metadata": {},
   "source": [
    "统计财务指标"
   ]
  },
  {
   "cell_type": "code",
   "execution_count": 7,
   "metadata": {},
   "outputs": [
    {
     "name": "stdout",
     "output_type": "stream",
     "text": [
      "AQI 字段共有 937 个非空欺诈样本, Mean:1.2664, Max: 80.7903, Min: 0.0588, Median: 1.0106, StDev: 2.9665\n",
      "AQI 字段共有 937 个非空非欺诈样本, Mean:1.1254, Max: 6.3590, Min: 0.1437, Median: 1.0327, StDev: 0.4955\n",
      "AT 字段共有 937 个非空欺诈样本, Mean:0.6324, Max: 8.9242, Min: 0.0006, Median: 0.4445, StDev: 0.8181\n",
      "AT 字段共有 937 个非空非欺诈样本, Mean:0.6484, Max: 7.2154, Min: 0.0040, Median: 0.5312, StDev: 0.5410\n",
      "CFED 字段共有 937 个非空欺诈样本, Mean:302014129.8750, Max: 17919485000.0000, Min: -8690102854.5800, Median: 70528838.3400, StDev: 1405566286.0198\n",
      "CFED 字段共有 937 个非空非欺诈样本, Mean:168339407.8912, Max: 10975864563.4900, Min: -4721910852.5400, Median: 33581891.1900, StDev: 972728806.2263\n",
      "DSIR 字段共有 932 个非空欺诈样本, Mean:1.5955, Max: 199.3061, Min: 0.0000, Median: 0.9961, StDev: 7.3471\n",
      "DSIR 字段共有 933 个非空非欺诈样本, Mean:1.2104, Max: 47.9970, Min: 0.0000, Median: 1.0087, StDev: 1.8330\n",
      "DEPI 字段共有 935 个非空欺诈样本, Mean:1.4969, Max: 217.2511, Min: -0.0133, Median: 0.9621, StDev: 7.5413\n",
      "DEPI 字段共有 936 个非空非欺诈样本, Mean:0.2649, Max: 53.7573, Min: -728.8398, Median: 0.9604, StDev: 24.1267\n",
      "GMI 字段共有 937 个非空欺诈样本, Mean:1.0699, Max: 193.5175, Min: -181.1299, Median: 1.0062, StDev: 9.2741\n",
      "GMI 字段共有 937 个非空非欺诈样本, Mean:1.0249, Max: 20.2205, Min: -11.6281, Median: 0.9970, StDev: 0.9465\n",
      "IG 字段共有 923 个非空欺诈样本, Mean:3.6881, Max: 1690.9488, Min: 0.0000, Median: 1.0216, StDev: 56.4828\n",
      "IG 字段共有 926 个非空非欺诈样本, Mean:1.2990, Max: 53.0585, Min: 0.0000, Median: 1.0950, StDev: 2.2106\n",
      "LEV 字段共有 937 个非空欺诈样本, Mean:1.0899, Max: 6.2760, Min: 0.1776, Median: 1.0244, StDev: 0.3871\n",
      "LEV 字段共有 937 个非空非欺诈样本, Mean:1.0841, Max: 7.7664, Min: 0.0825, Median: 1.0153, StDev: 0.4778\n",
      "OPM 字段共有 937 个非空欺诈样本, Mean:-0.6829, Max: 14.8327, Min: -317.3655, Median: 0.0229, StDev: 10.7141\n",
      "OPM 字段共有 937 个非空非欺诈样本, Mean:0.0087, Max: 5.8126, Min: -26.5262, Median: 0.0621, StDev: 1.0910\n",
      "RG 字段共有 932 个非空欺诈样本, Mean:2.4755, Max: 686.2312, Min: 0.0000, Median: 1.0257, StDev: 23.4626\n",
      "RG 字段共有 933 个非空非欺诈样本, Mean:1.3641, Max: 34.8217, Min: 0.0000, Median: 1.1233, StDev: 1.7680\n",
      "SG 字段共有 937 个非空欺诈样本, Mean:1.9188, Max: 368.5320, Min: 0.0146, Median: 1.0413, StDev: 13.5735\n",
      "SG 字段共有 937 个非空非欺诈样本, Mean:1.2180, Max: 38.7272, Min: 0.0360, Median: 1.1089, StDev: 1.3462\n",
      "SGEE 字段共有 937 个非空欺诈样本, Mean:1.5551, Max: 209.8927, Min: -1.1994, Median: 1.0290, StDev: 7.4128\n",
      "SGEE 字段共有 937 个非空非欺诈样本, Mean:1.0833, Max: 28.3884, Min: -3.9142, Median: 1.0003, StDev: 1.2105\n"
     ]
    }
   ],
   "source": [
    "ratios_stat = pd.DataFrame(columns=['Variable', 'fr_n', 'fr_mean', 'fr_stdev', 'fr_min', 'fr_median', 'fr_max',\n",
    "                                    'nfr_n', 'nfr_mean', 'nfr_stdev', 'nfr_min', 'nfr_median', 'nfr_max'], dtype=object)\n",
    "ratios_stat = ratios_stat.set_index('Variable')\n",
    "for ratio_name in finRatio.columns[4:]:\n",
    "    # 欺诈、非欺诈样本 总共有多少行 firm-year 是非空的\n",
    "    fr_non_empty = finRatio.loc[fraud_index, ratio_name].count()\n",
    "    nfr_non_empty = finRatio.loc[nonfraud_index, ratio_name].count()\n",
    "    fr_ratio = finRatio.loc[fraud_index, ratio_name].values\n",
    "    nfr_ratio = finRatio.loc[nonfraud_index, ratio_name]\n",
    "    print(f'{ratio_name} 字段共有 {fr_non_empty} 个非空欺诈样本, Mean:{np.nanmean(fr_ratio):.4f}, Max: {np.nanmax(fr_ratio):.4f}, Min: {np.nanmin(fr_ratio):.4f}, Median: {np.nanmedian(fr_ratio):.4f}, StDev: {np.nanstd(fr_ratio):.4f}')\n",
    "    print(f'{ratio_name} 字段共有 {nfr_non_empty} 个非空非欺诈样本, Mean:{np.nanmean(nfr_ratio):.4f}, Max: {np.nanmax(nfr_ratio):.4f}, Min: {np.nanmin(nfr_ratio):.4f}, Median: {np.nanmedian(nfr_ratio):.4f}, StDev: {np.nanstd(nfr_ratio):.4f}')\n",
    "    ratios_stat.loc[ratio_name,:] = {\n",
    "        'fr_n' : fr_non_empty,\n",
    "        'fr_mean' : round(np.nanmean(fr_ratio), 4), \n",
    "        'fr_stdev': round(np.nanstd(fr_ratio),4), \n",
    "        'fr_min' : round(np.nanmin(fr_ratio), 4),\n",
    "        'fr_median': round(np.nanmedian(fr_ratio),4),\n",
    "        'fr_max': round(np.nanmax(fr_ratio),4),\n",
    "        'nfr_n': nfr_non_empty,\n",
    "        'nfr_mean' : round(np.nanmean(nfr_ratio), 4), \n",
    "        'nfr_stdev': round(np.nanstd(nfr_ratio),4), \n",
    "        'nfr_min' : round(np.nanmin(nfr_ratio), 4),\n",
    "        'nfr_median': round(np.nanmedian(nfr_ratio),4),\n",
    "        'nfr_max': round(np.nanmax(nfr_ratio),4)\n",
    "    }"
   ]
  },
  {
   "attachments": {},
   "cell_type": "markdown",
   "metadata": {},
   "source": [
    "统计非财务指标"
   ]
  },
  {
   "cell_type": "code",
   "execution_count": 8,
   "metadata": {},
   "outputs": [
    {
     "name": "stdout",
     "output_type": "stream",
     "text": [
      "AQI 字段共有 937 个非空欺诈样本, Mean:1.2664, Max: 80.7903, Min: 0.0588, Median: 1.0106, StDev: 2.9665\n",
      "AQI 字段共有 937 个非空非欺诈样本, Mean:1.1254, Max: 6.3590, Min: 0.1437, Median: 1.0327, StDev: 0.4955\n",
      "AT 字段共有 937 个非空欺诈样本, Mean:0.6324, Max: 8.9242, Min: 0.0006, Median: 0.4445, StDev: 0.8181\n",
      "AT 字段共有 937 个非空非欺诈样本, Mean:0.6484, Max: 7.2154, Min: 0.0040, Median: 0.5312, StDev: 0.5410\n",
      "CFED 字段共有 937 个非空欺诈样本, Mean:302014129.8750, Max: 17919485000.0000, Min: -8690102854.5800, Median: 70528838.3400, StDev: 1405566286.0198\n",
      "CFED 字段共有 937 个非空非欺诈样本, Mean:168339407.8912, Max: 10975864563.4900, Min: -4721910852.5400, Median: 33581891.1900, StDev: 972728806.2263\n",
      "DSIR 字段共有 932 个非空欺诈样本, Mean:1.5955, Max: 199.3061, Min: 0.0000, Median: 0.9961, StDev: 7.3471\n",
      "DSIR 字段共有 933 个非空非欺诈样本, Mean:1.2104, Max: 47.9970, Min: 0.0000, Median: 1.0087, StDev: 1.8330\n",
      "DEPI 字段共有 935 个非空欺诈样本, Mean:1.4969, Max: 217.2511, Min: -0.0133, Median: 0.9621, StDev: 7.5413\n",
      "DEPI 字段共有 936 个非空非欺诈样本, Mean:0.2649, Max: 53.7573, Min: -728.8398, Median: 0.9604, StDev: 24.1267\n",
      "GMI 字段共有 937 个非空欺诈样本, Mean:1.0699, Max: 193.5175, Min: -181.1299, Median: 1.0062, StDev: 9.2741\n",
      "GMI 字段共有 937 个非空非欺诈样本, Mean:1.0249, Max: 20.2205, Min: -11.6281, Median: 0.9970, StDev: 0.9465\n",
      "IG 字段共有 923 个非空欺诈样本, Mean:3.6881, Max: 1690.9488, Min: 0.0000, Median: 1.0216, StDev: 56.4828\n",
      "IG 字段共有 926 个非空非欺诈样本, Mean:1.2990, Max: 53.0585, Min: 0.0000, Median: 1.0950, StDev: 2.2106\n",
      "LEV 字段共有 937 个非空欺诈样本, Mean:1.0899, Max: 6.2760, Min: 0.1776, Median: 1.0244, StDev: 0.3871\n",
      "LEV 字段共有 937 个非空非欺诈样本, Mean:1.0841, Max: 7.7664, Min: 0.0825, Median: 1.0153, StDev: 0.4778\n",
      "OPM 字段共有 937 个非空欺诈样本, Mean:-0.6829, Max: 14.8327, Min: -317.3655, Median: 0.0229, StDev: 10.7141\n",
      "OPM 字段共有 937 个非空非欺诈样本, Mean:0.0087, Max: 5.8126, Min: -26.5262, Median: 0.0621, StDev: 1.0910\n",
      "RG 字段共有 932 个非空欺诈样本, Mean:2.4755, Max: 686.2312, Min: 0.0000, Median: 1.0257, StDev: 23.4626\n",
      "RG 字段共有 933 个非空非欺诈样本, Mean:1.3641, Max: 34.8217, Min: 0.0000, Median: 1.1233, StDev: 1.7680\n",
      "SG 字段共有 937 个非空欺诈样本, Mean:1.9188, Max: 368.5320, Min: 0.0146, Median: 1.0413, StDev: 13.5735\n",
      "SG 字段共有 937 个非空非欺诈样本, Mean:1.2180, Max: 38.7272, Min: 0.0360, Median: 1.1089, StDev: 1.3462\n",
      "SGEE 字段共有 937 个非空欺诈样本, Mean:1.5551, Max: 209.8927, Min: -1.1994, Median: 1.0290, StDev: 7.4128\n",
      "SGEE 字段共有 937 个非空非欺诈样本, Mean:1.0833, Max: 28.3884, Min: -3.9142, Median: 1.0003, StDev: 1.2105\n"
     ]
    }
   ],
   "source": [
    "for ratio_name in finRatio.columns[4:]:\n",
    "    # 欺诈、非欺诈样本 总共有多少行 firm-year 是非空的\n",
    "    fr_non_empty = finRatio.loc[fraud_index, ratio_name].count()\n",
    "    nfr_non_empty = finRatio.loc[nonfraud_index, ratio_name].count()\n",
    "    fr_ratio = finRatio.loc[fraud_index, ratio_name].values\n",
    "    nfr_ratio = finRatio.loc[nonfraud_index, ratio_name].values\n",
    "    print(f'{ratio_name} 字段共有 {fr_non_empty} 个非空欺诈样本, Mean:{np.nanmean(fr_ratio):.4f}, Max: {np.nanmax(fr_ratio):.4f}, Min: {np.nanmin(fr_ratio):.4f}, Median: {np.nanmedian(fr_ratio):.4f}, StDev: {np.nanstd(fr_ratio):.4f}')\n",
    "    print(f'{ratio_name} 字段共有 {nfr_non_empty} 个非空非欺诈样本, Mean:{np.nanmean(nfr_ratio):.4f}, Max: {np.nanmax(nfr_ratio):.4f}, Min: {np.nanmin(nfr_ratio):.4f}, Median: {np.nanmedian(nfr_ratio):.4f}, StDev: {np.nanstd(nfr_ratio):.4f}')\n",
    "    ratios_stat.loc[ratio_name,:] = {\n",
    "        'fr_n' : fr_non_empty,\n",
    "        'fr_mean' : round(np.nanmean(fr_ratio), 4), \n",
    "        'fr_stdev': round(np.nanstd(fr_ratio),4), \n",
    "        'fr_min' : round(np.nanmin(fr_ratio), 4),\n",
    "        'fr_median': round(np.nanmedian(fr_ratio),4),\n",
    "        'fr_max': round(np.nanmax(fr_ratio),4),\n",
    "        'nfr_n': nfr_non_empty,\n",
    "        'nfr_mean' : round(np.nanmean(nfr_ratio), 4), \n",
    "        'nfr_stdev': round(np.nanstd(nfr_ratio),4), \n",
    "        'nfr_min' : round(np.nanmin(nfr_ratio), 4),\n",
    "        'nfr_median': round(np.nanmedian(nfr_ratio),4),\n",
    "        'nfr_max': round(np.nanmax(nfr_ratio),4)\n",
    "    }"
   ]
  },
  {
   "cell_type": "code",
   "execution_count": 9,
   "metadata": {},
   "outputs": [],
   "source": [
    "for ratio_name in nonfin_data.columns:\n",
    "    fr_non_empty = nonfin_data.loc[fraud_index, ratio_name].count()\n",
    "    nfr_non_empty = nonfin_data.loc[nonfraud_index, ratio_name].count()\n",
    "    fr_var = nonfin_data.loc[fraud_index, ratio_name].values\n",
    "    nfr_var = nonfin_data.loc[nonfraud_index, ratio_name].values\n",
    "    \n",
    "    ratios_stat.loc[ratio_name,:] = {\n",
    "        'fr_n' : fr_non_empty,\n",
    "        'fr_mean' : round(np.nanmean(fr_var), 4), \n",
    "        'fr_stdev': round(np.nanstd(fr_var),4), \n",
    "        'fr_min' : round(np.nanmin(fr_var), 4),\n",
    "        'fr_median': round(np.nanmedian(fr_var),4),\n",
    "        'fr_max': round(np.nanmax(fr_var),4),\n",
    "        'nfr_n': nfr_non_empty,\n",
    "        'nfr_mean' : round(np.nanmean(nfr_var), 4), \n",
    "        'nfr_stdev': round(np.nanstd(nfr_var),4), \n",
    "        'nfr_min' : round(np.nanmin(nfr_var), 4),\n",
    "        'nfr_median': round(np.nanmedian(nfr_var),4),\n",
    "        'nfr_max': round(np.nanmax(nfr_var),4)\n",
    "    }"
   ]
  },
  {
   "cell_type": "code",
   "execution_count": 82,
   "metadata": {},
   "outputs": [],
   "source": [
    "ratios_stat.to_csv('../data/variable_stat.csv', encoding='utf-8')"
   ]
  },
  {
   "attachments": {},
   "cell_type": "markdown",
   "metadata": {},
   "source": [
    "#### Table A2: Frequency of the fraud companies by industry\n",
    "总共5种大类行业：工业()、综合、房地产、公用事业、商业"
   ]
  },
  {
   "cell_type": "code",
   "execution_count": 10,
   "metadata": {},
   "outputs": [
    {
     "data": {
      "text/html": [
       "<div>\n",
       "<style scoped>\n",
       "    .dataframe tbody tr th:only-of-type {\n",
       "        vertical-align: middle;\n",
       "    }\n",
       "\n",
       "    .dataframe tbody tr th {\n",
       "        vertical-align: top;\n",
       "    }\n",
       "\n",
       "    .dataframe thead th {\n",
       "        text-align: right;\n",
       "    }\n",
       "</style>\n",
       "<table border=\"1\" class=\"dataframe\">\n",
       "  <thead>\n",
       "    <tr style=\"text-align: right;\">\n",
       "      <th></th>\n",
       "      <th>Stkcd</th>\n",
       "      <th>pred_year</th>\n",
       "      <th>time_series</th>\n",
       "      <th>label</th>\n",
       "      <th>industry</th>\n",
       "      <th>asset</th>\n",
       "    </tr>\n",
       "  </thead>\n",
       "  <tbody>\n",
       "    <tr>\n",
       "      <td>0</td>\n",
       "      <td>4</td>\n",
       "      <td>2013</td>\n",
       "      <td>[2013, 2012, 2011, 2010, 2009, 2008]</td>\n",
       "      <td>1</td>\n",
       "      <td>工业</td>\n",
       "      <td>2.421521e+08</td>\n",
       "    </tr>\n",
       "    <tr>\n",
       "      <td>1</td>\n",
       "      <td>633</td>\n",
       "      <td>2013</td>\n",
       "      <td>[2013, 2012, 2011, 2010, 2009, 2008]</td>\n",
       "      <td>0</td>\n",
       "      <td>工业</td>\n",
       "      <td>2.952462e+08</td>\n",
       "    </tr>\n",
       "    <tr>\n",
       "      <td>2</td>\n",
       "      <td>4</td>\n",
       "      <td>2012</td>\n",
       "      <td>[2012, 2011, 2010, 2009, 2008, 2007]</td>\n",
       "      <td>1</td>\n",
       "      <td>工业</td>\n",
       "      <td>1.929136e+08</td>\n",
       "    </tr>\n",
       "    <tr>\n",
       "      <td>3</td>\n",
       "      <td>2058</td>\n",
       "      <td>2012</td>\n",
       "      <td>[2012, 2011, 2010, 2009, 2008, 2007]</td>\n",
       "      <td>0</td>\n",
       "      <td>工业</td>\n",
       "      <td>2.404752e+08</td>\n",
       "    </tr>\n",
       "    <tr>\n",
       "      <td>4</td>\n",
       "      <td>4</td>\n",
       "      <td>2011</td>\n",
       "      <td>[2011, 2010, 2009, 2008, 2007, 2006]</td>\n",
       "      <td>1</td>\n",
       "      <td>工业</td>\n",
       "      <td>1.963072e+08</td>\n",
       "    </tr>\n",
       "    <tr>\n",
       "      <td>...</td>\n",
       "      <td>...</td>\n",
       "      <td>...</td>\n",
       "      <td>...</td>\n",
       "      <td>...</td>\n",
       "      <td>...</td>\n",
       "      <td>...</td>\n",
       "    </tr>\n",
       "    <tr>\n",
       "      <td>1869</td>\n",
       "      <td>597</td>\n",
       "      <td>2021</td>\n",
       "      <td>[2021, 2020, 2019, 2018, 2017, 2016]</td>\n",
       "      <td>0</td>\n",
       "      <td>工业</td>\n",
       "      <td>1.317952e+10</td>\n",
       "    </tr>\n",
       "    <tr>\n",
       "      <td>1870</td>\n",
       "      <td>603766</td>\n",
       "      <td>2020</td>\n",
       "      <td>[2020, 2019, 2018, 2017, 2016, 2015]</td>\n",
       "      <td>1</td>\n",
       "      <td>工业</td>\n",
       "      <td>1.312644e+10</td>\n",
       "    </tr>\n",
       "    <tr>\n",
       "      <td>1871</td>\n",
       "      <td>601339</td>\n",
       "      <td>2020</td>\n",
       "      <td>[2020, 2019, 2018, 2017, 2016, 2015]</td>\n",
       "      <td>0</td>\n",
       "      <td>工业</td>\n",
       "      <td>1.315943e+10</td>\n",
       "    </tr>\n",
       "    <tr>\n",
       "      <td>1872</td>\n",
       "      <td>603991</td>\n",
       "      <td>2020</td>\n",
       "      <td>[2020, 2019]</td>\n",
       "      <td>1</td>\n",
       "      <td>工业</td>\n",
       "      <td>5.717125e+08</td>\n",
       "    </tr>\n",
       "    <tr>\n",
       "      <td>1873</td>\n",
       "      <td>300461</td>\n",
       "      <td>2020</td>\n",
       "      <td>[2020, 2019, 2018, 2017, 2016]</td>\n",
       "      <td>0</td>\n",
       "      <td>工业</td>\n",
       "      <td>5.677138e+08</td>\n",
       "    </tr>\n",
       "  </tbody>\n",
       "</table>\n",
       "<p>1874 rows × 6 columns</p>\n",
       "</div>"
      ],
      "text/plain": [
       "       Stkcd  pred_year                           time_series  label industry  \\\n",
       "0          4       2013  [2013, 2012, 2011, 2010, 2009, 2008]      1       工业   \n",
       "1        633       2013  [2013, 2012, 2011, 2010, 2009, 2008]      0       工业   \n",
       "2          4       2012  [2012, 2011, 2010, 2009, 2008, 2007]      1       工业   \n",
       "3       2058       2012  [2012, 2011, 2010, 2009, 2008, 2007]      0       工业   \n",
       "4          4       2011  [2011, 2010, 2009, 2008, 2007, 2006]      1       工业   \n",
       "...      ...        ...                                   ...    ...      ...   \n",
       "1869     597       2021  [2021, 2020, 2019, 2018, 2017, 2016]      0       工业   \n",
       "1870  603766       2020  [2020, 2019, 2018, 2017, 2016, 2015]      1       工业   \n",
       "1871  601339       2020  [2020, 2019, 2018, 2017, 2016, 2015]      0       工业   \n",
       "1872  603991       2020                          [2020, 2019]      1       工业   \n",
       "1873  300461       2020        [2020, 2019, 2018, 2017, 2016]      0       工业   \n",
       "\n",
       "             asset  \n",
       "0     2.421521e+08  \n",
       "1     2.952462e+08  \n",
       "2     1.929136e+08  \n",
       "3     2.404752e+08  \n",
       "4     1.963072e+08  \n",
       "...            ...  \n",
       "1869  1.317952e+10  \n",
       "1870  1.312644e+10  \n",
       "1871  1.315943e+10  \n",
       "1872  5.717125e+08  \n",
       "1873  5.677138e+08  \n",
       "\n",
       "[1874 rows x 6 columns]"
      ]
     },
     "execution_count": 10,
     "metadata": {},
     "output_type": "execute_result"
    }
   ],
   "source": [
    "train_test = pd.read_csv('../data/train_test_x1.csv', encoding='gb18030')\n",
    "train_test"
   ]
  },
  {
   "cell_type": "code",
   "execution_count": 11,
   "metadata": {},
   "outputs": [
    {
     "name": "stdout",
     "output_type": "stream",
     "text": [
      "{'工业': 258, '综合': 18, '房地产': 24, '公用事业': 69, '商业': 27}\n",
      "{'工业': 0.6515151515151515, '综合': 0.045454545454545456, '房地产': 0.06060606060606061, '公用事业': 0.17424242424242425, '商业': 0.06818181818181818}\n"
     ]
    }
   ],
   "source": [
    "fraud_sample = train_test[train_test['label']==1]\n",
    "fraud_sample = fraud_sample.set_index(['industry'])\n",
    "ind_distri = {}\n",
    "for ind in fraud_sample.index:\n",
    "    ind_distri[ind] = len(set(fraud_sample.loc[ind,'Stkcd'].tolist()))\n",
    "\n",
    "\n",
    "n_fr_firms = np.sum(list(ind_distri.values()))\n",
    "print(ind_distri)\n",
    "for key in ind_distri:\n",
    "    ind_distri[key] = ind_distri[key]/n_fr_firms\n",
    "print(ind_distri)"
   ]
  },
  {
   "attachments": {},
   "cell_type": "markdown",
   "metadata": {},
   "source": [
    "#### Table A3: Frequency of the fraud companies by violation type"
   ]
  },
  {
   "cell_type": "code",
   "execution_count": 12,
   "metadata": {},
   "outputs": [
    {
     "data": {
      "text/html": [
       "<div>\n",
       "<style scoped>\n",
       "    .dataframe tbody tr th:only-of-type {\n",
       "        vertical-align: middle;\n",
       "    }\n",
       "\n",
       "    .dataframe tbody tr th {\n",
       "        vertical-align: top;\n",
       "    }\n",
       "\n",
       "    .dataframe thead th {\n",
       "        text-align: right;\n",
       "    }\n",
       "</style>\n",
       "<table border=\"1\" class=\"dataframe\">\n",
       "  <thead>\n",
       "    <tr style=\"text-align: right;\">\n",
       "      <th></th>\n",
       "      <th></th>\n",
       "      <th>inc_name</th>\n",
       "      <th>industry</th>\n",
       "      <th>type</th>\n",
       "      <th>asset</th>\n",
       "      <th>restate</th>\n",
       "    </tr>\n",
       "    <tr>\n",
       "      <th>Stkcd</th>\n",
       "      <th>fraud_year</th>\n",
       "      <th></th>\n",
       "      <th></th>\n",
       "      <th></th>\n",
       "      <th></th>\n",
       "      <th></th>\n",
       "    </tr>\n",
       "  </thead>\n",
       "  <tbody>\n",
       "    <tr>\n",
       "      <td rowspan=\"4\" valign=\"top\">4</td>\n",
       "      <td>2010</td>\n",
       "      <td>*ST 国农</td>\n",
       "      <td>工业</td>\n",
       "      <td>[\"P2503\", \"P2515\", \"P2599\"]</td>\n",
       "      <td>1.842194e+08</td>\n",
       "      <td>False</td>\n",
       "    </tr>\n",
       "    <tr>\n",
       "      <td>2011</td>\n",
       "      <td>国农科技</td>\n",
       "      <td>工业</td>\n",
       "      <td>[\"P2503\", \"P2515\", \"P2599\"]</td>\n",
       "      <td>1.963072e+08</td>\n",
       "      <td>False</td>\n",
       "    </tr>\n",
       "    <tr>\n",
       "      <td>2012</td>\n",
       "      <td>国农科技</td>\n",
       "      <td>工业</td>\n",
       "      <td>[\"P2503\", \"P2515\", \"P2599\"]</td>\n",
       "      <td>1.929136e+08</td>\n",
       "      <td>False</td>\n",
       "    </tr>\n",
       "    <tr>\n",
       "      <td>2013</td>\n",
       "      <td>国农科技</td>\n",
       "      <td>工业</td>\n",
       "      <td>[\"P2503\", \"P2515\", \"P2599\"]</td>\n",
       "      <td>2.421521e+08</td>\n",
       "      <td>False</td>\n",
       "    </tr>\n",
       "    <tr>\n",
       "      <td>9</td>\n",
       "      <td>2016</td>\n",
       "      <td>中国宝安</td>\n",
       "      <td>综合</td>\n",
       "      <td>[\"P2506\", \"P2515\"]</td>\n",
       "      <td>2.162293e+10</td>\n",
       "      <td>False</td>\n",
       "    </tr>\n",
       "    <tr>\n",
       "      <td>...</td>\n",
       "      <td>...</td>\n",
       "      <td>...</td>\n",
       "      <td>...</td>\n",
       "      <td>...</td>\n",
       "      <td>...</td>\n",
       "      <td>...</td>\n",
       "    </tr>\n",
       "    <tr>\n",
       "      <td rowspan=\"2\" valign=\"top\">688555</td>\n",
       "      <td>2020</td>\n",
       "      <td>泽达易盛</td>\n",
       "      <td>公用事业</td>\n",
       "      <td>[\"P2501\", \"P2502\", \"P2503\"]</td>\n",
       "      <td>9.465675e+08</td>\n",
       "      <td>False</td>\n",
       "    </tr>\n",
       "    <tr>\n",
       "      <td>2021</td>\n",
       "      <td>泽达易盛</td>\n",
       "      <td>公用事业</td>\n",
       "      <td>[\"P2501\", \"P2502\", \"P2503\"]</td>\n",
       "      <td>1.175543e+09</td>\n",
       "      <td>False</td>\n",
       "    </tr>\n",
       "    <tr>\n",
       "      <td>688559</td>\n",
       "      <td>2021</td>\n",
       "      <td>海目星</td>\n",
       "      <td>工业</td>\n",
       "      <td>[\"P2503\", \"P2515\", \"P2599\"]</td>\n",
       "      <td>5.591708e+09</td>\n",
       "      <td>False</td>\n",
       "    </tr>\n",
       "    <tr>\n",
       "      <td rowspan=\"2\" valign=\"top\">688586</td>\n",
       "      <td>2020</td>\n",
       "      <td>江航装备</td>\n",
       "      <td>工业</td>\n",
       "      <td>[\"P2501\", \"P2503\", \"P2504\", \"P2599\"]</td>\n",
       "      <td>2.987056e+09</td>\n",
       "      <td>False</td>\n",
       "    </tr>\n",
       "    <tr>\n",
       "      <td>2021</td>\n",
       "      <td>江航装备</td>\n",
       "      <td>工业</td>\n",
       "      <td>[\"P2501\", \"P2503\", \"P2504\", \"P2599\"]</td>\n",
       "      <td>3.485059e+09</td>\n",
       "      <td>False</td>\n",
       "    </tr>\n",
       "  </tbody>\n",
       "</table>\n",
       "<p>2049 rows × 5 columns</p>\n",
       "</div>"
      ],
      "text/plain": [
       "                  inc_name industry                                  type  \\\n",
       "Stkcd  fraud_year                                                           \n",
       "4      2010         *ST 国农       工业           [\"P2503\", \"P2515\", \"P2599\"]   \n",
       "       2011           国农科技       工业           [\"P2503\", \"P2515\", \"P2599\"]   \n",
       "       2012           国农科技       工业           [\"P2503\", \"P2515\", \"P2599\"]   \n",
       "       2013           国农科技       工业           [\"P2503\", \"P2515\", \"P2599\"]   \n",
       "9      2016           中国宝安       综合                    [\"P2506\", \"P2515\"]   \n",
       "...                    ...      ...                                   ...   \n",
       "688555 2020           泽达易盛     公用事业           [\"P2501\", \"P2502\", \"P2503\"]   \n",
       "       2021           泽达易盛     公用事业           [\"P2501\", \"P2502\", \"P2503\"]   \n",
       "688559 2021            海目星       工业           [\"P2503\", \"P2515\", \"P2599\"]   \n",
       "688586 2020           江航装备       工业  [\"P2501\", \"P2503\", \"P2504\", \"P2599\"]   \n",
       "       2021           江航装备       工业  [\"P2501\", \"P2503\", \"P2504\", \"P2599\"]   \n",
       "\n",
       "                          asset  restate  \n",
       "Stkcd  fraud_year                         \n",
       "4      2010        1.842194e+08    False  \n",
       "       2011        1.963072e+08    False  \n",
       "       2012        1.929136e+08    False  \n",
       "       2013        2.421521e+08    False  \n",
       "9      2016        2.162293e+10    False  \n",
       "...                         ...      ...  \n",
       "688555 2020        9.465675e+08    False  \n",
       "       2021        1.175543e+09    False  \n",
       "688559 2021        5.591708e+09    False  \n",
       "688586 2020        2.987056e+09    False  \n",
       "       2021        3.485059e+09    False  \n",
       "\n",
       "[2049 rows x 5 columns]"
      ]
     },
     "execution_count": 12,
     "metadata": {},
     "output_type": "execute_result"
    }
   ],
   "source": [
    "fraud_info = pd.read_csv('../data/frau_time_industry_money_since2003.csv', encoding='gb18030')\n",
    "fraud_info = fraud_info.set_index(['Stkcd','fraud_year'])\n",
    "fraud_info"
   ]
  },
  {
   "cell_type": "code",
   "execution_count": 111,
   "metadata": {},
   "outputs": [],
   "source": [
    "used_fraud_info = fraud_info.loc[fraud_index,:]\n",
    "vio_type_distri = collections.defaultdict(set)\n",
    "for stkd, year in fraud_index:\n",
    "    for t in json.loads(used_fraud_info.loc[(stkd, year), 'type']):\n",
    "        if t > 'P2506' or t < 'P2501':\n",
    "            continue\n",
    "        vio_type_distri[t].add(stkd)"
   ]
  },
  {
   "cell_type": "code",
   "execution_count": 120,
   "metadata": {},
   "outputs": [
    {
     "name": "stdout",
     "output_type": "stream",
     "text": [
      "P2503 0.2960609911054638\n",
      "P2506 0.04701397712833545\n",
      "P2504 0.20330368487928843\n",
      "P2505 0.24650571791613723\n",
      "P2501 0.17534942820838628\n",
      "P2502 0.03176620076238882\n"
     ]
    },
    {
     "data": {
      "text/plain": [
       "787"
      ]
     },
     "execution_count": 120,
     "metadata": {},
     "output_type": "execute_result"
    }
   ],
   "source": [
    "n_total_corp = np.sum([len(v) for v in vio_type_distri.values()])\n",
    "for key in vio_type_distri:\n",
    "    # n_total_corp += len(vio_type_distri[key])\n",
    "    print(key, len(vio_type_distri[key])/n_total_corp)"
   ]
  },
  {
   "attachments": {},
   "cell_type": "markdown",
   "metadata": {},
   "source": [
    "#### Table A4 Frequency of the fraud companies by fraud duration"
   ]
  },
  {
   "cell_type": "code",
   "execution_count": 128,
   "metadata": {},
   "outputs": [
    {
     "data": {
      "text/plain": [
       "defaultdict(int,\n",
       "            {4: 0.1226666666666666,\n",
       "             1: 0.27200000000000035,\n",
       "             2: 0.28266666666666695,\n",
       "             5: 0.10133333333333329,\n",
       "             3: 0.2213333333333337})"
      ]
     },
     "execution_count": 128,
     "metadata": {},
     "output_type": "execute_result"
    }
   ],
   "source": [
    "id_year = {}\n",
    "for Stkcd, year in fraud_index:\n",
    "    if Stkcd in id_year:\n",
    "        id_year[Stkcd] += 1\n",
    "    else:\n",
    "        id_year[Stkcd] = 1\n",
    "\n",
    "year_id = collections.defaultdict(int)\n",
    "for id, count in id_year.items():\n",
    "    year_id[count]+= (1/len(id_year))\n",
    "year_id"
   ]
  },
  {
   "cell_type": "code",
   "execution_count": null,
   "metadata": {},
   "outputs": [],
   "source": []
  }
 ],
 "metadata": {
  "kernelspec": {
   "display_name": "Python 3",
   "language": "python",
   "name": "python3"
  },
  "language_info": {
   "codemirror_mode": {
    "name": "ipython",
    "version": 3
   },
   "file_extension": ".py",
   "mimetype": "text/x-python",
   "name": "python",
   "nbconvert_exporter": "python",
   "pygments_lexer": "ipython3",
   "version": "3.7.3"
  },
  "orig_nbformat": 4,
  "vscode": {
   "interpreter": {
    "hash": "cd78fef2128015050713e82ca51c6520b11aee7c9ee8df750520bbbc7384cbaa"
   }
  }
 },
 "nbformat": 4,
 "nbformat_minor": 2
}
